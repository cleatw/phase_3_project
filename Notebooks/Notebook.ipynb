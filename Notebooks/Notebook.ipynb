{
 "cells": [
  {
   "cell_type": "markdown",
   "metadata": {},
   "source": [
    "# Phase 3 Project H1N1 Vaccine Notebook \n",
    "## Tim Cleary, Elijah Jarocki, Nick Kennedy"
   ]
  },
  {
   "cell_type": "markdown",
   "metadata": {},
   "source": [
    "# Business Understanding\n",
    "In 2009, a virulent h1n1, or swine flu variant began infecting much of the population. It was a virus of concern due it's potential to make people very sick, even more so than tha seasonal flu could. When it became clear that medical efforts were needed, vaccines, both injectable as well as a nasal vaccine containing live, attenuated h1n1 virus were created to minimize risk. However, many of these, especially the more effective (but higher in side-effects) nasal/live vaccine were not widely available across the country. In this report we hope to address the issues concerning vaccination production and vaccination rates."
   ]
  },
  {
   "cell_type": "markdown",
   "metadata": {},
   "source": [
    "# Business Problem\n",
    "There are many obstacles when considering the logistics of vaccine production and dissemination. In 2009 our problem is both understanding vaccine production needs, while also increasing the number of people receiving the vaccine, thereby reducing the global effect of the virus on mortality, hospitalization, and even sick days. Given the still ongoing global pandemic of SARS Covid-19, understanding the reasons why someone may or may not choose a vaccine, and, of course, availablity of vaccines has become crucially important for public health initiatives. In our work below we endeavor to show how to predict vaccination rates with precision, while also identifying how more effort from doctors towards younger demographics could have an outsize impact on those rates.  "
   ]
  },
  {
   "cell_type": "markdown",
   "metadata": {},
   "source": [
    "# Data Understanding\n",
    "The Data we used was from the CDC's 2009 National H1N1 Flu Vaccine Survey of nearly 27K respondents. The data is comprised of basic medical, behavioral, and demographic information. "
   ]
  },
  {
   "cell_type": "markdown",
   "metadata": {},
   "source": [
    "# Data Cleaning\n",
    "### 1) importing our libraries"
   ]
  },
  {
   "cell_type": "code",
   "execution_count": 237,
   "metadata": {},
   "outputs": [],
   "source": [
    "#importing the libraries\n",
    "import pandas as pd\n",
    "import numpy as np\n",
    "import matplotlib.pyplot as plt\n",
    "import seaborn as sns\n",
    "from sklearn.preprocessing import StandardScaler, OneHotEncoder, FunctionTransformer\n",
    "from sklearn.neural_network import MLPClassifier\n",
    "from sklearn.model_selection import train_test_split, cross_val_score, GridSearchCV\n",
    "from sklearn.metrics import roc_auc_score, plot_roc_curve, plot_confusion_matrix,\\\n",
    "accuracy_score, precision_score, recall_score\n",
    "from sklearn.linear_model import LogisticRegression\n",
    "import statsmodels.api as sm\n",
    "from sklearn.tree import DecisionTreeClassifier\n",
    "from sklearn.neighbors import KNeighborsClassifier\n",
    "from sklearn.ensemble import AdaBoostRegressor, GradientBoostingRegressor, \\\n",
    "AdaBoostClassifier, GradientBoostingClassifier, BaggingClassifier, RandomForestClassifier,\\\n",
    "ExtraTreesClassifier, VotingClassifier, StackingRegressor\n",
    "from sklearn.pipeline import Pipeline\n",
    "from sklearn.compose import ColumnTransformer\n",
    "from sklearn.dummy import DummyClassifier\n",
    "%matplotlib inline"
   ]
  },
  {
   "cell_type": "code",
   "execution_count": 238,
   "metadata": {},
   "outputs": [
    {
     "ename": "AttributeError",
     "evalue": "module 'warnings' has no attribute 'filter'",
     "output_type": "error",
     "traceback": [
      "\u001b[1;31m---------------------------------------------------------------------------\u001b[0m",
      "\u001b[1;31mAttributeError\u001b[0m                            Traceback (most recent call last)",
      "\u001b[1;32m<ipython-input-238-b2ae7a20e606>\u001b[0m in \u001b[0;36m<module>\u001b[1;34m\u001b[0m\n\u001b[0;32m      1\u001b[0m \u001b[1;32mimport\u001b[0m \u001b[0mwarnings\u001b[0m\u001b[1;33m\u001b[0m\u001b[1;33m\u001b[0m\u001b[0m\n\u001b[1;32m----> 2\u001b[1;33m \u001b[0mwarnings\u001b[0m\u001b[1;33m.\u001b[0m\u001b[0mfilter\u001b[0m\u001b[1;33m\u001b[0m\u001b[1;33m\u001b[0m\u001b[0m\n\u001b[0m",
      "\u001b[1;31mAttributeError\u001b[0m: module 'warnings' has no attribute 'filter'"
     ]
    }
   ],
   "source": [
    "import warnings\n",
    "warnings.filter"
   ]
  },
  {
   "cell_type": "markdown",
   "metadata": {},
   "source": [
    "\n",
    "### loading the data"
   ]
  },
  {
   "cell_type": "code",
   "execution_count": 239,
   "metadata": {},
   "outputs": [
    {
     "data": {
      "text/html": [
       "<div>\n",
       "<style scoped>\n",
       "    .dataframe tbody tr th:only-of-type {\n",
       "        vertical-align: middle;\n",
       "    }\n",
       "\n",
       "    .dataframe tbody tr th {\n",
       "        vertical-align: top;\n",
       "    }\n",
       "\n",
       "    .dataframe thead th {\n",
       "        text-align: right;\n",
       "    }\n",
       "</style>\n",
       "<table border=\"1\" class=\"dataframe\">\n",
       "  <thead>\n",
       "    <tr style=\"text-align: right;\">\n",
       "      <th></th>\n",
       "      <th>respondent_id</th>\n",
       "      <th>h1n1_concern</th>\n",
       "      <th>h1n1_knowledge</th>\n",
       "      <th>behavioral_antiviral_meds</th>\n",
       "      <th>behavioral_avoidance</th>\n",
       "      <th>behavioral_face_mask</th>\n",
       "      <th>behavioral_wash_hands</th>\n",
       "      <th>behavioral_large_gatherings</th>\n",
       "      <th>behavioral_outside_home</th>\n",
       "      <th>behavioral_touch_face</th>\n",
       "      <th>...</th>\n",
       "      <th>rent_or_own</th>\n",
       "      <th>employment_status</th>\n",
       "      <th>hhs_geo_region</th>\n",
       "      <th>census_msa</th>\n",
       "      <th>household_adults</th>\n",
       "      <th>household_children</th>\n",
       "      <th>employment_industry</th>\n",
       "      <th>employment_occupation</th>\n",
       "      <th>h1n1_vaccine</th>\n",
       "      <th>seasonal_vaccine</th>\n",
       "    </tr>\n",
       "  </thead>\n",
       "  <tbody>\n",
       "    <tr>\n",
       "      <th>0</th>\n",
       "      <td>0</td>\n",
       "      <td>1.0</td>\n",
       "      <td>0.0</td>\n",
       "      <td>0.0</td>\n",
       "      <td>0.0</td>\n",
       "      <td>0.0</td>\n",
       "      <td>0.0</td>\n",
       "      <td>0.0</td>\n",
       "      <td>1.0</td>\n",
       "      <td>1.0</td>\n",
       "      <td>...</td>\n",
       "      <td>Own</td>\n",
       "      <td>Not in Labor Force</td>\n",
       "      <td>oxchjgsf</td>\n",
       "      <td>Non-MSA</td>\n",
       "      <td>0.0</td>\n",
       "      <td>0.0</td>\n",
       "      <td>NaN</td>\n",
       "      <td>NaN</td>\n",
       "      <td>0</td>\n",
       "      <td>0</td>\n",
       "    </tr>\n",
       "    <tr>\n",
       "      <th>1</th>\n",
       "      <td>1</td>\n",
       "      <td>3.0</td>\n",
       "      <td>2.0</td>\n",
       "      <td>0.0</td>\n",
       "      <td>1.0</td>\n",
       "      <td>0.0</td>\n",
       "      <td>1.0</td>\n",
       "      <td>0.0</td>\n",
       "      <td>1.0</td>\n",
       "      <td>1.0</td>\n",
       "      <td>...</td>\n",
       "      <td>Rent</td>\n",
       "      <td>Employed</td>\n",
       "      <td>bhuqouqj</td>\n",
       "      <td>MSA, Not Principle  City</td>\n",
       "      <td>0.0</td>\n",
       "      <td>0.0</td>\n",
       "      <td>pxcmvdjn</td>\n",
       "      <td>xgwztkwe</td>\n",
       "      <td>0</td>\n",
       "      <td>1</td>\n",
       "    </tr>\n",
       "  </tbody>\n",
       "</table>\n",
       "<p>2 rows × 38 columns</p>\n",
       "</div>"
      ],
      "text/plain": [
       "   respondent_id  h1n1_concern  h1n1_knowledge  behavioral_antiviral_meds  \\\n",
       "0              0           1.0             0.0                        0.0   \n",
       "1              1           3.0             2.0                        0.0   \n",
       "\n",
       "   behavioral_avoidance  behavioral_face_mask  behavioral_wash_hands  \\\n",
       "0                   0.0                   0.0                    0.0   \n",
       "1                   1.0                   0.0                    1.0   \n",
       "\n",
       "   behavioral_large_gatherings  behavioral_outside_home  \\\n",
       "0                          0.0                      1.0   \n",
       "1                          0.0                      1.0   \n",
       "\n",
       "   behavioral_touch_face  ...  rent_or_own   employment_status  \\\n",
       "0                    1.0  ...          Own  Not in Labor Force   \n",
       "1                    1.0  ...         Rent            Employed   \n",
       "\n",
       "   hhs_geo_region                census_msa  household_adults  \\\n",
       "0        oxchjgsf                   Non-MSA               0.0   \n",
       "1        bhuqouqj  MSA, Not Principle  City               0.0   \n",
       "\n",
       "   household_children  employment_industry  employment_occupation  \\\n",
       "0                 0.0                  NaN                    NaN   \n",
       "1                 0.0             pxcmvdjn               xgwztkwe   \n",
       "\n",
       "   h1n1_vaccine  seasonal_vaccine  \n",
       "0             0                 0  \n",
       "1             0                 1  \n",
       "\n",
       "[2 rows x 38 columns]"
      ]
     },
     "execution_count": 239,
     "metadata": {},
     "output_type": "execute_result"
    }
   ],
   "source": [
    "#Start out by reading our data into a pandas dataframe and then inspecting the layout\n",
    "df_raw = pd.read_csv('C:/Users/Nick/Documents/Flatiron/phase_3/project3/data1.csv')\n",
    "df_raw.head(2)"
   ]
  },
  {
   "cell_type": "code",
   "execution_count": 240,
   "metadata": {
    "scrolled": true
   },
   "outputs": [
    {
     "name": "stdout",
     "output_type": "stream",
     "text": [
      "<class 'pandas.core.frame.DataFrame'>\n",
      "RangeIndex: 26707 entries, 0 to 26706\n",
      "Data columns (total 38 columns):\n",
      " #   Column                       Non-Null Count  Dtype  \n",
      "---  ------                       --------------  -----  \n",
      " 0   respondent_id                26707 non-null  int64  \n",
      " 1   h1n1_concern                 26615 non-null  float64\n",
      " 2   h1n1_knowledge               26591 non-null  float64\n",
      " 3   behavioral_antiviral_meds    26636 non-null  float64\n",
      " 4   behavioral_avoidance         26499 non-null  float64\n",
      " 5   behavioral_face_mask         26688 non-null  float64\n",
      " 6   behavioral_wash_hands        26665 non-null  float64\n",
      " 7   behavioral_large_gatherings  26620 non-null  float64\n",
      " 8   behavioral_outside_home      26625 non-null  float64\n",
      " 9   behavioral_touch_face        26579 non-null  float64\n",
      " 10  doctor_recc_h1n1             24547 non-null  float64\n",
      " 11  doctor_recc_seasonal         24547 non-null  float64\n",
      " 12  chronic_med_condition        25736 non-null  float64\n",
      " 13  child_under_6_months         25887 non-null  float64\n",
      " 14  health_worker                25903 non-null  float64\n",
      " 15  health_insurance             14433 non-null  float64\n",
      " 16  opinion_h1n1_vacc_effective  26316 non-null  float64\n",
      " 17  opinion_h1n1_risk            26319 non-null  float64\n",
      " 18  opinion_h1n1_sick_from_vacc  26312 non-null  float64\n",
      " 19  opinion_seas_vacc_effective  26245 non-null  float64\n",
      " 20  opinion_seas_risk            26193 non-null  float64\n",
      " 21  opinion_seas_sick_from_vacc  26170 non-null  float64\n",
      " 22  age_group                    26707 non-null  object \n",
      " 23  education                    25300 non-null  object \n",
      " 24  race                         26707 non-null  object \n",
      " 25  sex                          26707 non-null  object \n",
      " 26  income_poverty               22284 non-null  object \n",
      " 27  marital_status               25299 non-null  object \n",
      " 28  rent_or_own                  24665 non-null  object \n",
      " 29  employment_status            25244 non-null  object \n",
      " 30  hhs_geo_region               26707 non-null  object \n",
      " 31  census_msa                   26707 non-null  object \n",
      " 32  household_adults             26458 non-null  float64\n",
      " 33  household_children           26458 non-null  float64\n",
      " 34  employment_industry          13377 non-null  object \n",
      " 35  employment_occupation        13237 non-null  object \n",
      " 36  h1n1_vaccine                 26707 non-null  int64  \n",
      " 37  seasonal_vaccine             26707 non-null  int64  \n",
      "dtypes: float64(23), int64(3), object(12)\n",
      "memory usage: 7.7+ MB\n"
     ]
    }
   ],
   "source": [
    "df_raw.info()"
   ]
  },
  {
   "cell_type": "markdown",
   "metadata": {},
   "source": [
    "Above we can see both numeric and categorical data, though looking at the df_raw.head we saw that even the numericl data is ordinally  categorical data. Looking here we see a lot of missing values for `health_insurance`, `employment_industry` and `employmnt_occupation`. Lets remove them from our main working dataset and put them on the side for future analysis"
   ]
  },
  {
   "cell_type": "code",
   "execution_count": 241,
   "metadata": {},
   "outputs": [
    {
     "data": {
      "text/html": [
       "<div>\n",
       "<style scoped>\n",
       "    .dataframe tbody tr th:only-of-type {\n",
       "        vertical-align: middle;\n",
       "    }\n",
       "\n",
       "    .dataframe tbody tr th {\n",
       "        vertical-align: top;\n",
       "    }\n",
       "\n",
       "    .dataframe thead th {\n",
       "        text-align: right;\n",
       "    }\n",
       "</style>\n",
       "<table border=\"1\" class=\"dataframe\">\n",
       "  <thead>\n",
       "    <tr style=\"text-align: right;\">\n",
       "      <th></th>\n",
       "      <th>respondent_id</th>\n",
       "      <th>h1n1_concern</th>\n",
       "      <th>h1n1_knowledge</th>\n",
       "      <th>behavioral_antiviral_meds</th>\n",
       "      <th>behavioral_avoidance</th>\n",
       "      <th>behavioral_face_mask</th>\n",
       "      <th>behavioral_wash_hands</th>\n",
       "      <th>behavioral_large_gatherings</th>\n",
       "      <th>behavioral_outside_home</th>\n",
       "      <th>behavioral_touch_face</th>\n",
       "      <th>...</th>\n",
       "      <th>rent_or_own</th>\n",
       "      <th>employment_status</th>\n",
       "      <th>hhs_geo_region</th>\n",
       "      <th>census_msa</th>\n",
       "      <th>household_adults</th>\n",
       "      <th>household_children</th>\n",
       "      <th>employment_industry</th>\n",
       "      <th>employment_occupation</th>\n",
       "      <th>h1n1_vaccine</th>\n",
       "      <th>seasonal_vaccine</th>\n",
       "    </tr>\n",
       "  </thead>\n",
       "  <tbody>\n",
       "    <tr>\n",
       "      <th>0</th>\n",
       "      <td>0</td>\n",
       "      <td>1.0</td>\n",
       "      <td>0.0</td>\n",
       "      <td>0.0</td>\n",
       "      <td>0.0</td>\n",
       "      <td>0.0</td>\n",
       "      <td>0.0</td>\n",
       "      <td>0.0</td>\n",
       "      <td>1.0</td>\n",
       "      <td>1.0</td>\n",
       "      <td>...</td>\n",
       "      <td>Own</td>\n",
       "      <td>Not in Labor Force</td>\n",
       "      <td>oxchjgsf</td>\n",
       "      <td>Non-MSA</td>\n",
       "      <td>0.0</td>\n",
       "      <td>0.0</td>\n",
       "      <td>NaN</td>\n",
       "      <td>NaN</td>\n",
       "      <td>0</td>\n",
       "      <td>0</td>\n",
       "    </tr>\n",
       "    <tr>\n",
       "      <th>1</th>\n",
       "      <td>1</td>\n",
       "      <td>3.0</td>\n",
       "      <td>2.0</td>\n",
       "      <td>0.0</td>\n",
       "      <td>1.0</td>\n",
       "      <td>0.0</td>\n",
       "      <td>1.0</td>\n",
       "      <td>0.0</td>\n",
       "      <td>1.0</td>\n",
       "      <td>1.0</td>\n",
       "      <td>...</td>\n",
       "      <td>Rent</td>\n",
       "      <td>Employed</td>\n",
       "      <td>bhuqouqj</td>\n",
       "      <td>MSA, Not Principle  City</td>\n",
       "      <td>0.0</td>\n",
       "      <td>0.0</td>\n",
       "      <td>pxcmvdjn</td>\n",
       "      <td>xgwztkwe</td>\n",
       "      <td>0</td>\n",
       "      <td>1</td>\n",
       "    </tr>\n",
       "  </tbody>\n",
       "</table>\n",
       "<p>2 rows × 38 columns</p>\n",
       "</div>"
      ],
      "text/plain": [
       "   respondent_id  h1n1_concern  h1n1_knowledge  behavioral_antiviral_meds  \\\n",
       "0              0           1.0             0.0                        0.0   \n",
       "1              1           3.0             2.0                        0.0   \n",
       "\n",
       "   behavioral_avoidance  behavioral_face_mask  behavioral_wash_hands  \\\n",
       "0                   0.0                   0.0                    0.0   \n",
       "1                   1.0                   0.0                    1.0   \n",
       "\n",
       "   behavioral_large_gatherings  behavioral_outside_home  \\\n",
       "0                          0.0                      1.0   \n",
       "1                          0.0                      1.0   \n",
       "\n",
       "   behavioral_touch_face  ...  rent_or_own   employment_status  \\\n",
       "0                    1.0  ...          Own  Not in Labor Force   \n",
       "1                    1.0  ...         Rent            Employed   \n",
       "\n",
       "   hhs_geo_region                census_msa  household_adults  \\\n",
       "0        oxchjgsf                   Non-MSA               0.0   \n",
       "1        bhuqouqj  MSA, Not Principle  City               0.0   \n",
       "\n",
       "   household_children  employment_industry  employment_occupation  \\\n",
       "0                 0.0                  NaN                    NaN   \n",
       "1                 0.0             pxcmvdjn               xgwztkwe   \n",
       "\n",
       "   h1n1_vaccine  seasonal_vaccine  \n",
       "0             0                 0  \n",
       "1             0                 1  \n",
       "\n",
       "[2 rows x 38 columns]"
      ]
     },
     "execution_count": 241,
     "metadata": {},
     "output_type": "execute_result"
    }
   ],
   "source": [
    "df_health = df_raw.copy().dropna(subset=['health_insurance'])\n",
    "df_health.head(2)"
   ]
  },
  {
   "cell_type": "code",
   "execution_count": 242,
   "metadata": {},
   "outputs": [],
   "source": [
    "Having isolated the observations with health insurance info, we move on to the data we'll inlcude for our analysis\n",
    "# "
   ]
  },
  {
   "cell_type": "code",
   "execution_count": 243,
   "metadata": {},
   "outputs": [],
   "source": [
    "df = df_raw.drop(columns=['employment_industry', 'employment_occupation'])"
   ]
  },
  {
   "cell_type": "code",
   "execution_count": null,
   "metadata": {},
   "outputs": [],
   "source": []
  },
  {
   "cell_type": "code",
   "execution_count": 244,
   "metadata": {
    "scrolled": true
   },
   "outputs": [
    {
     "data": {
      "text/html": [
       "<div>\n",
       "<style scoped>\n",
       "    .dataframe tbody tr th:only-of-type {\n",
       "        vertical-align: middle;\n",
       "    }\n",
       "\n",
       "    .dataframe tbody tr th {\n",
       "        vertical-align: top;\n",
       "    }\n",
       "\n",
       "    .dataframe thead th {\n",
       "        text-align: right;\n",
       "    }\n",
       "</style>\n",
       "<table border=\"1\" class=\"dataframe\">\n",
       "  <thead>\n",
       "    <tr style=\"text-align: right;\">\n",
       "      <th></th>\n",
       "      <th>respondent_id</th>\n",
       "      <th>h1n1_concern</th>\n",
       "      <th>h1n1_knowledge</th>\n",
       "      <th>behavioral_antiviral_meds</th>\n",
       "      <th>behavioral_avoidance</th>\n",
       "      <th>behavioral_face_mask</th>\n",
       "      <th>behavioral_wash_hands</th>\n",
       "      <th>behavioral_large_gatherings</th>\n",
       "      <th>behavioral_outside_home</th>\n",
       "      <th>behavioral_touch_face</th>\n",
       "      <th>...</th>\n",
       "      <th>income_poverty</th>\n",
       "      <th>marital_status</th>\n",
       "      <th>rent_or_own</th>\n",
       "      <th>employment_status</th>\n",
       "      <th>hhs_geo_region</th>\n",
       "      <th>census_msa</th>\n",
       "      <th>household_adults</th>\n",
       "      <th>household_children</th>\n",
       "      <th>h1n1_vaccine</th>\n",
       "      <th>seasonal_vaccine</th>\n",
       "    </tr>\n",
       "  </thead>\n",
       "  <tbody>\n",
       "    <tr>\n",
       "      <th>0</th>\n",
       "      <td>0</td>\n",
       "      <td>1.0</td>\n",
       "      <td>0.0</td>\n",
       "      <td>0.0</td>\n",
       "      <td>0.0</td>\n",
       "      <td>0.0</td>\n",
       "      <td>0.0</td>\n",
       "      <td>0.0</td>\n",
       "      <td>1.0</td>\n",
       "      <td>1.0</td>\n",
       "      <td>...</td>\n",
       "      <td>Below Poverty</td>\n",
       "      <td>Not Married</td>\n",
       "      <td>Own</td>\n",
       "      <td>Not in Labor Force</td>\n",
       "      <td>oxchjgsf</td>\n",
       "      <td>Non-MSA</td>\n",
       "      <td>0.0</td>\n",
       "      <td>0.0</td>\n",
       "      <td>0</td>\n",
       "      <td>0</td>\n",
       "    </tr>\n",
       "    <tr>\n",
       "      <th>1</th>\n",
       "      <td>1</td>\n",
       "      <td>3.0</td>\n",
       "      <td>2.0</td>\n",
       "      <td>0.0</td>\n",
       "      <td>1.0</td>\n",
       "      <td>0.0</td>\n",
       "      <td>1.0</td>\n",
       "      <td>0.0</td>\n",
       "      <td>1.0</td>\n",
       "      <td>1.0</td>\n",
       "      <td>...</td>\n",
       "      <td>Below Poverty</td>\n",
       "      <td>Not Married</td>\n",
       "      <td>Rent</td>\n",
       "      <td>Employed</td>\n",
       "      <td>bhuqouqj</td>\n",
       "      <td>MSA, Not Principle  City</td>\n",
       "      <td>0.0</td>\n",
       "      <td>0.0</td>\n",
       "      <td>0</td>\n",
       "      <td>1</td>\n",
       "    </tr>\n",
       "    <tr>\n",
       "      <th>2</th>\n",
       "      <td>2</td>\n",
       "      <td>1.0</td>\n",
       "      <td>1.0</td>\n",
       "      <td>0.0</td>\n",
       "      <td>1.0</td>\n",
       "      <td>0.0</td>\n",
       "      <td>0.0</td>\n",
       "      <td>0.0</td>\n",
       "      <td>0.0</td>\n",
       "      <td>0.0</td>\n",
       "      <td>...</td>\n",
       "      <td>&lt;= $75,000, Above Poverty</td>\n",
       "      <td>Not Married</td>\n",
       "      <td>Own</td>\n",
       "      <td>Employed</td>\n",
       "      <td>qufhixun</td>\n",
       "      <td>MSA, Not Principle  City</td>\n",
       "      <td>2.0</td>\n",
       "      <td>0.0</td>\n",
       "      <td>0</td>\n",
       "      <td>0</td>\n",
       "    </tr>\n",
       "    <tr>\n",
       "      <th>3</th>\n",
       "      <td>3</td>\n",
       "      <td>1.0</td>\n",
       "      <td>1.0</td>\n",
       "      <td>0.0</td>\n",
       "      <td>1.0</td>\n",
       "      <td>0.0</td>\n",
       "      <td>1.0</td>\n",
       "      <td>1.0</td>\n",
       "      <td>0.0</td>\n",
       "      <td>0.0</td>\n",
       "      <td>...</td>\n",
       "      <td>Below Poverty</td>\n",
       "      <td>Not Married</td>\n",
       "      <td>Rent</td>\n",
       "      <td>Not in Labor Force</td>\n",
       "      <td>lrircsnp</td>\n",
       "      <td>MSA, Principle City</td>\n",
       "      <td>0.0</td>\n",
       "      <td>0.0</td>\n",
       "      <td>0</td>\n",
       "      <td>1</td>\n",
       "    </tr>\n",
       "    <tr>\n",
       "      <th>4</th>\n",
       "      <td>4</td>\n",
       "      <td>2.0</td>\n",
       "      <td>1.0</td>\n",
       "      <td>0.0</td>\n",
       "      <td>1.0</td>\n",
       "      <td>0.0</td>\n",
       "      <td>1.0</td>\n",
       "      <td>1.0</td>\n",
       "      <td>0.0</td>\n",
       "      <td>1.0</td>\n",
       "      <td>...</td>\n",
       "      <td>&lt;= $75,000, Above Poverty</td>\n",
       "      <td>Married</td>\n",
       "      <td>Own</td>\n",
       "      <td>Employed</td>\n",
       "      <td>qufhixun</td>\n",
       "      <td>MSA, Not Principle  City</td>\n",
       "      <td>1.0</td>\n",
       "      <td>0.0</td>\n",
       "      <td>0</td>\n",
       "      <td>0</td>\n",
       "    </tr>\n",
       "    <tr>\n",
       "      <th>...</th>\n",
       "      <td>...</td>\n",
       "      <td>...</td>\n",
       "      <td>...</td>\n",
       "      <td>...</td>\n",
       "      <td>...</td>\n",
       "      <td>...</td>\n",
       "      <td>...</td>\n",
       "      <td>...</td>\n",
       "      <td>...</td>\n",
       "      <td>...</td>\n",
       "      <td>...</td>\n",
       "      <td>...</td>\n",
       "      <td>...</td>\n",
       "      <td>...</td>\n",
       "      <td>...</td>\n",
       "      <td>...</td>\n",
       "      <td>...</td>\n",
       "      <td>...</td>\n",
       "      <td>...</td>\n",
       "      <td>...</td>\n",
       "      <td>...</td>\n",
       "    </tr>\n",
       "    <tr>\n",
       "      <th>26702</th>\n",
       "      <td>26702</td>\n",
       "      <td>2.0</td>\n",
       "      <td>0.0</td>\n",
       "      <td>0.0</td>\n",
       "      <td>1.0</td>\n",
       "      <td>0.0</td>\n",
       "      <td>0.0</td>\n",
       "      <td>0.0</td>\n",
       "      <td>1.0</td>\n",
       "      <td>0.0</td>\n",
       "      <td>...</td>\n",
       "      <td>&lt;= $75,000, Above Poverty</td>\n",
       "      <td>Not Married</td>\n",
       "      <td>Own</td>\n",
       "      <td>Not in Labor Force</td>\n",
       "      <td>qufhixun</td>\n",
       "      <td>Non-MSA</td>\n",
       "      <td>0.0</td>\n",
       "      <td>0.0</td>\n",
       "      <td>0</td>\n",
       "      <td>0</td>\n",
       "    </tr>\n",
       "    <tr>\n",
       "      <th>26703</th>\n",
       "      <td>26703</td>\n",
       "      <td>1.0</td>\n",
       "      <td>2.0</td>\n",
       "      <td>0.0</td>\n",
       "      <td>1.0</td>\n",
       "      <td>0.0</td>\n",
       "      <td>1.0</td>\n",
       "      <td>0.0</td>\n",
       "      <td>0.0</td>\n",
       "      <td>0.0</td>\n",
       "      <td>...</td>\n",
       "      <td>&lt;= $75,000, Above Poverty</td>\n",
       "      <td>Not Married</td>\n",
       "      <td>Rent</td>\n",
       "      <td>Employed</td>\n",
       "      <td>lzgpxyit</td>\n",
       "      <td>MSA, Principle City</td>\n",
       "      <td>1.0</td>\n",
       "      <td>0.0</td>\n",
       "      <td>0</td>\n",
       "      <td>0</td>\n",
       "    </tr>\n",
       "    <tr>\n",
       "      <th>26704</th>\n",
       "      <td>26704</td>\n",
       "      <td>2.0</td>\n",
       "      <td>2.0</td>\n",
       "      <td>0.0</td>\n",
       "      <td>1.0</td>\n",
       "      <td>1.0</td>\n",
       "      <td>1.0</td>\n",
       "      <td>1.0</td>\n",
       "      <td>0.0</td>\n",
       "      <td>1.0</td>\n",
       "      <td>...</td>\n",
       "      <td>NaN</td>\n",
       "      <td>Not Married</td>\n",
       "      <td>Own</td>\n",
       "      <td>NaN</td>\n",
       "      <td>lzgpxyit</td>\n",
       "      <td>MSA, Not Principle  City</td>\n",
       "      <td>0.0</td>\n",
       "      <td>0.0</td>\n",
       "      <td>0</td>\n",
       "      <td>1</td>\n",
       "    </tr>\n",
       "    <tr>\n",
       "      <th>26705</th>\n",
       "      <td>26705</td>\n",
       "      <td>1.0</td>\n",
       "      <td>1.0</td>\n",
       "      <td>0.0</td>\n",
       "      <td>0.0</td>\n",
       "      <td>0.0</td>\n",
       "      <td>0.0</td>\n",
       "      <td>0.0</td>\n",
       "      <td>0.0</td>\n",
       "      <td>NaN</td>\n",
       "      <td>...</td>\n",
       "      <td>&lt;= $75,000, Above Poverty</td>\n",
       "      <td>Married</td>\n",
       "      <td>Rent</td>\n",
       "      <td>Employed</td>\n",
       "      <td>lrircsnp</td>\n",
       "      <td>Non-MSA</td>\n",
       "      <td>1.0</td>\n",
       "      <td>0.0</td>\n",
       "      <td>0</td>\n",
       "      <td>0</td>\n",
       "    </tr>\n",
       "    <tr>\n",
       "      <th>26706</th>\n",
       "      <td>26706</td>\n",
       "      <td>0.0</td>\n",
       "      <td>0.0</td>\n",
       "      <td>0.0</td>\n",
       "      <td>1.0</td>\n",
       "      <td>0.0</td>\n",
       "      <td>0.0</td>\n",
       "      <td>0.0</td>\n",
       "      <td>0.0</td>\n",
       "      <td>0.0</td>\n",
       "      <td>...</td>\n",
       "      <td>&lt;= $75,000, Above Poverty</td>\n",
       "      <td>Married</td>\n",
       "      <td>Own</td>\n",
       "      <td>Not in Labor Force</td>\n",
       "      <td>mlyzmhmf</td>\n",
       "      <td>MSA, Principle City</td>\n",
       "      <td>1.0</td>\n",
       "      <td>0.0</td>\n",
       "      <td>0</td>\n",
       "      <td>0</td>\n",
       "    </tr>\n",
       "  </tbody>\n",
       "</table>\n",
       "<p>26707 rows × 36 columns</p>\n",
       "</div>"
      ],
      "text/plain": [
       "       respondent_id  h1n1_concern  h1n1_knowledge  behavioral_antiviral_meds  \\\n",
       "0                  0           1.0             0.0                        0.0   \n",
       "1                  1           3.0             2.0                        0.0   \n",
       "2                  2           1.0             1.0                        0.0   \n",
       "3                  3           1.0             1.0                        0.0   \n",
       "4                  4           2.0             1.0                        0.0   \n",
       "...              ...           ...             ...                        ...   \n",
       "26702          26702           2.0             0.0                        0.0   \n",
       "26703          26703           1.0             2.0                        0.0   \n",
       "26704          26704           2.0             2.0                        0.0   \n",
       "26705          26705           1.0             1.0                        0.0   \n",
       "26706          26706           0.0             0.0                        0.0   \n",
       "\n",
       "       behavioral_avoidance  behavioral_face_mask  behavioral_wash_hands  \\\n",
       "0                       0.0                   0.0                    0.0   \n",
       "1                       1.0                   0.0                    1.0   \n",
       "2                       1.0                   0.0                    0.0   \n",
       "3                       1.0                   0.0                    1.0   \n",
       "4                       1.0                   0.0                    1.0   \n",
       "...                     ...                   ...                    ...   \n",
       "26702                   1.0                   0.0                    0.0   \n",
       "26703                   1.0                   0.0                    1.0   \n",
       "26704                   1.0                   1.0                    1.0   \n",
       "26705                   0.0                   0.0                    0.0   \n",
       "26706                   1.0                   0.0                    0.0   \n",
       "\n",
       "       behavioral_large_gatherings  behavioral_outside_home  \\\n",
       "0                              0.0                      1.0   \n",
       "1                              0.0                      1.0   \n",
       "2                              0.0                      0.0   \n",
       "3                              1.0                      0.0   \n",
       "4                              1.0                      0.0   \n",
       "...                            ...                      ...   \n",
       "26702                          0.0                      1.0   \n",
       "26703                          0.0                      0.0   \n",
       "26704                          1.0                      0.0   \n",
       "26705                          0.0                      0.0   \n",
       "26706                          0.0                      0.0   \n",
       "\n",
       "       behavioral_touch_face  ...             income_poverty  marital_status  \\\n",
       "0                        1.0  ...              Below Poverty     Not Married   \n",
       "1                        1.0  ...              Below Poverty     Not Married   \n",
       "2                        0.0  ...  <= $75,000, Above Poverty     Not Married   \n",
       "3                        0.0  ...              Below Poverty     Not Married   \n",
       "4                        1.0  ...  <= $75,000, Above Poverty         Married   \n",
       "...                      ...  ...                        ...             ...   \n",
       "26702                    0.0  ...  <= $75,000, Above Poverty     Not Married   \n",
       "26703                    0.0  ...  <= $75,000, Above Poverty     Not Married   \n",
       "26704                    1.0  ...                        NaN     Not Married   \n",
       "26705                    NaN  ...  <= $75,000, Above Poverty         Married   \n",
       "26706                    0.0  ...  <= $75,000, Above Poverty         Married   \n",
       "\n",
       "       rent_or_own   employment_status  hhs_geo_region  \\\n",
       "0              Own  Not in Labor Force        oxchjgsf   \n",
       "1             Rent            Employed        bhuqouqj   \n",
       "2              Own            Employed        qufhixun   \n",
       "3             Rent  Not in Labor Force        lrircsnp   \n",
       "4              Own            Employed        qufhixun   \n",
       "...            ...                 ...             ...   \n",
       "26702          Own  Not in Labor Force        qufhixun   \n",
       "26703         Rent            Employed        lzgpxyit   \n",
       "26704          Own                 NaN        lzgpxyit   \n",
       "26705         Rent            Employed        lrircsnp   \n",
       "26706          Own  Not in Labor Force        mlyzmhmf   \n",
       "\n",
       "                     census_msa  household_adults  household_children  \\\n",
       "0                       Non-MSA               0.0                 0.0   \n",
       "1      MSA, Not Principle  City               0.0                 0.0   \n",
       "2      MSA, Not Principle  City               2.0                 0.0   \n",
       "3           MSA, Principle City               0.0                 0.0   \n",
       "4      MSA, Not Principle  City               1.0                 0.0   \n",
       "...                         ...               ...                 ...   \n",
       "26702                   Non-MSA               0.0                 0.0   \n",
       "26703       MSA, Principle City               1.0                 0.0   \n",
       "26704  MSA, Not Principle  City               0.0                 0.0   \n",
       "26705                   Non-MSA               1.0                 0.0   \n",
       "26706       MSA, Principle City               1.0                 0.0   \n",
       "\n",
       "       h1n1_vaccine  seasonal_vaccine  \n",
       "0                 0                 0  \n",
       "1                 0                 1  \n",
       "2                 0                 0  \n",
       "3                 0                 1  \n",
       "4                 0                 0  \n",
       "...             ...               ...  \n",
       "26702             0                 0  \n",
       "26703             0                 0  \n",
       "26704             0                 1  \n",
       "26705             0                 0  \n",
       "26706             0                 0  \n",
       "\n",
       "[26707 rows x 36 columns]"
      ]
     },
     "execution_count": 244,
     "metadata": {},
     "output_type": "execute_result"
    }
   ],
   "source": [
    "df"
   ]
  },
  {
   "cell_type": "code",
   "execution_count": 245,
   "metadata": {
    "scrolled": true
   },
   "outputs": [
    {
     "data": {
      "text/plain": [
       "((26707, 23), (26707, 3), (26707, 10))"
      ]
     },
     "execution_count": 245,
     "metadata": {},
     "output_type": "execute_result"
    }
   ],
   "source": [
    "df_float = df.loc[:,df_raw.dtypes == 'float64']\n",
    "df_int = df.loc[:,df_raw.dtypes == 'int64']\n",
    "df_object = df.loc[:,df_raw.dtypes == 'object']\n",
    "df_float.shape, df_int.shape, df_object.shape"
   ]
  },
  {
   "cell_type": "code",
   "execution_count": 246,
   "metadata": {},
   "outputs": [
    {
     "data": {
      "text/plain": [
       "(26707, 26)"
      ]
     },
     "execution_count": 246,
     "metadata": {},
     "output_type": "execute_result"
    }
   ],
   "source": [
    "df_numeric = pd.concat([df_float, df_int], axis = 1)\n",
    "df_numeric.shape"
   ]
  },
  {
   "cell_type": "code",
   "execution_count": 247,
   "metadata": {},
   "outputs": [
    {
     "data": {
      "text/plain": [
       "(26707, 38)"
      ]
     },
     "execution_count": 247,
     "metadata": {},
     "output_type": "execute_result"
    }
   ],
   "source": [
    "df_cat_dummied_og = pd.get_dummies(df_object).astype('int64')\n",
    "df_cat_dummied_og.shape"
   ]
  },
  {
   "cell_type": "code",
   "execution_count": 269,
   "metadata": {},
   "outputs": [
    {
     "data": {
      "text/plain": [
       "<= $75,000, Above Poverty    12777\n",
       "> $75,000                     6810\n",
       "Below Poverty                 2697\n",
       "Name: income_poverty, dtype: int64"
      ]
     },
     "execution_count": 269,
     "metadata": {},
     "output_type": "execute_result"
    }
   ],
   "source": []
  },
  {
   "cell_type": "code",
   "execution_count": null,
   "metadata": {
    "scrolled": true
   },
   "outputs": [],
   "source": []
  },
  {
   "cell_type": "code",
   "execution_count": 248,
   "metadata": {
    "scrolled": true
   },
   "outputs": [
    {
     "data": {
      "text/html": [
       "<div>\n",
       "<style scoped>\n",
       "    .dataframe tbody tr th:only-of-type {\n",
       "        vertical-align: middle;\n",
       "    }\n",
       "\n",
       "    .dataframe tbody tr th {\n",
       "        vertical-align: top;\n",
       "    }\n",
       "\n",
       "    .dataframe thead th {\n",
       "        text-align: right;\n",
       "    }\n",
       "</style>\n",
       "<table border=\"1\" class=\"dataframe\">\n",
       "  <thead>\n",
       "    <tr style=\"text-align: right;\">\n",
       "      <th></th>\n",
       "      <th>h1n1_concern</th>\n",
       "      <th>h1n1_knowledge</th>\n",
       "      <th>behavioral_antiviral_meds</th>\n",
       "      <th>behavioral_avoidance</th>\n",
       "      <th>behavioral_face_mask</th>\n",
       "      <th>behavioral_wash_hands</th>\n",
       "      <th>behavioral_large_gatherings</th>\n",
       "      <th>behavioral_outside_home</th>\n",
       "      <th>behavioral_touch_face</th>\n",
       "      <th>doctor_recc_h1n1</th>\n",
       "      <th>...</th>\n",
       "      <th>hhs_geo_region_fpwskwrf</th>\n",
       "      <th>hhs_geo_region_kbazzjca</th>\n",
       "      <th>hhs_geo_region_lrircsnp</th>\n",
       "      <th>hhs_geo_region_lzgpxyit</th>\n",
       "      <th>hhs_geo_region_mlyzmhmf</th>\n",
       "      <th>hhs_geo_region_oxchjgsf</th>\n",
       "      <th>hhs_geo_region_qufhixun</th>\n",
       "      <th>census_msa_MSA, Not Principle  City</th>\n",
       "      <th>census_msa_MSA, Principle City</th>\n",
       "      <th>census_msa_Non-MSA</th>\n",
       "    </tr>\n",
       "  </thead>\n",
       "  <tbody>\n",
       "    <tr>\n",
       "      <th>0</th>\n",
       "      <td>1.0</td>\n",
       "      <td>0.0</td>\n",
       "      <td>0.0</td>\n",
       "      <td>0.0</td>\n",
       "      <td>0.0</td>\n",
       "      <td>0.0</td>\n",
       "      <td>0.0</td>\n",
       "      <td>1.0</td>\n",
       "      <td>1.0</td>\n",
       "      <td>0.0</td>\n",
       "      <td>...</td>\n",
       "      <td>0</td>\n",
       "      <td>0</td>\n",
       "      <td>0</td>\n",
       "      <td>0</td>\n",
       "      <td>0</td>\n",
       "      <td>1</td>\n",
       "      <td>0</td>\n",
       "      <td>0</td>\n",
       "      <td>0</td>\n",
       "      <td>1</td>\n",
       "    </tr>\n",
       "    <tr>\n",
       "      <th>1</th>\n",
       "      <td>3.0</td>\n",
       "      <td>2.0</td>\n",
       "      <td>0.0</td>\n",
       "      <td>1.0</td>\n",
       "      <td>0.0</td>\n",
       "      <td>1.0</td>\n",
       "      <td>0.0</td>\n",
       "      <td>1.0</td>\n",
       "      <td>1.0</td>\n",
       "      <td>0.0</td>\n",
       "      <td>...</td>\n",
       "      <td>0</td>\n",
       "      <td>0</td>\n",
       "      <td>0</td>\n",
       "      <td>0</td>\n",
       "      <td>0</td>\n",
       "      <td>0</td>\n",
       "      <td>0</td>\n",
       "      <td>1</td>\n",
       "      <td>0</td>\n",
       "      <td>0</td>\n",
       "    </tr>\n",
       "    <tr>\n",
       "      <th>2</th>\n",
       "      <td>1.0</td>\n",
       "      <td>1.0</td>\n",
       "      <td>0.0</td>\n",
       "      <td>1.0</td>\n",
       "      <td>0.0</td>\n",
       "      <td>0.0</td>\n",
       "      <td>0.0</td>\n",
       "      <td>0.0</td>\n",
       "      <td>0.0</td>\n",
       "      <td>NaN</td>\n",
       "      <td>...</td>\n",
       "      <td>0</td>\n",
       "      <td>0</td>\n",
       "      <td>0</td>\n",
       "      <td>0</td>\n",
       "      <td>0</td>\n",
       "      <td>0</td>\n",
       "      <td>1</td>\n",
       "      <td>1</td>\n",
       "      <td>0</td>\n",
       "      <td>0</td>\n",
       "    </tr>\n",
       "    <tr>\n",
       "      <th>3</th>\n",
       "      <td>1.0</td>\n",
       "      <td>1.0</td>\n",
       "      <td>0.0</td>\n",
       "      <td>1.0</td>\n",
       "      <td>0.0</td>\n",
       "      <td>1.0</td>\n",
       "      <td>1.0</td>\n",
       "      <td>0.0</td>\n",
       "      <td>0.0</td>\n",
       "      <td>0.0</td>\n",
       "      <td>...</td>\n",
       "      <td>0</td>\n",
       "      <td>0</td>\n",
       "      <td>1</td>\n",
       "      <td>0</td>\n",
       "      <td>0</td>\n",
       "      <td>0</td>\n",
       "      <td>0</td>\n",
       "      <td>0</td>\n",
       "      <td>1</td>\n",
       "      <td>0</td>\n",
       "    </tr>\n",
       "    <tr>\n",
       "      <th>4</th>\n",
       "      <td>2.0</td>\n",
       "      <td>1.0</td>\n",
       "      <td>0.0</td>\n",
       "      <td>1.0</td>\n",
       "      <td>0.0</td>\n",
       "      <td>1.0</td>\n",
       "      <td>1.0</td>\n",
       "      <td>0.0</td>\n",
       "      <td>1.0</td>\n",
       "      <td>0.0</td>\n",
       "      <td>...</td>\n",
       "      <td>0</td>\n",
       "      <td>0</td>\n",
       "      <td>0</td>\n",
       "      <td>0</td>\n",
       "      <td>0</td>\n",
       "      <td>0</td>\n",
       "      <td>1</td>\n",
       "      <td>1</td>\n",
       "      <td>0</td>\n",
       "      <td>0</td>\n",
       "    </tr>\n",
       "    <tr>\n",
       "      <th>...</th>\n",
       "      <td>...</td>\n",
       "      <td>...</td>\n",
       "      <td>...</td>\n",
       "      <td>...</td>\n",
       "      <td>...</td>\n",
       "      <td>...</td>\n",
       "      <td>...</td>\n",
       "      <td>...</td>\n",
       "      <td>...</td>\n",
       "      <td>...</td>\n",
       "      <td>...</td>\n",
       "      <td>...</td>\n",
       "      <td>...</td>\n",
       "      <td>...</td>\n",
       "      <td>...</td>\n",
       "      <td>...</td>\n",
       "      <td>...</td>\n",
       "      <td>...</td>\n",
       "      <td>...</td>\n",
       "      <td>...</td>\n",
       "      <td>...</td>\n",
       "    </tr>\n",
       "    <tr>\n",
       "      <th>26702</th>\n",
       "      <td>2.0</td>\n",
       "      <td>0.0</td>\n",
       "      <td>0.0</td>\n",
       "      <td>1.0</td>\n",
       "      <td>0.0</td>\n",
       "      <td>0.0</td>\n",
       "      <td>0.0</td>\n",
       "      <td>1.0</td>\n",
       "      <td>0.0</td>\n",
       "      <td>0.0</td>\n",
       "      <td>...</td>\n",
       "      <td>0</td>\n",
       "      <td>0</td>\n",
       "      <td>0</td>\n",
       "      <td>0</td>\n",
       "      <td>0</td>\n",
       "      <td>0</td>\n",
       "      <td>1</td>\n",
       "      <td>0</td>\n",
       "      <td>0</td>\n",
       "      <td>1</td>\n",
       "    </tr>\n",
       "    <tr>\n",
       "      <th>26703</th>\n",
       "      <td>1.0</td>\n",
       "      <td>2.0</td>\n",
       "      <td>0.0</td>\n",
       "      <td>1.0</td>\n",
       "      <td>0.0</td>\n",
       "      <td>1.0</td>\n",
       "      <td>0.0</td>\n",
       "      <td>0.0</td>\n",
       "      <td>0.0</td>\n",
       "      <td>1.0</td>\n",
       "      <td>...</td>\n",
       "      <td>0</td>\n",
       "      <td>0</td>\n",
       "      <td>0</td>\n",
       "      <td>1</td>\n",
       "      <td>0</td>\n",
       "      <td>0</td>\n",
       "      <td>0</td>\n",
       "      <td>0</td>\n",
       "      <td>1</td>\n",
       "      <td>0</td>\n",
       "    </tr>\n",
       "    <tr>\n",
       "      <th>26704</th>\n",
       "      <td>2.0</td>\n",
       "      <td>2.0</td>\n",
       "      <td>0.0</td>\n",
       "      <td>1.0</td>\n",
       "      <td>1.0</td>\n",
       "      <td>1.0</td>\n",
       "      <td>1.0</td>\n",
       "      <td>0.0</td>\n",
       "      <td>1.0</td>\n",
       "      <td>0.0</td>\n",
       "      <td>...</td>\n",
       "      <td>0</td>\n",
       "      <td>0</td>\n",
       "      <td>0</td>\n",
       "      <td>1</td>\n",
       "      <td>0</td>\n",
       "      <td>0</td>\n",
       "      <td>0</td>\n",
       "      <td>1</td>\n",
       "      <td>0</td>\n",
       "      <td>0</td>\n",
       "    </tr>\n",
       "    <tr>\n",
       "      <th>26705</th>\n",
       "      <td>1.0</td>\n",
       "      <td>1.0</td>\n",
       "      <td>0.0</td>\n",
       "      <td>0.0</td>\n",
       "      <td>0.0</td>\n",
       "      <td>0.0</td>\n",
       "      <td>0.0</td>\n",
       "      <td>0.0</td>\n",
       "      <td>NaN</td>\n",
       "      <td>0.0</td>\n",
       "      <td>...</td>\n",
       "      <td>0</td>\n",
       "      <td>0</td>\n",
       "      <td>1</td>\n",
       "      <td>0</td>\n",
       "      <td>0</td>\n",
       "      <td>0</td>\n",
       "      <td>0</td>\n",
       "      <td>0</td>\n",
       "      <td>0</td>\n",
       "      <td>1</td>\n",
       "    </tr>\n",
       "    <tr>\n",
       "      <th>26706</th>\n",
       "      <td>0.0</td>\n",
       "      <td>0.0</td>\n",
       "      <td>0.0</td>\n",
       "      <td>1.0</td>\n",
       "      <td>0.0</td>\n",
       "      <td>0.0</td>\n",
       "      <td>0.0</td>\n",
       "      <td>0.0</td>\n",
       "      <td>0.0</td>\n",
       "      <td>0.0</td>\n",
       "      <td>...</td>\n",
       "      <td>0</td>\n",
       "      <td>0</td>\n",
       "      <td>0</td>\n",
       "      <td>0</td>\n",
       "      <td>1</td>\n",
       "      <td>0</td>\n",
       "      <td>0</td>\n",
       "      <td>0</td>\n",
       "      <td>1</td>\n",
       "      <td>0</td>\n",
       "    </tr>\n",
       "  </tbody>\n",
       "</table>\n",
       "<p>26707 rows × 64 columns</p>\n",
       "</div>"
      ],
      "text/plain": [
       "       h1n1_concern  h1n1_knowledge  behavioral_antiviral_meds  \\\n",
       "0               1.0             0.0                        0.0   \n",
       "1               3.0             2.0                        0.0   \n",
       "2               1.0             1.0                        0.0   \n",
       "3               1.0             1.0                        0.0   \n",
       "4               2.0             1.0                        0.0   \n",
       "...             ...             ...                        ...   \n",
       "26702           2.0             0.0                        0.0   \n",
       "26703           1.0             2.0                        0.0   \n",
       "26704           2.0             2.0                        0.0   \n",
       "26705           1.0             1.0                        0.0   \n",
       "26706           0.0             0.0                        0.0   \n",
       "\n",
       "       behavioral_avoidance  behavioral_face_mask  behavioral_wash_hands  \\\n",
       "0                       0.0                   0.0                    0.0   \n",
       "1                       1.0                   0.0                    1.0   \n",
       "2                       1.0                   0.0                    0.0   \n",
       "3                       1.0                   0.0                    1.0   \n",
       "4                       1.0                   0.0                    1.0   \n",
       "...                     ...                   ...                    ...   \n",
       "26702                   1.0                   0.0                    0.0   \n",
       "26703                   1.0                   0.0                    1.0   \n",
       "26704                   1.0                   1.0                    1.0   \n",
       "26705                   0.0                   0.0                    0.0   \n",
       "26706                   1.0                   0.0                    0.0   \n",
       "\n",
       "       behavioral_large_gatherings  behavioral_outside_home  \\\n",
       "0                              0.0                      1.0   \n",
       "1                              0.0                      1.0   \n",
       "2                              0.0                      0.0   \n",
       "3                              1.0                      0.0   \n",
       "4                              1.0                      0.0   \n",
       "...                            ...                      ...   \n",
       "26702                          0.0                      1.0   \n",
       "26703                          0.0                      0.0   \n",
       "26704                          1.0                      0.0   \n",
       "26705                          0.0                      0.0   \n",
       "26706                          0.0                      0.0   \n",
       "\n",
       "       behavioral_touch_face  doctor_recc_h1n1  ...  hhs_geo_region_fpwskwrf  \\\n",
       "0                        1.0               0.0  ...                        0   \n",
       "1                        1.0               0.0  ...                        0   \n",
       "2                        0.0               NaN  ...                        0   \n",
       "3                        0.0               0.0  ...                        0   \n",
       "4                        1.0               0.0  ...                        0   \n",
       "...                      ...               ...  ...                      ...   \n",
       "26702                    0.0               0.0  ...                        0   \n",
       "26703                    0.0               1.0  ...                        0   \n",
       "26704                    1.0               0.0  ...                        0   \n",
       "26705                    NaN               0.0  ...                        0   \n",
       "26706                    0.0               0.0  ...                        0   \n",
       "\n",
       "       hhs_geo_region_kbazzjca  hhs_geo_region_lrircsnp  \\\n",
       "0                            0                        0   \n",
       "1                            0                        0   \n",
       "2                            0                        0   \n",
       "3                            0                        1   \n",
       "4                            0                        0   \n",
       "...                        ...                      ...   \n",
       "26702                        0                        0   \n",
       "26703                        0                        0   \n",
       "26704                        0                        0   \n",
       "26705                        0                        1   \n",
       "26706                        0                        0   \n",
       "\n",
       "       hhs_geo_region_lzgpxyit  hhs_geo_region_mlyzmhmf  \\\n",
       "0                            0                        0   \n",
       "1                            0                        0   \n",
       "2                            0                        0   \n",
       "3                            0                        0   \n",
       "4                            0                        0   \n",
       "...                        ...                      ...   \n",
       "26702                        0                        0   \n",
       "26703                        1                        0   \n",
       "26704                        1                        0   \n",
       "26705                        0                        0   \n",
       "26706                        0                        1   \n",
       "\n",
       "       hhs_geo_region_oxchjgsf  hhs_geo_region_qufhixun  \\\n",
       "0                            1                        0   \n",
       "1                            0                        0   \n",
       "2                            0                        1   \n",
       "3                            0                        0   \n",
       "4                            0                        1   \n",
       "...                        ...                      ...   \n",
       "26702                        0                        1   \n",
       "26703                        0                        0   \n",
       "26704                        0                        0   \n",
       "26705                        0                        0   \n",
       "26706                        0                        0   \n",
       "\n",
       "       census_msa_MSA, Not Principle  City  census_msa_MSA, Principle City  \\\n",
       "0                                        0                               0   \n",
       "1                                        1                               0   \n",
       "2                                        1                               0   \n",
       "3                                        0                               1   \n",
       "4                                        1                               0   \n",
       "...                                    ...                             ...   \n",
       "26702                                    0                               0   \n",
       "26703                                    0                               1   \n",
       "26704                                    1                               0   \n",
       "26705                                    0                               0   \n",
       "26706                                    0                               1   \n",
       "\n",
       "       census_msa_Non-MSA  \n",
       "0                       1  \n",
       "1                       0  \n",
       "2                       0  \n",
       "3                       0  \n",
       "4                       0  \n",
       "...                   ...  \n",
       "26702                   1  \n",
       "26703                   0  \n",
       "26704                   0  \n",
       "26705                   1  \n",
       "26706                   0  \n",
       "\n",
       "[26707 rows x 64 columns]"
      ]
     },
     "execution_count": 248,
     "metadata": {},
     "output_type": "execute_result"
    }
   ],
   "source": [
    "df_encoded = pd.concat([df_numeric, df_cat_dummied_og], axis=1)\n",
    "df_encoded"
   ]
  },
  {
   "cell_type": "code",
   "execution_count": 249,
   "metadata": {},
   "outputs": [
    {
     "ename": "SyntaxError",
     "evalue": "invalid syntax (<ipython-input-249-8530cfdffa76>, line 2)",
     "output_type": "error",
     "traceback": [
      "\u001b[1;36m  File \u001b[1;32m\"<ipython-input-249-8530cfdffa76>\"\u001b[1;36m, line \u001b[1;32m2\u001b[0m\n\u001b[1;33m    dropping `health_insurance` from our final dataframe\u001b[0m\n\u001b[1;37m             ^\u001b[0m\n\u001b[1;31mSyntaxError\u001b[0m\u001b[1;31m:\u001b[0m invalid syntax\n"
     ]
    }
   ],
   "source": [
    "#\n",
    "dropping `health_insurance` from our final dataframe"
   ]
  },
  {
   "cell_type": "code",
   "execution_count": 250,
   "metadata": {
    "collapsed": true
   },
   "outputs": [
    {
     "name": "stdout",
     "output_type": "stream",
     "text": [
      "<class 'pandas.core.frame.DataFrame'>\n",
      "Int64Index: 22976 entries, 0 to 26706\n",
      "Data columns (total 63 columns):\n",
      " #   Column                                    Non-Null Count  Dtype  \n",
      "---  ------                                    --------------  -----  \n",
      " 0   h1n1_concern                              22976 non-null  float64\n",
      " 1   h1n1_knowledge                            22976 non-null  float64\n",
      " 2   behavioral_antiviral_meds                 22976 non-null  float64\n",
      " 3   behavioral_avoidance                      22976 non-null  float64\n",
      " 4   behavioral_face_mask                      22976 non-null  float64\n",
      " 5   behavioral_wash_hands                     22976 non-null  float64\n",
      " 6   behavioral_large_gatherings               22976 non-null  float64\n",
      " 7   behavioral_outside_home                   22976 non-null  float64\n",
      " 8   behavioral_touch_face                     22976 non-null  float64\n",
      " 9   doctor_recc_h1n1                          22976 non-null  float64\n",
      " 10  doctor_recc_seasonal                      22976 non-null  float64\n",
      " 11  chronic_med_condition                     22976 non-null  float64\n",
      " 12  child_under_6_months                      22976 non-null  float64\n",
      " 13  health_worker                             22976 non-null  float64\n",
      " 14  opinion_h1n1_vacc_effective               22976 non-null  float64\n",
      " 15  opinion_h1n1_risk                         22976 non-null  float64\n",
      " 16  opinion_h1n1_sick_from_vacc               22976 non-null  float64\n",
      " 17  opinion_seas_vacc_effective               22976 non-null  float64\n",
      " 18  opinion_seas_risk                         22976 non-null  float64\n",
      " 19  opinion_seas_sick_from_vacc               22976 non-null  float64\n",
      " 20  household_adults                          22976 non-null  float64\n",
      " 21  household_children                        22976 non-null  float64\n",
      " 22  respondent_id                             22976 non-null  int64  \n",
      " 23  h1n1_vaccine                              22976 non-null  int64  \n",
      " 24  seasonal_vaccine                          22976 non-null  int64  \n",
      " 25  age_group_18 - 34 Years                   22976 non-null  int64  \n",
      " 26  age_group_35 - 44 Years                   22976 non-null  int64  \n",
      " 27  age_group_45 - 54 Years                   22976 non-null  int64  \n",
      " 28  age_group_55 - 64 Years                   22976 non-null  int64  \n",
      " 29  age_group_65+ Years                       22976 non-null  int64  \n",
      " 30  education_12 Years                        22976 non-null  int64  \n",
      " 31  education_< 12 Years                      22976 non-null  int64  \n",
      " 32  education_College Graduate                22976 non-null  int64  \n",
      " 33  education_Some College                    22976 non-null  int64  \n",
      " 34  race_Black                                22976 non-null  int64  \n",
      " 35  race_Hispanic                             22976 non-null  int64  \n",
      " 36  race_Other or Multiple                    22976 non-null  int64  \n",
      " 37  race_White                                22976 non-null  int64  \n",
      " 38  sex_Female                                22976 non-null  int64  \n",
      " 39  sex_Male                                  22976 non-null  int64  \n",
      " 40  income_poverty_<= $75,000, Above Poverty  22976 non-null  int64  \n",
      " 41  income_poverty_> $75,000                  22976 non-null  int64  \n",
      " 42  income_poverty_Below Poverty              22976 non-null  int64  \n",
      " 43  marital_status_Married                    22976 non-null  int64  \n",
      " 44  marital_status_Not Married                22976 non-null  int64  \n",
      " 45  rent_or_own_Own                           22976 non-null  int64  \n",
      " 46  rent_or_own_Rent                          22976 non-null  int64  \n",
      " 47  employment_status_Employed                22976 non-null  int64  \n",
      " 48  employment_status_Not in Labor Force      22976 non-null  int64  \n",
      " 49  employment_status_Unemployed              22976 non-null  int64  \n",
      " 50  hhs_geo_region_atmpeygn                   22976 non-null  int64  \n",
      " 51  hhs_geo_region_bhuqouqj                   22976 non-null  int64  \n",
      " 52  hhs_geo_region_dqpwygqj                   22976 non-null  int64  \n",
      " 53  hhs_geo_region_fpwskwrf                   22976 non-null  int64  \n",
      " 54  hhs_geo_region_kbazzjca                   22976 non-null  int64  \n",
      " 55  hhs_geo_region_lrircsnp                   22976 non-null  int64  \n",
      " 56  hhs_geo_region_lzgpxyit                   22976 non-null  int64  \n",
      " 57  hhs_geo_region_mlyzmhmf                   22976 non-null  int64  \n",
      " 58  hhs_geo_region_oxchjgsf                   22976 non-null  int64  \n",
      " 59  hhs_geo_region_qufhixun                   22976 non-null  int64  \n",
      " 60  census_msa_MSA, Not Principle  City       22976 non-null  int64  \n",
      " 61  census_msa_MSA, Principle City            22976 non-null  int64  \n",
      " 62  census_msa_Non-MSA                        22976 non-null  int64  \n",
      "dtypes: float64(22), int64(41)\n",
      "memory usage: 11.2 MB\n"
     ]
    }
   ],
   "source": [
    "df_clean = df_encoded.drop('health_insurance', axis =1)\n",
    "df_clean.dropna(inplace=True)\n",
    "df_clean.info()"
   ]
  },
  {
   "cell_type": "code",
   "execution_count": null,
   "metadata": {},
   "outputs": [],
   "source": []
  },
  {
   "cell_type": "markdown",
   "metadata": {},
   "source": []
  },
  {
   "cell_type": "code",
   "execution_count": null,
   "metadata": {},
   "outputs": [],
   "source": []
  },
  {
   "cell_type": "markdown",
   "metadata": {},
   "source": []
  },
  {
   "cell_type": "code",
   "execution_count": null,
   "metadata": {},
   "outputs": [],
   "source": []
  },
  {
   "cell_type": "markdown",
   "metadata": {},
   "source": [
    "# EDA and Feature Engineering"
   ]
  },
  {
   "cell_type": "code",
   "execution_count": null,
   "metadata": {},
   "outputs": [],
   "source": []
  },
  {
   "cell_type": "markdown",
   "metadata": {},
   "source": [
    "# Data Modeling Preparation\n",
    "## Splitting into train and test\n"
   ]
  },
  {
   "cell_type": "code",
   "execution_count": 392,
   "metadata": {},
   "outputs": [],
   "source": [
    "X1 = df_clean.drop(columns=['h1n1_vaccine', 'respondent_id'])\n",
    "y1 = df_clean['h1n1_vaccine']\n",
    "\n",
    "X1_train, X1_test, y1_train, y1_test = train_test_split(X1, y1, test_size=0.2, random_state=99)"
   ]
  },
  {
   "cell_type": "markdown",
   "metadata": {},
   "source": [
    "## Running the baseline classification model\n",
    "we run a model below that always chooses the majority class, in this case `0`: respondents who didn't get the vaccine"
   ]
  },
  {
   "cell_type": "code",
   "execution_count": 393,
   "metadata": {
    "scrolled": false
   },
   "outputs": [
    {
     "data": {
      "image/png": "[encoded data removed]",
      "text/plain": [
       "<Figure size 432x288 with 2 Axes>"
      ]
     },
     "metadata": {
      "needs_background": "light"
     },
     "output_type": "display_data"
    }
   ],
   "source": [
    "baseline_model = DummyClassifier(strategy='most_frequent')\n",
    "baseline_model.fit(X1_train, y1_train)\n",
    "plot_confusion_matrix(baseline_model, X1_test, y1_test, cmap='plasma');"
   ]
  },
  {
   "cell_type": "code",
   "execution_count": 394,
   "metadata": {},
   "outputs": [
    {
     "name": "stdout",
     "output_type": "stream",
     "text": [
      "Baseline Accuracy Score: 0.7693646649260226\n",
      "Baseline Precision Score: 0.0\n"
     ]
    },
    {
     "name": "stderr",
     "output_type": "stream",
     "text": [
      "C:\\Users\\Nick\\anaconda3\\envs\\learn-env\\lib\\site-packages\\sklearn\\metrics\\_classification.py:1221: UndefinedMetricWarning: Precision is ill-defined and being set to 0.0 due to no predicted samples. Use `zero_division` parameter to control this behavior.\n",
      "  _warn_prf(average, modifier, msg_start, len(result))\n"
     ]
    }
   ],
   "source": [
    "print(f'Baseline Accuracy Score: {accuracy_score(y_test, baseline_model.predict(X_test))}')\n",
    "print(f'Baseline Precision Score: {precision_score(y_test, baseline_model.predict(X_test))}')"
   ]
  },
  {
   "cell_type": "markdown",
   "metadata": {},
   "source": [
    "Our precision is 0 because our model predicts no positives, but our accuracy for the baseline is 76%\n",
    "\n",
    "# Feature selection with Random Forest Classifier"
   ]
  },
  {
   "cell_type": "markdown",
   "metadata": {},
   "source": [
    "### Grid- Searching for the best parameters based on precision\n",
    "given our business problem we chose to look at precision as our primary evaluation metric because ---TIM HELP!----"
   ]
  },
  {
   "cell_type": "markdown",
   "metadata": {},
   "source": [
    "Below we search for the best paramaters for our Random Forest Classifer using a GridSearchCV from sci-kit learn. Many attempts were made, and a more thorough process is given here <a href=\"google.com\">google filler NEED TO CHANGE</a>"
   ]
  },
  {
   "cell_type": "code",
   "execution_count": 395,
   "metadata": {},
   "outputs": [
    {
     "data": {
      "text/plain": [
       "{'criterion': 'entropy', 'max_depth': 5, 'min_samples_leaf': 500}"
      ]
     },
     "execution_count": 395,
     "metadata": {},
     "output_type": "execute_result"
    }
   ],
   "source": [
    "#choosing paramaters to iterate over given what we learned in our investigations (see link ^)\n",
    "tuned_parameters = {'min_samples_leaf': [10, 100, 200, 500],\n",
    "                   'criterion' :  ['gini', 'entropy'],\n",
    "                    'max_depth' : [None, 5, 7, 10, 20]\n",
    "                   }\n",
    "clf = GridSearchCV(RandomForestClassifier(n_estimators=300, random_state=99), \n",
    "                    tuned_parameters, cv=3, scoring=\"precision\")\n",
    "clf.fit(X1_train, y1_train)\n",
    "clf.best_params_"
   ]
  },
  {
   "cell_type": "code",
   "execution_count": 70,
   "metadata": {},
   "outputs": [
    {
     "data": {
      "text/plain": [
       "(0.7923728813559322, 0.795876813438534)"
      ]
     },
     "execution_count": 70,
     "metadata": {},
     "output_type": "execute_result"
    }
   ],
   "source": [
    "clf.score(X1_test, y1_test), accuracy_score(y1_test, clf.predict(X1_test))"
   ]
  },
  {
   "cell_type": "markdown",
   "metadata": {},
   "source": [
    "knowing that `n_estimators`, or the number of decision trees in our random forest, can improve rfc models, we increase it now that we no longer have to worry about the computationally heavy grid-searching "
   ]
  },
  {
   "cell_type": "markdown",
   "metadata": {},
   "source": [
    "### choosing our final feature selection model"
   ]
  },
  {
   "cell_type": "code",
   "execution_count": 265,
   "metadata": {},
   "outputs": [
    {
     "data": {
      "text/plain": [
       "0.7906976744186046"
      ]
     },
     "execution_count": 265,
     "metadata": {},
     "output_type": "execute_result"
    }
   ],
   "source": [
    "rfc_test1 = RandomForestClassifier(n_estimators=999, criterion='gini', min_samples_leaf=400 , max_depth =7, random_state=99)\n",
    "rfc_test1.fit(X1_train, y1_train)\n",
    "precision_score(y1_test, rfc_test1.predict(X1_test))"
   ]
  },
  {
   "cell_type": "code",
   "execution_count": 81,
   "metadata": {},
   "outputs": [
    {
     "data": {
      "text/plain": [
       "0.7956222957495546"
      ]
     },
     "execution_count": 81,
     "metadata": {},
     "output_type": "execute_result"
    }
   ],
   "source": [
    "#looking at the accuracy of our test as well\n",
    "accuracy_score(y1_test, rfc_test1.predict(X1_test))"
   ]
  },
  {
   "cell_type": "code",
   "execution_count": 92,
   "metadata": {},
   "outputs": [
    {
     "data": {
      "text/plain": [
       "0.8449197860962567"
      ]
     },
     "execution_count": 92,
     "metadata": {},
     "output_type": "execute_result"
    }
   ],
   "source": [
    "rfc_final = RandomForestClassifier(n_estimators=1000, criterion='entropy', min_samples_leaf=500 , max_depth =7, random_state=99)\n",
    "rfc_final.fit(X1_train, y1_train)\n",
    "precision_score(y1_test, rfc_final.predict(X1_test))"
   ]
  },
  {
   "cell_type": "code",
   "execution_count": 94,
   "metadata": {},
   "outputs": [
    {
     "data": {
      "text/plain": [
       "0.8427672955974843"
      ]
     },
     "execution_count": 94,
     "metadata": {},
     "output_type": "execute_result"
    }
   ],
   "source": [
    "rfc_test2 = RandomForestClassifier(n_estimators=1000, criterion='entropy', min_samples_leaf=600 , max_depth =6, random_state=99)\n",
    "rfc_test2.fit(X1_train, y1_train)\n",
    "precision_score(y1_test, rfc_test2.predict(X1_test))"
   ]
  },
  {
   "cell_type": "code",
   "execution_count": 82,
   "metadata": {},
   "outputs": [
    {
     "data": {
      "text/plain": [
       "0.7956222957495546"
      ]
     },
     "execution_count": 82,
     "metadata": {},
     "output_type": "execute_result"
    }
   ],
   "source": [
    "#looking at the accuracy of our test as well\n",
    "accuracy_score(y1_test, rfc_test1.predict(X1_test))"
   ]
  },
  {
   "cell_type": "code",
   "execution_count": null,
   "metadata": {},
   "outputs": [],
   "source": []
  },
  {
   "cell_type": "code",
   "execution_count": 84,
   "metadata": {
    "scrolled": true
   },
   "outputs": [
    {
     "data": {
      "text/plain": [
       "(array([0.80400891, 0.7982819 , 0.80591791, 0.80330999, 0.80458307]),\n",
       " array([0.76081425, 0.76081425, 0.76081425, 0.76081425, 0.76050955]))"
      ]
     },
     "execution_count": 84,
     "metadata": {},
     "output_type": "execute_result"
    }
   ],
   "source": [
    "#Training Cross-Validation, #Testing Cross-validation first test model\n",
    "cross_val_score(rfc_test1, X1_train, y1_train), cross_val_score(rfc_test1, X1_test, y1_test) "
   ]
  },
  {
   "cell_type": "code",
   "execution_count": 93,
   "metadata": {},
   "outputs": [
    {
     "data": {
      "text/plain": [
       "(array([0.79796373, 0.79510022, 0.80050907, 0.79885423, 0.80012731]),\n",
       " array([0.76081425, 0.76081425, 0.76081425, 0.76081425, 0.76050955]))"
      ]
     },
     "execution_count": 93,
     "metadata": {},
     "output_type": "execute_result"
    }
   ],
   "source": [
    "#Training Cross-Validation, #Testing Cross-validation final model \n",
    "cross_val_score(rfc_final, X1_train, y1_train), cross_val_score(rfc_final, X1_test, y1_test) "
   ]
  },
  {
   "cell_type": "code",
   "execution_count": 95,
   "metadata": {},
   "outputs": [
    {
     "data": {
      "text/plain": [
       "(array([0.7855552 , 0.78714604, 0.78714604, 0.78771483, 0.78739656]),\n",
       " array([0.76081425, 0.76081425, 0.76081425, 0.76081425, 0.76050955]))"
      ]
     },
     "execution_count": 95,
     "metadata": {},
     "output_type": "execute_result"
    }
   ],
   "source": [
    "#Training Cross-Validation, #Testing Cross-validation final model \n",
    "cross_val_score(rfc_test2, X1_train, y1_train), cross_val_score(rfc_test2, X1_test, y1_test) `"
   ]
  },
  {
   "cell_type": "code",
   "execution_count": 132,
   "metadata": {},
   "outputs": [
    {
     "data": {
      "image/png": "[encoded data removed]",
      "text/plain": [
       "<Figure size 432x288 with 2 Axes>"
      ]
     },
     "metadata": {
      "needs_background": "light"
     },
     "output_type": "display_data"
    },
    {
     "data": {
      "image/png": "[encoded data removed]",
      "text/plain": [
       "<Figure size 432x288 with 1 Axes>"
      ]
     },
     "metadata": {
      "needs_background": "light"
     },
     "output_type": "display_data"
    },
    {
     "data": {
      "image/png": "[encoded data removed]",
      "text/plain": [
       "<Figure size 432x288 with 1 Axes>"
      ]
     },
     "metadata": {
      "needs_background": "light"
     },
     "output_type": "display_data"
    },
    {
     "data": {
      "image/png": "[encoded data removed]",
      "text/plain": [
       "<Figure size 432x288 with 1 Axes>"
      ]
     },
     "metadata": {
      "needs_background": "light"
     },
     "output_type": "display_data"
    }
   ],
   "source": [
    "plot_confusion_matrix(rfc_final, X1_test, y1_test, cmap='plasma'),\n",
    "rfc_list = [rfc_test1, rfc_test2, rfc_final]\n",
    "for x in rfc_list:\n",
    "    plot_roc_curve(x, X1_test, y1_test), "
   ]
  },
  {
   "cell_type": "markdown",
   "metadata": {},
   "source": [
    "### Interpreting and choosing our model for feature selection\n",
    "as we see all of these models are overfitting on accuracy, we choose Random Forest Classification model with the best precision score, `rfc_final`, as we're only using it for selection for now and know trees have a tendency to overfit by their very nature."
   ]
  },
  {
   "cell_type": "markdown",
   "metadata": {},
   "source": [
    "### Combining features identified from Heatmap and RFC"
   ]
  },
  {
   "cell_type": "code",
   "execution_count": 119,
   "metadata": {},
   "outputs": [
    {
     "data": {
      "text/plain": [
       "{'seasonal_vaccine': 0.26966002616747453,\n",
       " 'doctor_recc_h1n1': 0.20164340709790654,\n",
       " 'opinion_h1n1_risk': 0.17684186321085577,\n",
       " 'opinion_h1n1_vacc_effective': 0.10151348449460118,\n",
       " 'opinion_seas_risk': 0.08606677285588804,\n",
       " 'doctor_recc_seasonal': 0.04913771341852184,\n",
       " 'opinion_seas_vacc_effective': 0.03484741032963989,\n",
       " 'health_worker': 0.019122149876773003,\n",
       " 'h1n1_knowledge': 0.012918688795965031,\n",
       " 'h1n1_concern': 0.011204728122248252,\n",
       " 'opinion_h1n1_sick_from_vacc': 0.007488874764424134,\n",
       " 'chronic_med_condition': 0.006121329452312408,\n",
       " 'education_College Graduate': 0.003204991933799978,\n",
       " 'behavioral_touch_face': 0.0022402022197090354,\n",
       " 'age_group_65+ Years': 0.0018243884457742646,\n",
       " 'opinion_seas_sick_from_vacc': 0.001792145796535364,\n",
       " 'income_poverty_> $75,000': 0.0017564684323926466,\n",
       " 'behavioral_wash_hands': 0.0017462134994528688,\n",
       " 'marital_status_Not Married': 0.0017109104683476748,\n",
       " 'respondent_id': 0.0012157615334380055,\n",
       " 'employment_status_Not in Labor Force': 0.0011610294331699696,\n",
       " 'child_under_6_months': 0.0008487951414321097,\n",
       " 'behavioral_face_mask': 0.0006431890715181232,\n",
       " 'behavioral_large_gatherings': 0.0006166139620587403,\n",
       " 'race_White': 0.0006001324092845849,\n",
       " 'age_group_55 - 64 Years': 0.0005433662655855458,\n",
       " 'sex_Male': 0.0005341440358948903,\n",
       " 'household_adults': 0.0004225132219771825,\n",
       " 'household_children': 0.00041249401246750247,\n",
       " 'behavioral_outside_home': 0.0003546071961205443,\n",
       " 'behavioral_avoidance': 0.0002728042952679405,\n",
       " 'education_Some College': 0.00024112764694170528,\n",
       " 'rent_or_own_Rent': 0.00023951726796262484,\n",
       " 'age_group_45 - 54 Years': 0.00020045780669585315,\n",
       " 'age_group_35 - 44 Years': 0.0001565677128589504,\n",
       " 'census_msa_MSA, Principle City': 0.00015027388205550332,\n",
       " 'hhs_geo_region_lzgpxyit': 0.00013136789163166885,\n",
       " 'census_msa_Non-MSA': 0.00010473349509080585,\n",
       " 'income_poverty_Below Poverty': 9.947266092253466e-05,\n",
       " 'education_< 12 Years': 8.953466947534718e-05,\n",
       " 'hhs_geo_region_bhuqouqj': 4.827903957580367e-05,\n",
       " 'hhs_geo_region_fpwskwrf': 4.232433019454781e-05,\n",
       " 'employment_status_Unemployed': 1.4989813444101193e-05,\n",
       " 'hhs_geo_region_oxchjgsf': 1.4133822313095414e-05,\n",
       " 'behavioral_antiviral_meds': 0.0,\n",
       " 'race_Hispanic': 0.0,\n",
       " 'race_Other or Multiple': 0.0,\n",
       " 'hhs_geo_region_dqpwygqj': 0.0,\n",
       " 'hhs_geo_region_kbazzjca': 0.0,\n",
       " 'hhs_geo_region_lrircsnp': 0.0,\n",
       " 'hhs_geo_region_mlyzmhmf': 0.0,\n",
       " 'hhs_geo_region_qufhixun': 0.0}"
      ]
     },
     "execution_count": 119,
     "metadata": {},
     "output_type": "execute_result"
    }
   ],
   "source": [
    "#extracting features from our RFC\n",
    "feat_import_rfc = {name: score \n",
    "                   for name, score \n",
    "                       in zip(X1_test.columns, rfc_final.feature_importances_)}\n",
    "#sorting by feature strength\n",
    "rfc_feat_sorted = dict(sorted(feat_import_rfc.items(), key=lambda item: item[1], reverse=True))\n",
    "rfc_feat_sorted"
   ]
  },
  {
   "cell_type": "code",
   "execution_count": 263,
   "metadata": {},
   "outputs": [
    {
     "data": {
      "text/plain": [
       "36"
      ]
     },
     "execution_count": 263,
     "metadata": {},
     "output_type": "execute_result"
    }
   ],
   "source": [
    "# Extracting top features\n",
    "import itertools\n",
    "\n",
    "top_30_feat = dict(itertools.islice(rfc_feat_sorted.items(), 30))\n",
    "top_30_feat_list = [key for key, val in top_30_feat.items()]\n",
    "\n",
    "top_feat_list = list(set(top_30_feat_list + top_features_corr))\n",
    "len(top_feat_list)"
   ]
  },
  {
   "cell_type": "markdown",
   "metadata": {},
   "source": [
    "now we have a list of features based on feature importance from both correlataion and our the most common splits in our Random Forest's decision trees. "
   ]
  },
  {
   "cell_type": "markdown",
   "metadata": {},
   "source": [
    "## Recreating the dataframe using the most impotant features identfied by correlation and RFC\n",
    "while we lost over 20% of our data initially in cleaning, we apply our new features to our `df_raw` to see if data cleaning using only these selected features can help curb data loss"
   ]
  },
  {
   "cell_type": "code",
   "execution_count": 259,
   "metadata": {},
   "outputs": [],
   "source": [
    "#### going back to our original dataset\n",
    "df_feats = df_clean[top_feat_list]\n",
    "df_feats = df_feats.dropna()"
   ]
  },
  {
   "cell_type": "code",
   "execution_count": 264,
   "metadata": {},
   "outputs": [
    {
     "name": "stdout",
     "output_type": "stream",
     "text": [
      "<class 'pandas.core.frame.DataFrame'>\n",
      "Int64Index: 22976 entries, 0 to 26706\n",
      "Data columns (total 36 columns):\n",
      " #   Column                                Non-Null Count  Dtype  \n",
      "---  ------                                --------------  -----  \n",
      " 0   h1n1_vaccine                          22976 non-null  int64  \n",
      " 1   opinion_seas_sick_from_vacc           22976 non-null  float64\n",
      " 2   health_worker                         22976 non-null  float64\n",
      " 3   opinion_h1n1_risk                     22976 non-null  float64\n",
      " 4   age_group_55 - 64 Years               22976 non-null  int64  \n",
      " 5   opinion_seas_risk                     22976 non-null  float64\n",
      " 6   opinion_h1n1_sick_from_vacc           22976 non-null  float64\n",
      " 7   rent_or_own_Rent                      22976 non-null  int64  \n",
      " 8   opinion_seas_vacc_effective           22976 non-null  float64\n",
      " 9   hhs_geo_region_bhuqouqj               22976 non-null  int64  \n",
      " 10  household_adults                      22976 non-null  float64\n",
      " 11  h1n1_concern                          22976 non-null  float64\n",
      " 12  seasonal_vaccine                      22976 non-null  int64  \n",
      " 13  doctor_recc_seasonal                  22976 non-null  float64\n",
      " 14  chronic_med_condition                 22976 non-null  float64\n",
      " 15  household_children                    22976 non-null  float64\n",
      " 16  opinion_h1n1_vacc_effective           22976 non-null  float64\n",
      " 17  behavioral_large_gatherings           22976 non-null  float64\n",
      " 18  marital_status_Not Married            22976 non-null  int64  \n",
      " 19  h1n1_knowledge                        22976 non-null  float64\n",
      " 20  doctor_recc_h1n1                      22976 non-null  float64\n",
      " 21  hhs_geo_region_lzgpxyit               22976 non-null  int64  \n",
      " 22  age_group_65+ Years                   22976 non-null  int64  \n",
      " 23  employment_status_Unemployed          22976 non-null  int64  \n",
      " 24  employment_status_Not in Labor Force  22976 non-null  int64  \n",
      " 25  sex_Male                              22976 non-null  int64  \n",
      " 26  race_White                            22976 non-null  int64  \n",
      " 27  behavioral_outside_home               22976 non-null  float64\n",
      " 28  behavioral_face_mask                  22976 non-null  float64\n",
      " 29  behavioral_touch_face                 22976 non-null  float64\n",
      " 30  income_poverty_> $75,000              22976 non-null  int64  \n",
      " 31  child_under_6_months                  22976 non-null  float64\n",
      " 32  education_< 12 Years                  22976 non-null  int64  \n",
      " 33  behavioral_wash_hands                 22976 non-null  float64\n",
      " 34  education_College Graduate            22976 non-null  int64  \n",
      " 35  respondent_id                         22976 non-null  int64  \n",
      "dtypes: float64(20), int64(16)\n",
      "memory usage: 6.5 MB\n"
     ]
    }
   ],
   "source": [
    "### cleaning our new dataset\n",
    "df_feats.info()"
   ]
  },
  {
   "cell_type": "markdown",
   "metadata": {},
   "source": [
    "# Logistic Regression Model creating and tuning\n",
    "# Model 1\n",
    "### Running a basic logistic regression"
   ]
  },
  {
   "cell_type": "code",
   "execution_count": 387,
   "metadata": {},
   "outputs": [],
   "source": [
    "###Running a new train test split\n",
    "X=df_feats.drop(columns=['h1n1_vaccine', 'respondent_id'])\n",
    "y=df_feats['h1n1_vaccine']\n",
    "\n",
    "X_train, X_test, y_train, y_test = train_test_split(X,y, test_size=0.2, random_state=99)"
   ]
  },
  {
   "cell_type": "code",
   "execution_count": 388,
   "metadata": {},
   "outputs": [
    {
     "name": "stdout",
     "output_type": "stream",
     "text": [
      "baseline logistic regression accuracy score: 0.8439947780678851\n",
      "baselinelogistic regression precision score: 0.7088915956151035\n"
     ]
    }
   ],
   "source": [
    "lr_baseline = LogisticRegression(max_iter=500)\n",
    "lr_baseline.fit(X_train,y_train)\n",
    "print(f'baseline logistic regression accuracy score: {lr_baseline.score(X_test, y_test)}')\n",
    "print(f'baselinelogistic regression precision score: { precision_score(y_test, lr_baseline.predict(X_test))}')"
   ]
  },
  {
   "cell_type": "markdown",
   "metadata": {},
   "source": [
    "clearly we would like to improve on this precision, since our random forest was able to get a much higher precision. Below we'll evaluate how to improve our precision score. we'll check the cross val score, and use stats-models for the summary to eliminate insignificant features. \n"
   ]
  },
  {
   "cell_type": "code",
   "execution_count": 389,
   "metadata": {},
   "outputs": [
    {
     "data": {
      "text/plain": [
       "(array([0.67669173, 0.73364486, 0.72845528, 0.71910112, 0.68512658]),\n",
       " array([0.74496644, 0.66473988, 0.68322981, 0.73972603, 0.71341463]))"
      ]
     },
     "execution_count": 389,
     "metadata": {},
     "output_type": "execute_result"
    }
   ],
   "source": [
    "cross_val_score(lr_baseline, X_train, y_train, scoring='precision'), cross_val_score(lr_baseline, X_test, y_test, scoring='precision')"
   ]
  },
  {
   "cell_type": "markdown",
   "metadata": {},
   "source": [
    "just to double check how its fitting on accuracy"
   ]
  },
  {
   "cell_type": "code",
   "execution_count": 390,
   "metadata": {},
   "outputs": [
    {
     "data": {
      "text/plain": [
       "(array([0.83949946, 0.85718172, 0.85201306, 0.84983678, 0.83922742]),\n",
       " array([0.84891304, 0.83133841, 0.83351469, 0.84548422, 0.84548422]))"
      ]
     },
     "execution_count": 390,
     "metadata": {},
     "output_type": "execute_result"
    }
   ],
   "source": [
    "cross_val_score(lr_baseline, X_train, y_train), cross_val_score(lr_baseline, X_test, y_test)"
   ]
  },
  {
   "cell_type": "code",
   "execution_count": 289,
   "metadata": {
    "scrolled": true
   },
   "outputs": [
    {
     "name": "stdout",
     "output_type": "stream",
     "text": [
      "Optimization terminated successfully.\n",
      "         Current function value: 0.383952\n",
      "         Iterations 7\n"
     ]
    },
    {
     "data": {
      "text/html": [
       "<table class=\"simpletable\">\n",
       "<caption>Logit Regression Results</caption>\n",
       "<tr>\n",
       "  <th>Dep. Variable:</th>     <td>h1n1_vaccine</td>   <th>  No. Observations:  </th>  <td> 18380</td> \n",
       "</tr>\n",
       "<tr>\n",
       "  <th>Model:</th>                 <td>Logit</td>      <th>  Df Residuals:      </th>  <td> 18345</td> \n",
       "</tr>\n",
       "<tr>\n",
       "  <th>Method:</th>                 <td>MLE</td>       <th>  Df Model:          </th>  <td>    34</td> \n",
       "</tr>\n",
       "<tr>\n",
       "  <th>Date:</th>            <td>Sun, 13 Mar 2022</td> <th>  Pseudo R-squ.:     </th>  <td>0.2789</td> \n",
       "</tr>\n",
       "<tr>\n",
       "  <th>Time:</th>                <td>13:08:53</td>     <th>  Log-Likelihood:    </th> <td> -7057.0</td>\n",
       "</tr>\n",
       "<tr>\n",
       "  <th>converged:</th>             <td>True</td>       <th>  LL-Null:           </th> <td> -9786.5</td>\n",
       "</tr>\n",
       "<tr>\n",
       "  <th>Covariance Type:</th>     <td>nonrobust</td>    <th>  LLR p-value:       </th>  <td> 0.000</td> \n",
       "</tr>\n",
       "</table>\n",
       "<table class=\"simpletable\">\n",
       "<tr>\n",
       "                    <td></td>                      <th>coef</th>     <th>std err</th>      <th>z</th>      <th>P>|z|</th>  <th>[0.025</th>    <th>0.975]</th>  \n",
       "</tr>\n",
       "<tr>\n",
       "  <th>opinion_seas_sick_from_vacc</th>          <td>   -0.1421</td> <td>    0.019</td> <td>   -7.531</td> <td> 0.000</td> <td>   -0.179</td> <td>   -0.105</td>\n",
       "</tr>\n",
       "<tr>\n",
       "  <th>health_worker</th>                        <td>    0.5528</td> <td>    0.064</td> <td>    8.681</td> <td> 0.000</td> <td>    0.428</td> <td>    0.678</td>\n",
       "</tr>\n",
       "<tr>\n",
       "  <th>opinion_h1n1_risk</th>                    <td>    0.4195</td> <td>    0.021</td> <td>   20.102</td> <td> 0.000</td> <td>    0.379</td> <td>    0.460</td>\n",
       "</tr>\n",
       "<tr>\n",
       "  <th>age_group_55 - 64 Years</th>              <td>   -0.2283</td> <td>    0.060</td> <td>   -3.784</td> <td> 0.000</td> <td>   -0.347</td> <td>   -0.110</td>\n",
       "</tr>\n",
       "<tr>\n",
       "  <th>opinion_seas_risk</th>                    <td>   -0.0119</td> <td>    0.020</td> <td>   -0.587</td> <td> 0.557</td> <td>   -0.052</td> <td>    0.028</td>\n",
       "</tr>\n",
       "<tr>\n",
       "  <th>opinion_h1n1_sick_from_vacc</th>          <td>   -0.0411</td> <td>    0.019</td> <td>   -2.147</td> <td> 0.032</td> <td>   -0.079</td> <td>   -0.004</td>\n",
       "</tr>\n",
       "<tr>\n",
       "  <th>rent_or_own_Rent</th>                     <td>   -0.2576</td> <td>    0.058</td> <td>   -4.452</td> <td> 0.000</td> <td>   -0.371</td> <td>   -0.144</td>\n",
       "</tr>\n",
       "<tr>\n",
       "  <th>opinion_seas_vacc_effective</th>          <td>   -0.3518</td> <td>    0.024</td> <td>  -14.700</td> <td> 0.000</td> <td>   -0.399</td> <td>   -0.305</td>\n",
       "</tr>\n",
       "<tr>\n",
       "  <th>hhs_geo_region_bhuqouqj</th>              <td>   -0.0051</td> <td>    0.069</td> <td>   -0.075</td> <td> 0.940</td> <td>   -0.140</td> <td>    0.129</td>\n",
       "</tr>\n",
       "<tr>\n",
       "  <th>household_adults</th>                     <td>   -0.3378</td> <td>    0.033</td> <td>  -10.233</td> <td> 0.000</td> <td>   -0.403</td> <td>   -0.273</td>\n",
       "</tr>\n",
       "<tr>\n",
       "  <th>h1n1_concern</th>                         <td>   -0.1333</td> <td>    0.029</td> <td>   -4.636</td> <td> 0.000</td> <td>   -0.190</td> <td>   -0.077</td>\n",
       "</tr>\n",
       "<tr>\n",
       "  <th>seasonal_vaccine</th>                     <td>    2.1148</td> <td>    0.056</td> <td>   38.069</td> <td> 0.000</td> <td>    2.006</td> <td>    2.224</td>\n",
       "</tr>\n",
       "<tr>\n",
       "  <th>doctor_recc_seasonal</th>                 <td>   -1.0290</td> <td>    0.062</td> <td>  -16.518</td> <td> 0.000</td> <td>   -1.151</td> <td>   -0.907</td>\n",
       "</tr>\n",
       "<tr>\n",
       "  <th>chronic_med_condition</th>                <td>    0.0361</td> <td>    0.049</td> <td>    0.742</td> <td> 0.458</td> <td>   -0.059</td> <td>    0.132</td>\n",
       "</tr>\n",
       "<tr>\n",
       "  <th>household_children</th>                   <td>   -0.2368</td> <td>    0.027</td> <td>   -8.747</td> <td> 0.000</td> <td>   -0.290</td> <td>   -0.184</td>\n",
       "</tr>\n",
       "<tr>\n",
       "  <th>opinion_h1n1_vacc_effective</th>          <td>    0.2577</td> <td>    0.025</td> <td>   10.320</td> <td> 0.000</td> <td>    0.209</td> <td>    0.307</td>\n",
       "</tr>\n",
       "<tr>\n",
       "  <th>behavioral_large_gatherings</th>          <td>   -0.1706</td> <td>    0.056</td> <td>   -3.030</td> <td> 0.002</td> <td>   -0.281</td> <td>   -0.060</td>\n",
       "</tr>\n",
       "<tr>\n",
       "  <th>marital_status_Not Married</th>           <td>   -0.6644</td> <td>    0.050</td> <td>  -13.313</td> <td> 0.000</td> <td>   -0.762</td> <td>   -0.567</td>\n",
       "</tr>\n",
       "<tr>\n",
       "  <th>h1n1_knowledge</th>                       <td>   -0.2344</td> <td>    0.038</td> <td>   -6.175</td> <td> 0.000</td> <td>   -0.309</td> <td>   -0.160</td>\n",
       "</tr>\n",
       "<tr>\n",
       "  <th>doctor_recc_h1n1</th>                     <td>    2.3149</td> <td>    0.064</td> <td>   36.453</td> <td> 0.000</td> <td>    2.190</td> <td>    2.439</td>\n",
       "</tr>\n",
       "<tr>\n",
       "  <th>hhs_geo_region_lzgpxyit</th>              <td>   -0.2964</td> <td>    0.061</td> <td>   -4.819</td> <td> 0.000</td> <td>   -0.417</td> <td>   -0.176</td>\n",
       "</tr>\n",
       "<tr>\n",
       "  <th>age_group_65+ Years</th>                  <td>   -0.4132</td> <td>    0.069</td> <td>   -6.024</td> <td> 0.000</td> <td>   -0.548</td> <td>   -0.279</td>\n",
       "</tr>\n",
       "<tr>\n",
       "  <th>employment_status_Unemployed</th>         <td>   -0.1763</td> <td>    0.107</td> <td>   -1.651</td> <td> 0.099</td> <td>   -0.386</td> <td>    0.033</td>\n",
       "</tr>\n",
       "<tr>\n",
       "  <th>employment_status_Not in Labor Force</th> <td>   -0.0847</td> <td>    0.055</td> <td>   -1.536</td> <td> 0.125</td> <td>   -0.193</td> <td>    0.023</td>\n",
       "</tr>\n",
       "<tr>\n",
       "  <th>sex_Male</th>                             <td>   -0.1938</td> <td>    0.045</td> <td>   -4.330</td> <td> 0.000</td> <td>   -0.282</td> <td>   -0.106</td>\n",
       "</tr>\n",
       "<tr>\n",
       "  <th>race_White</th>                           <td>   -0.6459</td> <td>    0.055</td> <td>  -11.837</td> <td> 0.000</td> <td>   -0.753</td> <td>   -0.539</td>\n",
       "</tr>\n",
       "<tr>\n",
       "  <th>behavioral_outside_home</th>              <td>   -0.0449</td> <td>    0.057</td> <td>   -0.784</td> <td> 0.433</td> <td>   -0.157</td> <td>    0.067</td>\n",
       "</tr>\n",
       "<tr>\n",
       "  <th>behavioral_face_mask</th>                 <td>    0.2357</td> <td>    0.082</td> <td>    2.859</td> <td> 0.004</td> <td>    0.074</td> <td>    0.397</td>\n",
       "</tr>\n",
       "<tr>\n",
       "  <th>behavioral_touch_face</th>                <td>   -0.1571</td> <td>    0.052</td> <td>   -3.033</td> <td> 0.002</td> <td>   -0.259</td> <td>   -0.056</td>\n",
       "</tr>\n",
       "<tr>\n",
       "  <th>income_poverty_> $75,000</th>             <td>   -0.1443</td> <td>    0.054</td> <td>   -2.664</td> <td> 0.008</td> <td>   -0.251</td> <td>   -0.038</td>\n",
       "</tr>\n",
       "<tr>\n",
       "  <th>child_under_6_months</th>                 <td>    0.1420</td> <td>    0.074</td> <td>    1.925</td> <td> 0.054</td> <td>   -0.003</td> <td>    0.287</td>\n",
       "</tr>\n",
       "<tr>\n",
       "  <th>education_< 12 Years</th>                 <td>   -0.2859</td> <td>    0.086</td> <td>   -3.324</td> <td> 0.001</td> <td>   -0.455</td> <td>   -0.117</td>\n",
       "</tr>\n",
       "<tr>\n",
       "  <th>behavioral_wash_hands</th>                <td>   -0.4801</td> <td>    0.063</td> <td>   -7.657</td> <td> 0.000</td> <td>   -0.603</td> <td>   -0.357</td>\n",
       "</tr>\n",
       "<tr>\n",
       "  <th>education_College Graduate</th>           <td>   -0.0791</td> <td>    0.048</td> <td>   -1.632</td> <td> 0.103</td> <td>   -0.174</td> <td>    0.016</td>\n",
       "</tr>\n",
       "<tr>\n",
       "  <th>respondent_id</th>                        <td>-2.146e-05</td> <td> 2.68e-06</td> <td>   -8.002</td> <td> 0.000</td> <td>-2.67e-05</td> <td>-1.62e-05</td>\n",
       "</tr>\n",
       "</table>"
      ],
      "text/plain": [
       "<class 'statsmodels.iolib.summary.Summary'>\n",
       "\"\"\"\n",
       "                           Logit Regression Results                           \n",
       "==============================================================================\n",
       "Dep. Variable:           h1n1_vaccine   No. Observations:                18380\n",
       "Model:                          Logit   Df Residuals:                    18345\n",
       "Method:                           MLE   Df Model:                           34\n",
       "Date:                Sun, 13 Mar 2022   Pseudo R-squ.:                  0.2789\n",
       "Time:                        13:08:53   Log-Likelihood:                -7057.0\n",
       "converged:                       True   LL-Null:                       -9786.5\n",
       "Covariance Type:            nonrobust   LLR p-value:                     0.000\n",
       "========================================================================================================\n",
       "                                           coef    std err          z      P>|z|      [0.025      0.975]\n",
       "--------------------------------------------------------------------------------------------------------\n",
       "opinion_seas_sick_from_vacc             -0.1421      0.019     -7.531      0.000      -0.179      -0.105\n",
       "health_worker                            0.5528      0.064      8.681      0.000       0.428       0.678\n",
       "opinion_h1n1_risk                        0.4195      0.021     20.102      0.000       0.379       0.460\n",
       "age_group_55 - 64 Years                 -0.2283      0.060     -3.784      0.000      -0.347      -0.110\n",
       "opinion_seas_risk                       -0.0119      0.020     -0.587      0.557      -0.052       0.028\n",
       "opinion_h1n1_sick_from_vacc             -0.0411      0.019     -2.147      0.032      -0.079      -0.004\n",
       "rent_or_own_Rent                        -0.2576      0.058     -4.452      0.000      -0.371      -0.144\n",
       "opinion_seas_vacc_effective             -0.3518      0.024    -14.700      0.000      -0.399      -0.305\n",
       "hhs_geo_region_bhuqouqj                 -0.0051      0.069     -0.075      0.940      -0.140       0.129\n",
       "household_adults                        -0.3378      0.033    -10.233      0.000      -0.403      -0.273\n",
       "h1n1_concern                            -0.1333      0.029     -4.636      0.000      -0.190      -0.077\n",
       "seasonal_vaccine                         2.1148      0.056     38.069      0.000       2.006       2.224\n",
       "doctor_recc_seasonal                    -1.0290      0.062    -16.518      0.000      -1.151      -0.907\n",
       "chronic_med_condition                    0.0361      0.049      0.742      0.458      -0.059       0.132\n",
       "household_children                      -0.2368      0.027     -8.747      0.000      -0.290      -0.184\n",
       "opinion_h1n1_vacc_effective              0.2577      0.025     10.320      0.000       0.209       0.307\n",
       "behavioral_large_gatherings             -0.1706      0.056     -3.030      0.002      -0.281      -0.060\n",
       "marital_status_Not Married              -0.6644      0.050    -13.313      0.000      -0.762      -0.567\n",
       "h1n1_knowledge                          -0.2344      0.038     -6.175      0.000      -0.309      -0.160\n",
       "doctor_recc_h1n1                         2.3149      0.064     36.453      0.000       2.190       2.439\n",
       "hhs_geo_region_lzgpxyit                 -0.2964      0.061     -4.819      0.000      -0.417      -0.176\n",
       "age_group_65+ Years                     -0.4132      0.069     -6.024      0.000      -0.548      -0.279\n",
       "employment_status_Unemployed            -0.1763      0.107     -1.651      0.099      -0.386       0.033\n",
       "employment_status_Not in Labor Force    -0.0847      0.055     -1.536      0.125      -0.193       0.023\n",
       "sex_Male                                -0.1938      0.045     -4.330      0.000      -0.282      -0.106\n",
       "race_White                              -0.6459      0.055    -11.837      0.000      -0.753      -0.539\n",
       "behavioral_outside_home                 -0.0449      0.057     -0.784      0.433      -0.157       0.067\n",
       "behavioral_face_mask                     0.2357      0.082      2.859      0.004       0.074       0.397\n",
       "behavioral_touch_face                   -0.1571      0.052     -3.033      0.002      -0.259      -0.056\n",
       "income_poverty_> $75,000                -0.1443      0.054     -2.664      0.008      -0.251      -0.038\n",
       "child_under_6_months                     0.1420      0.074      1.925      0.054      -0.003       0.287\n",
       "education_< 12 Years                    -0.2859      0.086     -3.324      0.001      -0.455      -0.117\n",
       "behavioral_wash_hands                   -0.4801      0.063     -7.657      0.000      -0.603      -0.357\n",
       "education_College Graduate              -0.0791      0.048     -1.632      0.103      -0.174       0.016\n",
       "respondent_id                        -2.146e-05   2.68e-06     -8.002      0.000   -2.67e-05   -1.62e-05\n",
       "========================================================================================================\n",
       "\"\"\""
      ]
     },
     "execution_count": 289,
     "metadata": {},
     "output_type": "execute_result"
    }
   ],
   "source": [
    "lr_baseline_sm =sm.Logit(exog=X_train,endog= y_train).fit()\n",
    "lr_baseline_sm.summary()"
   ]
  },
  {
   "cell_type": "markdown",
   "metadata": {},
   "source": [
    "### interpretation of summary and next steps\n",
    "above we can see a few of our features have high p-values, while other features seem to have conceptual issues. EX: we know from our EDA that both seasonal and h1n1 vaccines have a large effect on H1N1 vaccination rates, yet only 3 percent of respondents who got an swine flu recc, did not also receive a seaonsal flu vaccine recc, yet both of these coefficients have opposite sines: perhaps an issue of multicolinearity. We do a bit of feature engineering to combine some of our important features in order to see if that affects our model strength. "
   ]
  },
  {
   "cell_type": "code",
   "execution_count": 312,
   "metadata": {},
   "outputs": [],
   "source": [
    "#FeatureEngineering doctor_recc_any, a feature that reports if respondent's\n",
    "df_refined_1=df_feats.copy()\n",
    "df_refined_1.loc[:, df_refined_1['doctor_recc_seasonal']==1]['doctor_recc_any']=1\n",
    "df_refined_1.loc[:, df_refined_1['doctor_recc_h1n1']==1]['doctor_recc_any']=1"
   ]
  },
  {
   "cell_type": "code",
   "execution_count": 314,
   "metadata": {},
   "outputs": [
    {
     "data": {
      "text/plain": [
       "0    14605\n",
       "1     8371\n",
       "Name: doctor_recc_any, dtype: int64"
      ]
     },
     "execution_count": 314,
     "metadata": {},
     "output_type": "execute_result"
    }
   ],
   "source": [
    "df_refined_1['doctor_recc_any'].value_counts() # checking to see if our FE worked"
   ]
  },
  {
   "cell_type": "code",
   "execution_count": 364,
   "metadata": {},
   "outputs": [],
   "source": [
    "# Feature Engineering over_55\n",
    "df_refined_1['over_55'] = 0\n",
    "df_refined_1.loc[(df_refined_1['age_group_55 - 64 Years\t']==1) | (df_refined_1['age_group_65+ Years'] ==1), 'over_55']=1"
   ]
  },
  {
   "cell_type": "code",
   "execution_count": 398,
   "metadata": {},
   "outputs": [],
   "source": [
    "#Feature Engineering not_employed_labor_force\n",
    "df_refined_1['not_employed_labor_force'] = 0\n",
    "df_refined_1.loc[(df_refined_1['employment_status_Not in Labor Force']==1) | (df_refined_1['employment_status_Unemployed'] ==1),'not_employed_labor_force']=1 "
   ]
  },
  {
   "cell_type": "code",
   "execution_count": 401,
   "metadata": {},
   "outputs": [],
   "source": [
    "#lists of insignificant features that including/excluding engineered features\n",
    "insig_feat_w_fe=['opinion_seas_risk', 'hhs_geo_region_bhuqouqj', 'education_College Graduate', 'behavioral_outside_home', \n",
    "                 'chronic_med_condition', 'doctor_recc_seasonal', 'doctor_recc_h1n1', 'employment_status_Unemployed', \n",
    "                 'employment_status_Not in Labor Force' ,'age_group_65+ Years', 'age_group_55 - 64 Years' ] \n",
    "\n",
    "insig_feat = ['opinion_seas_risk', 'hhs_geo_region_bhuqouqj', 'education_College Graduate', 'behavioral_outside_home', \n",
    "              'chronic_med_condition', 'doctor_recc_any', 'not_employed_labor_force', 'over_55']"
   ]
  },
  {
   "cell_type": "markdown",
   "metadata": {},
   "source": [
    "## Tuning our model with refined features\n",
    "1) train test split"
   ]
  },
  {
   "cell_type": "code",
   "execution_count": 400,
   "metadata": {},
   "outputs": [],
   "source": [
    "X2 = df_refined_1.drop(columns=insig_feat).drop('h1n1_vaccine', axis=1)\n",
    "y2= df_refined_1['h1n1_vaccine']\n",
    "\n",
    "X2_train, X2_test, y2_train, y2_test = train_test_split(X2, y2, test_size=0.2, random_state=99)"
   ]
  },
  {
   "cell_type": "code",
   "execution_count": null,
   "metadata": {},
   "outputs": [],
   "source": []
  },
  {
   "cell_type": "code",
   "execution_count": 369,
   "metadata": {},
   "outputs": [
    {
     "data": {
      "text/plain": [
       "0.825065274151436"
      ]
     },
     "execution_count": 369,
     "metadata": {},
     "output_type": "execute_result"
    }
   ],
   "source": [
    "lr2 = LogisticRegression(max_iter=500)\n",
    "lr2.fit(X2_train, y2_train)\n",
    "lr2.score(X2_test, y2_test)"
   ]
  },
  {
   "cell_type": "code",
   "execution_count": 370,
   "metadata": {},
   "outputs": [
    {
     "data": {
      "text/plain": [
       "(0.6704805491990846, 0.6645244215938303)"
      ]
     },
     "execution_count": 370,
     "metadata": {},
     "output_type": "execute_result"
    }
   ],
   "source": [
    "precision_score(y2_train, lr2.predict(X2_train)), precision_score(y2_test, lr2.predict(X2_test))"
   ]
  },
  {
   "cell_type": "code",
   "execution_count": 371,
   "metadata": {},
   "outputs": [],
   "source": [
    "X3 = df_refined_1.drop(columns=insig_feat_w_fe).drop('h1n1_vaccine', axis=1)\n",
    "y3= df_refined_1['h1n1_vaccine']\n",
    "\n",
    "X3_train, X3_test, y3_train, y3_test = train_test_split(X3, y3, test_size=0.2, random_state=99)"
   ]
  },
  {
   "cell_type": "code",
   "execution_count": 372,
   "metadata": {},
   "outputs": [
    {
     "data": {
      "text/plain": [
       "0.7980852915578764"
      ]
     },
     "execution_count": 372,
     "metadata": {},
     "output_type": "execute_result"
    }
   ],
   "source": [
    "lr3 = LogisticRegression(max_iter=500)\n",
    "lr3.fit(X3_train, y3_train)\n",
    "lr3.score(X3_test, y3_test)"
   ]
  },
  {
   "cell_type": "code",
   "execution_count": 374,
   "metadata": {},
   "outputs": [
    {
     "data": {
      "text/plain": [
       "(0.6230114687384388, 0.592436974789916)"
      ]
     },
     "execution_count": 374,
     "metadata": {},
     "output_type": "execute_result"
    }
   ],
   "source": [
    "precision_score(y3_train, lr3.predict(X3_train)), precision_score(y3_test, lr3.predict(X3_test))"
   ]
  },
  {
   "cell_type": "code",
   "execution_count": 373,
   "metadata": {},
   "outputs": [
    {
     "data": {
      "text/plain": [
       "0    12448\n",
       "1    10528\n",
       "Name: over_55, dtype: int64"
      ]
     },
     "execution_count": 373,
     "metadata": {},
     "output_type": "execute_result"
    }
   ],
   "source": []
  },
  {
   "cell_type": "code",
   "execution_count": 376,
   "metadata": {
    "scrolled": true
   },
   "outputs": [
    {
     "name": "stdout",
     "output_type": "stream",
     "text": [
      "Optimization terminated successfully.\n",
      "         Current function value: 0.423030\n",
      "         Iterations 7\n"
     ]
    },
    {
     "data": {
      "text/html": [
       "<table class=\"simpletable\">\n",
       "<caption>Logit Regression Results</caption>\n",
       "<tr>\n",
       "  <th>Dep. Variable:</th>     <td>h1n1_vaccine</td>   <th>  No. Observations:  </th>  <td> 18380</td> \n",
       "</tr>\n",
       "<tr>\n",
       "  <th>Model:</th>                 <td>Logit</td>      <th>  Df Residuals:      </th>  <td> 18353</td> \n",
       "</tr>\n",
       "<tr>\n",
       "  <th>Method:</th>                 <td>MLE</td>       <th>  Df Model:          </th>  <td>    26</td> \n",
       "</tr>\n",
       "<tr>\n",
       "  <th>Date:</th>            <td>Sun, 13 Mar 2022</td> <th>  Pseudo R-squ.:     </th>  <td>0.2055</td> \n",
       "</tr>\n",
       "<tr>\n",
       "  <th>Time:</th>                <td>14:45:32</td>     <th>  Log-Likelihood:    </th> <td> -7775.3</td>\n",
       "</tr>\n",
       "<tr>\n",
       "  <th>converged:</th>             <td>True</td>       <th>  LL-Null:           </th> <td> -9786.5</td>\n",
       "</tr>\n",
       "<tr>\n",
       "  <th>Covariance Type:</th>     <td>nonrobust</td>    <th>  LLR p-value:       </th>  <td> 0.000</td> \n",
       "</tr>\n",
       "</table>\n",
       "<table class=\"simpletable\">\n",
       "<tr>\n",
       "               <td></td>                  <th>coef</th>     <th>std err</th>      <th>z</th>      <th>P>|z|</th>  <th>[0.025</th>    <th>0.975]</th>  \n",
       "</tr>\n",
       "<tr>\n",
       "  <th>opinion_seas_sick_from_vacc</th> <td>   -0.1446</td> <td>    0.018</td> <td>   -8.235</td> <td> 0.000</td> <td>   -0.179</td> <td>   -0.110</td>\n",
       "</tr>\n",
       "<tr>\n",
       "  <th>health_worker</th>               <td>    0.6207</td> <td>    0.060</td> <td>   10.313</td> <td> 0.000</td> <td>    0.503</td> <td>    0.739</td>\n",
       "</tr>\n",
       "<tr>\n",
       "  <th>opinion_h1n1_risk</th>           <td>    0.4893</td> <td>    0.018</td> <td>   27.350</td> <td> 0.000</td> <td>    0.454</td> <td>    0.524</td>\n",
       "</tr>\n",
       "<tr>\n",
       "  <th>opinion_h1n1_sick_from_vacc</th> <td>   -0.0262</td> <td>    0.018</td> <td>   -1.461</td> <td> 0.144</td> <td>   -0.061</td> <td>    0.009</td>\n",
       "</tr>\n",
       "<tr>\n",
       "  <th>rent_or_own_Rent</th>            <td>   -0.2429</td> <td>    0.054</td> <td>   -4.461</td> <td> 0.000</td> <td>   -0.350</td> <td>   -0.136</td>\n",
       "</tr>\n",
       "<tr>\n",
       "  <th>opinion_seas_vacc_effective</th> <td>   -0.3842</td> <td>    0.022</td> <td>  -17.249</td> <td> 0.000</td> <td>   -0.428</td> <td>   -0.341</td>\n",
       "</tr>\n",
       "<tr>\n",
       "  <th>household_adults</th>            <td>   -0.3265</td> <td>    0.031</td> <td>  -10.467</td> <td> 0.000</td> <td>   -0.388</td> <td>   -0.265</td>\n",
       "</tr>\n",
       "<tr>\n",
       "  <th>h1n1_concern</th>                <td>   -0.1187</td> <td>    0.027</td> <td>   -4.383</td> <td> 0.000</td> <td>   -0.172</td> <td>   -0.066</td>\n",
       "</tr>\n",
       "<tr>\n",
       "  <th>seasonal_vaccine</th>            <td>    1.8270</td> <td>    0.051</td> <td>   36.028</td> <td> 0.000</td> <td>    1.728</td> <td>    1.926</td>\n",
       "</tr>\n",
       "<tr>\n",
       "  <th>household_children</th>          <td>   -0.2186</td> <td>    0.026</td> <td>   -8.536</td> <td> 0.000</td> <td>   -0.269</td> <td>   -0.168</td>\n",
       "</tr>\n",
       "<tr>\n",
       "  <th>opinion_h1n1_vacc_effective</th> <td>    0.2677</td> <td>    0.024</td> <td>   11.374</td> <td> 0.000</td> <td>    0.222</td> <td>    0.314</td>\n",
       "</tr>\n",
       "<tr>\n",
       "  <th>behavioral_large_gatherings</th> <td>   -0.1644</td> <td>    0.046</td> <td>   -3.581</td> <td> 0.000</td> <td>   -0.254</td> <td>   -0.074</td>\n",
       "</tr>\n",
       "<tr>\n",
       "  <th>marital_status_Not Married</th>  <td>   -0.6574</td> <td>    0.047</td> <td>  -13.941</td> <td> 0.000</td> <td>   -0.750</td> <td>   -0.565</td>\n",
       "</tr>\n",
       "<tr>\n",
       "  <th>h1n1_knowledge</th>              <td>   -0.1924</td> <td>    0.035</td> <td>   -5.492</td> <td> 0.000</td> <td>   -0.261</td> <td>   -0.124</td>\n",
       "</tr>\n",
       "<tr>\n",
       "  <th>hhs_geo_region_lzgpxyit</th>     <td>   -0.3554</td> <td>    0.058</td> <td>   -6.169</td> <td> 0.000</td> <td>   -0.468</td> <td>   -0.242</td>\n",
       "</tr>\n",
       "<tr>\n",
       "  <th>sex_Male</th>                    <td>   -0.1681</td> <td>    0.042</td> <td>   -3.994</td> <td> 0.000</td> <td>   -0.251</td> <td>   -0.086</td>\n",
       "</tr>\n",
       "<tr>\n",
       "  <th>race_White</th>                  <td>   -0.6568</td> <td>    0.051</td> <td>  -12.841</td> <td> 0.000</td> <td>   -0.757</td> <td>   -0.557</td>\n",
       "</tr>\n",
       "<tr>\n",
       "  <th>behavioral_face_mask</th>        <td>    0.2587</td> <td>    0.077</td> <td>    3.345</td> <td> 0.001</td> <td>    0.107</td> <td>    0.410</td>\n",
       "</tr>\n",
       "<tr>\n",
       "  <th>behavioral_touch_face</th>       <td>   -0.1614</td> <td>    0.049</td> <td>   -3.327</td> <td> 0.001</td> <td>   -0.256</td> <td>   -0.066</td>\n",
       "</tr>\n",
       "<tr>\n",
       "  <th>income_poverty_> $75,000</th>    <td>   -0.1513</td> <td>    0.049</td> <td>   -3.062</td> <td> 0.002</td> <td>   -0.248</td> <td>   -0.054</td>\n",
       "</tr>\n",
       "<tr>\n",
       "  <th>child_under_6_months</th>        <td>    0.2454</td> <td>    0.070</td> <td>    3.530</td> <td> 0.000</td> <td>    0.109</td> <td>    0.382</td>\n",
       "</tr>\n",
       "<tr>\n",
       "  <th>education_< 12 Years</th>        <td>   -0.3249</td> <td>    0.081</td> <td>   -4.028</td> <td> 0.000</td> <td>   -0.483</td> <td>   -0.167</td>\n",
       "</tr>\n",
       "<tr>\n",
       "  <th>behavioral_wash_hands</th>       <td>   -0.5006</td> <td>    0.059</td> <td>   -8.448</td> <td> 0.000</td> <td>   -0.617</td> <td>   -0.384</td>\n",
       "</tr>\n",
       "<tr>\n",
       "  <th>respondent_id</th>               <td>-2.164e-05</td> <td> 2.53e-06</td> <td>   -8.536</td> <td> 0.000</td> <td>-2.66e-05</td> <td>-1.67e-05</td>\n",
       "</tr>\n",
       "<tr>\n",
       "  <th>doctor_recc_any</th>             <td>    0.5769</td> <td>    0.042</td> <td>   13.585</td> <td> 0.000</td> <td>    0.494</td> <td>    0.660</td>\n",
       "</tr>\n",
       "<tr>\n",
       "  <th>over_55</th>                     <td>   -0.3850</td> <td>    0.051</td> <td>   -7.541</td> <td> 0.000</td> <td>   -0.485</td> <td>   -0.285</td>\n",
       "</tr>\n",
       "<tr>\n",
       "  <th>not_employed_labor_force</th>    <td>   -0.1411</td> <td>    0.047</td> <td>   -2.992</td> <td> 0.003</td> <td>   -0.233</td> <td>   -0.049</td>\n",
       "</tr>\n",
       "</table>"
      ],
      "text/plain": [
       "<class 'statsmodels.iolib.summary.Summary'>\n",
       "\"\"\"\n",
       "                           Logit Regression Results                           \n",
       "==============================================================================\n",
       "Dep. Variable:           h1n1_vaccine   No. Observations:                18380\n",
       "Model:                          Logit   Df Residuals:                    18353\n",
       "Method:                           MLE   Df Model:                           26\n",
       "Date:                Sun, 13 Mar 2022   Pseudo R-squ.:                  0.2055\n",
       "Time:                        14:45:32   Log-Likelihood:                -7775.3\n",
       "converged:                       True   LL-Null:                       -9786.5\n",
       "Covariance Type:            nonrobust   LLR p-value:                     0.000\n",
       "===============================================================================================\n",
       "                                  coef    std err          z      P>|z|      [0.025      0.975]\n",
       "-----------------------------------------------------------------------------------------------\n",
       "opinion_seas_sick_from_vacc    -0.1446      0.018     -8.235      0.000      -0.179      -0.110\n",
       "health_worker                   0.6207      0.060     10.313      0.000       0.503       0.739\n",
       "opinion_h1n1_risk               0.4893      0.018     27.350      0.000       0.454       0.524\n",
       "opinion_h1n1_sick_from_vacc    -0.0262      0.018     -1.461      0.144      -0.061       0.009\n",
       "rent_or_own_Rent               -0.2429      0.054     -4.461      0.000      -0.350      -0.136\n",
       "opinion_seas_vacc_effective    -0.3842      0.022    -17.249      0.000      -0.428      -0.341\n",
       "household_adults               -0.3265      0.031    -10.467      0.000      -0.388      -0.265\n",
       "h1n1_concern                   -0.1187      0.027     -4.383      0.000      -0.172      -0.066\n",
       "seasonal_vaccine                1.8270      0.051     36.028      0.000       1.728       1.926\n",
       "household_children             -0.2186      0.026     -8.536      0.000      -0.269      -0.168\n",
       "opinion_h1n1_vacc_effective     0.2677      0.024     11.374      0.000       0.222       0.314\n",
       "behavioral_large_gatherings    -0.1644      0.046     -3.581      0.000      -0.254      -0.074\n",
       "marital_status_Not Married     -0.6574      0.047    -13.941      0.000      -0.750      -0.565\n",
       "h1n1_knowledge                 -0.1924      0.035     -5.492      0.000      -0.261      -0.124\n",
       "hhs_geo_region_lzgpxyit        -0.3554      0.058     -6.169      0.000      -0.468      -0.242\n",
       "sex_Male                       -0.1681      0.042     -3.994      0.000      -0.251      -0.086\n",
       "race_White                     -0.6568      0.051    -12.841      0.000      -0.757      -0.557\n",
       "behavioral_face_mask            0.2587      0.077      3.345      0.001       0.107       0.410\n",
       "behavioral_touch_face          -0.1614      0.049     -3.327      0.001      -0.256      -0.066\n",
       "income_poverty_> $75,000       -0.1513      0.049     -3.062      0.002      -0.248      -0.054\n",
       "child_under_6_months            0.2454      0.070      3.530      0.000       0.109       0.382\n",
       "education_< 12 Years           -0.3249      0.081     -4.028      0.000      -0.483      -0.167\n",
       "behavioral_wash_hands          -0.5006      0.059     -8.448      0.000      -0.617      -0.384\n",
       "respondent_id               -2.164e-05   2.53e-06     -8.536      0.000   -2.66e-05   -1.67e-05\n",
       "doctor_recc_any                 0.5769      0.042     13.585      0.000       0.494       0.660\n",
       "over_55                        -0.3850      0.051     -7.541      0.000      -0.485      -0.285\n",
       "not_employed_labor_force       -0.1411      0.047     -2.992      0.003      -0.233      -0.049\n",
       "===============================================================================================\n",
       "\"\"\""
      ]
     },
     "execution_count": 376,
     "metadata": {},
     "output_type": "execute_result"
    }
   ],
   "source": [
    "lr_sm3 = sm.Logit(endog=y3_train, exog=X3_train).fit()\n",
    "lr_sm3.summary()"
   ]
  },
  {
   "cell_type": "code",
   "execution_count": 343,
   "metadata": {},
   "outputs": [
    {
     "name": "stdout",
     "output_type": "stream",
     "text": [
      "Optimization terminated successfully.\n",
      "         Current function value: 0.384065\n",
      "         Iterations 7\n"
     ]
    },
    {
     "data": {
      "text/html": [
       "<table class=\"simpletable\">\n",
       "<caption>Logit Regression Results</caption>\n",
       "<tr>\n",
       "  <th>Dep. Variable:</th>     <td>h1n1_vaccine</td>   <th>  No. Observations:  </th>  <td> 18380</td> \n",
       "</tr>\n",
       "<tr>\n",
       "  <th>Model:</th>                 <td>Logit</td>      <th>  Df Residuals:      </th>  <td> 18350</td> \n",
       "</tr>\n",
       "<tr>\n",
       "  <th>Method:</th>                 <td>MLE</td>       <th>  Df Model:          </th>  <td>    29</td> \n",
       "</tr>\n",
       "<tr>\n",
       "  <th>Date:</th>            <td>Sun, 13 Mar 2022</td> <th>  Pseudo R-squ.:     </th>  <td>0.2787</td> \n",
       "</tr>\n",
       "<tr>\n",
       "  <th>Time:</th>                <td>14:30:47</td>     <th>  Log-Likelihood:    </th> <td> -7059.1</td>\n",
       "</tr>\n",
       "<tr>\n",
       "  <th>converged:</th>             <td>True</td>       <th>  LL-Null:           </th> <td> -9786.5</td>\n",
       "</tr>\n",
       "<tr>\n",
       "  <th>Covariance Type:</th>     <td>nonrobust</td>    <th>  LLR p-value:       </th>  <td> 0.000</td> \n",
       "</tr>\n",
       "</table>\n",
       "<table class=\"simpletable\">\n",
       "<tr>\n",
       "                    <td></td>                      <th>coef</th>     <th>std err</th>      <th>z</th>      <th>P>|z|</th>  <th>[0.025</th>    <th>0.975]</th>  \n",
       "</tr>\n",
       "<tr>\n",
       "  <th>opinion_seas_sick_from_vacc</th>          <td>   -0.1436</td> <td>    0.019</td> <td>   -7.660</td> <td> 0.000</td> <td>   -0.180</td> <td>   -0.107</td>\n",
       "</tr>\n",
       "<tr>\n",
       "  <th>health_worker</th>                        <td>    0.5525</td> <td>    0.064</td> <td>    8.684</td> <td> 0.000</td> <td>    0.428</td> <td>    0.677</td>\n",
       "</tr>\n",
       "<tr>\n",
       "  <th>opinion_h1n1_risk</th>                    <td>    0.4153</td> <td>    0.019</td> <td>   21.954</td> <td> 0.000</td> <td>    0.378</td> <td>    0.452</td>\n",
       "</tr>\n",
       "<tr>\n",
       "  <th>age_group_55 - 64 Years</th>              <td>   -0.2289</td> <td>    0.060</td> <td>   -3.803</td> <td> 0.000</td> <td>   -0.347</td> <td>   -0.111</td>\n",
       "</tr>\n",
       "<tr>\n",
       "  <th>opinion_h1n1_sick_from_vacc</th>          <td>   -0.0411</td> <td>    0.019</td> <td>   -2.151</td> <td> 0.032</td> <td>   -0.079</td> <td>   -0.004</td>\n",
       "</tr>\n",
       "<tr>\n",
       "  <th>rent_or_own_Rent</th>                     <td>   -0.2572</td> <td>    0.058</td> <td>   -4.448</td> <td> 0.000</td> <td>   -0.371</td> <td>   -0.144</td>\n",
       "</tr>\n",
       "<tr>\n",
       "  <th>opinion_seas_vacc_effective</th>          <td>   -0.3544</td> <td>    0.024</td> <td>  -15.016</td> <td> 0.000</td> <td>   -0.401</td> <td>   -0.308</td>\n",
       "</tr>\n",
       "<tr>\n",
       "  <th>household_adults</th>                     <td>   -0.3349</td> <td>    0.033</td> <td>  -10.167</td> <td> 0.000</td> <td>   -0.399</td> <td>   -0.270</td>\n",
       "</tr>\n",
       "<tr>\n",
       "  <th>h1n1_concern</th>                         <td>   -0.1357</td> <td>    0.029</td> <td>   -4.735</td> <td> 0.000</td> <td>   -0.192</td> <td>   -0.080</td>\n",
       "</tr>\n",
       "<tr>\n",
       "  <th>seasonal_vaccine</th>                     <td>    2.1081</td> <td>    0.054</td> <td>   38.957</td> <td> 0.000</td> <td>    2.002</td> <td>    2.214</td>\n",
       "</tr>\n",
       "<tr>\n",
       "  <th>doctor_recc_seasonal</th>                 <td>   -1.0268</td> <td>    0.062</td> <td>  -16.573</td> <td> 0.000</td> <td>   -1.148</td> <td>   -0.905</td>\n",
       "</tr>\n",
       "<tr>\n",
       "  <th>household_children</th>                   <td>   -0.2380</td> <td>    0.027</td> <td>   -8.801</td> <td> 0.000</td> <td>   -0.291</td> <td>   -0.185</td>\n",
       "</tr>\n",
       "<tr>\n",
       "  <th>opinion_h1n1_vacc_effective</th>          <td>    0.2542</td> <td>    0.025</td> <td>   10.216</td> <td> 0.000</td> <td>    0.205</td> <td>    0.303</td>\n",
       "</tr>\n",
       "<tr>\n",
       "  <th>behavioral_large_gatherings</th>          <td>   -0.1858</td> <td>    0.049</td> <td>   -3.807</td> <td> 0.000</td> <td>   -0.282</td> <td>   -0.090</td>\n",
       "</tr>\n",
       "<tr>\n",
       "  <th>marital_status_Not Married</th>           <td>   -0.6618</td> <td>    0.050</td> <td>  -13.282</td> <td> 0.000</td> <td>   -0.759</td> <td>   -0.564</td>\n",
       "</tr>\n",
       "<tr>\n",
       "  <th>h1n1_knowledge</th>                       <td>   -0.2447</td> <td>    0.037</td> <td>   -6.561</td> <td> 0.000</td> <td>   -0.318</td> <td>   -0.172</td>\n",
       "</tr>\n",
       "<tr>\n",
       "  <th>doctor_recc_h1n1</th>                     <td>    2.3175</td> <td>    0.063</td> <td>   36.551</td> <td> 0.000</td> <td>    2.193</td> <td>    2.442</td>\n",
       "</tr>\n",
       "<tr>\n",
       "  <th>hhs_geo_region_lzgpxyit</th>              <td>   -0.2976</td> <td>    0.061</td> <td>   -4.890</td> <td> 0.000</td> <td>   -0.417</td> <td>   -0.178</td>\n",
       "</tr>\n",
       "<tr>\n",
       "  <th>age_group_65+ Years</th>                  <td>   -0.4117</td> <td>    0.068</td> <td>   -6.024</td> <td> 0.000</td> <td>   -0.546</td> <td>   -0.278</td>\n",
       "</tr>\n",
       "<tr>\n",
       "  <th>employment_status_Unemployed</th>         <td>   -0.1708</td> <td>    0.107</td> <td>   -1.602</td> <td> 0.109</td> <td>   -0.380</td> <td>    0.038</td>\n",
       "</tr>\n",
       "<tr>\n",
       "  <th>employment_status_Not in Labor Force</th> <td>   -0.0781</td> <td>    0.055</td> <td>   -1.423</td> <td> 0.155</td> <td>   -0.186</td> <td>    0.029</td>\n",
       "</tr>\n",
       "<tr>\n",
       "  <th>sex_Male</th>                             <td>   -0.1973</td> <td>    0.045</td> <td>   -4.416</td> <td> 0.000</td> <td>   -0.285</td> <td>   -0.110</td>\n",
       "</tr>\n",
       "<tr>\n",
       "  <th>race_White</th>                           <td>   -0.6474</td> <td>    0.054</td> <td>  -11.928</td> <td> 0.000</td> <td>   -0.754</td> <td>   -0.541</td>\n",
       "</tr>\n",
       "<tr>\n",
       "  <th>behavioral_face_mask</th>                 <td>    0.2330</td> <td>    0.082</td> <td>    2.832</td> <td> 0.005</td> <td>    0.072</td> <td>    0.394</td>\n",
       "</tr>\n",
       "<tr>\n",
       "  <th>behavioral_touch_face</th>                <td>   -0.1602</td> <td>    0.051</td> <td>   -3.117</td> <td> 0.002</td> <td>   -0.261</td> <td>   -0.059</td>\n",
       "</tr>\n",
       "<tr>\n",
       "  <th>income_poverty_> $75,000</th>             <td>   -0.1671</td> <td>    0.052</td> <td>   -3.196</td> <td> 0.001</td> <td>   -0.270</td> <td>   -0.065</td>\n",
       "</tr>\n",
       "<tr>\n",
       "  <th>child_under_6_months</th>                 <td>    0.1457</td> <td>    0.074</td> <td>    1.977</td> <td> 0.048</td> <td>    0.001</td> <td>    0.290</td>\n",
       "</tr>\n",
       "<tr>\n",
       "  <th>education_< 12 Years</th>                 <td>   -0.2662</td> <td>    0.085</td> <td>   -3.129</td> <td> 0.002</td> <td>   -0.433</td> <td>   -0.099</td>\n",
       "</tr>\n",
       "<tr>\n",
       "  <th>behavioral_wash_hands</th>                <td>   -0.4846</td> <td>    0.063</td> <td>   -7.739</td> <td> 0.000</td> <td>   -0.607</td> <td>   -0.362</td>\n",
       "</tr>\n",
       "<tr>\n",
       "  <th>respondent_id</th>                        <td>-2.152e-05</td> <td> 2.68e-06</td> <td>   -8.027</td> <td> 0.000</td> <td>-2.68e-05</td> <td>-1.63e-05</td>\n",
       "</tr>\n",
       "</table>"
      ],
      "text/plain": [
       "<class 'statsmodels.iolib.summary.Summary'>\n",
       "\"\"\"\n",
       "                           Logit Regression Results                           \n",
       "==============================================================================\n",
       "Dep. Variable:           h1n1_vaccine   No. Observations:                18380\n",
       "Model:                          Logit   Df Residuals:                    18350\n",
       "Method:                           MLE   Df Model:                           29\n",
       "Date:                Sun, 13 Mar 2022   Pseudo R-squ.:                  0.2787\n",
       "Time:                        14:30:47   Log-Likelihood:                -7059.1\n",
       "converged:                       True   LL-Null:                       -9786.5\n",
       "Covariance Type:            nonrobust   LLR p-value:                     0.000\n",
       "========================================================================================================\n",
       "                                           coef    std err          z      P>|z|      [0.025      0.975]\n",
       "--------------------------------------------------------------------------------------------------------\n",
       "opinion_seas_sick_from_vacc             -0.1436      0.019     -7.660      0.000      -0.180      -0.107\n",
       "health_worker                            0.5525      0.064      8.684      0.000       0.428       0.677\n",
       "opinion_h1n1_risk                        0.4153      0.019     21.954      0.000       0.378       0.452\n",
       "age_group_55 - 64 Years                 -0.2289      0.060     -3.803      0.000      -0.347      -0.111\n",
       "opinion_h1n1_sick_from_vacc             -0.0411      0.019     -2.151      0.032      -0.079      -0.004\n",
       "rent_or_own_Rent                        -0.2572      0.058     -4.448      0.000      -0.371      -0.144\n",
       "opinion_seas_vacc_effective             -0.3544      0.024    -15.016      0.000      -0.401      -0.308\n",
       "household_adults                        -0.3349      0.033    -10.167      0.000      -0.399      -0.270\n",
       "h1n1_concern                            -0.1357      0.029     -4.735      0.000      -0.192      -0.080\n",
       "seasonal_vaccine                         2.1081      0.054     38.957      0.000       2.002       2.214\n",
       "doctor_recc_seasonal                    -1.0268      0.062    -16.573      0.000      -1.148      -0.905\n",
       "household_children                      -0.2380      0.027     -8.801      0.000      -0.291      -0.185\n",
       "opinion_h1n1_vacc_effective              0.2542      0.025     10.216      0.000       0.205       0.303\n",
       "behavioral_large_gatherings             -0.1858      0.049     -3.807      0.000      -0.282      -0.090\n",
       "marital_status_Not Married              -0.6618      0.050    -13.282      0.000      -0.759      -0.564\n",
       "h1n1_knowledge                          -0.2447      0.037     -6.561      0.000      -0.318      -0.172\n",
       "doctor_recc_h1n1                         2.3175      0.063     36.551      0.000       2.193       2.442\n",
       "hhs_geo_region_lzgpxyit                 -0.2976      0.061     -4.890      0.000      -0.417      -0.178\n",
       "age_group_65+ Years                     -0.4117      0.068     -6.024      0.000      -0.546      -0.278\n",
       "employment_status_Unemployed            -0.1708      0.107     -1.602      0.109      -0.380       0.038\n",
       "employment_status_Not in Labor Force    -0.0781      0.055     -1.423      0.155      -0.186       0.029\n",
       "sex_Male                                -0.1973      0.045     -4.416      0.000      -0.285      -0.110\n",
       "race_White                              -0.6474      0.054    -11.928      0.000      -0.754      -0.541\n",
       "behavioral_face_mask                     0.2330      0.082      2.832      0.005       0.072       0.394\n",
       "behavioral_touch_face                   -0.1602      0.051     -3.117      0.002      -0.261      -0.059\n",
       "income_poverty_> $75,000                -0.1671      0.052     -3.196      0.001      -0.270      -0.065\n",
       "child_under_6_months                     0.1457      0.074      1.977      0.048       0.001       0.290\n",
       "education_< 12 Years                    -0.2662      0.085     -3.129      0.002      -0.433      -0.099\n",
       "behavioral_wash_hands                   -0.4846      0.063     -7.739      0.000      -0.607      -0.362\n",
       "respondent_id                        -2.152e-05   2.68e-06     -8.027      0.000   -2.68e-05   -1.63e-05\n",
       "========================================================================================================\n",
       "\"\"\""
      ]
     },
     "execution_count": 343,
     "metadata": {},
     "output_type": "execute_result"
    }
   ],
   "source": [
    "lr_sm2 = sm.Logit(endog=y2_train, exog=X2_train).fit()\n",
    "lr_sm2.summary()"
   ]
  },
  {
   "cell_type": "code",
   "execution_count": null,
   "metadata": {},
   "outputs": [],
   "source": [
    "#choosing best parameters for logistic regression using grid_search\n",
    "tuned_parameters = {'min_samples_leaf': [10, 100, 200, 500],\n",
    "                   'criterion' :  ['gini', 'entropy'],\n",
    "                    'max_depth' : [None, 5, 7, 10, 20]\n",
    "                   }\n",
    "clf = GridSearchCV(RandomForestClassifier(n_estimators=300, random_state=99), \n",
    "                    tuned_parameters, cv=3, scoring=\"precision\")\n",
    "clf.fit(X1_train, y1_train)\n",
    "clf.best_params_"
   ]
  },
  {
   "cell_type": "code",
   "execution_count": 377,
   "metadata": {},
   "outputs": [
    {
     "data": {
      "text/plain": [
       "LogisticRegression(max_iter=500)"
      ]
     },
     "execution_count": 377,
     "metadata": {},
     "output_type": "execute_result"
    }
   ],
   "source": [
    "lr = LogisticRegression(max_iter=500)\n",
    "lr.fit(X1_train, y1_train)"
   ]
  },
  {
   "cell_type": "code",
   "execution_count": 379,
   "metadata": {},
   "outputs": [
    {
     "data": {
      "text/plain": [
       "0.8365970409051349"
      ]
     },
     "execution_count": 379,
     "metadata": {},
     "output_type": "execute_result"
    }
   ],
   "source": [
    "lr.score(X1_test, y1_test)"
   ]
  },
  {
   "cell_type": "code",
   "execution_count": 381,
   "metadata": {},
   "outputs": [
    {
     "data": {
      "text/plain": [
       "0.6914498141263941"
      ]
     },
     "execution_count": 381,
     "metadata": {},
     "output_type": "execute_result"
    }
   ],
   "source": [
    "precision_score(y1_test, lr.predict(X1_test))"
   ]
  },
  {
   "cell_type": "code",
   "execution_count": 382,
   "metadata": {},
   "outputs": [
    {
     "name": "stderr",
     "output_type": "stream",
     "text": [
      "C:\\Users\\Nick\\anaconda3\\envs\\learn-env\\lib\\site-packages\\sklearn\\linear_model\\_sag.py:329: ConvergenceWarning: The max_iter was reached which means the coef_ did not converge\n",
      "  warnings.warn(\"The max_iter was reached which means \"\n",
      "C:\\Users\\Nick\\anaconda3\\envs\\learn-env\\lib\\site-packages\\sklearn\\metrics\\_classification.py:1221: UndefinedMetricWarning: Precision is ill-defined and being set to 0.0 due to no predicted samples. Use `zero_division` parameter to control this behavior.\n",
      "  _warn_prf(average, modifier, msg_start, len(result))\n",
      "C:\\Users\\Nick\\anaconda3\\envs\\learn-env\\lib\\site-packages\\sklearn\\linear_model\\_sag.py:329: ConvergenceWarning: The max_iter was reached which means the coef_ did not converge\n",
      "  warnings.warn(\"The max_iter was reached which means \"\n",
      "C:\\Users\\Nick\\anaconda3\\envs\\learn-env\\lib\\site-packages\\sklearn\\metrics\\_classification.py:1221: UndefinedMetricWarning: Precision is ill-defined and being set to 0.0 due to no predicted samples. Use `zero_division` parameter to control this behavior.\n",
      "  _warn_prf(average, modifier, msg_start, len(result))\n",
      "C:\\Users\\Nick\\anaconda3\\envs\\learn-env\\lib\\site-packages\\sklearn\\linear_model\\_sag.py:329: ConvergenceWarning: The max_iter was reached which means the coef_ did not converge\n",
      "  warnings.warn(\"The max_iter was reached which means \"\n",
      "C:\\Users\\Nick\\anaconda3\\envs\\learn-env\\lib\\site-packages\\sklearn\\metrics\\_classification.py:1221: UndefinedMetricWarning: Precision is ill-defined and being set to 0.0 due to no predicted samples. Use `zero_division` parameter to control this behavior.\n",
      "  _warn_prf(average, modifier, msg_start, len(result))\n",
      "C:\\Users\\Nick\\anaconda3\\envs\\learn-env\\lib\\site-packages\\sklearn\\linear_model\\_sag.py:329: ConvergenceWarning: The max_iter was reached which means the coef_ did not converge\n",
      "  warnings.warn(\"The max_iter was reached which means \"\n",
      "C:\\Users\\Nick\\anaconda3\\envs\\learn-env\\lib\\site-packages\\sklearn\\metrics\\_classification.py:1221: UndefinedMetricWarning: Precision is ill-defined and being set to 0.0 due to no predicted samples. Use `zero_division` parameter to control this behavior.\n",
      "  _warn_prf(average, modifier, msg_start, len(result))\n",
      "C:\\Users\\Nick\\anaconda3\\envs\\learn-env\\lib\\site-packages\\sklearn\\linear_model\\_sag.py:329: ConvergenceWarning: The max_iter was reached which means the coef_ did not converge\n",
      "  warnings.warn(\"The max_iter was reached which means \"\n",
      "C:\\Users\\Nick\\anaconda3\\envs\\learn-env\\lib\\site-packages\\sklearn\\metrics\\_classification.py:1221: UndefinedMetricWarning: Precision is ill-defined and being set to 0.0 due to no predicted samples. Use `zero_division` parameter to control this behavior.\n",
      "  _warn_prf(average, modifier, msg_start, len(result))\n",
      "C:\\Users\\Nick\\anaconda3\\envs\\learn-env\\lib\\site-packages\\sklearn\\linear_model\\_sag.py:329: ConvergenceWarning: The max_iter was reached which means the coef_ did not converge\n",
      "  warnings.warn(\"The max_iter was reached which means \"\n",
      "C:\\Users\\Nick\\anaconda3\\envs\\learn-env\\lib\\site-packages\\sklearn\\metrics\\_classification.py:1221: UndefinedMetricWarning: Precision is ill-defined and being set to 0.0 due to no predicted samples. Use `zero_division` parameter to control this behavior.\n",
      "  _warn_prf(average, modifier, msg_start, len(result))\n",
      "C:\\Users\\Nick\\anaconda3\\envs\\learn-env\\lib\\site-packages\\sklearn\\linear_model\\_sag.py:329: ConvergenceWarning: The max_iter was reached which means the coef_ did not converge\n",
      "  warnings.warn(\"The max_iter was reached which means \"\n",
      "C:\\Users\\Nick\\anaconda3\\envs\\learn-env\\lib\\site-packages\\sklearn\\metrics\\_classification.py:1221: UndefinedMetricWarning: Precision is ill-defined and being set to 0.0 due to no predicted samples. Use `zero_division` parameter to control this behavior.\n",
      "  _warn_prf(average, modifier, msg_start, len(result))\n",
      "C:\\Users\\Nick\\anaconda3\\envs\\learn-env\\lib\\site-packages\\sklearn\\linear_model\\_sag.py:329: ConvergenceWarning: The max_iter was reached which means the coef_ did not converge\n",
      "  warnings.warn(\"The max_iter was reached which means \"\n",
      "C:\\Users\\Nick\\anaconda3\\envs\\learn-env\\lib\\site-packages\\sklearn\\metrics\\_classification.py:1221: UndefinedMetricWarning: Precision is ill-defined and being set to 0.0 due to no predicted samples. Use `zero_division` parameter to control this behavior.\n",
      "  _warn_prf(average, modifier, msg_start, len(result))\n",
      "C:\\Users\\Nick\\anaconda3\\envs\\learn-env\\lib\\site-packages\\sklearn\\linear_model\\_sag.py:329: ConvergenceWarning: The max_iter was reached which means the coef_ did not converge\n",
      "  warnings.warn(\"The max_iter was reached which means \"\n",
      "C:\\Users\\Nick\\anaconda3\\envs\\learn-env\\lib\\site-packages\\sklearn\\metrics\\_classification.py:1221: UndefinedMetricWarning: Precision is ill-defined and being set to 0.0 due to no predicted samples. Use `zero_division` parameter to control this behavior.\n",
      "  _warn_prf(average, modifier, msg_start, len(result))\n",
      "C:\\Users\\Nick\\anaconda3\\envs\\learn-env\\lib\\site-packages\\sklearn\\linear_model\\_sag.py:329: ConvergenceWarning: The max_iter was reached which means the coef_ did not converge\n",
      "  warnings.warn(\"The max_iter was reached which means \"\n",
      "C:\\Users\\Nick\\anaconda3\\envs\\learn-env\\lib\\site-packages\\sklearn\\metrics\\_classification.py:1221: UndefinedMetricWarning: Precision is ill-defined and being set to 0.0 due to no predicted samples. Use `zero_division` parameter to control this behavior.\n",
      "  _warn_prf(average, modifier, msg_start, len(result))\n",
      "C:\\Users\\Nick\\anaconda3\\envs\\learn-env\\lib\\site-packages\\sklearn\\linear_model\\_sag.py:329: ConvergenceWarning: The max_iter was reached which means the coef_ did not converge\n",
      "  warnings.warn(\"The max_iter was reached which means \"\n",
      "C:\\Users\\Nick\\anaconda3\\envs\\learn-env\\lib\\site-packages\\sklearn\\metrics\\_classification.py:1221: UndefinedMetricWarning: Precision is ill-defined and being set to 0.0 due to no predicted samples. Use `zero_division` parameter to control this behavior.\n",
      "  _warn_prf(average, modifier, msg_start, len(result))\n",
      "C:\\Users\\Nick\\anaconda3\\envs\\learn-env\\lib\\site-packages\\sklearn\\linear_model\\_sag.py:329: ConvergenceWarning: The max_iter was reached which means the coef_ did not converge\n",
      "  warnings.warn(\"The max_iter was reached which means \"\n",
      "C:\\Users\\Nick\\anaconda3\\envs\\learn-env\\lib\\site-packages\\sklearn\\metrics\\_classification.py:1221: UndefinedMetricWarning: Precision is ill-defined and being set to 0.0 due to no predicted samples. Use `zero_division` parameter to control this behavior.\n",
      "  _warn_prf(average, modifier, msg_start, len(result))\n",
      "C:\\Users\\Nick\\anaconda3\\envs\\learn-env\\lib\\site-packages\\sklearn\\linear_model\\_sag.py:329: ConvergenceWarning: The max_iter was reached which means the coef_ did not converge\n",
      "  warnings.warn(\"The max_iter was reached which means \"\n",
      "C:\\Users\\Nick\\anaconda3\\envs\\learn-env\\lib\\site-packages\\sklearn\\metrics\\_classification.py:1221: UndefinedMetricWarning: Precision is ill-defined and being set to 0.0 due to no predicted samples. Use `zero_division` parameter to control this behavior.\n",
      "  _warn_prf(average, modifier, msg_start, len(result))\n",
      "C:\\Users\\Nick\\anaconda3\\envs\\learn-env\\lib\\site-packages\\sklearn\\linear_model\\_sag.py:329: ConvergenceWarning: The max_iter was reached which means the coef_ did not converge\n",
      "  warnings.warn(\"The max_iter was reached which means \"\n",
      "C:\\Users\\Nick\\anaconda3\\envs\\learn-env\\lib\\site-packages\\sklearn\\metrics\\_classification.py:1221: UndefinedMetricWarning: Precision is ill-defined and being set to 0.0 due to no predicted samples. Use `zero_division` parameter to control this behavior.\n",
      "  _warn_prf(average, modifier, msg_start, len(result))\n",
      "C:\\Users\\Nick\\anaconda3\\envs\\learn-env\\lib\\site-packages\\sklearn\\linear_model\\_sag.py:329: ConvergenceWarning: The max_iter was reached which means the coef_ did not converge\n",
      "  warnings.warn(\"The max_iter was reached which means \"\n",
      "C:\\Users\\Nick\\anaconda3\\envs\\learn-env\\lib\\site-packages\\sklearn\\metrics\\_classification.py:1221: UndefinedMetricWarning: Precision is ill-defined and being set to 0.0 due to no predicted samples. Use `zero_division` parameter to control this behavior.\n",
      "  _warn_prf(average, modifier, msg_start, len(result))\n",
      "C:\\Users\\Nick\\anaconda3\\envs\\learn-env\\lib\\site-packages\\sklearn\\linear_model\\_sag.py:329: ConvergenceWarning: The max_iter was reached which means the coef_ did not converge\n",
      "  warnings.warn(\"The max_iter was reached which means \"\n",
      "C:\\Users\\Nick\\anaconda3\\envs\\learn-env\\lib\\site-packages\\sklearn\\metrics\\_classification.py:1221: UndefinedMetricWarning: Precision is ill-defined and being set to 0.0 due to no predicted samples. Use `zero_division` parameter to control this behavior.\n",
      "  _warn_prf(average, modifier, msg_start, len(result))\n"
     ]
    },
    {
     "name": "stderr",
     "output_type": "stream",
     "text": [
      "C:\\Users\\Nick\\anaconda3\\envs\\learn-env\\lib\\site-packages\\sklearn\\linear_model\\_sag.py:329: ConvergenceWarning: The max_iter was reached which means the coef_ did not converge\n",
      "  warnings.warn(\"The max_iter was reached which means \"\n",
      "C:\\Users\\Nick\\anaconda3\\envs\\learn-env\\lib\\site-packages\\sklearn\\metrics\\_classification.py:1221: UndefinedMetricWarning: Precision is ill-defined and being set to 0.0 due to no predicted samples. Use `zero_division` parameter to control this behavior.\n",
      "  _warn_prf(average, modifier, msg_start, len(result))\n",
      "C:\\Users\\Nick\\anaconda3\\envs\\learn-env\\lib\\site-packages\\sklearn\\linear_model\\_sag.py:329: ConvergenceWarning: The max_iter was reached which means the coef_ did not converge\n",
      "  warnings.warn(\"The max_iter was reached which means \"\n",
      "C:\\Users\\Nick\\anaconda3\\envs\\learn-env\\lib\\site-packages\\sklearn\\metrics\\_classification.py:1221: UndefinedMetricWarning: Precision is ill-defined and being set to 0.0 due to no predicted samples. Use `zero_division` parameter to control this behavior.\n",
      "  _warn_prf(average, modifier, msg_start, len(result))\n",
      "C:\\Users\\Nick\\anaconda3\\envs\\learn-env\\lib\\site-packages\\sklearn\\linear_model\\_sag.py:329: ConvergenceWarning: The max_iter was reached which means the coef_ did not converge\n",
      "  warnings.warn(\"The max_iter was reached which means \"\n",
      "C:\\Users\\Nick\\anaconda3\\envs\\learn-env\\lib\\site-packages\\sklearn\\metrics\\_classification.py:1221: UndefinedMetricWarning: Precision is ill-defined and being set to 0.0 due to no predicted samples. Use `zero_division` parameter to control this behavior.\n",
      "  _warn_prf(average, modifier, msg_start, len(result))\n",
      "C:\\Users\\Nick\\anaconda3\\envs\\learn-env\\lib\\site-packages\\sklearn\\linear_model\\_sag.py:329: ConvergenceWarning: The max_iter was reached which means the coef_ did not converge\n",
      "  warnings.warn(\"The max_iter was reached which means \"\n",
      "C:\\Users\\Nick\\anaconda3\\envs\\learn-env\\lib\\site-packages\\sklearn\\metrics\\_classification.py:1221: UndefinedMetricWarning: Precision is ill-defined and being set to 0.0 due to no predicted samples. Use `zero_division` parameter to control this behavior.\n",
      "  _warn_prf(average, modifier, msg_start, len(result))\n",
      "C:\\Users\\Nick\\anaconda3\\envs\\learn-env\\lib\\site-packages\\sklearn\\linear_model\\_sag.py:329: ConvergenceWarning: The max_iter was reached which means the coef_ did not converge\n",
      "  warnings.warn(\"The max_iter was reached which means \"\n",
      "C:\\Users\\Nick\\anaconda3\\envs\\learn-env\\lib\\site-packages\\sklearn\\metrics\\_classification.py:1221: UndefinedMetricWarning: Precision is ill-defined and being set to 0.0 due to no predicted samples. Use `zero_division` parameter to control this behavior.\n",
      "  _warn_prf(average, modifier, msg_start, len(result))\n",
      "C:\\Users\\Nick\\anaconda3\\envs\\learn-env\\lib\\site-packages\\sklearn\\linear_model\\_sag.py:329: ConvergenceWarning: The max_iter was reached which means the coef_ did not converge\n",
      "  warnings.warn(\"The max_iter was reached which means \"\n",
      "C:\\Users\\Nick\\anaconda3\\envs\\learn-env\\lib\\site-packages\\sklearn\\metrics\\_classification.py:1221: UndefinedMetricWarning: Precision is ill-defined and being set to 0.0 due to no predicted samples. Use `zero_division` parameter to control this behavior.\n",
      "  _warn_prf(average, modifier, msg_start, len(result))\n",
      "C:\\Users\\Nick\\anaconda3\\envs\\learn-env\\lib\\site-packages\\sklearn\\linear_model\\_sag.py:329: ConvergenceWarning: The max_iter was reached which means the coef_ did not converge\n",
      "  warnings.warn(\"The max_iter was reached which means \"\n",
      "C:\\Users\\Nick\\anaconda3\\envs\\learn-env\\lib\\site-packages\\sklearn\\metrics\\_classification.py:1221: UndefinedMetricWarning: Precision is ill-defined and being set to 0.0 due to no predicted samples. Use `zero_division` parameter to control this behavior.\n",
      "  _warn_prf(average, modifier, msg_start, len(result))\n",
      "C:\\Users\\Nick\\anaconda3\\envs\\learn-env\\lib\\site-packages\\sklearn\\linear_model\\_sag.py:329: ConvergenceWarning: The max_iter was reached which means the coef_ did not converge\n",
      "  warnings.warn(\"The max_iter was reached which means \"\n",
      "C:\\Users\\Nick\\anaconda3\\envs\\learn-env\\lib\\site-packages\\sklearn\\metrics\\_classification.py:1221: UndefinedMetricWarning: Precision is ill-defined and being set to 0.0 due to no predicted samples. Use `zero_division` parameter to control this behavior.\n",
      "  _warn_prf(average, modifier, msg_start, len(result))\n"
     ]
    },
    {
     "data": {
      "text/plain": [
       "GridSearchCV(cv=3,\n",
       "             estimator=LogisticRegression(C=5, max_iter=5000, solver='sag'),\n",
       "             param_grid={'C': [1, 5, 10, 50],\n",
       "                         'solver': ['sag', 'saga', 'lbfgs']},\n",
       "             scoring='precision')"
      ]
     },
     "execution_count": 382,
     "metadata": {},
     "output_type": "execute_result"
    }
   ],
   "source": [
    "tuned_parameters_lr = {'C': [1, 5, 10, 50],\n",
    "                   'solver' :  ['sag', 'saga', 'lbfgs']\n",
    "            \n",
    "                   }\n",
    "clf = GridSearchCV(LogisticRegression(max_iter=5000,C=5), tuned_parameters_lr, cv=3, scoring=\"precision\")\n",
    "clf.fit(X2_train, y2_train)"
   ]
  },
  {
   "cell_type": "code",
   "execution_count": 383,
   "metadata": {},
   "outputs": [
    {
     "data": {
      "text/plain": [
       "{'C': 10, 'solver': 'lbfgs'}"
      ]
     },
     "execution_count": 383,
     "metadata": {},
     "output_type": "execute_result"
    }
   ],
   "source": [
    "clf.best_params_"
   ]
  },
  {
   "cell_type": "code",
   "execution_count": 384,
   "metadata": {},
   "outputs": [
    {
     "data": {
      "text/plain": [
       "LogisticRegression(C=10, max_iter=1000)"
      ]
     },
     "execution_count": 384,
     "metadata": {},
     "output_type": "execute_result"
    }
   ],
   "source": [
    "lr_try = LogisticRegression(C=10, solver='lbfgs', max_iter=1000)\n",
    "lr_try.fit(X1_train, y1_train)"
   ]
  },
  {
   "cell_type": "code",
   "execution_count": 385,
   "metadata": {},
   "outputs": [
    {
     "data": {
      "text/plain": [
       "0.6924969249692496"
      ]
     },
     "execution_count": 385,
     "metadata": {},
     "output_type": "execute_result"
    }
   ],
   "source": [
    "precision_score(y1_test, lr_try.predict(X1_test))"
   ]
  },
  {
   "cell_type": "code",
   "execution_count": 386,
   "metadata": {},
   "outputs": [
    {
     "data": {
      "text/plain": [
       "0.6607387140902873"
      ]
     },
     "execution_count": 386,
     "metadata": {},
     "output_type": "execute_result"
    }
   ],
   "source": [
    "clf.score(X2_test, y2_test)"
   ]
  },
  {
   "cell_type": "markdown",
   "metadata": {},
   "source": [
    "# I don't know why these numbers aren't similar to what was found in my scratch work "
   ]
  },
  {
   "cell_type": "code",
   "execution_count": null,
   "metadata": {},
   "outputs": [],
   "source": []
  },
  {
   "cell_type": "markdown",
   "metadata": {},
   "source": [
    "# Conclusion: \n",
    "### Through our findings we've discovered that a relationship with/ reccomendation from one's MD is critical for vaccine-willingness in patients. We also learned that these Dr. Reccomendations are given at a much higher rate to older generations. In the world-changing global pandemic of SARS COVID-19, the world saw that younger people are much more amenaable to receiving vaccines. Thus we propose measures to increase Dr. reccomendations to younger demographics. For further research we intend to look at the impacts of\n",
    "- having health insurance\n",
    "- having had the flu in the past"
   ]
  },
  {
   "cell_type": "code",
   "execution_count": null,
   "metadata": {},
   "outputs": [],
   "source": []
  }
 ],
 "metadata": {
  "kernelspec": {
   "display_name": "Python (learn-env)",
   "language": "python",
   "name": "learn-env"
  },
  "language_info": {
   "codemirror_mode": {
    "name": "ipython",
    "version": 3
   },
   "file_extension": ".py",
   "mimetype": "text/x-python",
   "name": "python",
   "nbconvert_exporter": "python",
   "pygments_lexer": "ipython3",
   "version": "3.8.5"
  }
 },
 "nbformat": 4,
 "nbformat_minor": 4
}
