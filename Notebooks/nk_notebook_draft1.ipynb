{
 "cells": [
  {
   "cell_type": "code",
   "execution_count": 6,
   "metadata": {},
   "outputs": [],
   "source": [
    "import pandas as pd\n",
    "import numpy as np\n",
    "import matplotlib.pyplot as plt\n",
    "import seaborn as sns\n",
    "from sklearn.preprocessing import StandardScaler, OneHotEncoder, FunctionTransformer\n",
    "from sklearn.neural_network import MLPClassifier\n",
    "from sklearn.model_selection import train_test_split, cross_val_score, GridSearchCV\n",
    "from sklearn.metrics import roc_auc_score, plot_roc_curve, plot_confusion_matrix\n",
    "from sklearn.linear_model import LogisticRegression\n",
    "import statsmodels.api as sm\n",
    "from sklearn.tree import DecisionTreeClassifier\n",
    "from sklearn.neighbors import KNeighborsClassifier\n",
    "from sklearn.ensemble import AdaBoostRegressor, GradientBoostingRegressor, \\\n",
    "AdaBoostClassifier, GradientBoostingClassifier, BaggingClassifier, RandomForestClassifier,\\\n",
    "ExtraTreesClassifier, VotingClassifier, StackingRegressor\n",
    "from sklearn.pipeline import Pipeline\n",
    "from sklearn.compose import ColumnTransformer\n",
    "%matplotlib inline"
   ]
  },
  {
   "cell_type": "code",
   "execution_count": 2,
   "metadata": {},
   "outputs": [
    {
     "data": {
      "text/html": [
       "<div>\n",
       "<style scoped>\n",
       "    .dataframe tbody tr th:only-of-type {\n",
       "        vertical-align: middle;\n",
       "    }\n",
       "\n",
       "    .dataframe tbody tr th {\n",
       "        vertical-align: top;\n",
       "    }\n",
       "\n",
       "    .dataframe thead th {\n",
       "        text-align: right;\n",
       "    }\n",
       "</style>\n",
       "<table border=\"1\" class=\"dataframe\">\n",
       "  <thead>\n",
       "    <tr style=\"text-align: right;\">\n",
       "      <th></th>\n",
       "      <th>respondent_id</th>\n",
       "      <th>h1n1_concern</th>\n",
       "      <th>h1n1_knowledge</th>\n",
       "      <th>behavioral_antiviral_meds</th>\n",
       "      <th>behavioral_avoidance</th>\n",
       "      <th>behavioral_face_mask</th>\n",
       "      <th>behavioral_wash_hands</th>\n",
       "      <th>behavioral_large_gatherings</th>\n",
       "      <th>behavioral_outside_home</th>\n",
       "      <th>behavioral_touch_face</th>\n",
       "      <th>...</th>\n",
       "      <th>rent_or_own</th>\n",
       "      <th>employment_status</th>\n",
       "      <th>hhs_geo_region</th>\n",
       "      <th>census_msa</th>\n",
       "      <th>household_adults</th>\n",
       "      <th>household_children</th>\n",
       "      <th>employment_industry</th>\n",
       "      <th>employment_occupation</th>\n",
       "      <th>h1n1_vaccine</th>\n",
       "      <th>seasonal_vaccine</th>\n",
       "    </tr>\n",
       "  </thead>\n",
       "  <tbody>\n",
       "    <tr>\n",
       "      <th>0</th>\n",
       "      <td>0</td>\n",
       "      <td>1.0</td>\n",
       "      <td>0.0</td>\n",
       "      <td>0.0</td>\n",
       "      <td>0.0</td>\n",
       "      <td>0.0</td>\n",
       "      <td>0.0</td>\n",
       "      <td>0.0</td>\n",
       "      <td>1.0</td>\n",
       "      <td>1.0</td>\n",
       "      <td>...</td>\n",
       "      <td>Own</td>\n",
       "      <td>Not in Labor Force</td>\n",
       "      <td>oxchjgsf</td>\n",
       "      <td>Non-MSA</td>\n",
       "      <td>0.0</td>\n",
       "      <td>0.0</td>\n",
       "      <td>NaN</td>\n",
       "      <td>NaN</td>\n",
       "      <td>0</td>\n",
       "      <td>0</td>\n",
       "    </tr>\n",
       "    <tr>\n",
       "      <th>1</th>\n",
       "      <td>1</td>\n",
       "      <td>3.0</td>\n",
       "      <td>2.0</td>\n",
       "      <td>0.0</td>\n",
       "      <td>1.0</td>\n",
       "      <td>0.0</td>\n",
       "      <td>1.0</td>\n",
       "      <td>0.0</td>\n",
       "      <td>1.0</td>\n",
       "      <td>1.0</td>\n",
       "      <td>...</td>\n",
       "      <td>Rent</td>\n",
       "      <td>Employed</td>\n",
       "      <td>bhuqouqj</td>\n",
       "      <td>MSA, Not Principle  City</td>\n",
       "      <td>0.0</td>\n",
       "      <td>0.0</td>\n",
       "      <td>pxcmvdjn</td>\n",
       "      <td>xgwztkwe</td>\n",
       "      <td>0</td>\n",
       "      <td>1</td>\n",
       "    </tr>\n",
       "  </tbody>\n",
       "</table>\n",
       "<p>2 rows × 38 columns</p>\n",
       "</div>"
      ],
      "text/plain": [
       "   respondent_id  h1n1_concern  h1n1_knowledge  behavioral_antiviral_meds  \\\n",
       "0              0           1.0             0.0                        0.0   \n",
       "1              1           3.0             2.0                        0.0   \n",
       "\n",
       "   behavioral_avoidance  behavioral_face_mask  behavioral_wash_hands  \\\n",
       "0                   0.0                   0.0                    0.0   \n",
       "1                   1.0                   0.0                    1.0   \n",
       "\n",
       "   behavioral_large_gatherings  behavioral_outside_home  \\\n",
       "0                          0.0                      1.0   \n",
       "1                          0.0                      1.0   \n",
       "\n",
       "   behavioral_touch_face  ...  rent_or_own   employment_status  \\\n",
       "0                    1.0  ...          Own  Not in Labor Force   \n",
       "1                    1.0  ...         Rent            Employed   \n",
       "\n",
       "   hhs_geo_region                census_msa  household_adults  \\\n",
       "0        oxchjgsf                   Non-MSA               0.0   \n",
       "1        bhuqouqj  MSA, Not Principle  City               0.0   \n",
       "\n",
       "   household_children  employment_industry  employment_occupation  \\\n",
       "0                 0.0                  NaN                    NaN   \n",
       "1                 0.0             pxcmvdjn               xgwztkwe   \n",
       "\n",
       "   h1n1_vaccine  seasonal_vaccine  \n",
       "0             0                 0  \n",
       "1             0                 1  \n",
       "\n",
       "[2 rows x 38 columns]"
      ]
     },
     "execution_count": 2,
     "metadata": {},
     "output_type": "execute_result"
    }
   ],
   "source": [
    "df = pd.read_csv('C:/Users/Nick/Documents/Flatiron/phase_3/project3/data1.csv')\n",
    "df.head(2)"
   ]
  },
  {
   "cell_type": "code",
   "execution_count": 116,
   "metadata": {},
   "outputs": [
    {
     "name": "stdout",
     "output_type": "stream",
     "text": [
      "<class 'pandas.core.frame.DataFrame'>\n",
      "Int64Index: 19642 entries, 0 to 26706\n",
      "Data columns (total 35 columns):\n",
      " #   Column                       Non-Null Count  Dtype  \n",
      "---  ------                       --------------  -----  \n",
      " 0   respondent_id                19642 non-null  int64  \n",
      " 1   h1n1_concern                 19642 non-null  float64\n",
      " 2   h1n1_knowledge               19642 non-null  float64\n",
      " 3   behavioral_antiviral_meds    19642 non-null  float64\n",
      " 4   behavioral_avoidance         19642 non-null  float64\n",
      " 5   behavioral_face_mask         19642 non-null  float64\n",
      " 6   behavioral_wash_hands        19642 non-null  float64\n",
      " 7   behavioral_large_gatherings  19642 non-null  float64\n",
      " 8   behavioral_outside_home      19642 non-null  float64\n",
      " 9   behavioral_touch_face        19642 non-null  float64\n",
      " 10  doctor_recc_h1n1             19642 non-null  float64\n",
      " 11  doctor_recc_seasonal         19642 non-null  float64\n",
      " 12  chronic_med_condition        19642 non-null  float64\n",
      " 13  child_under_6_months         19642 non-null  float64\n",
      " 14  health_worker                19642 non-null  float64\n",
      " 15  opinion_h1n1_vacc_effective  19642 non-null  float64\n",
      " 16  opinion_h1n1_risk            19642 non-null  float64\n",
      " 17  opinion_h1n1_sick_from_vacc  19642 non-null  float64\n",
      " 18  opinion_seas_vacc_effective  19642 non-null  float64\n",
      " 19  opinion_seas_risk            19642 non-null  float64\n",
      " 20  opinion_seas_sick_from_vacc  19642 non-null  float64\n",
      " 21  age_group                    19642 non-null  object \n",
      " 22  education                    19642 non-null  object \n",
      " 23  race                         19642 non-null  object \n",
      " 24  sex                          19642 non-null  object \n",
      " 25  income_poverty               19642 non-null  object \n",
      " 26  marital_status               19642 non-null  object \n",
      " 27  rent_or_own                  19642 non-null  object \n",
      " 28  employment_status            19642 non-null  object \n",
      " 29  hhs_geo_region               19642 non-null  object \n",
      " 30  census_msa                   19642 non-null  object \n",
      " 31  household_adults             19642 non-null  float64\n",
      " 32  household_children           19642 non-null  float64\n",
      " 33  h1n1_vaccine                 19642 non-null  int64  \n",
      " 34  seasonal_vaccine             19642 non-null  int64  \n",
      "dtypes: float64(22), int64(3), object(10)\n",
      "memory usage: 5.4+ MB\n"
     ]
    },
    {
     "ename": "KeyError",
     "evalue": "\"['health_insurance' 'employment_occupation' 'employment_industry'] not found in axis\"",
     "output_type": "error",
     "traceback": [
      "\u001b[1;31m---------------------------------------------------------------------------\u001b[0m",
      "\u001b[1;31mKeyError\u001b[0m                                  Traceback (most recent call last)",
      "\u001b[1;32m<ipython-input-116-7198e79e6583>\u001b[0m in \u001b[0;36m<module>\u001b[1;34m\u001b[0m\n\u001b[0;32m      1\u001b[0m \u001b[0mdf\u001b[0m\u001b[1;33m.\u001b[0m\u001b[0minfo\u001b[0m\u001b[1;33m(\u001b[0m\u001b[1;33m)\u001b[0m\u001b[1;33m\u001b[0m\u001b[1;33m\u001b[0m\u001b[0m\n\u001b[1;32m----> 2\u001b[1;33m \u001b[0mdf\u001b[0m \u001b[1;33m=\u001b[0m \u001b[0mdf\u001b[0m\u001b[1;33m.\u001b[0m\u001b[0mdrop\u001b[0m\u001b[1;33m(\u001b[0m\u001b[0mcolumns\u001b[0m\u001b[1;33m=\u001b[0m\u001b[1;33m[\u001b[0m\u001b[1;34m'health_insurance'\u001b[0m\u001b[1;33m,\u001b[0m \u001b[1;34m'employment_occupation'\u001b[0m\u001b[1;33m,\u001b[0m \u001b[1;34m'employment_industry'\u001b[0m\u001b[1;33m]\u001b[0m\u001b[1;33m)\u001b[0m\u001b[1;33m\u001b[0m\u001b[1;33m\u001b[0m\u001b[0m\n\u001b[0m\u001b[0;32m      3\u001b[0m \u001b[0mdf\u001b[0m\u001b[1;33m.\u001b[0m\u001b[0mdropna\u001b[0m\u001b[1;33m(\u001b[0m\u001b[1;33m)\u001b[0m\u001b[1;33m\u001b[0m\u001b[1;33m\u001b[0m\u001b[0m\n",
      "\u001b[1;32m~\\anaconda3\\envs\\learn-env\\lib\\site-packages\\pandas\\core\\frame.py\u001b[0m in \u001b[0;36mdrop\u001b[1;34m(self, labels, axis, index, columns, level, inplace, errors)\u001b[0m\n\u001b[0;32m   4161\u001b[0m                 \u001b[0mweight\u001b[0m  \u001b[1;36m1.0\u001b[0m     \u001b[1;36m0.8\u001b[0m\u001b[1;33m\u001b[0m\u001b[1;33m\u001b[0m\u001b[0m\n\u001b[0;32m   4162\u001b[0m         \"\"\"\n\u001b[1;32m-> 4163\u001b[1;33m         return super().drop(\n\u001b[0m\u001b[0;32m   4164\u001b[0m             \u001b[0mlabels\u001b[0m\u001b[1;33m=\u001b[0m\u001b[0mlabels\u001b[0m\u001b[1;33m,\u001b[0m\u001b[1;33m\u001b[0m\u001b[1;33m\u001b[0m\u001b[0m\n\u001b[0;32m   4165\u001b[0m             \u001b[0maxis\u001b[0m\u001b[1;33m=\u001b[0m\u001b[0maxis\u001b[0m\u001b[1;33m,\u001b[0m\u001b[1;33m\u001b[0m\u001b[1;33m\u001b[0m\u001b[0m\n",
      "\u001b[1;32m~\\anaconda3\\envs\\learn-env\\lib\\site-packages\\pandas\\core\\generic.py\u001b[0m in \u001b[0;36mdrop\u001b[1;34m(self, labels, axis, index, columns, level, inplace, errors)\u001b[0m\n\u001b[0;32m   3885\u001b[0m         \u001b[1;32mfor\u001b[0m \u001b[0maxis\u001b[0m\u001b[1;33m,\u001b[0m \u001b[0mlabels\u001b[0m \u001b[1;32min\u001b[0m \u001b[0maxes\u001b[0m\u001b[1;33m.\u001b[0m\u001b[0mitems\u001b[0m\u001b[1;33m(\u001b[0m\u001b[1;33m)\u001b[0m\u001b[1;33m:\u001b[0m\u001b[1;33m\u001b[0m\u001b[1;33m\u001b[0m\u001b[0m\n\u001b[0;32m   3886\u001b[0m             \u001b[1;32mif\u001b[0m \u001b[0mlabels\u001b[0m \u001b[1;32mis\u001b[0m \u001b[1;32mnot\u001b[0m \u001b[1;32mNone\u001b[0m\u001b[1;33m:\u001b[0m\u001b[1;33m\u001b[0m\u001b[1;33m\u001b[0m\u001b[0m\n\u001b[1;32m-> 3887\u001b[1;33m                 \u001b[0mobj\u001b[0m \u001b[1;33m=\u001b[0m \u001b[0mobj\u001b[0m\u001b[1;33m.\u001b[0m\u001b[0m_drop_axis\u001b[0m\u001b[1;33m(\u001b[0m\u001b[0mlabels\u001b[0m\u001b[1;33m,\u001b[0m \u001b[0maxis\u001b[0m\u001b[1;33m,\u001b[0m \u001b[0mlevel\u001b[0m\u001b[1;33m=\u001b[0m\u001b[0mlevel\u001b[0m\u001b[1;33m,\u001b[0m \u001b[0merrors\u001b[0m\u001b[1;33m=\u001b[0m\u001b[0merrors\u001b[0m\u001b[1;33m)\u001b[0m\u001b[1;33m\u001b[0m\u001b[1;33m\u001b[0m\u001b[0m\n\u001b[0m\u001b[0;32m   3888\u001b[0m \u001b[1;33m\u001b[0m\u001b[0m\n\u001b[0;32m   3889\u001b[0m         \u001b[1;32mif\u001b[0m \u001b[0minplace\u001b[0m\u001b[1;33m:\u001b[0m\u001b[1;33m\u001b[0m\u001b[1;33m\u001b[0m\u001b[0m\n",
      "\u001b[1;32m~\\anaconda3\\envs\\learn-env\\lib\\site-packages\\pandas\\core\\generic.py\u001b[0m in \u001b[0;36m_drop_axis\u001b[1;34m(self, labels, axis, level, errors)\u001b[0m\n\u001b[0;32m   3919\u001b[0m                 \u001b[0mnew_axis\u001b[0m \u001b[1;33m=\u001b[0m \u001b[0maxis\u001b[0m\u001b[1;33m.\u001b[0m\u001b[0mdrop\u001b[0m\u001b[1;33m(\u001b[0m\u001b[0mlabels\u001b[0m\u001b[1;33m,\u001b[0m \u001b[0mlevel\u001b[0m\u001b[1;33m=\u001b[0m\u001b[0mlevel\u001b[0m\u001b[1;33m,\u001b[0m \u001b[0merrors\u001b[0m\u001b[1;33m=\u001b[0m\u001b[0merrors\u001b[0m\u001b[1;33m)\u001b[0m\u001b[1;33m\u001b[0m\u001b[1;33m\u001b[0m\u001b[0m\n\u001b[0;32m   3920\u001b[0m             \u001b[1;32melse\u001b[0m\u001b[1;33m:\u001b[0m\u001b[1;33m\u001b[0m\u001b[1;33m\u001b[0m\u001b[0m\n\u001b[1;32m-> 3921\u001b[1;33m                 \u001b[0mnew_axis\u001b[0m \u001b[1;33m=\u001b[0m \u001b[0maxis\u001b[0m\u001b[1;33m.\u001b[0m\u001b[0mdrop\u001b[0m\u001b[1;33m(\u001b[0m\u001b[0mlabels\u001b[0m\u001b[1;33m,\u001b[0m \u001b[0merrors\u001b[0m\u001b[1;33m=\u001b[0m\u001b[0merrors\u001b[0m\u001b[1;33m)\u001b[0m\u001b[1;33m\u001b[0m\u001b[1;33m\u001b[0m\u001b[0m\n\u001b[0m\u001b[0;32m   3922\u001b[0m             \u001b[0mresult\u001b[0m \u001b[1;33m=\u001b[0m \u001b[0mself\u001b[0m\u001b[1;33m.\u001b[0m\u001b[0mreindex\u001b[0m\u001b[1;33m(\u001b[0m\u001b[1;33m**\u001b[0m\u001b[1;33m{\u001b[0m\u001b[0maxis_name\u001b[0m\u001b[1;33m:\u001b[0m \u001b[0mnew_axis\u001b[0m\u001b[1;33m}\u001b[0m\u001b[1;33m)\u001b[0m\u001b[1;33m\u001b[0m\u001b[1;33m\u001b[0m\u001b[0m\n\u001b[0;32m   3923\u001b[0m \u001b[1;33m\u001b[0m\u001b[0m\n",
      "\u001b[1;32m~\\anaconda3\\envs\\learn-env\\lib\\site-packages\\pandas\\core\\indexes\\base.py\u001b[0m in \u001b[0;36mdrop\u001b[1;34m(self, labels, errors)\u001b[0m\n\u001b[0;32m   5280\u001b[0m         \u001b[1;32mif\u001b[0m \u001b[0mmask\u001b[0m\u001b[1;33m.\u001b[0m\u001b[0many\u001b[0m\u001b[1;33m(\u001b[0m\u001b[1;33m)\u001b[0m\u001b[1;33m:\u001b[0m\u001b[1;33m\u001b[0m\u001b[1;33m\u001b[0m\u001b[0m\n\u001b[0;32m   5281\u001b[0m             \u001b[1;32mif\u001b[0m \u001b[0merrors\u001b[0m \u001b[1;33m!=\u001b[0m \u001b[1;34m\"ignore\"\u001b[0m\u001b[1;33m:\u001b[0m\u001b[1;33m\u001b[0m\u001b[1;33m\u001b[0m\u001b[0m\n\u001b[1;32m-> 5282\u001b[1;33m                 \u001b[1;32mraise\u001b[0m \u001b[0mKeyError\u001b[0m\u001b[1;33m(\u001b[0m\u001b[1;34mf\"{labels[mask]} not found in axis\"\u001b[0m\u001b[1;33m)\u001b[0m\u001b[1;33m\u001b[0m\u001b[1;33m\u001b[0m\u001b[0m\n\u001b[0m\u001b[0;32m   5283\u001b[0m             \u001b[0mindexer\u001b[0m \u001b[1;33m=\u001b[0m \u001b[0mindexer\u001b[0m\u001b[1;33m[\u001b[0m\u001b[1;33m~\u001b[0m\u001b[0mmask\u001b[0m\u001b[1;33m]\u001b[0m\u001b[1;33m\u001b[0m\u001b[1;33m\u001b[0m\u001b[0m\n\u001b[0;32m   5284\u001b[0m         \u001b[1;32mreturn\u001b[0m \u001b[0mself\u001b[0m\u001b[1;33m.\u001b[0m\u001b[0mdelete\u001b[0m\u001b[1;33m(\u001b[0m\u001b[0mindexer\u001b[0m\u001b[1;33m)\u001b[0m\u001b[1;33m\u001b[0m\u001b[1;33m\u001b[0m\u001b[0m\n",
      "\u001b[1;31mKeyError\u001b[0m: \"['health_insurance' 'employment_occupation' 'employment_industry'] not found in axis\""
     ]
    }
   ],
   "source": [
    "df.info()\n",
    "df = df.drop(columns=['health_insurance', 'employment_occupation', 'employment_industry'])\n"
   ]
  },
  {
   "cell_type": "code",
   "execution_count": 81,
   "metadata": {},
   "outputs": [],
   "source": [
    "df = df.dropna()"
   ]
  },
  {
   "cell_type": "code",
   "execution_count": 21,
   "metadata": {},
   "outputs": [
    {
     "name": "stdout",
     "output_type": "stream",
     "text": [
      "<class 'pandas.core.frame.DataFrame'>\n",
      "Int64Index: 11794 entries, 0 to 26706\n",
      "Data columns (total 36 columns):\n",
      " #   Column                       Non-Null Count  Dtype  \n",
      "---  ------                       --------------  -----  \n",
      " 0   respondent_id                11794 non-null  int64  \n",
      " 1   h1n1_concern                 11794 non-null  float64\n",
      " 2   h1n1_knowledge               11794 non-null  float64\n",
      " 3   behavioral_antiviral_meds    11794 non-null  float64\n",
      " 4   behavioral_avoidance         11794 non-null  float64\n",
      " 5   behavioral_face_mask         11794 non-null  float64\n",
      " 6   behavioral_wash_hands        11794 non-null  float64\n",
      " 7   behavioral_large_gatherings  11794 non-null  float64\n",
      " 8   behavioral_outside_home      11794 non-null  float64\n",
      " 9   behavioral_touch_face        11794 non-null  float64\n",
      " 10  doctor_recc_h1n1             11794 non-null  float64\n",
      " 11  doctor_recc_seasonal         11794 non-null  float64\n",
      " 12  chronic_med_condition        11794 non-null  float64\n",
      " 13  child_under_6_months         11794 non-null  float64\n",
      " 14  health_worker                11794 non-null  float64\n",
      " 15  health_insurance             11794 non-null  float64\n",
      " 16  opinion_h1n1_vacc_effective  11794 non-null  float64\n",
      " 17  opinion_h1n1_risk            11794 non-null  float64\n",
      " 18  opinion_h1n1_sick_from_vacc  11794 non-null  float64\n",
      " 19  opinion_seas_vacc_effective  11794 non-null  float64\n",
      " 20  opinion_seas_risk            11794 non-null  float64\n",
      " 21  opinion_seas_sick_from_vacc  11794 non-null  float64\n",
      " 22  age_group                    11794 non-null  object \n",
      " 23  education                    11794 non-null  object \n",
      " 24  race                         11794 non-null  object \n",
      " 25  sex                          11794 non-null  object \n",
      " 26  income_poverty               11794 non-null  object \n",
      " 27  marital_status               11794 non-null  object \n",
      " 28  rent_or_own                  11794 non-null  object \n",
      " 29  employment_status            11794 non-null  object \n",
      " 30  hhs_geo_region               11794 non-null  object \n",
      " 31  census_msa                   11794 non-null  object \n",
      " 32  household_adults             11794 non-null  float64\n",
      " 33  household_children           11794 non-null  float64\n",
      " 34  h1n1_vaccine                 11794 non-null  int64  \n",
      " 35  seasonal_vaccine             11794 non-null  int64  \n",
      "dtypes: float64(23), int64(3), object(10)\n",
      "memory usage: 3.3+ MB\n"
     ]
    },
    {
     "name": "stderr",
     "output_type": "stream",
     "text": [
      "C:\\Users\\Nick\\anaconda3\\envs\\learn-env\\lib\\site-packages\\pandas\\core\\frame.py:4163: SettingWithCopyWarning: \n",
      "A value is trying to be set on a copy of a slice from a DataFrame\n",
      "\n",
      "See the caveats in the documentation: https://pandas.pydata.org/pandas-docs/stable/user_guide/indexing.html#returning-a-view-versus-a-copy\n",
      "  return super().drop(\n",
      "<ipython-input-21-e3df79885ad7>:3: SettingWithCopyWarning: \n",
      "A value is trying to be set on a copy of a slice from a DataFrame\n",
      "\n",
      "See the caveats in the documentation: https://pandas.pydata.org/pandas-docs/stable/user_guide/indexing.html#returning-a-view-versus-a-copy\n",
      "  df_health.dropna(inplace=True)\n"
     ]
    }
   ],
   "source": [
    "df_health = df.dropna(subset=['health_insurance'])\n",
    "df_health.drop(['employment_industry', 'employment_occupation'], axis = 1, inplace=True)\n",
    "df_health.dropna(inplace=True)\n",
    "df_health.info()"
   ]
  },
  {
   "cell_type": "code",
   "execution_count": 56,
   "metadata": {},
   "outputs": [
    {
     "data": {
      "text/plain": [
       "((26707, 22), (26707, 3), (26707, 10))"
      ]
     },
     "execution_count": 56,
     "metadata": {},
     "output_type": "execute_result"
    }
   ],
   "source": [
    "df_float = df.loc[:,df.dtypes == 'float64']\n",
    "df_int = df.loc[:,df.dtypes == 'int64']\n",
    "df_object = df.loc[:,df.dtypes == 'object']\n",
    "df_float.shape, df_int.shape, df_object.shape"
   ]
  },
  {
   "cell_type": "code",
   "execution_count": 119,
   "metadata": {
    "scrolled": true
   },
   "outputs": [
    {
     "data": {
      "text/plain": [
       "Index(['h1n1_concern', 'h1n1_knowledge', 'behavioral_antiviral_meds',\n",
       "       'behavioral_avoidance', 'behavioral_face_mask', 'behavioral_wash_hands',\n",
       "       'behavioral_large_gatherings', 'behavioral_outside_home',\n",
       "       'behavioral_touch_face', 'doctor_recc_h1n1', 'doctor_recc_seasonal',\n",
       "       'chronic_med_condition', 'child_under_6_months', 'health_worker',\n",
       "       'opinion_h1n1_vacc_effective', 'opinion_h1n1_risk',\n",
       "       'opinion_h1n1_sick_from_vacc', 'opinion_seas_vacc_effective',\n",
       "       'opinion_seas_risk', 'opinion_seas_sick_from_vacc', 'household_adults',\n",
       "       'household_children', 'respondent_id', 'h1n1_vaccine',\n",
       "       'seasonal_vaccine'],\n",
       "      dtype='object')"
      ]
     },
     "execution_count": 119,
     "metadata": {},
     "output_type": "execute_result"
    }
   ],
   "source": [
    "df_numeric = pd.concat([df_float, df_int], axis = 1)\n",
    "df_numeric.columns"
   ]
  },
  {
   "cell_type": "code",
   "execution_count": 170,
   "metadata": {},
   "outputs": [],
   "source": [
    "top_feat_numeric = [x for x in df_numeric if x in top_feat_list]"
   ]
  },
  {
   "cell_type": "code",
   "execution_count": 158,
   "metadata": {},
   "outputs": [
    {
     "data": {
      "text/plain": [
       "Index(['age_group_35 - 44 Years', 'age_group_45 - 54 Years',\n",
       "       'age_group_55 - 64 Years', 'age_group_65+ Years',\n",
       "       'education_< 12 Years', 'education_College Graduate',\n",
       "       'education_Some College', 'race_Hispanic', 'race_Other or Multiple',\n",
       "       'race_White', 'sex_Male', 'income_poverty_> $75,000',\n",
       "       'income_poverty_Below Poverty', 'marital_status_Not Married',\n",
       "       'rent_or_own_Rent', 'employment_status_Not in Labor Force',\n",
       "       'employment_status_Unemployed', 'hhs_geo_region_bhuqouqj',\n",
       "       'hhs_geo_region_dqpwygqj', 'hhs_geo_region_fpwskwrf',\n",
       "       'hhs_geo_region_kbazzjca', 'hhs_geo_region_lrircsnp',\n",
       "       'hhs_geo_region_lzgpxyit', 'hhs_geo_region_mlyzmhmf',\n",
       "       'hhs_geo_region_oxchjgsf', 'hhs_geo_region_qufhixun',\n",
       "       'census_msa_MSA, Principle City', 'census_msa_Non-MSA'],\n",
       "      dtype='object')"
      ]
     },
     "execution_count": 158,
     "metadata": {},
     "output_type": "execute_result"
    }
   ],
   "source": [
    "df_cat_dummied = pd.get_dummies(df_object, drop_first=True).astype('int64')\n",
    "df_cat_dummied.columns"
   ]
  },
  {
   "cell_type": "code",
   "execution_count": 156,
   "metadata": {},
   "outputs": [],
   "source": [
    "df_final = pd.concat([df_numeric, df_cat_dummied], axis=1)\n",
    "df_top_feat=df_final[['h1n1_knowledge',\n",
    " 'opinion_seas_vacc_effective',\n",
    " 'rent_or_own_Rent',\n",
    " 'opinion_h1n1_sick_from_vacc',\n",
    " 'hhs_geo_region_lzgpxyit',\n",
    " 'behavioral_large_gatherings',\n",
    " 'health_worker',\n",
    " 'age_group_65+ Years',\n",
    " 'race_White',\n",
    " 'child_under_6_months',\n",
    " 'doctor_recc_h1n1',\n",
    " 'sex_Male',\n",
    " 'opinion_h1n1_risk',\n",
    " 'income_poverty_> $75,000',\n",
    " 'education_< 12 Years',\n",
    " 'sex_Female',\n",
    " 'marital_status_Married',\n",
    " 'opinion_seas_risk',\n",
    " 'employment_status_Employed',\n",
    " 'opinion_seas_sick_from_vacc',\n",
    " 'household_adults',\n",
    " 'chronic_med_condition',\n",
    " 'employment_status_Not in Labor Force',\n",
    " 'opinion_h1n1_vacc_effective',\n",
    " 'education_College Graduate',\n",
    " 'doctor_recc_seasonal',\n",
    " 'behavioral_touch_face',\n",
    " 'census_msa_MSA, Not Principle  City',\n",
    " 'household_children',\n",
    " 'h1n1_concern',\n",
    " 'income_poverty_<= $75,000, Above Poverty',\n",
    " 'age_group_55 - 64 Years',\n",
    " 'hhs_geo_region_bhuqouqj',\n",
    " 'marital_status_Not Married',\n",
    " 'seasonal_vaccine', 'h1n1_vaccine']]"
   ]
  },
  {
   "cell_type": "code",
   "execution_count": 165,
   "metadata": {},
   "outputs": [],
   "source": [
    "top_feat_list = ['h1n1_knowledge',\n",
    " 'opinion_seas_vacc_effective',\n",
    " 'rent_or_own_Rent',\n",
    " 'opinion_h1n1_sick_from_vacc',\n",
    " 'hhs_geo_region_lzgpxyit',\n",
    " 'behavioral_large_gatherings',\n",
    " 'health_worker',\n",
    " 'age_group_65+ Years',\n",
    " 'race_White',\n",
    " 'child_under_6_months',\n",
    " 'doctor_recc_h1n1',\n",
    " 'sex_Male',\n",
    " 'opinion_h1n1_risk',\n",
    " 'income_poverty_> $75,000',\n",
    " 'education_< 12 Years',\n",
    " 'sex_Female',\n",
    " 'marital_status_Married',\n",
    " 'opinion_seas_risk',\n",
    " 'employment_status_Employed',\n",
    " 'opinion_seas_sick_from_vacc',\n",
    " 'household_adults',\n",
    " 'chronic_med_condition',\n",
    " 'employment_status_Not in Labor Force',\n",
    " 'opinion_h1n1_vacc_effective',\n",
    " 'education_College Graduate',\n",
    " 'doctor_recc_seasonal',\n",
    " 'behavioral_touch_face',\n",
    " 'census_msa_MSA, Not Principle  City',\n",
    " 'household_children',\n",
    " 'h1n1_concern',\n",
    " 'income_poverty_<= $75,000, Above Poverty',\n",
    " 'age_group_55 - 64 Years',\n",
    " 'hhs_geo_region_bhuqouqj',\n",
    " 'marital_status_Not Married',\n",
    " 'seasonal_vaccine', 'h1n1_vaccine']"
   ]
  },
  {
   "cell_type": "code",
   "execution_count": 159,
   "metadata": {
    "scrolled": true
   },
   "outputs": [
    {
     "name": "stdout",
     "output_type": "stream",
     "text": [
      "<class 'pandas.core.frame.DataFrame'>\n",
      "RangeIndex: 26707 entries, 0 to 26706\n",
      "Data columns (total 63 columns):\n",
      " #   Column                                    Non-Null Count  Dtype  \n",
      "---  ------                                    --------------  -----  \n",
      " 0   h1n1_concern                              26615 non-null  float64\n",
      " 1   h1n1_knowledge                            26591 non-null  float64\n",
      " 2   behavioral_antiviral_meds                 26636 non-null  float64\n",
      " 3   behavioral_avoidance                      26499 non-null  float64\n",
      " 4   behavioral_face_mask                      26688 non-null  float64\n",
      " 5   behavioral_wash_hands                     26665 non-null  float64\n",
      " 6   behavioral_large_gatherings               26620 non-null  float64\n",
      " 7   behavioral_outside_home                   26625 non-null  float64\n",
      " 8   behavioral_touch_face                     26579 non-null  float64\n",
      " 9   doctor_recc_h1n1                          24547 non-null  float64\n",
      " 10  doctor_recc_seasonal                      24547 non-null  float64\n",
      " 11  chronic_med_condition                     25736 non-null  float64\n",
      " 12  child_under_6_months                      25887 non-null  float64\n",
      " 13  health_worker                             25903 non-null  float64\n",
      " 14  opinion_h1n1_vacc_effective               26316 non-null  float64\n",
      " 15  opinion_h1n1_risk                         26319 non-null  float64\n",
      " 16  opinion_h1n1_sick_from_vacc               26312 non-null  float64\n",
      " 17  opinion_seas_vacc_effective               26245 non-null  float64\n",
      " 18  opinion_seas_risk                         26193 non-null  float64\n",
      " 19  opinion_seas_sick_from_vacc               26170 non-null  float64\n",
      " 20  household_adults                          26458 non-null  float64\n",
      " 21  household_children                        26458 non-null  float64\n",
      " 22  respondent_id                             26707 non-null  int64  \n",
      " 23  h1n1_vaccine                              26707 non-null  int64  \n",
      " 24  seasonal_vaccine                          26707 non-null  int64  \n",
      " 25  age_group_18 - 34 Years                   26707 non-null  int64  \n",
      " 26  age_group_35 - 44 Years                   26707 non-null  int64  \n",
      " 27  age_group_45 - 54 Years                   26707 non-null  int64  \n",
      " 28  age_group_55 - 64 Years                   26707 non-null  int64  \n",
      " 29  age_group_65+ Years                       26707 non-null  int64  \n",
      " 30  education_12 Years                        26707 non-null  int64  \n",
      " 31  education_< 12 Years                      26707 non-null  int64  \n",
      " 32  education_College Graduate                26707 non-null  int64  \n",
      " 33  education_Some College                    26707 non-null  int64  \n",
      " 34  race_Black                                26707 non-null  int64  \n",
      " 35  race_Hispanic                             26707 non-null  int64  \n",
      " 36  race_Other or Multiple                    26707 non-null  int64  \n",
      " 37  race_White                                26707 non-null  int64  \n",
      " 38  sex_Female                                26707 non-null  int64  \n",
      " 39  sex_Male                                  26707 non-null  int64  \n",
      " 40  income_poverty_<= $75,000, Above Poverty  26707 non-null  int64  \n",
      " 41  income_poverty_> $75,000                  26707 non-null  int64  \n",
      " 42  income_poverty_Below Poverty              26707 non-null  int64  \n",
      " 43  marital_status_Married                    26707 non-null  int64  \n",
      " 44  marital_status_Not Married                26707 non-null  int64  \n",
      " 45  rent_or_own_Own                           26707 non-null  int64  \n",
      " 46  rent_or_own_Rent                          26707 non-null  int64  \n",
      " 47  employment_status_Employed                26707 non-null  int64  \n",
      " 48  employment_status_Not in Labor Force      26707 non-null  int64  \n",
      " 49  employment_status_Unemployed              26707 non-null  int64  \n",
      " 50  hhs_geo_region_atmpeygn                   26707 non-null  int64  \n",
      " 51  hhs_geo_region_bhuqouqj                   26707 non-null  int64  \n",
      " 52  hhs_geo_region_dqpwygqj                   26707 non-null  int64  \n",
      " 53  hhs_geo_region_fpwskwrf                   26707 non-null  int64  \n",
      " 54  hhs_geo_region_kbazzjca                   26707 non-null  int64  \n",
      " 55  hhs_geo_region_lrircsnp                   26707 non-null  int64  \n",
      " 56  hhs_geo_region_lzgpxyit                   26707 non-null  int64  \n",
      " 57  hhs_geo_region_mlyzmhmf                   26707 non-null  int64  \n",
      " 58  hhs_geo_region_oxchjgsf                   26707 non-null  int64  \n",
      " 59  hhs_geo_region_qufhixun                   26707 non-null  int64  \n",
      " 60  census_msa_MSA, Not Principle  City       26707 non-null  int64  \n",
      " 61  census_msa_MSA, Principle City            26707 non-null  int64  \n",
      " 62  census_msa_Non-MSA                        26707 non-null  int64  \n",
      "dtypes: float64(22), int64(41)\n",
      "memory usage: 12.8 MB\n"
     ]
    }
   ],
   "source": [
    "df_final.info()"
   ]
  },
  {
   "cell_type": "code",
   "execution_count": 160,
   "metadata": {
    "scrolled": true
   },
   "outputs": [
    {
     "name": "stdout",
     "output_type": "stream",
     "text": [
      "<class 'pandas.core.frame.DataFrame'>\n",
      "Int64Index: 23227 entries, 0 to 26706\n",
      "Data columns (total 36 columns):\n",
      " #   Column                                    Non-Null Count  Dtype  \n",
      "---  ------                                    --------------  -----  \n",
      " 0   h1n1_knowledge                            23227 non-null  float64\n",
      " 1   opinion_seas_vacc_effective               23227 non-null  float64\n",
      " 2   rent_or_own_Rent                          23227 non-null  int64  \n",
      " 3   opinion_h1n1_sick_from_vacc               23227 non-null  float64\n",
      " 4   hhs_geo_region_lzgpxyit                   23227 non-null  int64  \n",
      " 5   behavioral_large_gatherings               23227 non-null  float64\n",
      " 6   health_worker                             23227 non-null  float64\n",
      " 7   age_group_65+ Years                       23227 non-null  int64  \n",
      " 8   race_White                                23227 non-null  int64  \n",
      " 9   child_under_6_months                      23227 non-null  float64\n",
      " 10  doctor_recc_h1n1                          23227 non-null  float64\n",
      " 11  sex_Male                                  23227 non-null  int64  \n",
      " 12  opinion_h1n1_risk                         23227 non-null  float64\n",
      " 13  income_poverty_> $75,000                  23227 non-null  int64  \n",
      " 14  education_< 12 Years                      23227 non-null  int64  \n",
      " 15  sex_Female                                23227 non-null  int64  \n",
      " 16  marital_status_Married                    23227 non-null  int64  \n",
      " 17  opinion_seas_risk                         23227 non-null  float64\n",
      " 18  employment_status_Employed                23227 non-null  int64  \n",
      " 19  opinion_seas_sick_from_vacc               23227 non-null  float64\n",
      " 20  household_adults                          23227 non-null  float64\n",
      " 21  chronic_med_condition                     23227 non-null  float64\n",
      " 22  employment_status_Not in Labor Force      23227 non-null  int64  \n",
      " 23  opinion_h1n1_vacc_effective               23227 non-null  float64\n",
      " 24  education_College Graduate                23227 non-null  int64  \n",
      " 25  doctor_recc_seasonal                      23227 non-null  float64\n",
      " 26  behavioral_touch_face                     23227 non-null  float64\n",
      " 27  census_msa_MSA, Not Principle  City       23227 non-null  int64  \n",
      " 28  household_children                        23227 non-null  float64\n",
      " 29  h1n1_concern                              23227 non-null  float64\n",
      " 30  income_poverty_<= $75,000, Above Poverty  23227 non-null  int64  \n",
      " 31  age_group_55 - 64 Years                   23227 non-null  int64  \n",
      " 32  hhs_geo_region_bhuqouqj                   23227 non-null  int64  \n",
      " 33  marital_status_Not Married                23227 non-null  int64  \n",
      " 34  seasonal_vaccine                          23227 non-null  int64  \n",
      " 35  h1n1_vaccine                              23227 non-null  int64  \n",
      "dtypes: float64(17), int64(19)\n",
      "memory usage: 6.6 MB\n"
     ]
    }
   ],
   "source": [
    "df_final = df_final.dropna()\n",
    "df_top_feat = df_top_feat.dropna()\n",
    "df_top_feat.info()"
   ]
  },
  {
   "cell_type": "code",
   "execution_count": 151,
   "metadata": {
    "scrolled": true
   },
   "outputs": [
    {
     "data": {
      "text/html": [
       "<div>\n",
       "<style scoped>\n",
       "    .dataframe tbody tr th:only-of-type {\n",
       "        vertical-align: middle;\n",
       "    }\n",
       "\n",
       "    .dataframe tbody tr th {\n",
       "        vertical-align: top;\n",
       "    }\n",
       "\n",
       "    .dataframe thead th {\n",
       "        text-align: right;\n",
       "    }\n",
       "</style>\n",
       "<table border=\"1\" class=\"dataframe\">\n",
       "  <thead>\n",
       "    <tr style=\"text-align: right;\">\n",
       "      <th></th>\n",
       "      <th>h1n1_knowledge</th>\n",
       "      <th>opinion_seas_vacc_effective</th>\n",
       "      <th>rent_or_own_Rent</th>\n",
       "      <th>opinion_h1n1_sick_from_vacc</th>\n",
       "      <th>hhs_geo_region_lzgpxyit</th>\n",
       "      <th>behavioral_large_gatherings</th>\n",
       "      <th>health_worker</th>\n",
       "      <th>age_group_65+ Years</th>\n",
       "      <th>race_White</th>\n",
       "      <th>child_under_6_months</th>\n",
       "      <th>...</th>\n",
       "      <th>doctor_recc_seasonal</th>\n",
       "      <th>behavioral_touch_face</th>\n",
       "      <th>census_msa_MSA, Not Principle  City</th>\n",
       "      <th>household_children</th>\n",
       "      <th>h1n1_concern</th>\n",
       "      <th>income_poverty_&lt;= $75,000, Above Poverty</th>\n",
       "      <th>age_group_55 - 64 Years</th>\n",
       "      <th>hhs_geo_region_bhuqouqj</th>\n",
       "      <th>marital_status_Not Married</th>\n",
       "      <th>seasonal_vaccine</th>\n",
       "    </tr>\n",
       "  </thead>\n",
       "  <tbody>\n",
       "    <tr>\n",
       "      <th>0</th>\n",
       "      <td>0.0</td>\n",
       "      <td>2.0</td>\n",
       "      <td>0</td>\n",
       "      <td>2.0</td>\n",
       "      <td>0</td>\n",
       "      <td>0.0</td>\n",
       "      <td>0.0</td>\n",
       "      <td>0</td>\n",
       "      <td>1</td>\n",
       "      <td>0.0</td>\n",
       "      <td>...</td>\n",
       "      <td>0.0</td>\n",
       "      <td>1.0</td>\n",
       "      <td>0</td>\n",
       "      <td>0.0</td>\n",
       "      <td>1.0</td>\n",
       "      <td>0</td>\n",
       "      <td>1</td>\n",
       "      <td>0</td>\n",
       "      <td>1</td>\n",
       "      <td>0</td>\n",
       "    </tr>\n",
       "    <tr>\n",
       "      <th>1</th>\n",
       "      <td>2.0</td>\n",
       "      <td>4.0</td>\n",
       "      <td>1</td>\n",
       "      <td>4.0</td>\n",
       "      <td>0</td>\n",
       "      <td>0.0</td>\n",
       "      <td>0.0</td>\n",
       "      <td>0</td>\n",
       "      <td>1</td>\n",
       "      <td>0.0</td>\n",
       "      <td>...</td>\n",
       "      <td>0.0</td>\n",
       "      <td>1.0</td>\n",
       "      <td>1</td>\n",
       "      <td>0.0</td>\n",
       "      <td>3.0</td>\n",
       "      <td>0</td>\n",
       "      <td>0</td>\n",
       "      <td>1</td>\n",
       "      <td>1</td>\n",
       "      <td>1</td>\n",
       "    </tr>\n",
       "    <tr>\n",
       "      <th>3</th>\n",
       "      <td>1.0</td>\n",
       "      <td>5.0</td>\n",
       "      <td>1</td>\n",
       "      <td>5.0</td>\n",
       "      <td>0</td>\n",
       "      <td>1.0</td>\n",
       "      <td>0.0</td>\n",
       "      <td>1</td>\n",
       "      <td>1</td>\n",
       "      <td>0.0</td>\n",
       "      <td>...</td>\n",
       "      <td>1.0</td>\n",
       "      <td>0.0</td>\n",
       "      <td>0</td>\n",
       "      <td>0.0</td>\n",
       "      <td>1.0</td>\n",
       "      <td>0</td>\n",
       "      <td>0</td>\n",
       "      <td>0</td>\n",
       "      <td>1</td>\n",
       "      <td>1</td>\n",
       "    </tr>\n",
       "    <tr>\n",
       "      <th>4</th>\n",
       "      <td>1.0</td>\n",
       "      <td>3.0</td>\n",
       "      <td>0</td>\n",
       "      <td>2.0</td>\n",
       "      <td>0</td>\n",
       "      <td>1.0</td>\n",
       "      <td>0.0</td>\n",
       "      <td>0</td>\n",
       "      <td>1</td>\n",
       "      <td>0.0</td>\n",
       "      <td>...</td>\n",
       "      <td>0.0</td>\n",
       "      <td>1.0</td>\n",
       "      <td>1</td>\n",
       "      <td>0.0</td>\n",
       "      <td>2.0</td>\n",
       "      <td>1</td>\n",
       "      <td>0</td>\n",
       "      <td>0</td>\n",
       "      <td>0</td>\n",
       "      <td>0</td>\n",
       "    </tr>\n",
       "    <tr>\n",
       "      <th>5</th>\n",
       "      <td>1.0</td>\n",
       "      <td>5.0</td>\n",
       "      <td>0</td>\n",
       "      <td>1.0</td>\n",
       "      <td>0</td>\n",
       "      <td>0.0</td>\n",
       "      <td>0.0</td>\n",
       "      <td>1</td>\n",
       "      <td>1</td>\n",
       "      <td>0.0</td>\n",
       "      <td>...</td>\n",
       "      <td>1.0</td>\n",
       "      <td>1.0</td>\n",
       "      <td>0</td>\n",
       "      <td>3.0</td>\n",
       "      <td>3.0</td>\n",
       "      <td>1</td>\n",
       "      <td>0</td>\n",
       "      <td>0</td>\n",
       "      <td>0</td>\n",
       "      <td>0</td>\n",
       "    </tr>\n",
       "    <tr>\n",
       "      <th>...</th>\n",
       "      <td>...</td>\n",
       "      <td>...</td>\n",
       "      <td>...</td>\n",
       "      <td>...</td>\n",
       "      <td>...</td>\n",
       "      <td>...</td>\n",
       "      <td>...</td>\n",
       "      <td>...</td>\n",
       "      <td>...</td>\n",
       "      <td>...</td>\n",
       "      <td>...</td>\n",
       "      <td>...</td>\n",
       "      <td>...</td>\n",
       "      <td>...</td>\n",
       "      <td>...</td>\n",
       "      <td>...</td>\n",
       "      <td>...</td>\n",
       "      <td>...</td>\n",
       "      <td>...</td>\n",
       "      <td>...</td>\n",
       "      <td>...</td>\n",
       "    </tr>\n",
       "    <tr>\n",
       "      <th>26701</th>\n",
       "      <td>2.0</td>\n",
       "      <td>4.0</td>\n",
       "      <td>1</td>\n",
       "      <td>4.0</td>\n",
       "      <td>0</td>\n",
       "      <td>0.0</td>\n",
       "      <td>0.0</td>\n",
       "      <td>0</td>\n",
       "      <td>1</td>\n",
       "      <td>1.0</td>\n",
       "      <td>...</td>\n",
       "      <td>0.0</td>\n",
       "      <td>1.0</td>\n",
       "      <td>0</td>\n",
       "      <td>0.0</td>\n",
       "      <td>2.0</td>\n",
       "      <td>0</td>\n",
       "      <td>0</td>\n",
       "      <td>0</td>\n",
       "      <td>1</td>\n",
       "      <td>0</td>\n",
       "    </tr>\n",
       "    <tr>\n",
       "      <th>26702</th>\n",
       "      <td>0.0</td>\n",
       "      <td>5.0</td>\n",
       "      <td>0</td>\n",
       "      <td>1.0</td>\n",
       "      <td>0</td>\n",
       "      <td>0.0</td>\n",
       "      <td>0.0</td>\n",
       "      <td>1</td>\n",
       "      <td>1</td>\n",
       "      <td>0.0</td>\n",
       "      <td>...</td>\n",
       "      <td>0.0</td>\n",
       "      <td>0.0</td>\n",
       "      <td>0</td>\n",
       "      <td>0.0</td>\n",
       "      <td>2.0</td>\n",
       "      <td>1</td>\n",
       "      <td>0</td>\n",
       "      <td>0</td>\n",
       "      <td>1</td>\n",
       "      <td>0</td>\n",
       "    </tr>\n",
       "    <tr>\n",
       "      <th>26703</th>\n",
       "      <td>2.0</td>\n",
       "      <td>5.0</td>\n",
       "      <td>1</td>\n",
       "      <td>2.0</td>\n",
       "      <td>1</td>\n",
       "      <td>0.0</td>\n",
       "      <td>1.0</td>\n",
       "      <td>0</td>\n",
       "      <td>1</td>\n",
       "      <td>0.0</td>\n",
       "      <td>...</td>\n",
       "      <td>1.0</td>\n",
       "      <td>0.0</td>\n",
       "      <td>0</td>\n",
       "      <td>0.0</td>\n",
       "      <td>1.0</td>\n",
       "      <td>1</td>\n",
       "      <td>0</td>\n",
       "      <td>0</td>\n",
       "      <td>1</td>\n",
       "      <td>0</td>\n",
       "    </tr>\n",
       "    <tr>\n",
       "      <th>26704</th>\n",
       "      <td>2.0</td>\n",
       "      <td>5.0</td>\n",
       "      <td>0</td>\n",
       "      <td>2.0</td>\n",
       "      <td>1</td>\n",
       "      <td>1.0</td>\n",
       "      <td>0.0</td>\n",
       "      <td>0</td>\n",
       "      <td>1</td>\n",
       "      <td>0.0</td>\n",
       "      <td>...</td>\n",
       "      <td>0.0</td>\n",
       "      <td>1.0</td>\n",
       "      <td>1</td>\n",
       "      <td>0.0</td>\n",
       "      <td>2.0</td>\n",
       "      <td>0</td>\n",
       "      <td>1</td>\n",
       "      <td>0</td>\n",
       "      <td>1</td>\n",
       "      <td>1</td>\n",
       "    </tr>\n",
       "    <tr>\n",
       "      <th>26706</th>\n",
       "      <td>0.0</td>\n",
       "      <td>5.0</td>\n",
       "      <td>0</td>\n",
       "      <td>1.0</td>\n",
       "      <td>0</td>\n",
       "      <td>0.0</td>\n",
       "      <td>0.0</td>\n",
       "      <td>1</td>\n",
       "      <td>1</td>\n",
       "      <td>0.0</td>\n",
       "      <td>...</td>\n",
       "      <td>0.0</td>\n",
       "      <td>0.0</td>\n",
       "      <td>0</td>\n",
       "      <td>0.0</td>\n",
       "      <td>0.0</td>\n",
       "      <td>1</td>\n",
       "      <td>0</td>\n",
       "      <td>0</td>\n",
       "      <td>0</td>\n",
       "      <td>0</td>\n",
       "    </tr>\n",
       "  </tbody>\n",
       "</table>\n",
       "<p>23227 rows × 35 columns</p>\n",
       "</div>"
      ],
      "text/plain": [
       "       h1n1_knowledge  opinion_seas_vacc_effective  rent_or_own_Rent  \\\n",
       "0                 0.0                          2.0                 0   \n",
       "1                 2.0                          4.0                 1   \n",
       "3                 1.0                          5.0                 1   \n",
       "4                 1.0                          3.0                 0   \n",
       "5                 1.0                          5.0                 0   \n",
       "...               ...                          ...               ...   \n",
       "26701             2.0                          4.0                 1   \n",
       "26702             0.0                          5.0                 0   \n",
       "26703             2.0                          5.0                 1   \n",
       "26704             2.0                          5.0                 0   \n",
       "26706             0.0                          5.0                 0   \n",
       "\n",
       "       opinion_h1n1_sick_from_vacc  hhs_geo_region_lzgpxyit  \\\n",
       "0                              2.0                        0   \n",
       "1                              4.0                        0   \n",
       "3                              5.0                        0   \n",
       "4                              2.0                        0   \n",
       "5                              1.0                        0   \n",
       "...                            ...                      ...   \n",
       "26701                          4.0                        0   \n",
       "26702                          1.0                        0   \n",
       "26703                          2.0                        1   \n",
       "26704                          2.0                        1   \n",
       "26706                          1.0                        0   \n",
       "\n",
       "       behavioral_large_gatherings  health_worker  age_group_65+ Years  \\\n",
       "0                              0.0            0.0                    0   \n",
       "1                              0.0            0.0                    0   \n",
       "3                              1.0            0.0                    1   \n",
       "4                              1.0            0.0                    0   \n",
       "5                              0.0            0.0                    1   \n",
       "...                            ...            ...                  ...   \n",
       "26701                          0.0            0.0                    0   \n",
       "26702                          0.0            0.0                    1   \n",
       "26703                          0.0            1.0                    0   \n",
       "26704                          1.0            0.0                    0   \n",
       "26706                          0.0            0.0                    1   \n",
       "\n",
       "       race_White  child_under_6_months  ...  doctor_recc_seasonal  \\\n",
       "0               1                   0.0  ...                   0.0   \n",
       "1               1                   0.0  ...                   0.0   \n",
       "3               1                   0.0  ...                   1.0   \n",
       "4               1                   0.0  ...                   0.0   \n",
       "5               1                   0.0  ...                   1.0   \n",
       "...           ...                   ...  ...                   ...   \n",
       "26701           1                   1.0  ...                   0.0   \n",
       "26702           1                   0.0  ...                   0.0   \n",
       "26703           1                   0.0  ...                   1.0   \n",
       "26704           1                   0.0  ...                   0.0   \n",
       "26706           1                   0.0  ...                   0.0   \n",
       "\n",
       "       behavioral_touch_face  census_msa_MSA, Not Principle  City  \\\n",
       "0                        1.0                                    0   \n",
       "1                        1.0                                    1   \n",
       "3                        0.0                                    0   \n",
       "4                        1.0                                    1   \n",
       "5                        1.0                                    0   \n",
       "...                      ...                                  ...   \n",
       "26701                    1.0                                    0   \n",
       "26702                    0.0                                    0   \n",
       "26703                    0.0                                    0   \n",
       "26704                    1.0                                    1   \n",
       "26706                    0.0                                    0   \n",
       "\n",
       "       household_children  h1n1_concern  \\\n",
       "0                     0.0           1.0   \n",
       "1                     0.0           3.0   \n",
       "3                     0.0           1.0   \n",
       "4                     0.0           2.0   \n",
       "5                     3.0           3.0   \n",
       "...                   ...           ...   \n",
       "26701                 0.0           2.0   \n",
       "26702                 0.0           2.0   \n",
       "26703                 0.0           1.0   \n",
       "26704                 0.0           2.0   \n",
       "26706                 0.0           0.0   \n",
       "\n",
       "       income_poverty_<= $75,000, Above Poverty  age_group_55 - 64 Years  \\\n",
       "0                                             0                        1   \n",
       "1                                             0                        0   \n",
       "3                                             0                        0   \n",
       "4                                             1                        0   \n",
       "5                                             1                        0   \n",
       "...                                         ...                      ...   \n",
       "26701                                         0                        0   \n",
       "26702                                         1                        0   \n",
       "26703                                         1                        0   \n",
       "26704                                         0                        1   \n",
       "26706                                         1                        0   \n",
       "\n",
       "       hhs_geo_region_bhuqouqj  marital_status_Not Married  seasonal_vaccine  \n",
       "0                            0                           1                 0  \n",
       "1                            1                           1                 1  \n",
       "3                            0                           1                 1  \n",
       "4                            0                           0                 0  \n",
       "5                            0                           0                 0  \n",
       "...                        ...                         ...               ...  \n",
       "26701                        0                           1                 0  \n",
       "26702                        0                           1                 0  \n",
       "26703                        0                           1                 0  \n",
       "26704                        0                           1                 1  \n",
       "26706                        0                           0                 0  \n",
       "\n",
       "[23227 rows x 35 columns]"
      ]
     },
     "execution_count": 151,
     "metadata": {},
     "output_type": "execute_result"
    }
   ],
   "source": [
    "df_top_feat"
   ]
  },
  {
   "cell_type": "code",
   "execution_count": 136,
   "metadata": {},
   "outputs": [],
   "source": [
    "cat_preprocessing = Pipeline([\n",
    "    (\"ohe\", OneHotEncoder(categories=\"auto\", handle_unknown=\"ignore\"))\n",
    "])\n",
    "\n",
    "numeric_preprocessing =   Pipeline([\n",
    "    ('standard_scaler', StandardScaler())\n",
    "])\n",
    "\n",
    "numeric_prep_top "
   ]
  },
  {
   "cell_type": "code",
   "execution_count": 178,
   "metadata": {},
   "outputs": [],
   "source": [
    "preprocessor = ColumnTransformer(\n",
    "    transformers=[\n",
    "        (\"num\", numeric_preprocessing, top_feat_numeric),\n",
    "    ], remainder='passthrough'\n",
    ")\n",
    "preprocessor_top = ColumnTransformer(\n",
    "    transformers=[\n",
    "        (\"num\", numeric_preprocessing, top_feat_numeric),\n",
    "    ], remainder='passthrough'\n",
    ")"
   ]
  },
  {
   "cell_type": "code",
   "execution_count": 113,
   "metadata": {
    "collapsed": true
   },
   "outputs": [
    {
     "data": {
      "text/plain": [
       "['h1n1_concern',\n",
       " 'h1n1_knowledge',\n",
       " 'behavioral_antiviral_meds',\n",
       " 'behavioral_avoidance',\n",
       " 'behavioral_face_mask',\n",
       " 'behavioral_wash_hands',\n",
       " 'behavioral_large_gatherings',\n",
       " 'behavioral_outside_home',\n",
       " 'behavioral_touch_face',\n",
       " 'doctor_recc_h1n1',\n",
       " 'doctor_recc_seasonal',\n",
       " 'chronic_med_condition',\n",
       " 'child_under_6_months',\n",
       " 'health_worker',\n",
       " 'opinion_h1n1_vacc_effective',\n",
       " 'opinion_h1n1_risk',\n",
       " 'opinion_h1n1_sick_from_vacc',\n",
       " 'opinion_seas_vacc_effective',\n",
       " 'opinion_seas_risk',\n",
       " 'opinion_seas_sick_from_vacc',\n",
       " 'household_adults',\n",
       " 'household_children',\n",
       " 'respondent_id',\n",
       " 'h1n1_vaccine',\n",
       " 'seasonal_vaccine',\n",
       " 'age_group_18 - 34 Years',\n",
       " 'age_group_35 - 44 Years',\n",
       " 'age_group_45 - 54 Years',\n",
       " 'age_group_55 - 64 Years',\n",
       " 'age_group_65+ Years',\n",
       " 'education_12 Years',\n",
       " 'education_< 12 Years',\n",
       " 'education_College Graduate',\n",
       " 'education_Some College',\n",
       " 'race_Black',\n",
       " 'race_Hispanic',\n",
       " 'race_Other or Multiple',\n",
       " 'race_White',\n",
       " 'sex_Female',\n",
       " 'sex_Male',\n",
       " 'income_poverty_<= $75,000, Above Poverty',\n",
       " 'income_poverty_> $75,000',\n",
       " 'income_poverty_Below Poverty',\n",
       " 'marital_status_Married',\n",
       " 'marital_status_Not Married',\n",
       " 'rent_or_own_Own',\n",
       " 'rent_or_own_Rent',\n",
       " 'employment_status_Employed',\n",
       " 'employment_status_Not in Labor Force',\n",
       " 'employment_status_Unemployed',\n",
       " 'hhs_geo_region_atmpeygn',\n",
       " 'hhs_geo_region_bhuqouqj',\n",
       " 'hhs_geo_region_dqpwygqj',\n",
       " 'hhs_geo_region_fpwskwrf',\n",
       " 'hhs_geo_region_kbazzjca',\n",
       " 'hhs_geo_region_lrircsnp',\n",
       " 'hhs_geo_region_lzgpxyit',\n",
       " 'hhs_geo_region_mlyzmhmf',\n",
       " 'hhs_geo_region_oxchjgsf',\n",
       " 'hhs_geo_region_qufhixun',\n",
       " 'census_msa_MSA, Not Principle  City',\n",
       " 'census_msa_MSA, Principle City',\n",
       " 'census_msa_Non-MSA']"
      ]
     },
     "execution_count": 113,
     "metadata": {},
     "output_type": "execute_result"
    }
   ],
   "source": [
    "ohe = OneHotEncoder()\n",
    "ohe.fit(X_train[df_object.columns])\n",
    "ohe.get_feature_names(df_object.columns)\n",
    "feature_names = list(df_numeric.columns)+ list(ohe.get_feature_names(df_object.columns))\n",
    "feature_names"
   ]
  },
  {
   "cell_type": "code",
   "execution_count": null,
   "metadata": {},
   "outputs": [],
   "source": [
    "\n",
    "    "
   ]
  },
  {
   "cell_type": "code",
   "execution_count": 138,
   "metadata": {},
   "outputs": [],
   "source": [
    "X=df_final.drop(columns=['respondent_id', 'h1n1_vaccine'])\n",
    "y=df_final['h1n1_vaccine']\n",
    "X_train, X_test, y_train, y_test = train_test_split(X, y, random_state=42)"
   ]
  },
  {
   "cell_type": "code",
   "execution_count": 85,
   "metadata": {},
   "outputs": [],
   "source": [
    "X_h = df_health.drop(columns=['respondent_id', 'h1n1_vaccine'])\n",
    "y_h = df_health['h1n1_vaccine']\n",
    "X_h_train, X_h_test, y_h_train, y_h_test = train_test_split(X_h, y_h, random_state=42)"
   ]
  },
  {
   "cell_type": "code",
   "execution_count": 139,
   "metadata": {
    "scrolled": true
   },
   "outputs": [],
   "source": [
    "X_trans = preprocessor.fit_transform(X_train)"
   ]
  },
  {
   "cell_type": "code",
   "execution_count": 144,
   "metadata": {},
   "outputs": [],
   "source": [
    "pipe = Pipeline([\n",
    "    (\"preprocessing\", preprocessor),\n",
    "    ('logreg', LogisticRegression(C=5, solver='sag', max_iter=1000, random_state=69))\n",
    "])"
   ]
  },
  {
   "cell_type": "code",
   "execution_count": 145,
   "metadata": {},
   "outputs": [
    {
     "data": {
      "text/plain": [
       "0.8537604456824512"
      ]
     },
     "execution_count": 145,
     "metadata": {},
     "output_type": "execute_result"
    }
   ],
   "source": [
    "pipe.fit(X_train, y_train)\n",
    "pipe.score(X_test, y_test)"
   ]
  },
  {
   "cell_type": "code",
   "execution_count": 146,
   "metadata": {},
   "outputs": [
    {
     "data": {
      "text/plain": [
       "array([0.845953  , 0.85813751, 0.84943429, 0.84073107, 0.85801394])"
      ]
     },
     "execution_count": 146,
     "metadata": {},
     "output_type": "execute_result"
    }
   ],
   "source": [
    "cross_val_score(pipe, X_test, y_test)"
   ]
  },
  {
   "cell_type": "code",
   "execution_count": 106,
   "metadata": {
    "collapsed": true
   },
   "outputs": [
    {
     "data": {
      "text/plain": [
       "['h1n1_concern',\n",
       " 'h1n1_knowledge',\n",
       " 'behavioral_antiviral_meds',\n",
       " 'behavioral_avoidance',\n",
       " 'behavioral_face_mask',\n",
       " 'behavioral_wash_hands',\n",
       " 'behavioral_large_gatherings',\n",
       " 'behavioral_outside_home',\n",
       " 'behavioral_touch_face',\n",
       " 'doctor_recc_h1n1',\n",
       " 'doctor_recc_seasonal',\n",
       " 'chronic_med_condition',\n",
       " 'child_under_6_months',\n",
       " 'health_worker',\n",
       " 'opinion_h1n1_vacc_effective',\n",
       " 'opinion_h1n1_risk',\n",
       " 'opinion_h1n1_sick_from_vacc',\n",
       " 'opinion_seas_vacc_effective',\n",
       " 'opinion_seas_risk',\n",
       " 'opinion_seas_sick_from_vacc',\n",
       " 'age_group',\n",
       " 'education',\n",
       " 'race',\n",
       " 'sex',\n",
       " 'income_poverty',\n",
       " 'marital_status',\n",
       " 'rent_or_own',\n",
       " 'employment_status',\n",
       " 'hhs_geo_region',\n",
       " 'census_msa',\n",
       " 'household_adults',\n",
       " 'household_children',\n",
       " 'seasonal_vaccine']"
      ]
     },
     "execution_count": 106,
     "metadata": {},
     "output_type": "execute_result"
    }
   ],
   "source": [
    "list(X_train.columns)"
   ]
  },
  {
   "cell_type": "code",
   "execution_count": 179,
   "metadata": {},
   "outputs": [],
   "source": [
    "X_top = df_top_feat.drop('h1n1_vaccine', axis=1)\n",
    "y_top = df_top_feat['h1n1_vaccine']\n",
    "\n",
    "X_train_top, X_test_top, y_train_top, y_test_top = train_test_split(X_top, y_top, random_state=42)"
   ]
  },
  {
   "cell_type": "code",
   "execution_count": 180,
   "metadata": {},
   "outputs": [],
   "source": [
    "pipe2 = Pipeline([\n",
    "    (\"preprocessing\", preprocessor_top),\n",
    "    ('logreg', LogisticRegression(C=5, solver='sag', max_iter=1000, random_state=69))\n",
    "])"
   ]
  },
  {
   "cell_type": "code",
   "execution_count": 181,
   "metadata": {},
   "outputs": [
    {
     "data": {
      "text/plain": [
       "Pipeline(steps=[('preprocessing',\n",
       "                 ColumnTransformer(remainder='passthrough',\n",
       "                                   transformers=[('num',\n",
       "                                                  Pipeline(steps=[('standard_scaler',\n",
       "                                                                   StandardScaler())]),\n",
       "                                                  ['h1n1_concern',\n",
       "                                                   'h1n1_knowledge',\n",
       "                                                   'behavioral_large_gatherings',\n",
       "                                                   'behavioral_touch_face',\n",
       "                                                   'doctor_recc_h1n1',\n",
       "                                                   'doctor_recc_seasonal',\n",
       "                                                   'chronic_med_condition',\n",
       "                                                   'child_under_6_months',\n",
       "                                                   'health_worker',\n",
       "                                                   'opinion_h1n1_vacc_effective',\n",
       "                                                   'opinion_h1n1_risk',\n",
       "                                                   'opinion_h1n1_sick_from_vacc',\n",
       "                                                   'opinion_seas_vacc_effective',\n",
       "                                                   'opinion_seas_risk',\n",
       "                                                   'opinion_seas_sick_from_vacc',\n",
       "                                                   'household_adults',\n",
       "                                                   'household_children',\n",
       "                                                   'seasonal_vaccine'])])),\n",
       "                ('logreg',\n",
       "                 LogisticRegression(C=5, max_iter=1000, random_state=69,\n",
       "                                    solver='sag'))])"
      ]
     },
     "execution_count": 181,
     "metadata": {},
     "output_type": "execute_result"
    }
   ],
   "source": [
    "pipe2.fit(X_train_top, y_train_top)"
   ]
  },
  {
   "cell_type": "code",
   "execution_count": 183,
   "metadata": {},
   "outputs": [
    {
     "data": {
      "text/plain": [
       "0.8450146375064578"
      ]
     },
     "execution_count": 183,
     "metadata": {},
     "output_type": "execute_result"
    }
   ],
   "source": [
    "pipe2.score(X_test_top, y_test_top)"
   ]
  },
  {
   "cell_type": "code",
   "execution_count": 190,
   "metadata": {},
   "outputs": [
    {
     "data": {
      "text/plain": [
       "array([0.725     , 0.70833333, 0.69832402, 0.67204301, 0.66502463])"
      ]
     },
     "execution_count": 190,
     "metadata": {},
     "output_type": "execute_result"
    }
   ],
   "source": [
    "cross_val_score(pipe2, X_test_top, y_test_top, scoring='precision')"
   ]
  },
  {
   "cell_type": "code",
   "execution_count": 189,
   "metadata": {},
   "outputs": [
    {
     "data": {
      "text/plain": [
       "array([0.70243902, 0.74871795, 0.70046083, 0.68599034, 0.73429952])"
      ]
     },
     "execution_count": 189,
     "metadata": {},
     "output_type": "execute_result"
    }
   ],
   "source": [
    "cross_val_score(pipe, X_test, y_test, scoring='precision')"
   ]
  },
  {
   "cell_type": "code",
   "execution_count": 200,
   "metadata": {},
   "outputs": [
    {
     "data": {
      "text/plain": [
       "15316    1\n",
       "1462     0\n",
       "10655    1\n",
       "14734    1\n",
       "19905    0\n",
       "        ..\n",
       "13896    0\n",
       "25081    0\n",
       "6277     1\n",
       "990      1\n",
       "18373    1\n",
       "Name: h1n1_vaccine, Length: 17232, dtype: int64"
      ]
     },
     "execution_count": 200,
     "metadata": {},
     "output_type": "execute_result"
    }
   ],
   "source": []
  },
  {
   "cell_type": "code",
   "execution_count": 201,
   "metadata": {
    "scrolled": true
   },
   "outputs": [
    {
     "name": "stdout",
     "output_type": "stream",
     "text": [
      "Optimization terminated successfully.\n",
      "         Current function value: 0.355061\n",
      "         Iterations 7\n"
     ]
    },
    {
     "ename": "LinAlgError",
     "evalue": "Singular matrix",
     "output_type": "error",
     "traceback": [
      "\u001b[1;31m---------------------------------------------------------------------------\u001b[0m",
      "\u001b[1;31mLinAlgError\u001b[0m                               Traceback (most recent call last)",
      "\u001b[1;32m<ipython-input-201-5850c3308642>\u001b[0m in \u001b[0;36m<module>\u001b[1;34m\u001b[0m\n\u001b[1;32m----> 1\u001b[1;33m \u001b[0mlr_sm\u001b[0m \u001b[1;33m=\u001b[0m \u001b[0msm\u001b[0m\u001b[1;33m.\u001b[0m\u001b[0mLogit\u001b[0m\u001b[1;33m(\u001b[0m\u001b[0mendog\u001b[0m\u001b[1;33m=\u001b[0m\u001b[0my_train\u001b[0m\u001b[1;33m,\u001b[0m \u001b[0mexog\u001b[0m\u001b[1;33m=\u001b[0m\u001b[0mX_train\u001b[0m\u001b[1;33m)\u001b[0m\u001b[1;33m.\u001b[0m\u001b[0mfit\u001b[0m\u001b[1;33m(\u001b[0m\u001b[1;33m)\u001b[0m\u001b[1;33m\u001b[0m\u001b[1;33m\u001b[0m\u001b[0m\n\u001b[0m",
      "\u001b[1;32m~\\anaconda3\\envs\\learn-env\\lib\\site-packages\\statsmodels\\discrete\\discrete_model.py\u001b[0m in \u001b[0;36mfit\u001b[1;34m(self, start_params, method, maxiter, full_output, disp, callback, **kwargs)\u001b[0m\n\u001b[0;32m   1961\u001b[0m     def fit(self, start_params=None, method='newton', maxiter=35,\n\u001b[0;32m   1962\u001b[0m             full_output=1, disp=1, callback=None, **kwargs):\n\u001b[1;32m-> 1963\u001b[1;33m         bnryfit = super().fit(start_params=start_params,\n\u001b[0m\u001b[0;32m   1964\u001b[0m                               \u001b[0mmethod\u001b[0m\u001b[1;33m=\u001b[0m\u001b[0mmethod\u001b[0m\u001b[1;33m,\u001b[0m\u001b[1;33m\u001b[0m\u001b[1;33m\u001b[0m\u001b[0m\n\u001b[0;32m   1965\u001b[0m                               \u001b[0mmaxiter\u001b[0m\u001b[1;33m=\u001b[0m\u001b[0mmaxiter\u001b[0m\u001b[1;33m,\u001b[0m\u001b[1;33m\u001b[0m\u001b[1;33m\u001b[0m\u001b[0m\n",
      "\u001b[1;32m~\\anaconda3\\envs\\learn-env\\lib\\site-packages\\statsmodels\\discrete\\discrete_model.py\u001b[0m in \u001b[0;36mfit\u001b[1;34m(self, start_params, method, maxiter, full_output, disp, callback, **kwargs)\u001b[0m\n\u001b[0;32m    225\u001b[0m             \u001b[1;32mpass\u001b[0m  \u001b[1;31m# TODO: make a function factory to have multiple call-backs\u001b[0m\u001b[1;33m\u001b[0m\u001b[1;33m\u001b[0m\u001b[0m\n\u001b[0;32m    226\u001b[0m \u001b[1;33m\u001b[0m\u001b[0m\n\u001b[1;32m--> 227\u001b[1;33m         mlefit = super().fit(start_params=start_params,\n\u001b[0m\u001b[0;32m    228\u001b[0m                              \u001b[0mmethod\u001b[0m\u001b[1;33m=\u001b[0m\u001b[0mmethod\u001b[0m\u001b[1;33m,\u001b[0m\u001b[1;33m\u001b[0m\u001b[1;33m\u001b[0m\u001b[0m\n\u001b[0;32m    229\u001b[0m                              \u001b[0mmaxiter\u001b[0m\u001b[1;33m=\u001b[0m\u001b[0mmaxiter\u001b[0m\u001b[1;33m,\u001b[0m\u001b[1;33m\u001b[0m\u001b[1;33m\u001b[0m\u001b[0m\n",
      "\u001b[1;32m~\\anaconda3\\envs\\learn-env\\lib\\site-packages\\statsmodels\\base\\model.py\u001b[0m in \u001b[0;36mfit\u001b[1;34m(self, start_params, method, maxiter, full_output, disp, fargs, callback, retall, skip_hessian, **kwargs)\u001b[0m\n\u001b[0;32m    532\u001b[0m             \u001b[0mHinv\u001b[0m \u001b[1;33m=\u001b[0m \u001b[0mcov_params_func\u001b[0m\u001b[1;33m(\u001b[0m\u001b[0mself\u001b[0m\u001b[1;33m,\u001b[0m \u001b[0mxopt\u001b[0m\u001b[1;33m,\u001b[0m \u001b[0mretvals\u001b[0m\u001b[1;33m)\u001b[0m\u001b[1;33m\u001b[0m\u001b[1;33m\u001b[0m\u001b[0m\n\u001b[0;32m    533\u001b[0m         \u001b[1;32melif\u001b[0m \u001b[0mmethod\u001b[0m \u001b[1;33m==\u001b[0m \u001b[1;34m'newton'\u001b[0m \u001b[1;32mand\u001b[0m \u001b[0mfull_output\u001b[0m\u001b[1;33m:\u001b[0m\u001b[1;33m\u001b[0m\u001b[1;33m\u001b[0m\u001b[0m\n\u001b[1;32m--> 534\u001b[1;33m             \u001b[0mHinv\u001b[0m \u001b[1;33m=\u001b[0m \u001b[0mnp\u001b[0m\u001b[1;33m.\u001b[0m\u001b[0mlinalg\u001b[0m\u001b[1;33m.\u001b[0m\u001b[0minv\u001b[0m\u001b[1;33m(\u001b[0m\u001b[1;33m-\u001b[0m\u001b[0mretvals\u001b[0m\u001b[1;33m[\u001b[0m\u001b[1;34m'Hessian'\u001b[0m\u001b[1;33m]\u001b[0m\u001b[1;33m)\u001b[0m \u001b[1;33m/\u001b[0m \u001b[0mnobs\u001b[0m\u001b[1;33m\u001b[0m\u001b[1;33m\u001b[0m\u001b[0m\n\u001b[0m\u001b[0;32m    535\u001b[0m         \u001b[1;32melif\u001b[0m \u001b[1;32mnot\u001b[0m \u001b[0mskip_hessian\u001b[0m\u001b[1;33m:\u001b[0m\u001b[1;33m\u001b[0m\u001b[1;33m\u001b[0m\u001b[0m\n\u001b[0;32m    536\u001b[0m             \u001b[0mH\u001b[0m \u001b[1;33m=\u001b[0m \u001b[1;33m-\u001b[0m\u001b[1;36m1\u001b[0m \u001b[1;33m*\u001b[0m \u001b[0mself\u001b[0m\u001b[1;33m.\u001b[0m\u001b[0mhessian\u001b[0m\u001b[1;33m(\u001b[0m\u001b[0mxopt\u001b[0m\u001b[1;33m)\u001b[0m\u001b[1;33m\u001b[0m\u001b[1;33m\u001b[0m\u001b[0m\n",
      "\u001b[1;32m<__array_function__ internals>\u001b[0m in \u001b[0;36minv\u001b[1;34m(*args, **kwargs)\u001b[0m\n",
      "\u001b[1;32m~\\anaconda3\\envs\\learn-env\\lib\\site-packages\\numpy\\linalg\\linalg.py\u001b[0m in \u001b[0;36minv\u001b[1;34m(a)\u001b[0m\n\u001b[0;32m    545\u001b[0m     \u001b[0msignature\u001b[0m \u001b[1;33m=\u001b[0m \u001b[1;34m'D->D'\u001b[0m \u001b[1;32mif\u001b[0m \u001b[0misComplexType\u001b[0m\u001b[1;33m(\u001b[0m\u001b[0mt\u001b[0m\u001b[1;33m)\u001b[0m \u001b[1;32melse\u001b[0m \u001b[1;34m'd->d'\u001b[0m\u001b[1;33m\u001b[0m\u001b[1;33m\u001b[0m\u001b[0m\n\u001b[0;32m    546\u001b[0m     \u001b[0mextobj\u001b[0m \u001b[1;33m=\u001b[0m \u001b[0mget_linalg_error_extobj\u001b[0m\u001b[1;33m(\u001b[0m\u001b[0m_raise_linalgerror_singular\u001b[0m\u001b[1;33m)\u001b[0m\u001b[1;33m\u001b[0m\u001b[1;33m\u001b[0m\u001b[0m\n\u001b[1;32m--> 547\u001b[1;33m     \u001b[0mainv\u001b[0m \u001b[1;33m=\u001b[0m \u001b[0m_umath_linalg\u001b[0m\u001b[1;33m.\u001b[0m\u001b[0minv\u001b[0m\u001b[1;33m(\u001b[0m\u001b[0ma\u001b[0m\u001b[1;33m,\u001b[0m \u001b[0msignature\u001b[0m\u001b[1;33m=\u001b[0m\u001b[0msignature\u001b[0m\u001b[1;33m,\u001b[0m \u001b[0mextobj\u001b[0m\u001b[1;33m=\u001b[0m\u001b[0mextobj\u001b[0m\u001b[1;33m)\u001b[0m\u001b[1;33m\u001b[0m\u001b[1;33m\u001b[0m\u001b[0m\n\u001b[0m\u001b[0;32m    548\u001b[0m     \u001b[1;32mreturn\u001b[0m \u001b[0mwrap\u001b[0m\u001b[1;33m(\u001b[0m\u001b[0mainv\u001b[0m\u001b[1;33m.\u001b[0m\u001b[0mastype\u001b[0m\u001b[1;33m(\u001b[0m\u001b[0mresult_t\u001b[0m\u001b[1;33m,\u001b[0m \u001b[0mcopy\u001b[0m\u001b[1;33m=\u001b[0m\u001b[1;32mFalse\u001b[0m\u001b[1;33m)\u001b[0m\u001b[1;33m)\u001b[0m\u001b[1;33m\u001b[0m\u001b[1;33m\u001b[0m\u001b[0m\n\u001b[0;32m    549\u001b[0m \u001b[1;33m\u001b[0m\u001b[0m\n",
      "\u001b[1;32m~\\anaconda3\\envs\\learn-env\\lib\\site-packages\\numpy\\linalg\\linalg.py\u001b[0m in \u001b[0;36m_raise_linalgerror_singular\u001b[1;34m(err, flag)\u001b[0m\n\u001b[0;32m     95\u001b[0m \u001b[1;33m\u001b[0m\u001b[0m\n\u001b[0;32m     96\u001b[0m \u001b[1;32mdef\u001b[0m \u001b[0m_raise_linalgerror_singular\u001b[0m\u001b[1;33m(\u001b[0m\u001b[0merr\u001b[0m\u001b[1;33m,\u001b[0m \u001b[0mflag\u001b[0m\u001b[1;33m)\u001b[0m\u001b[1;33m:\u001b[0m\u001b[1;33m\u001b[0m\u001b[1;33m\u001b[0m\u001b[0m\n\u001b[1;32m---> 97\u001b[1;33m     \u001b[1;32mraise\u001b[0m \u001b[0mLinAlgError\u001b[0m\u001b[1;33m(\u001b[0m\u001b[1;34m\"Singular matrix\"\u001b[0m\u001b[1;33m)\u001b[0m\u001b[1;33m\u001b[0m\u001b[1;33m\u001b[0m\u001b[0m\n\u001b[0m\u001b[0;32m     98\u001b[0m \u001b[1;33m\u001b[0m\u001b[0m\n\u001b[0;32m     99\u001b[0m \u001b[1;32mdef\u001b[0m \u001b[0m_raise_linalgerror_nonposdef\u001b[0m\u001b[1;33m(\u001b[0m\u001b[0merr\u001b[0m\u001b[1;33m,\u001b[0m \u001b[0mflag\u001b[0m\u001b[1;33m)\u001b[0m\u001b[1;33m:\u001b[0m\u001b[1;33m\u001b[0m\u001b[1;33m\u001b[0m\u001b[0m\n",
      "\u001b[1;31mLinAlgError\u001b[0m: Singular matrix"
     ]
    }
   ],
   "source": [
    "lr_sm = sm.Logit(endog=y_train, exog=X_train).fit()\n"
   ]
  },
  {
   "cell_type": "code",
   "execution_count": 198,
   "metadata": {},
   "outputs": [
    {
     "name": "stdout",
     "output_type": "stream",
     "text": [
      "Optimization terminated successfully.\n",
      "         Current function value: 0.354103\n",
      "         Iterations 7\n"
     ]
    },
    {
     "data": {
      "text/html": [
       "<table class=\"simpletable\">\n",
       "<caption>Logit Regression Results</caption>\n",
       "<tr>\n",
       "  <th>Dep. Variable:</th>     <td>h1n1_vaccine</td>   <th>  No. Observations:  </th>  <td> 17420</td> \n",
       "</tr>\n",
       "<tr>\n",
       "  <th>Model:</th>                 <td>Logit</td>      <th>  Df Residuals:      </th>  <td> 17385</td> \n",
       "</tr>\n",
       "<tr>\n",
       "  <th>Method:</th>                 <td>MLE</td>       <th>  Df Model:          </th>  <td>    34</td> \n",
       "</tr>\n",
       "<tr>\n",
       "  <th>Date:</th>            <td>Wed, 09 Mar 2022</td> <th>  Pseudo R-squ.:     </th>  <td>0.3405</td> \n",
       "</tr>\n",
       "<tr>\n",
       "  <th>Time:</th>                <td>12:31:00</td>     <th>  Log-Likelihood:    </th> <td> -6168.5</td>\n",
       "</tr>\n",
       "<tr>\n",
       "  <th>converged:</th>             <td>True</td>       <th>  LL-Null:           </th> <td> -9353.4</td>\n",
       "</tr>\n",
       "<tr>\n",
       "  <th>Covariance Type:</th>     <td>nonrobust</td>    <th>  LLR p-value:       </th>  <td> 0.000</td> \n",
       "</tr>\n",
       "</table>\n",
       "<table class=\"simpletable\">\n",
       "<tr>\n",
       "                      <td></td>                        <th>coef</th>     <th>std err</th>      <th>z</th>      <th>P>|z|</th>  <th>[0.025</th>    <th>0.975]</th>  \n",
       "</tr>\n",
       "<tr>\n",
       "  <th>h1n1_knowledge</th>                           <td>    0.0430</td> <td>    0.042</td> <td>    1.022</td> <td> 0.307</td> <td>   -0.039</td> <td>    0.125</td>\n",
       "</tr>\n",
       "<tr>\n",
       "  <th>opinion_seas_vacc_effective</th>              <td>   -0.1012</td> <td>    0.029</td> <td>   -3.455</td> <td> 0.001</td> <td>   -0.159</td> <td>   -0.044</td>\n",
       "</tr>\n",
       "<tr>\n",
       "  <th>rent_or_own_Rent</th>                         <td>   -0.0481</td> <td>    0.063</td> <td>   -0.768</td> <td> 0.442</td> <td>   -0.171</td> <td>    0.075</td>\n",
       "</tr>\n",
       "<tr>\n",
       "  <th>opinion_h1n1_sick_from_vacc</th>              <td>    0.0095</td> <td>    0.020</td> <td>    0.471</td> <td> 0.638</td> <td>   -0.030</td> <td>    0.049</td>\n",
       "</tr>\n",
       "<tr>\n",
       "  <th>hhs_geo_region_lzgpxyit</th>                  <td>   -0.1613</td> <td>    0.066</td> <td>   -2.454</td> <td> 0.014</td> <td>   -0.290</td> <td>   -0.032</td>\n",
       "</tr>\n",
       "<tr>\n",
       "  <th>behavioral_large_gatherings</th>              <td>   -0.2150</td> <td>    0.051</td> <td>   -4.183</td> <td> 0.000</td> <td>   -0.316</td> <td>   -0.114</td>\n",
       "</tr>\n",
       "<tr>\n",
       "  <th>health_worker</th>                            <td>    0.6759</td> <td>    0.067</td> <td>   10.067</td> <td> 0.000</td> <td>    0.544</td> <td>    0.807</td>\n",
       "</tr>\n",
       "<tr>\n",
       "  <th>age_group_65+ Years</th>                      <td>    0.1321</td> <td>    0.075</td> <td>    1.770</td> <td> 0.077</td> <td>   -0.014</td> <td>    0.278</td>\n",
       "</tr>\n",
       "<tr>\n",
       "  <th>race_White</th>                               <td>   -0.0599</td> <td>    0.064</td> <td>   -0.943</td> <td> 0.346</td> <td>   -0.184</td> <td>    0.065</td>\n",
       "</tr>\n",
       "<tr>\n",
       "  <th>child_under_6_months</th>                     <td>    0.2206</td> <td>    0.079</td> <td>    2.792</td> <td> 0.005</td> <td>    0.066</td> <td>    0.375</td>\n",
       "</tr>\n",
       "<tr>\n",
       "  <th>doctor_recc_h1n1</th>                         <td>    2.2190</td> <td>    0.066</td> <td>   33.555</td> <td> 0.000</td> <td>    2.089</td> <td>    2.349</td>\n",
       "</tr>\n",
       "<tr>\n",
       "  <th>sex_Male</th>                                 <td>   -5.8248</td> <td>    0.242</td> <td>  -24.066</td> <td> 0.000</td> <td>   -6.299</td> <td>   -5.350</td>\n",
       "</tr>\n",
       "<tr>\n",
       "  <th>opinion_h1n1_risk</th>                        <td>    0.4074</td> <td>    0.022</td> <td>   18.729</td> <td> 0.000</td> <td>    0.365</td> <td>    0.450</td>\n",
       "</tr>\n",
       "<tr>\n",
       "  <th>income_poverty_> $75,000</th>                 <td>   -0.1466</td> <td>    0.078</td> <td>   -1.886</td> <td> 0.059</td> <td>   -0.299</td> <td>    0.006</td>\n",
       "</tr>\n",
       "<tr>\n",
       "  <th>education_< 12 Years</th>                     <td>   -0.2499</td> <td>    0.093</td> <td>   -2.676</td> <td> 0.007</td> <td>   -0.433</td> <td>   -0.067</td>\n",
       "</tr>\n",
       "<tr>\n",
       "  <th>sex_Female</th>                               <td>   -5.9977</td> <td>    0.245</td> <td>  -24.497</td> <td> 0.000</td> <td>   -6.478</td> <td>   -5.518</td>\n",
       "</tr>\n",
       "<tr>\n",
       "  <th>marital_status_Married</th>                   <td>    0.1618</td> <td>    0.190</td> <td>    0.851</td> <td> 0.395</td> <td>   -0.211</td> <td>    0.534</td>\n",
       "</tr>\n",
       "<tr>\n",
       "  <th>opinion_seas_risk</th>                        <td>    0.0064</td> <td>    0.021</td> <td>    0.300</td> <td> 0.764</td> <td>   -0.035</td> <td>    0.048</td>\n",
       "</tr>\n",
       "<tr>\n",
       "  <th>employment_status_Employed</th>               <td>   -0.0241</td> <td>    0.105</td> <td>   -0.229</td> <td> 0.819</td> <td>   -0.231</td> <td>    0.182</td>\n",
       "</tr>\n",
       "<tr>\n",
       "  <th>opinion_seas_sick_from_vacc</th>              <td>   -0.0233</td> <td>    0.020</td> <td>   -1.172</td> <td> 0.241</td> <td>   -0.062</td> <td>    0.016</td>\n",
       "</tr>\n",
       "<tr>\n",
       "  <th>household_adults</th>                         <td>    0.0109</td> <td>    0.035</td> <td>    0.308</td> <td> 0.758</td> <td>   -0.059</td> <td>    0.080</td>\n",
       "</tr>\n",
       "<tr>\n",
       "  <th>chronic_med_condition</th>                    <td>    0.0129</td> <td>    0.052</td> <td>    0.251</td> <td> 0.802</td> <td>   -0.088</td> <td>    0.114</td>\n",
       "</tr>\n",
       "<tr>\n",
       "  <th>employment_status_Not in Labor Force</th>     <td>   -0.0205</td> <td>    0.108</td> <td>   -0.189</td> <td> 0.850</td> <td>   -0.233</td> <td>    0.192</td>\n",
       "</tr>\n",
       "<tr>\n",
       "  <th>opinion_h1n1_vacc_effective</th>              <td>    0.6920</td> <td>    0.032</td> <td>   21.508</td> <td> 0.000</td> <td>    0.629</td> <td>    0.755</td>\n",
       "</tr>\n",
       "<tr>\n",
       "  <th>education_College Graduate</th>               <td>    0.0347</td> <td>    0.053</td> <td>    0.661</td> <td> 0.509</td> <td>   -0.068</td> <td>    0.138</td>\n",
       "</tr>\n",
       "<tr>\n",
       "  <th>doctor_recc_seasonal</th>                     <td>   -1.0065</td> <td>    0.065</td> <td>  -15.449</td> <td> 0.000</td> <td>   -1.134</td> <td>   -0.879</td>\n",
       "</tr>\n",
       "<tr>\n",
       "  <th>behavioral_touch_face</th>                    <td>   -0.0300</td> <td>    0.054</td> <td>   -0.552</td> <td> 0.581</td> <td>   -0.136</td> <td>    0.076</td>\n",
       "</tr>\n",
       "<tr>\n",
       "  <th>census_msa_MSA, Not Principle  City</th>      <td>   -0.1110</td> <td>    0.047</td> <td>   -2.388</td> <td> 0.017</td> <td>   -0.202</td> <td>   -0.020</td>\n",
       "</tr>\n",
       "<tr>\n",
       "  <th>household_children</th>                       <td>   -0.0199</td> <td>    0.030</td> <td>   -0.666</td> <td> 0.505</td> <td>   -0.078</td> <td>    0.039</td>\n",
       "</tr>\n",
       "<tr>\n",
       "  <th>h1n1_concern</th>                             <td>   -0.1407</td> <td>    0.031</td> <td>   -4.534</td> <td> 0.000</td> <td>   -0.201</td> <td>   -0.080</td>\n",
       "</tr>\n",
       "<tr>\n",
       "  <th>income_poverty_<= $75,000, Above Poverty</th> <td>   -0.1354</td> <td>    0.063</td> <td>   -2.135</td> <td> 0.033</td> <td>   -0.260</td> <td>   -0.011</td>\n",
       "</tr>\n",
       "<tr>\n",
       "  <th>age_group_55 - 64 Years</th>                  <td>    0.2131</td> <td>    0.066</td> <td>    3.249</td> <td> 0.001</td> <td>    0.085</td> <td>    0.342</td>\n",
       "</tr>\n",
       "<tr>\n",
       "  <th>hhs_geo_region_bhuqouqj</th>                  <td>   -0.0284</td> <td>    0.072</td> <td>   -0.392</td> <td> 0.695</td> <td>   -0.170</td> <td>    0.113</td>\n",
       "</tr>\n",
       "<tr>\n",
       "  <th>marital_status_Not Married</th>               <td>   -0.0194</td> <td>    0.190</td> <td>   -0.102</td> <td> 0.919</td> <td>   -0.392</td> <td>    0.353</td>\n",
       "</tr>\n",
       "<tr>\n",
       "  <th>seasonal_vaccine</th>                         <td>    1.9629</td> <td>    0.059</td> <td>   33.356</td> <td> 0.000</td> <td>    1.848</td> <td>    2.078</td>\n",
       "</tr>\n",
       "</table>"
      ],
      "text/plain": [
       "<class 'statsmodels.iolib.summary.Summary'>\n",
       "\"\"\"\n",
       "                           Logit Regression Results                           \n",
       "==============================================================================\n",
       "Dep. Variable:           h1n1_vaccine   No. Observations:                17420\n",
       "Model:                          Logit   Df Residuals:                    17385\n",
       "Method:                           MLE   Df Model:                           34\n",
       "Date:                Wed, 09 Mar 2022   Pseudo R-squ.:                  0.3405\n",
       "Time:                        12:31:00   Log-Likelihood:                -6168.5\n",
       "converged:                       True   LL-Null:                       -9353.4\n",
       "Covariance Type:            nonrobust   LLR p-value:                     0.000\n",
       "============================================================================================================\n",
       "                                               coef    std err          z      P>|z|      [0.025      0.975]\n",
       "------------------------------------------------------------------------------------------------------------\n",
       "h1n1_knowledge                               0.0430      0.042      1.022      0.307      -0.039       0.125\n",
       "opinion_seas_vacc_effective                 -0.1012      0.029     -3.455      0.001      -0.159      -0.044\n",
       "rent_or_own_Rent                            -0.0481      0.063     -0.768      0.442      -0.171       0.075\n",
       "opinion_h1n1_sick_from_vacc                  0.0095      0.020      0.471      0.638      -0.030       0.049\n",
       "hhs_geo_region_lzgpxyit                     -0.1613      0.066     -2.454      0.014      -0.290      -0.032\n",
       "behavioral_large_gatherings                 -0.2150      0.051     -4.183      0.000      -0.316      -0.114\n",
       "health_worker                                0.6759      0.067     10.067      0.000       0.544       0.807\n",
       "age_group_65+ Years                          0.1321      0.075      1.770      0.077      -0.014       0.278\n",
       "race_White                                  -0.0599      0.064     -0.943      0.346      -0.184       0.065\n",
       "child_under_6_months                         0.2206      0.079      2.792      0.005       0.066       0.375\n",
       "doctor_recc_h1n1                             2.2190      0.066     33.555      0.000       2.089       2.349\n",
       "sex_Male                                    -5.8248      0.242    -24.066      0.000      -6.299      -5.350\n",
       "opinion_h1n1_risk                            0.4074      0.022     18.729      0.000       0.365       0.450\n",
       "income_poverty_> $75,000                    -0.1466      0.078     -1.886      0.059      -0.299       0.006\n",
       "education_< 12 Years                        -0.2499      0.093     -2.676      0.007      -0.433      -0.067\n",
       "sex_Female                                  -5.9977      0.245    -24.497      0.000      -6.478      -5.518\n",
       "marital_status_Married                       0.1618      0.190      0.851      0.395      -0.211       0.534\n",
       "opinion_seas_risk                            0.0064      0.021      0.300      0.764      -0.035       0.048\n",
       "employment_status_Employed                  -0.0241      0.105     -0.229      0.819      -0.231       0.182\n",
       "opinion_seas_sick_from_vacc                 -0.0233      0.020     -1.172      0.241      -0.062       0.016\n",
       "household_adults                             0.0109      0.035      0.308      0.758      -0.059       0.080\n",
       "chronic_med_condition                        0.0129      0.052      0.251      0.802      -0.088       0.114\n",
       "employment_status_Not in Labor Force        -0.0205      0.108     -0.189      0.850      -0.233       0.192\n",
       "opinion_h1n1_vacc_effective                  0.6920      0.032     21.508      0.000       0.629       0.755\n",
       "education_College Graduate                   0.0347      0.053      0.661      0.509      -0.068       0.138\n",
       "doctor_recc_seasonal                        -1.0065      0.065    -15.449      0.000      -1.134      -0.879\n",
       "behavioral_touch_face                       -0.0300      0.054     -0.552      0.581      -0.136       0.076\n",
       "census_msa_MSA, Not Principle  City         -0.1110      0.047     -2.388      0.017      -0.202      -0.020\n",
       "household_children                          -0.0199      0.030     -0.666      0.505      -0.078       0.039\n",
       "h1n1_concern                                -0.1407      0.031     -4.534      0.000      -0.201      -0.080\n",
       "income_poverty_<= $75,000, Above Poverty    -0.1354      0.063     -2.135      0.033      -0.260      -0.011\n",
       "age_group_55 - 64 Years                      0.2131      0.066      3.249      0.001       0.085       0.342\n",
       "hhs_geo_region_bhuqouqj                     -0.0284      0.072     -0.392      0.695      -0.170       0.113\n",
       "marital_status_Not Married                  -0.0194      0.190     -0.102      0.919      -0.392       0.353\n",
       "seasonal_vaccine                             1.9629      0.059     33.356      0.000       1.848       2.078\n",
       "============================================================================================================\n",
       "\"\"\""
      ]
     },
     "execution_count": 198,
     "metadata": {},
     "output_type": "execute_result"
    }
   ],
   "source": [
    "lr_sm_top = sm.Logit(y_train_top, X_train_top).fit()\n",
    "lr_sm_top.summary()"
   ]
  },
  {
   "cell_type": "code",
   "execution_count": null,
   "metadata": {},
   "outputs": [],
   "source": []
  },
  {
   "cell_type": "code",
   "execution_count": 205,
   "metadata": {},
   "outputs": [],
   "source": [
    "insig_feat = ['marital_status_Not Married','employment_status_Not in Labor Force', 'employment_status_Employed'\n",
    "'chronic_med_condition','opinion_seas_risk','household_adults','hhs_geo_region_bhuqouqj'\n",
    ", 'opinion_h1n1_sick_from_vacc','behavioral_touch_face', 'education_College Graduate', \n",
    "'household_children', 'rent_or_own_Rent', 'marital_status_Married', 'race_White', 'h1n1_knowledge',\n",
    "'opinion_seas_sick_from_vacc']\n"
   ]
  },
  {
   "cell_type": "code",
   "execution_count": 203,
   "metadata": {},
   "outputs": [
    {
     "data": {
      "text/plain": [
       "0.8448816155988857"
      ]
     },
     "execution_count": 203,
     "metadata": {},
     "output_type": "execute_result"
    }
   ],
   "source": [
    "rfc2 = RandomForestClassifier()\n",
    "rfc2.fit(X_train, y_train)\n",
    "rfc2.score(X_test,y_test)"
   ]
  },
  {
   "cell_type": "code",
   "execution_count": 204,
   "metadata": {},
   "outputs": [
    {
     "data": {
      "text/plain": [
       "0.8436369898398485"
      ]
     },
     "execution_count": 204,
     "metadata": {},
     "output_type": "execute_result"
    }
   ],
   "source": [
    "rfc_top = RandomForestClassifier()\n",
    "rfc_top.fit(X_train_top, y_train_top)\n",
    "rfc_top.score(X_test_top,y_test_top)"
   ]
  },
  {
   "cell_type": "code",
   "execution_count": 206,
   "metadata": {
    "scrolled": true
   },
   "outputs": [
    {
     "ename": "ValueError",
     "evalue": "list.remove(x): x not in list",
     "output_type": "error",
     "traceback": [
      "\u001b[1;31m---------------------------------------------------------------------------\u001b[0m",
      "\u001b[1;31mValueError\u001b[0m                                Traceback (most recent call last)",
      "\u001b[1;32m<ipython-input-206-3e7f35d1b883>\u001b[0m in \u001b[0;36m<module>\u001b[1;34m\u001b[0m\n\u001b[0;32m      1\u001b[0m \u001b[0mtop_feat_sig\u001b[0m \u001b[1;33m=\u001b[0m \u001b[0mtop_feat_list\u001b[0m\u001b[1;33m\u001b[0m\u001b[1;33m\u001b[0m\u001b[0m\n\u001b[1;32m----> 2\u001b[1;33m \u001b[0mtop_feat_sig\u001b[0m \u001b[1;33m=\u001b[0m \u001b[0mtop_feat_sig\u001b[0m\u001b[1;33m.\u001b[0m\u001b[0mremove\u001b[0m\u001b[1;33m(\u001b[0m\u001b[0minsig_feat\u001b[0m\u001b[1;33m)\u001b[0m\u001b[1;33m\u001b[0m\u001b[1;33m\u001b[0m\u001b[0m\n\u001b[0m",
      "\u001b[1;31mValueError\u001b[0m: list.remove(x): x not in list"
     ]
    }
   ],
   "source": [
    "top_feat_sig = top_feat_list\n",
    "top_feat_sig = top_feat_sig.remove(insig_feat)"
   ]
  },
  {
   "cell_type": "code",
   "execution_count": 215,
   "metadata": {
    "scrolled": true
   },
   "outputs": [
    {
     "data": {
      "text/plain": [
       "['opinion_seas_vacc_effective',\n",
       " 'hhs_geo_region_lzgpxyit',\n",
       " 'behavioral_large_gatherings',\n",
       " 'health_worker',\n",
       " 'age_group_65+ Years',\n",
       " 'child_under_6_months',\n",
       " 'doctor_recc_h1n1',\n",
       " 'sex_Male',\n",
       " 'opinion_h1n1_risk',\n",
       " 'income_poverty_> $75,000',\n",
       " 'education_< 12 Years',\n",
       " 'sex_Female',\n",
       " 'employment_status_Employed',\n",
       " 'chronic_med_condition',\n",
       " 'opinion_h1n1_vacc_effective',\n",
       " 'doctor_recc_seasonal',\n",
       " 'census_msa_MSA, Not Principle  City',\n",
       " 'h1n1_concern',\n",
       " 'income_poverty_<= $75,000, Above Poverty',\n",
       " 'age_group_55 - 64 Years',\n",
       " 'seasonal_vaccine',\n",
       " 'h1n1_vaccine']"
      ]
     },
     "execution_count": 215,
     "metadata": {},
     "output_type": "execute_result"
    }
   ],
   "source": [
    "top_feat_sig =[x for x in top_feat_list if x not in insig_feat]\n",
    "top_feat_sig"
   ]
  },
  {
   "cell_type": "code",
   "execution_count": 218,
   "metadata": {},
   "outputs": [],
   "source": [
    "X_ts = X_top[top_feat_sig]\n",
    "y_ts = y_top\n",
    "\n",
    "X_train_ts, X_test_ts, y_train_ts, y_test_ts = train_test_split(X_ts, y_ts, test_size=0.2, random_state=42)"
   ]
  },
  {
   "cell_type": "code",
   "execution_count": 220,
   "metadata": {},
   "outputs": [
    {
     "data": {
      "text/plain": [
       "0.8450279810589755"
      ]
     },
     "execution_count": 220,
     "metadata": {},
     "output_type": "execute_result"
    }
   ],
   "source": [
    "lr_sig = LogisticRegression(C=5, max_iter=1000, solver='sag')\n",
    "lr_sig.fit(X_train_ts, y_train_ts)\n",
    "lr_sig.score(X_test_ts, y_test_ts)"
   ]
  },
  {
   "cell_type": "code",
   "execution_count": 224,
   "metadata": {},
   "outputs": [
    {
     "name": "stdout",
     "output_type": "stream",
     "text": [
      "Optimization terminated successfully.\n",
      "         Current function value: 0.355961\n",
      "         Iterations 7\n"
     ]
    },
    {
     "data": {
      "text/html": [
       "<table class=\"simpletable\">\n",
       "<caption>Logit Regression Results</caption>\n",
       "<tr>\n",
       "  <th>Dep. Variable:</th>     <td>h1n1_vaccine</td>   <th>  No. Observations:  </th>  <td> 18581</td> \n",
       "</tr>\n",
       "<tr>\n",
       "  <th>Model:</th>                 <td>Logit</td>      <th>  Df Residuals:      </th>  <td> 18560</td> \n",
       "</tr>\n",
       "<tr>\n",
       "  <th>Method:</th>                 <td>MLE</td>       <th>  Df Model:          </th>  <td>    20</td> \n",
       "</tr>\n",
       "<tr>\n",
       "  <th>Date:</th>            <td>Wed, 09 Mar 2022</td> <th>  Pseudo R-squ.:     </th>  <td>0.3366</td> \n",
       "</tr>\n",
       "<tr>\n",
       "  <th>Time:</th>                <td>12:57:13</td>     <th>  Log-Likelihood:    </th> <td> -6614.1</td>\n",
       "</tr>\n",
       "<tr>\n",
       "  <th>converged:</th>             <td>True</td>       <th>  LL-Null:           </th> <td> -9969.7</td>\n",
       "</tr>\n",
       "<tr>\n",
       "  <th>Covariance Type:</th>     <td>nonrobust</td>    <th>  LLR p-value:       </th>  <td> 0.000</td> \n",
       "</tr>\n",
       "</table>\n",
       "<table class=\"simpletable\">\n",
       "<tr>\n",
       "                      <td></td>                        <th>coef</th>     <th>std err</th>      <th>z</th>      <th>P>|z|</th>  <th>[0.025</th>    <th>0.975]</th>  \n",
       "</tr>\n",
       "<tr>\n",
       "  <th>opinion_seas_vacc_effective</th>              <td>   -0.1103</td> <td>    0.028</td> <td>   -3.964</td> <td> 0.000</td> <td>   -0.165</td> <td>   -0.056</td>\n",
       "</tr>\n",
       "<tr>\n",
       "  <th>hhs_geo_region_lzgpxyit</th>                  <td>   -0.1417</td> <td>    0.063</td> <td>   -2.260</td> <td> 0.024</td> <td>   -0.265</td> <td>   -0.019</td>\n",
       "</tr>\n",
       "<tr>\n",
       "  <th>behavioral_large_gatherings</th>              <td>   -0.2285</td> <td>    0.048</td> <td>   -4.720</td> <td> 0.000</td> <td>   -0.323</td> <td>   -0.134</td>\n",
       "</tr>\n",
       "<tr>\n",
       "  <th>health_worker</th>                            <td>    0.6874</td> <td>    0.064</td> <td>   10.718</td> <td> 0.000</td> <td>    0.562</td> <td>    0.813</td>\n",
       "</tr>\n",
       "<tr>\n",
       "  <th>age_group_65+ Years</th>                      <td>    0.1145</td> <td>    0.063</td> <td>    1.832</td> <td> 0.067</td> <td>   -0.008</td> <td>    0.237</td>\n",
       "</tr>\n",
       "<tr>\n",
       "  <th>child_under_6_months</th>                     <td>    0.2412</td> <td>    0.076</td> <td>    3.164</td> <td> 0.002</td> <td>    0.092</td> <td>    0.391</td>\n",
       "</tr>\n",
       "<tr>\n",
       "  <th>doctor_recc_h1n1</th>                         <td>    2.2020</td> <td>    0.064</td> <td>   34.508</td> <td> 0.000</td> <td>    2.077</td> <td>    2.327</td>\n",
       "</tr>\n",
       "<tr>\n",
       "  <th>sex_Male</th>                                 <td>   -5.7705</td> <td>    0.155</td> <td>  -37.199</td> <td> 0.000</td> <td>   -6.074</td> <td>   -5.466</td>\n",
       "</tr>\n",
       "<tr>\n",
       "  <th>opinion_h1n1_risk</th>                        <td>    0.4051</td> <td>    0.018</td> <td>   21.930</td> <td> 0.000</td> <td>    0.369</td> <td>    0.441</td>\n",
       "</tr>\n",
       "<tr>\n",
       "  <th>income_poverty_> $75,000</th>                 <td>   -0.0396</td> <td>    0.068</td> <td>   -0.580</td> <td> 0.562</td> <td>   -0.173</td> <td>    0.094</td>\n",
       "</tr>\n",
       "<tr>\n",
       "  <th>education_< 12 Years</th>                     <td>   -0.2797</td> <td>    0.087</td> <td>   -3.207</td> <td> 0.001</td> <td>   -0.451</td> <td>   -0.109</td>\n",
       "</tr>\n",
       "<tr>\n",
       "  <th>sex_Female</th>                               <td>   -5.9587</td> <td>    0.155</td> <td>  -38.336</td> <td> 0.000</td> <td>   -6.263</td> <td>   -5.654</td>\n",
       "</tr>\n",
       "<tr>\n",
       "  <th>employment_status_Employed</th>               <td>   -0.0045</td> <td>    0.054</td> <td>   -0.083</td> <td> 0.934</td> <td>   -0.110</td> <td>    0.101</td>\n",
       "</tr>\n",
       "<tr>\n",
       "  <th>chronic_med_condition</th>                    <td>    0.0288</td> <td>    0.050</td> <td>    0.582</td> <td> 0.561</td> <td>   -0.068</td> <td>    0.126</td>\n",
       "</tr>\n",
       "<tr>\n",
       "  <th>opinion_h1n1_vacc_effective</th>              <td>    0.6783</td> <td>    0.031</td> <td>   22.053</td> <td> 0.000</td> <td>    0.618</td> <td>    0.739</td>\n",
       "</tr>\n",
       "<tr>\n",
       "  <th>doctor_recc_seasonal</th>                     <td>   -0.9997</td> <td>    0.063</td> <td>  -15.909</td> <td> 0.000</td> <td>   -1.123</td> <td>   -0.876</td>\n",
       "</tr>\n",
       "<tr>\n",
       "  <th>census_msa_MSA, Not Principle  City</th>      <td>   -0.0982</td> <td>    0.045</td> <td>   -2.199</td> <td> 0.028</td> <td>   -0.186</td> <td>   -0.011</td>\n",
       "</tr>\n",
       "<tr>\n",
       "  <th>h1n1_concern</th>                             <td>   -0.1191</td> <td>    0.028</td> <td>   -4.196</td> <td> 0.000</td> <td>   -0.175</td> <td>   -0.063</td>\n",
       "</tr>\n",
       "<tr>\n",
       "  <th>income_poverty_<= $75,000, Above Poverty</th> <td>   -0.0916</td> <td>    0.059</td> <td>   -1.558</td> <td> 0.119</td> <td>   -0.207</td> <td>    0.024</td>\n",
       "</tr>\n",
       "<tr>\n",
       "  <th>age_group_55 - 64 Years</th>                  <td>    0.2229</td> <td>    0.058</td> <td>    3.876</td> <td> 0.000</td> <td>    0.110</td> <td>    0.336</td>\n",
       "</tr>\n",
       "<tr>\n",
       "  <th>seasonal_vaccine</th>                         <td>    1.9717</td> <td>    0.055</td> <td>   35.835</td> <td> 0.000</td> <td>    1.864</td> <td>    2.080</td>\n",
       "</tr>\n",
       "</table>"
      ],
      "text/plain": [
       "<class 'statsmodels.iolib.summary.Summary'>\n",
       "\"\"\"\n",
       "                           Logit Regression Results                           \n",
       "==============================================================================\n",
       "Dep. Variable:           h1n1_vaccine   No. Observations:                18581\n",
       "Model:                          Logit   Df Residuals:                    18560\n",
       "Method:                           MLE   Df Model:                           20\n",
       "Date:                Wed, 09 Mar 2022   Pseudo R-squ.:                  0.3366\n",
       "Time:                        12:57:13   Log-Likelihood:                -6614.1\n",
       "converged:                       True   LL-Null:                       -9969.7\n",
       "Covariance Type:            nonrobust   LLR p-value:                     0.000\n",
       "============================================================================================================\n",
       "                                               coef    std err          z      P>|z|      [0.025      0.975]\n",
       "------------------------------------------------------------------------------------------------------------\n",
       "opinion_seas_vacc_effective                 -0.1103      0.028     -3.964      0.000      -0.165      -0.056\n",
       "hhs_geo_region_lzgpxyit                     -0.1417      0.063     -2.260      0.024      -0.265      -0.019\n",
       "behavioral_large_gatherings                 -0.2285      0.048     -4.720      0.000      -0.323      -0.134\n",
       "health_worker                                0.6874      0.064     10.718      0.000       0.562       0.813\n",
       "age_group_65+ Years                          0.1145      0.063      1.832      0.067      -0.008       0.237\n",
       "child_under_6_months                         0.2412      0.076      3.164      0.002       0.092       0.391\n",
       "doctor_recc_h1n1                             2.2020      0.064     34.508      0.000       2.077       2.327\n",
       "sex_Male                                    -5.7705      0.155    -37.199      0.000      -6.074      -5.466\n",
       "opinion_h1n1_risk                            0.4051      0.018     21.930      0.000       0.369       0.441\n",
       "income_poverty_> $75,000                    -0.0396      0.068     -0.580      0.562      -0.173       0.094\n",
       "education_< 12 Years                        -0.2797      0.087     -3.207      0.001      -0.451      -0.109\n",
       "sex_Female                                  -5.9587      0.155    -38.336      0.000      -6.263      -5.654\n",
       "employment_status_Employed                  -0.0045      0.054     -0.083      0.934      -0.110       0.101\n",
       "chronic_med_condition                        0.0288      0.050      0.582      0.561      -0.068       0.126\n",
       "opinion_h1n1_vacc_effective                  0.6783      0.031     22.053      0.000       0.618       0.739\n",
       "doctor_recc_seasonal                        -0.9997      0.063    -15.909      0.000      -1.123      -0.876\n",
       "census_msa_MSA, Not Principle  City         -0.0982      0.045     -2.199      0.028      -0.186      -0.011\n",
       "h1n1_concern                                -0.1191      0.028     -4.196      0.000      -0.175      -0.063\n",
       "income_poverty_<= $75,000, Above Poverty    -0.0916      0.059     -1.558      0.119      -0.207       0.024\n",
       "age_group_55 - 64 Years                      0.2229      0.058      3.876      0.000       0.110       0.336\n",
       "seasonal_vaccine                             1.9717      0.055     35.835      0.000       1.864       2.080\n",
       "============================================================================================================\n",
       "\"\"\""
      ]
     },
     "execution_count": 224,
     "metadata": {},
     "output_type": "execute_result"
    }
   ],
   "source": [
    "lr_sm_sig = sm.Logit(y_train_ts, X_train_ts).fit()\n",
    "lr_sm_sig.summary()\n"
   ]
  },
  {
   "cell_type": "code",
   "execution_count": 228,
   "metadata": {},
   "outputs": [
    {
     "ename": "ValueError",
     "evalue": "list.remove(x): x not in list",
     "output_type": "error",
     "traceback": [
      "\u001b[1;31m---------------------------------------------------------------------------\u001b[0m",
      "\u001b[1;31mValueError\u001b[0m                                Traceback (most recent call last)",
      "\u001b[1;32m<ipython-input-228-d8c3fa9418db>\u001b[0m in \u001b[0;36m<module>\u001b[1;34m\u001b[0m\n\u001b[0;32m      1\u001b[0m \u001b[0mtop_feat_sig_2\u001b[0m \u001b[1;33m=\u001b[0m \u001b[0mtop_feat_sig\u001b[0m\u001b[1;33m\u001b[0m\u001b[1;33m\u001b[0m\u001b[0m\n\u001b[1;32m----> 2\u001b[1;33m \u001b[0mtop_feat_sig_2\u001b[0m\u001b[1;33m.\u001b[0m\u001b[0mremove\u001b[0m\u001b[1;33m(\u001b[0m\u001b[1;34m'income_poverty_> $75,000'\u001b[0m\u001b[1;33m)\u001b[0m\u001b[1;33m\u001b[0m\u001b[1;33m\u001b[0m\u001b[0m\n\u001b[0m\u001b[0;32m      3\u001b[0m \u001b[0mtop_feat_sig_2\u001b[0m\u001b[1;33m.\u001b[0m\u001b[0mremove\u001b[0m\u001b[1;33m(\u001b[0m\u001b[1;34m'employment_status_Employed'\u001b[0m\u001b[1;33m)\u001b[0m\u001b[1;33m\u001b[0m\u001b[1;33m\u001b[0m\u001b[0m\n\u001b[0;32m      4\u001b[0m \u001b[0mtop_feat_sig_2\u001b[0m\u001b[1;33m.\u001b[0m\u001b[0mremove\u001b[0m\u001b[1;33m(\u001b[0m\u001b[1;34m'chronic_med_condition'\u001b[0m\u001b[1;33m)\u001b[0m\u001b[1;33m\u001b[0m\u001b[1;33m\u001b[0m\u001b[0m\n",
      "\u001b[1;31mValueError\u001b[0m: list.remove(x): x not in list"
     ]
    }
   ],
   "source": [
    "top_feat_sig_2 = top_feat_sig\n",
    "top_feat_sig_2.remove('income_poverty_> $75,000')\n",
    "top_feat_sig_2.remove('employment_status_Employed')\n",
    "top_feat_sig_2.remove('chronic_med_condition')\n"
   ]
  },
  {
   "cell_type": "code",
   "execution_count": 261,
   "metadata": {},
   "outputs": [
    {
     "data": {
      "text/plain": [
       "['opinion_seas_vacc_effective',\n",
       " 'hhs_geo_region_lzgpxyit',\n",
       " 'behavioral_large_gatherings',\n",
       " 'health_worker',\n",
       " 'age_group_65+ Years',\n",
       " 'child_under_6_months',\n",
       " 'doctor_recc_h1n1',\n",
       " 'opinion_h1n1_risk',\n",
       " 'education_< 12 Years',\n",
       " 'sex_Female',\n",
       " 'opinion_h1n1_vacc_effective',\n",
       " 'doctor_recc_seasonal',\n",
       " 'census_msa_MSA, Not Principle  City',\n",
       " 'h1n1_concern',\n",
       " 'income_poverty_<= $75,000, Above Poverty',\n",
       " 'age_group_55 - 64 Years',\n",
       " 'seasonal_vaccine']"
      ]
     },
     "execution_count": 261,
     "metadata": {},
     "output_type": "execute_result"
    }
   ],
   "source": [
    "remove_feat = ['income_poverty_> $75,000','employment_status_Employed'\n",
    ",'chronic_med_condition', 'sex_Male']\n",
    "top_feat_sig_final = [x for x in top_feat_sig if x not in remove_feat]\n",
    "top_feat_sig_final"
   ]
  },
  {
   "cell_type": "code",
   "execution_count": 262,
   "metadata": {},
   "outputs": [],
   "source": [
    "X_ts2 = X_top[top_feat_sig_final]\n",
    "y_ts2 = y_top\n",
    "\n",
    "X_train_ts2, X_test_ts2, y_train_ts2, y_test_ts2 = train_test_split(X_ts2, y_ts2, test_size=0.2, random_state=42)"
   ]
  },
  {
   "cell_type": "code",
   "execution_count": 263,
   "metadata": {},
   "outputs": [
    {
     "data": {
      "text/plain": [
       "0.8452432199741713"
      ]
     },
     "execution_count": 263,
     "metadata": {},
     "output_type": "execute_result"
    }
   ],
   "source": [
    "lr_sig_2 = LogisticRegression(C=5, max_iter=1000, solver='sag')\n",
    "lr_sig_2.fit(X_train_ts2, y_train_ts2)\n",
    "lr_sig_2.score(X_test_ts2, y_test_ts2)"
   ]
  },
  {
   "cell_type": "code",
   "execution_count": 264,
   "metadata": {
    "scrolled": true
   },
   "outputs": [
    {
     "data": {
      "text/plain": [
       "(array([0.84853376, 0.84607104, 0.84472551, 0.85145318, 0.85091496]),\n",
       " array([0.85806452, 0.8320775 , 0.83853606, 0.83853606, 0.84607104]))"
      ]
     },
     "execution_count": 264,
     "metadata": {},
     "output_type": "execute_result"
    }
   ],
   "source": [
    "cross_val_score(lr_sig_2, X_train_ts2, y_train_ts2), cross_val_score(lr_sig_2, X_test_ts2, y_test_ts2)"
   ]
  },
  {
   "cell_type": "code",
   "execution_count": 257,
   "metadata": {},
   "outputs": [
    {
     "data": {
      "text/plain": [
       "(0.8483396914013032, 0.8426570367026633)"
      ]
     },
     "execution_count": 257,
     "metadata": {},
     "output_type": "execute_result"
    }
   ],
   "source": [
    "cross_val_score(lr_sig_2, X_train_ts2, y_train_ts2).mean(), cross_val_score(lr_sig_2, X_test_ts2, y_test_ts2).mean()"
   ]
  },
  {
   "cell_type": "code",
   "execution_count": 252,
   "metadata": {},
   "outputs": [
    {
     "data": {
      "text/plain": [
       "0.8297460180800689"
      ]
     },
     "execution_count": 252,
     "metadata": {},
     "output_type": "execute_result"
    }
   ],
   "source": [
    "rfc_sig_2 = RandomForestClassifier()\n",
    "rfc_sig_2.fit(X_train_ts2, y_train_ts2)\n",
    "rfc_sig_2.score(X_test_ts2, y_test_ts2)"
   ]
  },
  {
   "cell_type": "code",
   "execution_count": 253,
   "metadata": {},
   "outputs": [
    {
     "data": {
      "text/plain": [
       "(array([0.82324455, 0.82077503, 0.82723358, 0.82400431, 0.83261572]),\n",
       " array([0.82258065, 0.80839612, 0.83530678, 0.82884822, 0.82884822]))"
      ]
     },
     "execution_count": 253,
     "metadata": {},
     "output_type": "execute_result"
    }
   ],
   "source": [
    "cross_val_score(rfc_sig_2, X_train_ts2, y_train_ts2), cross_val_score(rfc_sig_2, X_test_ts2, y_test_ts2)"
   ]
  },
  {
   "cell_type": "code",
   "execution_count": 254,
   "metadata": {},
   "outputs": [
    {
     "data": {
      "text/plain": [
       "VotingClassifier(estimators=[('lr',\n",
       "                              LogisticRegression(C=5, max_iter=1000,\n",
       "                                                 solver='sag')),\n",
       "                             ('rfc', RandomForestClassifier())],\n",
       "                 weights=[0.9, 0.1])"
      ]
     },
     "execution_count": 254,
     "metadata": {},
     "output_type": "execute_result"
    }
   ],
   "source": [
    "w_avg = VotingClassifier(estimators=[\n",
    "    ('lr', lr_sig_2),\n",
    "    ('rfc', rfc_sig_2)],\n",
    "    weights=[0.9, 0.1])\n",
    "w_avg.fit(X_train_ts2, y_train_ts2)"
   ]
  },
  {
   "cell_type": "code",
   "execution_count": 255,
   "metadata": {},
   "outputs": [
    {
     "data": {
      "text/plain": [
       "0.8452432199741713"
      ]
     },
     "execution_count": 255,
     "metadata": {},
     "output_type": "execute_result"
    }
   ],
   "source": [
    "w_avg.score(X_test_ts2, y_test_ts2)"
   ]
  },
  {
   "cell_type": "code",
   "execution_count": 246,
   "metadata": {},
   "outputs": [
    {
     "data": {
      "text/plain": [
       "(array([0.84772666, 0.84607104, 0.84472551, 0.85145318, 0.85037675]),\n",
       " array([0.86021505, 0.83638321, 0.84499462, 0.84284177, 0.84930032]))"
      ]
     },
     "execution_count": 246,
     "metadata": {},
     "output_type": "execute_result"
    }
   ],
   "source": [
    "cross_val_score(w_avg, X_train_ts2, y_train_ts2), cross_val_score(w_avg, X_test_ts2, y_test_ts2)"
   ]
  },
  {
   "cell_type": "code",
   "execution_count": 256,
   "metadata": {},
   "outputs": [
    {
     "data": {
      "text/plain": [
       "(0.8483396914013032, 0.8426570367026633)"
      ]
     },
     "execution_count": 256,
     "metadata": {},
     "output_type": "execute_result"
    }
   ],
   "source": [
    "cross_val_score(w_avg, X_train_ts2, y_train_ts2).mean(), cross_val_score(w_avg, X_test_ts2, y_test_ts2).mean()"
   ]
  },
  {
   "cell_type": "code",
   "execution_count": 247,
   "metadata": {},
   "outputs": [
    {
     "data": {
      "text/plain": [
       "0    0.774547\n",
       "1    0.225453\n",
       "Name: h1n1_vaccine, dtype: float64"
      ]
     },
     "execution_count": 247,
     "metadata": {},
     "output_type": "execute_result"
    }
   ],
   "source": [
    "y_train.value_counts(normalize=True)"
   ]
  },
  {
   "cell_type": "code",
   "execution_count": 265,
   "metadata": {},
   "outputs": [
    {
     "name": "stdout",
     "output_type": "stream",
     "text": [
      "Optimization terminated successfully.\n",
      "         Current function value: 0.416386\n",
      "         Iterations 7\n"
     ]
    },
    {
     "data": {
      "text/html": [
       "<table class=\"simpletable\">\n",
       "<caption>Logit Regression Results</caption>\n",
       "<tr>\n",
       "  <th>Dep. Variable:</th>     <td>h1n1_vaccine</td>   <th>  No. Observations:  </th>  <td> 18581</td> \n",
       "</tr>\n",
       "<tr>\n",
       "  <th>Model:</th>                 <td>Logit</td>      <th>  Df Residuals:      </th>  <td> 18564</td> \n",
       "</tr>\n",
       "<tr>\n",
       "  <th>Method:</th>                 <td>MLE</td>       <th>  Df Model:          </th>  <td>    16</td> \n",
       "</tr>\n",
       "<tr>\n",
       "  <th>Date:</th>            <td>Wed, 09 Mar 2022</td> <th>  Pseudo R-squ.:     </th>  <td>0.2240</td> \n",
       "</tr>\n",
       "<tr>\n",
       "  <th>Time:</th>                <td>13:29:27</td>     <th>  Log-Likelihood:    </th> <td> -7736.9</td>\n",
       "</tr>\n",
       "<tr>\n",
       "  <th>converged:</th>             <td>True</td>       <th>  LL-Null:           </th> <td> -9969.7</td>\n",
       "</tr>\n",
       "<tr>\n",
       "  <th>Covariance Type:</th>     <td>nonrobust</td>    <th>  LLR p-value:       </th>  <td> 0.000</td> \n",
       "</tr>\n",
       "</table>\n",
       "<table class=\"simpletable\">\n",
       "<tr>\n",
       "                      <td></td>                        <th>coef</th>     <th>std err</th>      <th>z</th>      <th>P>|z|</th>  <th>[0.025</th>    <th>0.975]</th>  \n",
       "</tr>\n",
       "<tr>\n",
       "  <th>opinion_seas_vacc_effective</th>              <td>   -0.5565</td> <td>    0.021</td> <td>  -25.889</td> <td> 0.000</td> <td>   -0.599</td> <td>   -0.514</td>\n",
       "</tr>\n",
       "<tr>\n",
       "  <th>hhs_geo_region_lzgpxyit</th>                  <td>   -0.3290</td> <td>    0.058</td> <td>   -5.640</td> <td> 0.000</td> <td>   -0.443</td> <td>   -0.215</td>\n",
       "</tr>\n",
       "<tr>\n",
       "  <th>behavioral_large_gatherings</th>              <td>   -0.2464</td> <td>    0.045</td> <td>   -5.537</td> <td> 0.000</td> <td>   -0.334</td> <td>   -0.159</td>\n",
       "</tr>\n",
       "<tr>\n",
       "  <th>health_worker</th>                            <td>    0.5492</td> <td>    0.058</td> <td>    9.411</td> <td> 0.000</td> <td>    0.435</td> <td>    0.664</td>\n",
       "</tr>\n",
       "<tr>\n",
       "  <th>age_group_65+ Years</th>                      <td>   -0.1180</td> <td>    0.052</td> <td>   -2.267</td> <td> 0.023</td> <td>   -0.220</td> <td>   -0.016</td>\n",
       "</tr>\n",
       "<tr>\n",
       "  <th>child_under_6_months</th>                     <td>    0.0307</td> <td>    0.071</td> <td>    0.434</td> <td> 0.665</td> <td>   -0.108</td> <td>    0.170</td>\n",
       "</tr>\n",
       "<tr>\n",
       "  <th>doctor_recc_h1n1</th>                         <td>    2.2792</td> <td>    0.062</td> <td>   36.766</td> <td> 0.000</td> <td>    2.158</td> <td>    2.401</td>\n",
       "</tr>\n",
       "<tr>\n",
       "  <th>opinion_h1n1_risk</th>                        <td>    0.3269</td> <td>    0.018</td> <td>   18.669</td> <td> 0.000</td> <td>    0.293</td> <td>    0.361</td>\n",
       "</tr>\n",
       "<tr>\n",
       "  <th>education_< 12 Years</th>                     <td>   -0.4978</td> <td>    0.080</td> <td>   -6.219</td> <td> 0.000</td> <td>   -0.655</td> <td>   -0.341</td>\n",
       "</tr>\n",
       "<tr>\n",
       "  <th>sex_Female</th>                               <td>   -0.5076</td> <td>    0.041</td> <td>  -12.285</td> <td> 0.000</td> <td>   -0.589</td> <td>   -0.427</td>\n",
       "</tr>\n",
       "<tr>\n",
       "  <th>opinion_h1n1_vacc_effective</th>              <td>   -0.0214</td> <td>    0.021</td> <td>   -1.024</td> <td> 0.306</td> <td>   -0.062</td> <td>    0.020</td>\n",
       "</tr>\n",
       "<tr>\n",
       "  <th>doctor_recc_seasonal</th>                     <td>   -1.0257</td> <td>    0.060</td> <td>  -16.999</td> <td> 0.000</td> <td>   -1.144</td> <td>   -0.907</td>\n",
       "</tr>\n",
       "<tr>\n",
       "  <th>census_msa_MSA, Not Principle  City</th>      <td>   -0.4160</td> <td>    0.041</td> <td>  -10.268</td> <td> 0.000</td> <td>   -0.495</td> <td>   -0.337</td>\n",
       "</tr>\n",
       "<tr>\n",
       "  <th>h1n1_concern</th>                             <td>   -0.1959</td> <td>    0.026</td> <td>   -7.649</td> <td> 0.000</td> <td>   -0.246</td> <td>   -0.146</td>\n",
       "</tr>\n",
       "<tr>\n",
       "  <th>income_poverty_<= $75,000, Above Poverty</th> <td>   -0.4057</td> <td>    0.040</td> <td>  -10.067</td> <td> 0.000</td> <td>   -0.485</td> <td>   -0.327</td>\n",
       "</tr>\n",
       "<tr>\n",
       "  <th>age_group_55 - 64 Years</th>                  <td>   -0.0320</td> <td>    0.052</td> <td>   -0.612</td> <td> 0.540</td> <td>   -0.134</td> <td>    0.070</td>\n",
       "</tr>\n",
       "<tr>\n",
       "  <th>seasonal_vaccine</th>                         <td>    2.1715</td> <td>    0.052</td> <td>   41.824</td> <td> 0.000</td> <td>    2.070</td> <td>    2.273</td>\n",
       "</tr>\n",
       "</table>"
      ],
      "text/plain": [
       "<class 'statsmodels.iolib.summary.Summary'>\n",
       "\"\"\"\n",
       "                           Logit Regression Results                           \n",
       "==============================================================================\n",
       "Dep. Variable:           h1n1_vaccine   No. Observations:                18581\n",
       "Model:                          Logit   Df Residuals:                    18564\n",
       "Method:                           MLE   Df Model:                           16\n",
       "Date:                Wed, 09 Mar 2022   Pseudo R-squ.:                  0.2240\n",
       "Time:                        13:29:27   Log-Likelihood:                -7736.9\n",
       "converged:                       True   LL-Null:                       -9969.7\n",
       "Covariance Type:            nonrobust   LLR p-value:                     0.000\n",
       "============================================================================================================\n",
       "                                               coef    std err          z      P>|z|      [0.025      0.975]\n",
       "------------------------------------------------------------------------------------------------------------\n",
       "opinion_seas_vacc_effective                 -0.5565      0.021    -25.889      0.000      -0.599      -0.514\n",
       "hhs_geo_region_lzgpxyit                     -0.3290      0.058     -5.640      0.000      -0.443      -0.215\n",
       "behavioral_large_gatherings                 -0.2464      0.045     -5.537      0.000      -0.334      -0.159\n",
       "health_worker                                0.5492      0.058      9.411      0.000       0.435       0.664\n",
       "age_group_65+ Years                         -0.1180      0.052     -2.267      0.023      -0.220      -0.016\n",
       "child_under_6_months                         0.0307      0.071      0.434      0.665      -0.108       0.170\n",
       "doctor_recc_h1n1                             2.2792      0.062     36.766      0.000       2.158       2.401\n",
       "opinion_h1n1_risk                            0.3269      0.018     18.669      0.000       0.293       0.361\n",
       "education_< 12 Years                        -0.4978      0.080     -6.219      0.000      -0.655      -0.341\n",
       "sex_Female                                  -0.5076      0.041    -12.285      0.000      -0.589      -0.427\n",
       "opinion_h1n1_vacc_effective                 -0.0214      0.021     -1.024      0.306      -0.062       0.020\n",
       "doctor_recc_seasonal                        -1.0257      0.060    -16.999      0.000      -1.144      -0.907\n",
       "census_msa_MSA, Not Principle  City         -0.4160      0.041    -10.268      0.000      -0.495      -0.337\n",
       "h1n1_concern                                -0.1959      0.026     -7.649      0.000      -0.246      -0.146\n",
       "income_poverty_<= $75,000, Above Poverty    -0.4057      0.040    -10.067      0.000      -0.485      -0.327\n",
       "age_group_55 - 64 Years                     -0.0320      0.052     -0.612      0.540      -0.134       0.070\n",
       "seasonal_vaccine                             2.1715      0.052     41.824      0.000       2.070       2.273\n",
       "============================================================================================================\n",
       "\"\"\""
      ]
     },
     "execution_count": 265,
     "metadata": {},
     "output_type": "execute_result"
    }
   ],
   "source": [
    "lr_sm_final = sm.Logit(y_train_ts2, X_train_ts2).fit()\n",
    "lr_sm_final.summary()"
   ]
  },
  {
   "cell_type": "code",
   "execution_count": 268,
   "metadata": {},
   "outputs": [
    {
     "data": {
      "text/plain": [
       "0.0    0.916149\n",
       "1.0    0.083851\n",
       "Name: child_under_6_months, dtype: float64"
      ]
     },
     "execution_count": 268,
     "metadata": {},
     "output_type": "execute_result"
    }
   ],
   "source": [
    "df['child_under_6_months'].value_counts(normalize=True)"
   ]
  },
  {
   "cell_type": "code",
   "execution_count": 269,
   "metadata": {},
   "outputs": [
    {
     "data": {
      "text/plain": [
       "17"
      ]
     },
     "execution_count": 269,
     "metadata": {},
     "output_type": "execute_result"
    }
   ],
   "source": [
    "len(top_feat_sig_final)"
   ]
  },
  {
   "cell_type": "code",
   "execution_count": null,
   "metadata": {},
   "outputs": [],
   "source": []
  }
 ],
 "metadata": {
  "kernelspec": {
   "display_name": "Python (learn-env)",
   "language": "python",
   "name": "learn-env"
  },
  "language_info": {
   "codemirror_mode": {
    "name": "ipython",
    "version": 3
   },
   "file_extension": ".py",
   "mimetype": "text/x-python",
   "name": "python",
   "nbconvert_exporter": "python",
   "pygments_lexer": "ipython3",
   "version": "3.8.5"
  }
 },
 "nbformat": 4,
 "nbformat_minor": 4
}
