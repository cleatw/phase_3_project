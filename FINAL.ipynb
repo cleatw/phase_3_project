{
 "cells": [
  {
   "cell_type": "markdown",
   "metadata": {},
   "source": [
    "# Phase 3 Project H1N1 Vaccine Notebook \n",
    "## Tim Cleary, Elijah Jarocki, Nick Kennedy"
   ]
  },
  {
   "cell_type": "markdown",
   "metadata": {},
   "source": [
    "# Business Understanding\n",
    "In 2009, a virulent h1n1, or swine flu variant began infecting much of the population. It was a virus of concern due it's potential to make people very sick, even more so than tha seasonal flu could. When it became clear that medical efforts were needed, vaccines, both injectable as well as a nasal vaccine containing live, attenuated h1n1 virus were created to minimize risk. However, many of these, especially the more effective (but higher in side-effects) nasal/live vaccine were not widely available across the country. In this report we hope to address the issues concerning vaccination production and vaccination rates."
   ]
  },
  {
   "cell_type": "markdown",
   "metadata": {},
   "source": [
    "# Business Problem\n",
    "There are many obstacles when considering the logistics of vaccine production and dissemination. In 2009 our problem is both understanding vaccine production needs, while also increasing the number of people receiving the vaccine, thereby reducing the global effect of the virus on mortality, hospitalization, and even sick days. Given the still ongoing global pandemic of SARS Covid-19, understanding the reasons why someone may or may not choose a vaccine, and, of course, availablity of vaccines has become crucially important for public health initiatives. In our work below we endeavor to show how to predict vaccination rates with precision, while also identifying how more effort from doctors towards younger demographics could have an outsize impact on those rates.  "
   ]
  },
  {
   "cell_type": "markdown",
   "metadata": {},
   "source": [
    "# Data Understanding\n",
    "The Data we used was from the CDC's 2009 National H1N1 Flu Vaccine Survey of nearly 27K respondents. The data is comprised of basic medical, behavioral, and demographic information. "
   ]
  },
  {
   "cell_type": "markdown",
   "metadata": {},
   "source": [
    "# Data Cleaning\n",
    "### 1) importing our libraries"
   ]
  },
  {
   "cell_type": "code",
   "execution_count": 1,
   "metadata": {},
   "outputs": [],
   "source": [
    "#importing the libraries\n",
    "import pandas as pd\n",
    "import numpy as np\n",
    "import matplotlib.pyplot as plt\n",
    "import seaborn as sns\n",
    "from sklearn.preprocessing import StandardScaler, OneHotEncoder, FunctionTransformer\n",
    "from sklearn.neural_network import MLPClassifier\n",
    "from sklearn.model_selection import train_test_split, cross_val_score, GridSearchCV\n",
    "from sklearn.metrics import roc_auc_score, plot_roc_curve, plot_confusion_matrix,\\\n",
    "accuracy_score, precision_score, recall_score\n",
    "from sklearn.linear_model import LogisticRegression\n",
    "import statsmodels.api as sm\n",
    "from sklearn.tree import DecisionTreeClassifier\n",
    "from sklearn.neighbors import KNeighborsClassifier\n",
    "from sklearn.ensemble import AdaBoostRegressor, GradientBoostingRegressor, \\\n",
    "AdaBoostClassifier, GradientBoostingClassifier, BaggingClassifier, RandomForestClassifier,\\\n",
    "ExtraTreesClassifier, VotingClassifier, StackingRegressor\n",
    "from sklearn.pipeline import Pipeline\n",
    "from sklearn.compose import ColumnTransformer\n",
    "from sklearn.dummy import DummyClassifier\n",
    "%matplotlib inline"
   ]
  },
  {
   "cell_type": "code",
   "execution_count": 2,
   "metadata": {},
   "outputs": [],
   "source": [
    "import warnings\n",
    "# warnings.filter"
   ]
  },
  {
   "cell_type": "markdown",
   "metadata": {},
   "source": [
    "\n",
    "### loading the data"
   ]
  },
  {
   "cell_type": "code",
   "execution_count": 3,
   "metadata": {},
   "outputs": [
    {
     "data": {
      "text/html": [
       "<div>\n",
       "<style scoped>\n",
       "    .dataframe tbody tr th:only-of-type {\n",
       "        vertical-align: middle;\n",
       "    }\n",
       "\n",
       "    .dataframe tbody tr th {\n",
       "        vertical-align: top;\n",
       "    }\n",
       "\n",
       "    .dataframe thead th {\n",
       "        text-align: right;\n",
       "    }\n",
       "</style>\n",
       "<table border=\"1\" class=\"dataframe\">\n",
       "  <thead>\n",
       "    <tr style=\"text-align: right;\">\n",
       "      <th></th>\n",
       "      <th>respondent_id</th>\n",
       "      <th>h1n1_concern</th>\n",
       "      <th>h1n1_knowledge</th>\n",
       "      <th>behavioral_antiviral_meds</th>\n",
       "      <th>behavioral_avoidance</th>\n",
       "      <th>behavioral_face_mask</th>\n",
       "      <th>behavioral_wash_hands</th>\n",
       "      <th>behavioral_large_gatherings</th>\n",
       "      <th>behavioral_outside_home</th>\n",
       "      <th>behavioral_touch_face</th>\n",
       "      <th>...</th>\n",
       "      <th>rent_or_own</th>\n",
       "      <th>employment_status</th>\n",
       "      <th>hhs_geo_region</th>\n",
       "      <th>census_msa</th>\n",
       "      <th>household_adults</th>\n",
       "      <th>household_children</th>\n",
       "      <th>employment_industry</th>\n",
       "      <th>employment_occupation</th>\n",
       "      <th>h1n1_vaccine</th>\n",
       "      <th>seasonal_vaccine</th>\n",
       "    </tr>\n",
       "  </thead>\n",
       "  <tbody>\n",
       "    <tr>\n",
       "      <th>0</th>\n",
       "      <td>0</td>\n",
       "      <td>1.0</td>\n",
       "      <td>0.0</td>\n",
       "      <td>0.0</td>\n",
       "      <td>0.0</td>\n",
       "      <td>0.0</td>\n",
       "      <td>0.0</td>\n",
       "      <td>0.0</td>\n",
       "      <td>1.0</td>\n",
       "      <td>1.0</td>\n",
       "      <td>...</td>\n",
       "      <td>Own</td>\n",
       "      <td>Not in Labor Force</td>\n",
       "      <td>oxchjgsf</td>\n",
       "      <td>Non-MSA</td>\n",
       "      <td>0.0</td>\n",
       "      <td>0.0</td>\n",
       "      <td>NaN</td>\n",
       "      <td>NaN</td>\n",
       "      <td>0</td>\n",
       "      <td>0</td>\n",
       "    </tr>\n",
       "    <tr>\n",
       "      <th>1</th>\n",
       "      <td>1</td>\n",
       "      <td>3.0</td>\n",
       "      <td>2.0</td>\n",
       "      <td>0.0</td>\n",
       "      <td>1.0</td>\n",
       "      <td>0.0</td>\n",
       "      <td>1.0</td>\n",
       "      <td>0.0</td>\n",
       "      <td>1.0</td>\n",
       "      <td>1.0</td>\n",
       "      <td>...</td>\n",
       "      <td>Rent</td>\n",
       "      <td>Employed</td>\n",
       "      <td>bhuqouqj</td>\n",
       "      <td>MSA, Not Principle  City</td>\n",
       "      <td>0.0</td>\n",
       "      <td>0.0</td>\n",
       "      <td>pxcmvdjn</td>\n",
       "      <td>xgwztkwe</td>\n",
       "      <td>0</td>\n",
       "      <td>1</td>\n",
       "    </tr>\n",
       "  </tbody>\n",
       "</table>\n",
       "<p>2 rows × 38 columns</p>\n",
       "</div>"
      ],
      "text/plain": [
       "   respondent_id  h1n1_concern  h1n1_knowledge  behavioral_antiviral_meds  \\\n",
       "0              0           1.0             0.0                        0.0   \n",
       "1              1           3.0             2.0                        0.0   \n",
       "\n",
       "   behavioral_avoidance  behavioral_face_mask  behavioral_wash_hands  \\\n",
       "0                   0.0                   0.0                    0.0   \n",
       "1                   1.0                   0.0                    1.0   \n",
       "\n",
       "   behavioral_large_gatherings  behavioral_outside_home  \\\n",
       "0                          0.0                      1.0   \n",
       "1                          0.0                      1.0   \n",
       "\n",
       "   behavioral_touch_face  ...  rent_or_own   employment_status  \\\n",
       "0                    1.0  ...          Own  Not in Labor Force   \n",
       "1                    1.0  ...         Rent            Employed   \n",
       "\n",
       "   hhs_geo_region                census_msa  household_adults  \\\n",
       "0        oxchjgsf                   Non-MSA               0.0   \n",
       "1        bhuqouqj  MSA, Not Principle  City               0.0   \n",
       "\n",
       "   household_children  employment_industry  employment_occupation  \\\n",
       "0                 0.0                  NaN                    NaN   \n",
       "1                 0.0             pxcmvdjn               xgwztkwe   \n",
       "\n",
       "   h1n1_vaccine  seasonal_vaccine  \n",
       "0             0                 0  \n",
       "1             0                 1  \n",
       "\n",
       "[2 rows x 38 columns]"
      ]
     },
     "execution_count": 3,
     "metadata": {},
     "output_type": "execute_result"
    }
   ],
   "source": [
    "#Start out by reading our data into a pandas dataframe and then inspecting the layout\n",
    "df_raw = pd.read_csv('data1.csv')\n",
    "df_raw.head(2)"
   ]
  },
  {
   "cell_type": "code",
   "execution_count": 4,
   "metadata": {
    "scrolled": true
   },
   "outputs": [
    {
     "name": "stdout",
     "output_type": "stream",
     "text": [
      "<class 'pandas.core.frame.DataFrame'>\n",
      "RangeIndex: 26707 entries, 0 to 26706\n",
      "Data columns (total 38 columns):\n",
      " #   Column                       Non-Null Count  Dtype  \n",
      "---  ------                       --------------  -----  \n",
      " 0   respondent_id                26707 non-null  int64  \n",
      " 1   h1n1_concern                 26615 non-null  float64\n",
      " 2   h1n1_knowledge               26591 non-null  float64\n",
      " 3   behavioral_antiviral_meds    26636 non-null  float64\n",
      " 4   behavioral_avoidance         26499 non-null  float64\n",
      " 5   behavioral_face_mask         26688 non-null  float64\n",
      " 6   behavioral_wash_hands        26665 non-null  float64\n",
      " 7   behavioral_large_gatherings  26620 non-null  float64\n",
      " 8   behavioral_outside_home      26625 non-null  float64\n",
      " 9   behavioral_touch_face        26579 non-null  float64\n",
      " 10  doctor_recc_h1n1             24547 non-null  float64\n",
      " 11  doctor_recc_seasonal         24547 non-null  float64\n",
      " 12  chronic_med_condition        25736 non-null  float64\n",
      " 13  child_under_6_months         25887 non-null  float64\n",
      " 14  health_worker                25903 non-null  float64\n",
      " 15  health_insurance             14433 non-null  float64\n",
      " 16  opinion_h1n1_vacc_effective  26316 non-null  float64\n",
      " 17  opinion_h1n1_risk            26319 non-null  float64\n",
      " 18  opinion_h1n1_sick_from_vacc  26312 non-null  float64\n",
      " 19  opinion_seas_vacc_effective  26245 non-null  float64\n",
      " 20  opinion_seas_risk            26193 non-null  float64\n",
      " 21  opinion_seas_sick_from_vacc  26170 non-null  float64\n",
      " 22  age_group                    26707 non-null  object \n",
      " 23  education                    25300 non-null  object \n",
      " 24  race                         26707 non-null  object \n",
      " 25  sex                          26707 non-null  object \n",
      " 26  income_poverty               22284 non-null  object \n",
      " 27  marital_status               25299 non-null  object \n",
      " 28  rent_or_own                  24665 non-null  object \n",
      " 29  employment_status            25244 non-null  object \n",
      " 30  hhs_geo_region               26707 non-null  object \n",
      " 31  census_msa                   26707 non-null  object \n",
      " 32  household_adults             26458 non-null  float64\n",
      " 33  household_children           26458 non-null  float64\n",
      " 34  employment_industry          13377 non-null  object \n",
      " 35  employment_occupation        13237 non-null  object \n",
      " 36  h1n1_vaccine                 26707 non-null  int64  \n",
      " 37  seasonal_vaccine             26707 non-null  int64  \n",
      "dtypes: float64(23), int64(3), object(12)\n",
      "memory usage: 7.7+ MB\n"
     ]
    }
   ],
   "source": [
    "df_raw.info()"
   ]
  },
  {
   "cell_type": "markdown",
   "metadata": {},
   "source": [
    "Above we can see both numeric and categorical data, though looking at the df_raw.head we saw that even the numericl data is ordinally  categorical data. Looking here we see a lot of missing values for `health_insurance`, `employment_industry` and `employmnt_occupation`. Lets remove them from our main working dataset and put them on the side for future analysis"
   ]
  },
  {
   "cell_type": "code",
   "execution_count": 5,
   "metadata": {},
   "outputs": [
    {
     "data": {
      "text/html": [
       "<div>\n",
       "<style scoped>\n",
       "    .dataframe tbody tr th:only-of-type {\n",
       "        vertical-align: middle;\n",
       "    }\n",
       "\n",
       "    .dataframe tbody tr th {\n",
       "        vertical-align: top;\n",
       "    }\n",
       "\n",
       "    .dataframe thead th {\n",
       "        text-align: right;\n",
       "    }\n",
       "</style>\n",
       "<table border=\"1\" class=\"dataframe\">\n",
       "  <thead>\n",
       "    <tr style=\"text-align: right;\">\n",
       "      <th></th>\n",
       "      <th>respondent_id</th>\n",
       "      <th>h1n1_concern</th>\n",
       "      <th>h1n1_knowledge</th>\n",
       "      <th>behavioral_antiviral_meds</th>\n",
       "      <th>behavioral_avoidance</th>\n",
       "      <th>behavioral_face_mask</th>\n",
       "      <th>behavioral_wash_hands</th>\n",
       "      <th>behavioral_large_gatherings</th>\n",
       "      <th>behavioral_outside_home</th>\n",
       "      <th>behavioral_touch_face</th>\n",
       "      <th>...</th>\n",
       "      <th>rent_or_own</th>\n",
       "      <th>employment_status</th>\n",
       "      <th>hhs_geo_region</th>\n",
       "      <th>census_msa</th>\n",
       "      <th>household_adults</th>\n",
       "      <th>household_children</th>\n",
       "      <th>employment_industry</th>\n",
       "      <th>employment_occupation</th>\n",
       "      <th>h1n1_vaccine</th>\n",
       "      <th>seasonal_vaccine</th>\n",
       "    </tr>\n",
       "  </thead>\n",
       "  <tbody>\n",
       "    <tr>\n",
       "      <th>0</th>\n",
       "      <td>0</td>\n",
       "      <td>1.0</td>\n",
       "      <td>0.0</td>\n",
       "      <td>0.0</td>\n",
       "      <td>0.0</td>\n",
       "      <td>0.0</td>\n",
       "      <td>0.0</td>\n",
       "      <td>0.0</td>\n",
       "      <td>1.0</td>\n",
       "      <td>1.0</td>\n",
       "      <td>...</td>\n",
       "      <td>Own</td>\n",
       "      <td>Not in Labor Force</td>\n",
       "      <td>oxchjgsf</td>\n",
       "      <td>Non-MSA</td>\n",
       "      <td>0.0</td>\n",
       "      <td>0.0</td>\n",
       "      <td>NaN</td>\n",
       "      <td>NaN</td>\n",
       "      <td>0</td>\n",
       "      <td>0</td>\n",
       "    </tr>\n",
       "    <tr>\n",
       "      <th>1</th>\n",
       "      <td>1</td>\n",
       "      <td>3.0</td>\n",
       "      <td>2.0</td>\n",
       "      <td>0.0</td>\n",
       "      <td>1.0</td>\n",
       "      <td>0.0</td>\n",
       "      <td>1.0</td>\n",
       "      <td>0.0</td>\n",
       "      <td>1.0</td>\n",
       "      <td>1.0</td>\n",
       "      <td>...</td>\n",
       "      <td>Rent</td>\n",
       "      <td>Employed</td>\n",
       "      <td>bhuqouqj</td>\n",
       "      <td>MSA, Not Principle  City</td>\n",
       "      <td>0.0</td>\n",
       "      <td>0.0</td>\n",
       "      <td>pxcmvdjn</td>\n",
       "      <td>xgwztkwe</td>\n",
       "      <td>0</td>\n",
       "      <td>1</td>\n",
       "    </tr>\n",
       "  </tbody>\n",
       "</table>\n",
       "<p>2 rows × 38 columns</p>\n",
       "</div>"
      ],
      "text/plain": [
       "   respondent_id  h1n1_concern  h1n1_knowledge  behavioral_antiviral_meds  \\\n",
       "0              0           1.0             0.0                        0.0   \n",
       "1              1           3.0             2.0                        0.0   \n",
       "\n",
       "   behavioral_avoidance  behavioral_face_mask  behavioral_wash_hands  \\\n",
       "0                   0.0                   0.0                    0.0   \n",
       "1                   1.0                   0.0                    1.0   \n",
       "\n",
       "   behavioral_large_gatherings  behavioral_outside_home  \\\n",
       "0                          0.0                      1.0   \n",
       "1                          0.0                      1.0   \n",
       "\n",
       "   behavioral_touch_face  ...  rent_or_own   employment_status  \\\n",
       "0                    1.0  ...          Own  Not in Labor Force   \n",
       "1                    1.0  ...         Rent            Employed   \n",
       "\n",
       "   hhs_geo_region                census_msa  household_adults  \\\n",
       "0        oxchjgsf                   Non-MSA               0.0   \n",
       "1        bhuqouqj  MSA, Not Principle  City               0.0   \n",
       "\n",
       "   household_children  employment_industry  employment_occupation  \\\n",
       "0                 0.0                  NaN                    NaN   \n",
       "1                 0.0             pxcmvdjn               xgwztkwe   \n",
       "\n",
       "   h1n1_vaccine  seasonal_vaccine  \n",
       "0             0                 0  \n",
       "1             0                 1  \n",
       "\n",
       "[2 rows x 38 columns]"
      ]
     },
     "execution_count": 5,
     "metadata": {},
     "output_type": "execute_result"
    }
   ],
   "source": [
    "df_health = df_raw.copy().dropna(subset=['health_insurance'])\n",
    "df_health.head(2)"
   ]
  },
  {
   "cell_type": "markdown",
   "metadata": {},
   "source": [
    "Having isolated the observations with health insurance info, we move on to the data we'll inlcude for our analysis\n"
   ]
  },
  {
   "cell_type": "code",
   "execution_count": 6,
   "metadata": {},
   "outputs": [],
   "source": [
    "df = df_raw.drop(columns=['employment_industry', 'employment_occupation'])"
   ]
  },
  {
   "cell_type": "code",
   "execution_count": 7,
   "metadata": {},
   "outputs": [
    {
     "data": {
      "image/png": "[encoded data removed]",
      "text/plain": [
       "<Figure size 1080x576 with 1 Axes>"
      ]
     },
     "metadata": {
      "needs_background": "light"
     },
     "output_type": "display_data"
    }
   ],
   "source": [
    "#Looking at seaonsal reccomendations by age\n",
    "df.groupby('age_group')['doctor_recc_seasonal'].mean().plot.bar(figsize=(15,8), color='g')\n",
    "plt.title(\"Dr. Recc Seasonal Vaccine by Age Group\", fontsize=24)\n",
    "plt.xticks(rotation=0.5, fontsize=12)\n",
    "plt.yticks(fontsize=12)\n",
    "plt.xlabel(\"Age\", fontsize=15)\n",
    "plt.ylabel(\"Proportion Recc Seasonal Vaccine\", fontsize=15);"
   ]
  },
  {
   "cell_type": "code",
   "execution_count": 8,
   "metadata": {
    "scrolled": true
   },
   "outputs": [
    {
     "data": {
      "text/html": [
       "<div>\n",
       "<style scoped>\n",
       "    .dataframe tbody tr th:only-of-type {\n",
       "        vertical-align: middle;\n",
       "    }\n",
       "\n",
       "    .dataframe tbody tr th {\n",
       "        vertical-align: top;\n",
       "    }\n",
       "\n",
       "    .dataframe thead th {\n",
       "        text-align: right;\n",
       "    }\n",
       "</style>\n",
       "<table border=\"1\" class=\"dataframe\">\n",
       "  <thead>\n",
       "    <tr style=\"text-align: right;\">\n",
       "      <th></th>\n",
       "      <th>respondent_id</th>\n",
       "      <th>h1n1_concern</th>\n",
       "      <th>h1n1_knowledge</th>\n",
       "      <th>behavioral_antiviral_meds</th>\n",
       "      <th>behavioral_avoidance</th>\n",
       "      <th>behavioral_face_mask</th>\n",
       "      <th>behavioral_wash_hands</th>\n",
       "      <th>behavioral_large_gatherings</th>\n",
       "      <th>behavioral_outside_home</th>\n",
       "      <th>behavioral_touch_face</th>\n",
       "      <th>...</th>\n",
       "      <th>income_poverty</th>\n",
       "      <th>marital_status</th>\n",
       "      <th>rent_or_own</th>\n",
       "      <th>employment_status</th>\n",
       "      <th>hhs_geo_region</th>\n",
       "      <th>census_msa</th>\n",
       "      <th>household_adults</th>\n",
       "      <th>household_children</th>\n",
       "      <th>h1n1_vaccine</th>\n",
       "      <th>seasonal_vaccine</th>\n",
       "    </tr>\n",
       "  </thead>\n",
       "  <tbody>\n",
       "    <tr>\n",
       "      <th>0</th>\n",
       "      <td>0</td>\n",
       "      <td>1.0</td>\n",
       "      <td>0.0</td>\n",
       "      <td>0.0</td>\n",
       "      <td>0.0</td>\n",
       "      <td>0.0</td>\n",
       "      <td>0.0</td>\n",
       "      <td>0.0</td>\n",
       "      <td>1.0</td>\n",
       "      <td>1.0</td>\n",
       "      <td>...</td>\n",
       "      <td>Below Poverty</td>\n",
       "      <td>Not Married</td>\n",
       "      <td>Own</td>\n",
       "      <td>Not in Labor Force</td>\n",
       "      <td>oxchjgsf</td>\n",
       "      <td>Non-MSA</td>\n",
       "      <td>0.0</td>\n",
       "      <td>0.0</td>\n",
       "      <td>0</td>\n",
       "      <td>0</td>\n",
       "    </tr>\n",
       "    <tr>\n",
       "      <th>1</th>\n",
       "      <td>1</td>\n",
       "      <td>3.0</td>\n",
       "      <td>2.0</td>\n",
       "      <td>0.0</td>\n",
       "      <td>1.0</td>\n",
       "      <td>0.0</td>\n",
       "      <td>1.0</td>\n",
       "      <td>0.0</td>\n",
       "      <td>1.0</td>\n",
       "      <td>1.0</td>\n",
       "      <td>...</td>\n",
       "      <td>Below Poverty</td>\n",
       "      <td>Not Married</td>\n",
       "      <td>Rent</td>\n",
       "      <td>Employed</td>\n",
       "      <td>bhuqouqj</td>\n",
       "      <td>MSA, Not Principle  City</td>\n",
       "      <td>0.0</td>\n",
       "      <td>0.0</td>\n",
       "      <td>0</td>\n",
       "      <td>1</td>\n",
       "    </tr>\n",
       "    <tr>\n",
       "      <th>2</th>\n",
       "      <td>2</td>\n",
       "      <td>1.0</td>\n",
       "      <td>1.0</td>\n",
       "      <td>0.0</td>\n",
       "      <td>1.0</td>\n",
       "      <td>0.0</td>\n",
       "      <td>0.0</td>\n",
       "      <td>0.0</td>\n",
       "      <td>0.0</td>\n",
       "      <td>0.0</td>\n",
       "      <td>...</td>\n",
       "      <td>&lt;= $75,000, Above Poverty</td>\n",
       "      <td>Not Married</td>\n",
       "      <td>Own</td>\n",
       "      <td>Employed</td>\n",
       "      <td>qufhixun</td>\n",
       "      <td>MSA, Not Principle  City</td>\n",
       "      <td>2.0</td>\n",
       "      <td>0.0</td>\n",
       "      <td>0</td>\n",
       "      <td>0</td>\n",
       "    </tr>\n",
       "    <tr>\n",
       "      <th>3</th>\n",
       "      <td>3</td>\n",
       "      <td>1.0</td>\n",
       "      <td>1.0</td>\n",
       "      <td>0.0</td>\n",
       "      <td>1.0</td>\n",
       "      <td>0.0</td>\n",
       "      <td>1.0</td>\n",
       "      <td>1.0</td>\n",
       "      <td>0.0</td>\n",
       "      <td>0.0</td>\n",
       "      <td>...</td>\n",
       "      <td>Below Poverty</td>\n",
       "      <td>Not Married</td>\n",
       "      <td>Rent</td>\n",
       "      <td>Not in Labor Force</td>\n",
       "      <td>lrircsnp</td>\n",
       "      <td>MSA, Principle City</td>\n",
       "      <td>0.0</td>\n",
       "      <td>0.0</td>\n",
       "      <td>0</td>\n",
       "      <td>1</td>\n",
       "    </tr>\n",
       "    <tr>\n",
       "      <th>4</th>\n",
       "      <td>4</td>\n",
       "      <td>2.0</td>\n",
       "      <td>1.0</td>\n",
       "      <td>0.0</td>\n",
       "      <td>1.0</td>\n",
       "      <td>0.0</td>\n",
       "      <td>1.0</td>\n",
       "      <td>1.0</td>\n",
       "      <td>0.0</td>\n",
       "      <td>1.0</td>\n",
       "      <td>...</td>\n",
       "      <td>&lt;= $75,000, Above Poverty</td>\n",
       "      <td>Married</td>\n",
       "      <td>Own</td>\n",
       "      <td>Employed</td>\n",
       "      <td>qufhixun</td>\n",
       "      <td>MSA, Not Principle  City</td>\n",
       "      <td>1.0</td>\n",
       "      <td>0.0</td>\n",
       "      <td>0</td>\n",
       "      <td>0</td>\n",
       "    </tr>\n",
       "    <tr>\n",
       "      <th>...</th>\n",
       "      <td>...</td>\n",
       "      <td>...</td>\n",
       "      <td>...</td>\n",
       "      <td>...</td>\n",
       "      <td>...</td>\n",
       "      <td>...</td>\n",
       "      <td>...</td>\n",
       "      <td>...</td>\n",
       "      <td>...</td>\n",
       "      <td>...</td>\n",
       "      <td>...</td>\n",
       "      <td>...</td>\n",
       "      <td>...</td>\n",
       "      <td>...</td>\n",
       "      <td>...</td>\n",
       "      <td>...</td>\n",
       "      <td>...</td>\n",
       "      <td>...</td>\n",
       "      <td>...</td>\n",
       "      <td>...</td>\n",
       "      <td>...</td>\n",
       "    </tr>\n",
       "    <tr>\n",
       "      <th>26702</th>\n",
       "      <td>26702</td>\n",
       "      <td>2.0</td>\n",
       "      <td>0.0</td>\n",
       "      <td>0.0</td>\n",
       "      <td>1.0</td>\n",
       "      <td>0.0</td>\n",
       "      <td>0.0</td>\n",
       "      <td>0.0</td>\n",
       "      <td>1.0</td>\n",
       "      <td>0.0</td>\n",
       "      <td>...</td>\n",
       "      <td>&lt;= $75,000, Above Poverty</td>\n",
       "      <td>Not Married</td>\n",
       "      <td>Own</td>\n",
       "      <td>Not in Labor Force</td>\n",
       "      <td>qufhixun</td>\n",
       "      <td>Non-MSA</td>\n",
       "      <td>0.0</td>\n",
       "      <td>0.0</td>\n",
       "      <td>0</td>\n",
       "      <td>0</td>\n",
       "    </tr>\n",
       "    <tr>\n",
       "      <th>26703</th>\n",
       "      <td>26703</td>\n",
       "      <td>1.0</td>\n",
       "      <td>2.0</td>\n",
       "      <td>0.0</td>\n",
       "      <td>1.0</td>\n",
       "      <td>0.0</td>\n",
       "      <td>1.0</td>\n",
       "      <td>0.0</td>\n",
       "      <td>0.0</td>\n",
       "      <td>0.0</td>\n",
       "      <td>...</td>\n",
       "      <td>&lt;= $75,000, Above Poverty</td>\n",
       "      <td>Not Married</td>\n",
       "      <td>Rent</td>\n",
       "      <td>Employed</td>\n",
       "      <td>lzgpxyit</td>\n",
       "      <td>MSA, Principle City</td>\n",
       "      <td>1.0</td>\n",
       "      <td>0.0</td>\n",
       "      <td>0</td>\n",
       "      <td>0</td>\n",
       "    </tr>\n",
       "    <tr>\n",
       "      <th>26704</th>\n",
       "      <td>26704</td>\n",
       "      <td>2.0</td>\n",
       "      <td>2.0</td>\n",
       "      <td>0.0</td>\n",
       "      <td>1.0</td>\n",
       "      <td>1.0</td>\n",
       "      <td>1.0</td>\n",
       "      <td>1.0</td>\n",
       "      <td>0.0</td>\n",
       "      <td>1.0</td>\n",
       "      <td>...</td>\n",
       "      <td>NaN</td>\n",
       "      <td>Not Married</td>\n",
       "      <td>Own</td>\n",
       "      <td>NaN</td>\n",
       "      <td>lzgpxyit</td>\n",
       "      <td>MSA, Not Principle  City</td>\n",
       "      <td>0.0</td>\n",
       "      <td>0.0</td>\n",
       "      <td>0</td>\n",
       "      <td>1</td>\n",
       "    </tr>\n",
       "    <tr>\n",
       "      <th>26705</th>\n",
       "      <td>26705</td>\n",
       "      <td>1.0</td>\n",
       "      <td>1.0</td>\n",
       "      <td>0.0</td>\n",
       "      <td>0.0</td>\n",
       "      <td>0.0</td>\n",
       "      <td>0.0</td>\n",
       "      <td>0.0</td>\n",
       "      <td>0.0</td>\n",
       "      <td>NaN</td>\n",
       "      <td>...</td>\n",
       "      <td>&lt;= $75,000, Above Poverty</td>\n",
       "      <td>Married</td>\n",
       "      <td>Rent</td>\n",
       "      <td>Employed</td>\n",
       "      <td>lrircsnp</td>\n",
       "      <td>Non-MSA</td>\n",
       "      <td>1.0</td>\n",
       "      <td>0.0</td>\n",
       "      <td>0</td>\n",
       "      <td>0</td>\n",
       "    </tr>\n",
       "    <tr>\n",
       "      <th>26706</th>\n",
       "      <td>26706</td>\n",
       "      <td>0.0</td>\n",
       "      <td>0.0</td>\n",
       "      <td>0.0</td>\n",
       "      <td>1.0</td>\n",
       "      <td>0.0</td>\n",
       "      <td>0.0</td>\n",
       "      <td>0.0</td>\n",
       "      <td>0.0</td>\n",
       "      <td>0.0</td>\n",
       "      <td>...</td>\n",
       "      <td>&lt;= $75,000, Above Poverty</td>\n",
       "      <td>Married</td>\n",
       "      <td>Own</td>\n",
       "      <td>Not in Labor Force</td>\n",
       "      <td>mlyzmhmf</td>\n",
       "      <td>MSA, Principle City</td>\n",
       "      <td>1.0</td>\n",
       "      <td>0.0</td>\n",
       "      <td>0</td>\n",
       "      <td>0</td>\n",
       "    </tr>\n",
       "  </tbody>\n",
       "</table>\n",
       "<p>26707 rows × 36 columns</p>\n",
       "</div>"
      ],
      "text/plain": [
       "       respondent_id  h1n1_concern  h1n1_knowledge  behavioral_antiviral_meds  \\\n",
       "0                  0           1.0             0.0                        0.0   \n",
       "1                  1           3.0             2.0                        0.0   \n",
       "2                  2           1.0             1.0                        0.0   \n",
       "3                  3           1.0             1.0                        0.0   \n",
       "4                  4           2.0             1.0                        0.0   \n",
       "...              ...           ...             ...                        ...   \n",
       "26702          26702           2.0             0.0                        0.0   \n",
       "26703          26703           1.0             2.0                        0.0   \n",
       "26704          26704           2.0             2.0                        0.0   \n",
       "26705          26705           1.0             1.0                        0.0   \n",
       "26706          26706           0.0             0.0                        0.0   \n",
       "\n",
       "       behavioral_avoidance  behavioral_face_mask  behavioral_wash_hands  \\\n",
       "0                       0.0                   0.0                    0.0   \n",
       "1                       1.0                   0.0                    1.0   \n",
       "2                       1.0                   0.0                    0.0   \n",
       "3                       1.0                   0.0                    1.0   \n",
       "4                       1.0                   0.0                    1.0   \n",
       "...                     ...                   ...                    ...   \n",
       "26702                   1.0                   0.0                    0.0   \n",
       "26703                   1.0                   0.0                    1.0   \n",
       "26704                   1.0                   1.0                    1.0   \n",
       "26705                   0.0                   0.0                    0.0   \n",
       "26706                   1.0                   0.0                    0.0   \n",
       "\n",
       "       behavioral_large_gatherings  behavioral_outside_home  \\\n",
       "0                              0.0                      1.0   \n",
       "1                              0.0                      1.0   \n",
       "2                              0.0                      0.0   \n",
       "3                              1.0                      0.0   \n",
       "4                              1.0                      0.0   \n",
       "...                            ...                      ...   \n",
       "26702                          0.0                      1.0   \n",
       "26703                          0.0                      0.0   \n",
       "26704                          1.0                      0.0   \n",
       "26705                          0.0                      0.0   \n",
       "26706                          0.0                      0.0   \n",
       "\n",
       "       behavioral_touch_face  ...             income_poverty  marital_status  \\\n",
       "0                        1.0  ...              Below Poverty     Not Married   \n",
       "1                        1.0  ...              Below Poverty     Not Married   \n",
       "2                        0.0  ...  <= $75,000, Above Poverty     Not Married   \n",
       "3                        0.0  ...              Below Poverty     Not Married   \n",
       "4                        1.0  ...  <= $75,000, Above Poverty         Married   \n",
       "...                      ...  ...                        ...             ...   \n",
       "26702                    0.0  ...  <= $75,000, Above Poverty     Not Married   \n",
       "26703                    0.0  ...  <= $75,000, Above Poverty     Not Married   \n",
       "26704                    1.0  ...                        NaN     Not Married   \n",
       "26705                    NaN  ...  <= $75,000, Above Poverty         Married   \n",
       "26706                    0.0  ...  <= $75,000, Above Poverty         Married   \n",
       "\n",
       "       rent_or_own   employment_status  hhs_geo_region  \\\n",
       "0              Own  Not in Labor Force        oxchjgsf   \n",
       "1             Rent            Employed        bhuqouqj   \n",
       "2              Own            Employed        qufhixun   \n",
       "3             Rent  Not in Labor Force        lrircsnp   \n",
       "4              Own            Employed        qufhixun   \n",
       "...            ...                 ...             ...   \n",
       "26702          Own  Not in Labor Force        qufhixun   \n",
       "26703         Rent            Employed        lzgpxyit   \n",
       "26704          Own                 NaN        lzgpxyit   \n",
       "26705         Rent            Employed        lrircsnp   \n",
       "26706          Own  Not in Labor Force        mlyzmhmf   \n",
       "\n",
       "                     census_msa  household_adults  household_children  \\\n",
       "0                       Non-MSA               0.0                 0.0   \n",
       "1      MSA, Not Principle  City               0.0                 0.0   \n",
       "2      MSA, Not Principle  City               2.0                 0.0   \n",
       "3           MSA, Principle City               0.0                 0.0   \n",
       "4      MSA, Not Principle  City               1.0                 0.0   \n",
       "...                         ...               ...                 ...   \n",
       "26702                   Non-MSA               0.0                 0.0   \n",
       "26703       MSA, Principle City               1.0                 0.0   \n",
       "26704  MSA, Not Principle  City               0.0                 0.0   \n",
       "26705                   Non-MSA               1.0                 0.0   \n",
       "26706       MSA, Principle City               1.0                 0.0   \n",
       "\n",
       "       h1n1_vaccine  seasonal_vaccine  \n",
       "0                 0                 0  \n",
       "1                 0                 1  \n",
       "2                 0                 0  \n",
       "3                 0                 1  \n",
       "4                 0                 0  \n",
       "...             ...               ...  \n",
       "26702             0                 0  \n",
       "26703             0                 0  \n",
       "26704             0                 1  \n",
       "26705             0                 0  \n",
       "26706             0                 0  \n",
       "\n",
       "[26707 rows x 36 columns]"
      ]
     },
     "execution_count": 8,
     "metadata": {},
     "output_type": "execute_result"
    }
   ],
   "source": [
    "df"
   ]
  },
  {
   "cell_type": "code",
   "execution_count": 9,
   "metadata": {
    "scrolled": true
   },
   "outputs": [
    {
     "data": {
      "text/plain": [
       "((26707, 23), (26707, 3), (26707, 10))"
      ]
     },
     "execution_count": 9,
     "metadata": {},
     "output_type": "execute_result"
    }
   ],
   "source": [
    "df_float = df.loc[:,df_raw.dtypes == 'float64']\n",
    "df_int = df.loc[:,df_raw.dtypes == 'int64']\n",
    "df_object = df.loc[:,df_raw.dtypes == 'object']\n",
    "df_float.shape, df_int.shape, df_object.shape"
   ]
  },
  {
   "cell_type": "code",
   "execution_count": 10,
   "metadata": {},
   "outputs": [
    {
     "data": {
      "text/plain": [
       "(26707, 26)"
      ]
     },
     "execution_count": 10,
     "metadata": {},
     "output_type": "execute_result"
    }
   ],
   "source": [
    "df_numeric = pd.concat([df_float, df_int], axis = 1)\n",
    "df_numeric.shape"
   ]
  },
  {
   "cell_type": "code",
   "execution_count": 11,
   "metadata": {},
   "outputs": [
    {
     "data": {
      "text/plain": [
       "(26707, 38)"
      ]
     },
     "execution_count": 11,
     "metadata": {},
     "output_type": "execute_result"
    }
   ],
   "source": [
    "df_cat_dummied_og = pd.get_dummies(df_object).astype('int64')\n",
    "df_cat_dummied_og.shape"
   ]
  },
  {
   "cell_type": "code",
   "execution_count": 12,
   "metadata": {
    "scrolled": true
   },
   "outputs": [
    {
     "data": {
      "text/html": [
       "<div>\n",
       "<style scoped>\n",
       "    .dataframe tbody tr th:only-of-type {\n",
       "        vertical-align: middle;\n",
       "    }\n",
       "\n",
       "    .dataframe tbody tr th {\n",
       "        vertical-align: top;\n",
       "    }\n",
       "\n",
       "    .dataframe thead th {\n",
       "        text-align: right;\n",
       "    }\n",
       "</style>\n",
       "<table border=\"1\" class=\"dataframe\">\n",
       "  <thead>\n",
       "    <tr style=\"text-align: right;\">\n",
       "      <th></th>\n",
       "      <th>h1n1_concern</th>\n",
       "      <th>h1n1_knowledge</th>\n",
       "      <th>behavioral_antiviral_meds</th>\n",
       "      <th>behavioral_avoidance</th>\n",
       "      <th>behavioral_face_mask</th>\n",
       "      <th>behavioral_wash_hands</th>\n",
       "      <th>behavioral_large_gatherings</th>\n",
       "      <th>behavioral_outside_home</th>\n",
       "      <th>behavioral_touch_face</th>\n",
       "      <th>doctor_recc_h1n1</th>\n",
       "      <th>...</th>\n",
       "      <th>hhs_geo_region_fpwskwrf</th>\n",
       "      <th>hhs_geo_region_kbazzjca</th>\n",
       "      <th>hhs_geo_region_lrircsnp</th>\n",
       "      <th>hhs_geo_region_lzgpxyit</th>\n",
       "      <th>hhs_geo_region_mlyzmhmf</th>\n",
       "      <th>hhs_geo_region_oxchjgsf</th>\n",
       "      <th>hhs_geo_region_qufhixun</th>\n",
       "      <th>census_msa_MSA, Not Principle  City</th>\n",
       "      <th>census_msa_MSA, Principle City</th>\n",
       "      <th>census_msa_Non-MSA</th>\n",
       "    </tr>\n",
       "  </thead>\n",
       "  <tbody>\n",
       "    <tr>\n",
       "      <th>0</th>\n",
       "      <td>1.0</td>\n",
       "      <td>0.0</td>\n",
       "      <td>0.0</td>\n",
       "      <td>0.0</td>\n",
       "      <td>0.0</td>\n",
       "      <td>0.0</td>\n",
       "      <td>0.0</td>\n",
       "      <td>1.0</td>\n",
       "      <td>1.0</td>\n",
       "      <td>0.0</td>\n",
       "      <td>...</td>\n",
       "      <td>0</td>\n",
       "      <td>0</td>\n",
       "      <td>0</td>\n",
       "      <td>0</td>\n",
       "      <td>0</td>\n",
       "      <td>1</td>\n",
       "      <td>0</td>\n",
       "      <td>0</td>\n",
       "      <td>0</td>\n",
       "      <td>1</td>\n",
       "    </tr>\n",
       "    <tr>\n",
       "      <th>1</th>\n",
       "      <td>3.0</td>\n",
       "      <td>2.0</td>\n",
       "      <td>0.0</td>\n",
       "      <td>1.0</td>\n",
       "      <td>0.0</td>\n",
       "      <td>1.0</td>\n",
       "      <td>0.0</td>\n",
       "      <td>1.0</td>\n",
       "      <td>1.0</td>\n",
       "      <td>0.0</td>\n",
       "      <td>...</td>\n",
       "      <td>0</td>\n",
       "      <td>0</td>\n",
       "      <td>0</td>\n",
       "      <td>0</td>\n",
       "      <td>0</td>\n",
       "      <td>0</td>\n",
       "      <td>0</td>\n",
       "      <td>1</td>\n",
       "      <td>0</td>\n",
       "      <td>0</td>\n",
       "    </tr>\n",
       "    <tr>\n",
       "      <th>2</th>\n",
       "      <td>1.0</td>\n",
       "      <td>1.0</td>\n",
       "      <td>0.0</td>\n",
       "      <td>1.0</td>\n",
       "      <td>0.0</td>\n",
       "      <td>0.0</td>\n",
       "      <td>0.0</td>\n",
       "      <td>0.0</td>\n",
       "      <td>0.0</td>\n",
       "      <td>NaN</td>\n",
       "      <td>...</td>\n",
       "      <td>0</td>\n",
       "      <td>0</td>\n",
       "      <td>0</td>\n",
       "      <td>0</td>\n",
       "      <td>0</td>\n",
       "      <td>0</td>\n",
       "      <td>1</td>\n",
       "      <td>1</td>\n",
       "      <td>0</td>\n",
       "      <td>0</td>\n",
       "    </tr>\n",
       "    <tr>\n",
       "      <th>3</th>\n",
       "      <td>1.0</td>\n",
       "      <td>1.0</td>\n",
       "      <td>0.0</td>\n",
       "      <td>1.0</td>\n",
       "      <td>0.0</td>\n",
       "      <td>1.0</td>\n",
       "      <td>1.0</td>\n",
       "      <td>0.0</td>\n",
       "      <td>0.0</td>\n",
       "      <td>0.0</td>\n",
       "      <td>...</td>\n",
       "      <td>0</td>\n",
       "      <td>0</td>\n",
       "      <td>1</td>\n",
       "      <td>0</td>\n",
       "      <td>0</td>\n",
       "      <td>0</td>\n",
       "      <td>0</td>\n",
       "      <td>0</td>\n",
       "      <td>1</td>\n",
       "      <td>0</td>\n",
       "    </tr>\n",
       "    <tr>\n",
       "      <th>4</th>\n",
       "      <td>2.0</td>\n",
       "      <td>1.0</td>\n",
       "      <td>0.0</td>\n",
       "      <td>1.0</td>\n",
       "      <td>0.0</td>\n",
       "      <td>1.0</td>\n",
       "      <td>1.0</td>\n",
       "      <td>0.0</td>\n",
       "      <td>1.0</td>\n",
       "      <td>0.0</td>\n",
       "      <td>...</td>\n",
       "      <td>0</td>\n",
       "      <td>0</td>\n",
       "      <td>0</td>\n",
       "      <td>0</td>\n",
       "      <td>0</td>\n",
       "      <td>0</td>\n",
       "      <td>1</td>\n",
       "      <td>1</td>\n",
       "      <td>0</td>\n",
       "      <td>0</td>\n",
       "    </tr>\n",
       "    <tr>\n",
       "      <th>...</th>\n",
       "      <td>...</td>\n",
       "      <td>...</td>\n",
       "      <td>...</td>\n",
       "      <td>...</td>\n",
       "      <td>...</td>\n",
       "      <td>...</td>\n",
       "      <td>...</td>\n",
       "      <td>...</td>\n",
       "      <td>...</td>\n",
       "      <td>...</td>\n",
       "      <td>...</td>\n",
       "      <td>...</td>\n",
       "      <td>...</td>\n",
       "      <td>...</td>\n",
       "      <td>...</td>\n",
       "      <td>...</td>\n",
       "      <td>...</td>\n",
       "      <td>...</td>\n",
       "      <td>...</td>\n",
       "      <td>...</td>\n",
       "      <td>...</td>\n",
       "    </tr>\n",
       "    <tr>\n",
       "      <th>26702</th>\n",
       "      <td>2.0</td>\n",
       "      <td>0.0</td>\n",
       "      <td>0.0</td>\n",
       "      <td>1.0</td>\n",
       "      <td>0.0</td>\n",
       "      <td>0.0</td>\n",
       "      <td>0.0</td>\n",
       "      <td>1.0</td>\n",
       "      <td>0.0</td>\n",
       "      <td>0.0</td>\n",
       "      <td>...</td>\n",
       "      <td>0</td>\n",
       "      <td>0</td>\n",
       "      <td>0</td>\n",
       "      <td>0</td>\n",
       "      <td>0</td>\n",
       "      <td>0</td>\n",
       "      <td>1</td>\n",
       "      <td>0</td>\n",
       "      <td>0</td>\n",
       "      <td>1</td>\n",
       "    </tr>\n",
       "    <tr>\n",
       "      <th>26703</th>\n",
       "      <td>1.0</td>\n",
       "      <td>2.0</td>\n",
       "      <td>0.0</td>\n",
       "      <td>1.0</td>\n",
       "      <td>0.0</td>\n",
       "      <td>1.0</td>\n",
       "      <td>0.0</td>\n",
       "      <td>0.0</td>\n",
       "      <td>0.0</td>\n",
       "      <td>1.0</td>\n",
       "      <td>...</td>\n",
       "      <td>0</td>\n",
       "      <td>0</td>\n",
       "      <td>0</td>\n",
       "      <td>1</td>\n",
       "      <td>0</td>\n",
       "      <td>0</td>\n",
       "      <td>0</td>\n",
       "      <td>0</td>\n",
       "      <td>1</td>\n",
       "      <td>0</td>\n",
       "    </tr>\n",
       "    <tr>\n",
       "      <th>26704</th>\n",
       "      <td>2.0</td>\n",
       "      <td>2.0</td>\n",
       "      <td>0.0</td>\n",
       "      <td>1.0</td>\n",
       "      <td>1.0</td>\n",
       "      <td>1.0</td>\n",
       "      <td>1.0</td>\n",
       "      <td>0.0</td>\n",
       "      <td>1.0</td>\n",
       "      <td>0.0</td>\n",
       "      <td>...</td>\n",
       "      <td>0</td>\n",
       "      <td>0</td>\n",
       "      <td>0</td>\n",
       "      <td>1</td>\n",
       "      <td>0</td>\n",
       "      <td>0</td>\n",
       "      <td>0</td>\n",
       "      <td>1</td>\n",
       "      <td>0</td>\n",
       "      <td>0</td>\n",
       "    </tr>\n",
       "    <tr>\n",
       "      <th>26705</th>\n",
       "      <td>1.0</td>\n",
       "      <td>1.0</td>\n",
       "      <td>0.0</td>\n",
       "      <td>0.0</td>\n",
       "      <td>0.0</td>\n",
       "      <td>0.0</td>\n",
       "      <td>0.0</td>\n",
       "      <td>0.0</td>\n",
       "      <td>NaN</td>\n",
       "      <td>0.0</td>\n",
       "      <td>...</td>\n",
       "      <td>0</td>\n",
       "      <td>0</td>\n",
       "      <td>1</td>\n",
       "      <td>0</td>\n",
       "      <td>0</td>\n",
       "      <td>0</td>\n",
       "      <td>0</td>\n",
       "      <td>0</td>\n",
       "      <td>0</td>\n",
       "      <td>1</td>\n",
       "    </tr>\n",
       "    <tr>\n",
       "      <th>26706</th>\n",
       "      <td>0.0</td>\n",
       "      <td>0.0</td>\n",
       "      <td>0.0</td>\n",
       "      <td>1.0</td>\n",
       "      <td>0.0</td>\n",
       "      <td>0.0</td>\n",
       "      <td>0.0</td>\n",
       "      <td>0.0</td>\n",
       "      <td>0.0</td>\n",
       "      <td>0.0</td>\n",
       "      <td>...</td>\n",
       "      <td>0</td>\n",
       "      <td>0</td>\n",
       "      <td>0</td>\n",
       "      <td>0</td>\n",
       "      <td>1</td>\n",
       "      <td>0</td>\n",
       "      <td>0</td>\n",
       "      <td>0</td>\n",
       "      <td>1</td>\n",
       "      <td>0</td>\n",
       "    </tr>\n",
       "  </tbody>\n",
       "</table>\n",
       "<p>26707 rows × 64 columns</p>\n",
       "</div>"
      ],
      "text/plain": [
       "       h1n1_concern  h1n1_knowledge  behavioral_antiviral_meds  \\\n",
       "0               1.0             0.0                        0.0   \n",
       "1               3.0             2.0                        0.0   \n",
       "2               1.0             1.0                        0.0   \n",
       "3               1.0             1.0                        0.0   \n",
       "4               2.0             1.0                        0.0   \n",
       "...             ...             ...                        ...   \n",
       "26702           2.0             0.0                        0.0   \n",
       "26703           1.0             2.0                        0.0   \n",
       "26704           2.0             2.0                        0.0   \n",
       "26705           1.0             1.0                        0.0   \n",
       "26706           0.0             0.0                        0.0   \n",
       "\n",
       "       behavioral_avoidance  behavioral_face_mask  behavioral_wash_hands  \\\n",
       "0                       0.0                   0.0                    0.0   \n",
       "1                       1.0                   0.0                    1.0   \n",
       "2                       1.0                   0.0                    0.0   \n",
       "3                       1.0                   0.0                    1.0   \n",
       "4                       1.0                   0.0                    1.0   \n",
       "...                     ...                   ...                    ...   \n",
       "26702                   1.0                   0.0                    0.0   \n",
       "26703                   1.0                   0.0                    1.0   \n",
       "26704                   1.0                   1.0                    1.0   \n",
       "26705                   0.0                   0.0                    0.0   \n",
       "26706                   1.0                   0.0                    0.0   \n",
       "\n",
       "       behavioral_large_gatherings  behavioral_outside_home  \\\n",
       "0                              0.0                      1.0   \n",
       "1                              0.0                      1.0   \n",
       "2                              0.0                      0.0   \n",
       "3                              1.0                      0.0   \n",
       "4                              1.0                      0.0   \n",
       "...                            ...                      ...   \n",
       "26702                          0.0                      1.0   \n",
       "26703                          0.0                      0.0   \n",
       "26704                          1.0                      0.0   \n",
       "26705                          0.0                      0.0   \n",
       "26706                          0.0                      0.0   \n",
       "\n",
       "       behavioral_touch_face  doctor_recc_h1n1  ...  hhs_geo_region_fpwskwrf  \\\n",
       "0                        1.0               0.0  ...                        0   \n",
       "1                        1.0               0.0  ...                        0   \n",
       "2                        0.0               NaN  ...                        0   \n",
       "3                        0.0               0.0  ...                        0   \n",
       "4                        1.0               0.0  ...                        0   \n",
       "...                      ...               ...  ...                      ...   \n",
       "26702                    0.0               0.0  ...                        0   \n",
       "26703                    0.0               1.0  ...                        0   \n",
       "26704                    1.0               0.0  ...                        0   \n",
       "26705                    NaN               0.0  ...                        0   \n",
       "26706                    0.0               0.0  ...                        0   \n",
       "\n",
       "       hhs_geo_region_kbazzjca  hhs_geo_region_lrircsnp  \\\n",
       "0                            0                        0   \n",
       "1                            0                        0   \n",
       "2                            0                        0   \n",
       "3                            0                        1   \n",
       "4                            0                        0   \n",
       "...                        ...                      ...   \n",
       "26702                        0                        0   \n",
       "26703                        0                        0   \n",
       "26704                        0                        0   \n",
       "26705                        0                        1   \n",
       "26706                        0                        0   \n",
       "\n",
       "       hhs_geo_region_lzgpxyit  hhs_geo_region_mlyzmhmf  \\\n",
       "0                            0                        0   \n",
       "1                            0                        0   \n",
       "2                            0                        0   \n",
       "3                            0                        0   \n",
       "4                            0                        0   \n",
       "...                        ...                      ...   \n",
       "26702                        0                        0   \n",
       "26703                        1                        0   \n",
       "26704                        1                        0   \n",
       "26705                        0                        0   \n",
       "26706                        0                        1   \n",
       "\n",
       "       hhs_geo_region_oxchjgsf  hhs_geo_region_qufhixun  \\\n",
       "0                            1                        0   \n",
       "1                            0                        0   \n",
       "2                            0                        1   \n",
       "3                            0                        0   \n",
       "4                            0                        1   \n",
       "...                        ...                      ...   \n",
       "26702                        0                        1   \n",
       "26703                        0                        0   \n",
       "26704                        0                        0   \n",
       "26705                        0                        0   \n",
       "26706                        0                        0   \n",
       "\n",
       "       census_msa_MSA, Not Principle  City  census_msa_MSA, Principle City  \\\n",
       "0                                        0                               0   \n",
       "1                                        1                               0   \n",
       "2                                        1                               0   \n",
       "3                                        0                               1   \n",
       "4                                        1                               0   \n",
       "...                                    ...                             ...   \n",
       "26702                                    0                               0   \n",
       "26703                                    0                               1   \n",
       "26704                                    1                               0   \n",
       "26705                                    0                               0   \n",
       "26706                                    0                               1   \n",
       "\n",
       "       census_msa_Non-MSA  \n",
       "0                       1  \n",
       "1                       0  \n",
       "2                       0  \n",
       "3                       0  \n",
       "4                       0  \n",
       "...                   ...  \n",
       "26702                   1  \n",
       "26703                   0  \n",
       "26704                   0  \n",
       "26705                   1  \n",
       "26706                   0  \n",
       "\n",
       "[26707 rows x 64 columns]"
      ]
     },
     "execution_count": 12,
     "metadata": {},
     "output_type": "execute_result"
    }
   ],
   "source": [
    "df_encoded = pd.concat([df_numeric, df_cat_dummied_og], axis=1)\n",
    "df_encoded"
   ]
  },
  {
   "cell_type": "markdown",
   "metadata": {},
   "source": [
    "dropping `health_insurance` from our final dataframe"
   ]
  },
  {
   "cell_type": "code",
   "execution_count": 13,
   "metadata": {},
   "outputs": [
    {
     "name": "stdout",
     "output_type": "stream",
     "text": [
      "<class 'pandas.core.frame.DataFrame'>\n",
      "Int64Index: 22976 entries, 0 to 26706\n",
      "Data columns (total 63 columns):\n",
      " #   Column                                    Non-Null Count  Dtype  \n",
      "---  ------                                    --------------  -----  \n",
      " 0   h1n1_concern                              22976 non-null  float64\n",
      " 1   h1n1_knowledge                            22976 non-null  float64\n",
      " 2   behavioral_antiviral_meds                 22976 non-null  float64\n",
      " 3   behavioral_avoidance                      22976 non-null  float64\n",
      " 4   behavioral_face_mask                      22976 non-null  float64\n",
      " 5   behavioral_wash_hands                     22976 non-null  float64\n",
      " 6   behavioral_large_gatherings               22976 non-null  float64\n",
      " 7   behavioral_outside_home                   22976 non-null  float64\n",
      " 8   behavioral_touch_face                     22976 non-null  float64\n",
      " 9   doctor_recc_h1n1                          22976 non-null  float64\n",
      " 10  doctor_recc_seasonal                      22976 non-null  float64\n",
      " 11  chronic_med_condition                     22976 non-null  float64\n",
      " 12  child_under_6_months                      22976 non-null  float64\n",
      " 13  health_worker                             22976 non-null  float64\n",
      " 14  opinion_h1n1_vacc_effective               22976 non-null  float64\n",
      " 15  opinion_h1n1_risk                         22976 non-null  float64\n",
      " 16  opinion_h1n1_sick_from_vacc               22976 non-null  float64\n",
      " 17  opinion_seas_vacc_effective               22976 non-null  float64\n",
      " 18  opinion_seas_risk                         22976 non-null  float64\n",
      " 19  opinion_seas_sick_from_vacc               22976 non-null  float64\n",
      " 20  household_adults                          22976 non-null  float64\n",
      " 21  household_children                        22976 non-null  float64\n",
      " 22  respondent_id                             22976 non-null  int64  \n",
      " 23  h1n1_vaccine                              22976 non-null  int64  \n",
      " 24  seasonal_vaccine                          22976 non-null  int64  \n",
      " 25  age_group_18 - 34 Years                   22976 non-null  int64  \n",
      " 26  age_group_35 - 44 Years                   22976 non-null  int64  \n",
      " 27  age_group_45 - 54 Years                   22976 non-null  int64  \n",
      " 28  age_group_55 - 64 Years                   22976 non-null  int64  \n",
      " 29  age_group_65+ Years                       22976 non-null  int64  \n",
      " 30  education_12 Years                        22976 non-null  int64  \n",
      " 31  education_< 12 Years                      22976 non-null  int64  \n",
      " 32  education_College Graduate                22976 non-null  int64  \n",
      " 33  education_Some College                    22976 non-null  int64  \n",
      " 34  race_Black                                22976 non-null  int64  \n",
      " 35  race_Hispanic                             22976 non-null  int64  \n",
      " 36  race_Other or Multiple                    22976 non-null  int64  \n",
      " 37  race_White                                22976 non-null  int64  \n",
      " 38  sex_Female                                22976 non-null  int64  \n",
      " 39  sex_Male                                  22976 non-null  int64  \n",
      " 40  income_poverty_<= $75,000, Above Poverty  22976 non-null  int64  \n",
      " 41  income_poverty_> $75,000                  22976 non-null  int64  \n",
      " 42  income_poverty_Below Poverty              22976 non-null  int64  \n",
      " 43  marital_status_Married                    22976 non-null  int64  \n",
      " 44  marital_status_Not Married                22976 non-null  int64  \n",
      " 45  rent_or_own_Own                           22976 non-null  int64  \n",
      " 46  rent_or_own_Rent                          22976 non-null  int64  \n",
      " 47  employment_status_Employed                22976 non-null  int64  \n",
      " 48  employment_status_Not in Labor Force      22976 non-null  int64  \n",
      " 49  employment_status_Unemployed              22976 non-null  int64  \n",
      " 50  hhs_geo_region_atmpeygn                   22976 non-null  int64  \n",
      " 51  hhs_geo_region_bhuqouqj                   22976 non-null  int64  \n",
      " 52  hhs_geo_region_dqpwygqj                   22976 non-null  int64  \n",
      " 53  hhs_geo_region_fpwskwrf                   22976 non-null  int64  \n",
      " 54  hhs_geo_region_kbazzjca                   22976 non-null  int64  \n",
      " 55  hhs_geo_region_lrircsnp                   22976 non-null  int64  \n",
      " 56  hhs_geo_region_lzgpxyit                   22976 non-null  int64  \n",
      " 57  hhs_geo_region_mlyzmhmf                   22976 non-null  int64  \n",
      " 58  hhs_geo_region_oxchjgsf                   22976 non-null  int64  \n",
      " 59  hhs_geo_region_qufhixun                   22976 non-null  int64  \n",
      " 60  census_msa_MSA, Not Principle  City       22976 non-null  int64  \n",
      " 61  census_msa_MSA, Principle City            22976 non-null  int64  \n",
      " 62  census_msa_Non-MSA                        22976 non-null  int64  \n",
      "dtypes: float64(22), int64(41)\n",
      "memory usage: 11.2 MB\n"
     ]
    }
   ],
   "source": [
    "df_clean = df_encoded.drop('health_insurance', axis =1)\n",
    "df_clean.dropna(inplace=True)\n",
    "df_clean.info()"
   ]
  },
  {
   "cell_type": "markdown",
   "metadata": {},
   "source": [
    "# Data Modeling Preparation\n",
    "## Splitting into train and test\n"
   ]
  },
  {
   "cell_type": "code",
   "execution_count": 14,
   "metadata": {},
   "outputs": [],
   "source": [
    "X1 = df_clean.drop(columns=['h1n1_vaccine', 'respondent_id'])\n",
    "y1 = df_clean['h1n1_vaccine']\n",
    "\n",
    "X1_train, X1_test, y1_train, y1_test = train_test_split(X1, y1, test_size=0.2, random_state=99)"
   ]
  },
  {
   "cell_type": "markdown",
   "metadata": {},
   "source": [
    "## Running the baseline classification model\n",
    "we run a model below that always chooses the majority class, in this case `0`: respondents who didn't get the vaccine"
   ]
  },
  {
   "cell_type": "code",
   "execution_count": 15,
   "metadata": {
    "scrolled": false
   },
   "outputs": [
    {
     "data": {
      "image/png": "[encoded data removed]",
      "text/plain": [
       "<Figure size 432x288 with 2 Axes>"
      ]
     },
     "metadata": {
      "needs_background": "light"
     },
     "output_type": "display_data"
    }
   ],
   "source": [
    "baseline_model = DummyClassifier(strategy='most_frequent')\n",
    "baseline_model.fit(X1_train, y1_train)\n",
    "plot_confusion_matrix(baseline_model, X1_test, y1_test, cmap='plasma');"
   ]
  },
  {
   "cell_type": "code",
   "execution_count": 16,
   "metadata": {},
   "outputs": [
    {
     "name": "stdout",
     "output_type": "stream",
     "text": [
      "Baseline Accuracy Score: 0.7693646649260226\n",
      "Baseline Precision Score: 0.0\n"
     ]
    },
    {
     "name": "stderr",
     "output_type": "stream",
     "text": [
      "C:\\Users\\Timbothy\\anaconda3\\envs\\learn-env\\lib\\site-packages\\sklearn\\metrics\\_classification.py:1221: UndefinedMetricWarning: Precision is ill-defined and being set to 0.0 due to no predicted samples. Use `zero_division` parameter to control this behavior.\n",
      "  _warn_prf(average, modifier, msg_start, len(result))\n"
     ]
    }
   ],
   "source": [
    "print(f'Baseline Accuracy Score: {accuracy_score(y1_test, baseline_model.predict(X1_test))}')\n",
    "print(f'Baseline Precision Score: {precision_score(y1_test, baseline_model.predict(X1_test))}')"
   ]
  },
  {
   "cell_type": "markdown",
   "metadata": {},
   "source": [
    "Our precision is 0 because our model predicts no positives, but our accuracy for the baseline is 77%\n",
    "\n",
    "# Feature selection with Random Forest Classifier"
   ]
  },
  {
   "cell_type": "markdown",
   "metadata": {},
   "source": [
    "### Grid- Searching for the best parameters based on precision\n",
    "given our business problem we chose to look at precision as our primary evaluation metric because ---TIM HELP!----"
   ]
  },
  {
   "cell_type": "markdown",
   "metadata": {},
   "source": [
    "Below we search for the best paramaters for our Random Forest Classifer using a GridSearchCV from sci-kit learn. Many attempts were made, and a more thorough process is given here <a href=\"google.com\">google filler NEED TO CHANGE</a>"
   ]
  },
  {
   "cell_type": "code",
   "execution_count": 17,
   "metadata": {},
   "outputs": [
    {
     "data": {
      "text/plain": [
       "{'criterion': 'entropy', 'max_depth': 5, 'min_samples_leaf': 500}"
      ]
     },
     "execution_count": 17,
     "metadata": {},
     "output_type": "execute_result"
    }
   ],
   "source": [
    "#choosing paramaters to iterate over given what we learned in our investigations (see link ^)\n",
    "tuned_parameters = {'min_samples_leaf': [10, 100, 200, 500],\n",
    "                   'criterion' :  ['gini', 'entropy'],\n",
    "                    'max_depth' : [None, 5, 7, 10, 20]\n",
    "                   }\n",
    "clf = GridSearchCV(RandomForestClassifier(n_estimators=300, random_state=99), \n",
    "                    tuned_parameters, cv=3, scoring=\"precision\")\n",
    "clf.fit(X1_train, y1_train)\n",
    "clf.best_params_"
   ]
  },
  {
   "cell_type": "code",
   "execution_count": 18,
   "metadata": {},
   "outputs": [
    {
     "data": {
      "text/plain": [
       "(0.798941798941799, 0.7939512619669278)"
      ]
     },
     "execution_count": 18,
     "metadata": {},
     "output_type": "execute_result"
    }
   ],
   "source": [
    "clf.score(X1_test, y1_test), accuracy_score(y1_test, clf.predict(X1_test))"
   ]
  },
  {
   "cell_type": "markdown",
   "metadata": {},
   "source": [
    "knowing that `n_estimators`, or the number of decision trees in our random forest, can improve rfc models, we increase it now that we no longer have to worry about the computationally heavy grid-searching "
   ]
  },
  {
   "cell_type": "markdown",
   "metadata": {},
   "source": [
    "### choosing our final feature selection model"
   ]
  },
  {
   "cell_type": "code",
   "execution_count": 19,
   "metadata": {},
   "outputs": [
    {
     "data": {
      "text/plain": [
       "0.7935779816513762"
      ]
     },
     "execution_count": 19,
     "metadata": {},
     "output_type": "execute_result"
    }
   ],
   "source": [
    "rfc_test1 = RandomForestClassifier(n_estimators=999, criterion='gini', min_samples_leaf=400 , max_depth =7, random_state=99)\n",
    "rfc_test1.fit(X1_train, y1_train)\n",
    "precision_score(y1_test, rfc_test1.predict(X1_test))"
   ]
  },
  {
   "cell_type": "code",
   "execution_count": 20,
   "metadata": {},
   "outputs": [
    {
     "data": {
      "text/plain": [
       "0.7972149695387293"
      ]
     },
     "execution_count": 20,
     "metadata": {},
     "output_type": "execute_result"
    }
   ],
   "source": [
    "#looking at the accuracy of our test as well\n",
    "accuracy_score(y1_test, rfc_test1.predict(X1_test))"
   ]
  },
  {
   "cell_type": "code",
   "execution_count": 21,
   "metadata": {},
   "outputs": [
    {
     "data": {
      "text/plain": [
       "0.8011363636363636"
      ]
     },
     "execution_count": 21,
     "metadata": {},
     "output_type": "execute_result"
    }
   ],
   "source": [
    "rfc_final = RandomForestClassifier(n_estimators=1000, criterion='entropy', min_samples_leaf=500 , max_depth =7, random_state=99)\n",
    "rfc_final.fit(X1_train, y1_train)\n",
    "precision_score(y1_test, rfc_final.predict(X1_test))"
   ]
  },
  {
   "cell_type": "code",
   "execution_count": 22,
   "metadata": {},
   "outputs": [
    {
     "data": {
      "text/plain": [
       "0.823943661971831"
      ]
     },
     "execution_count": 22,
     "metadata": {},
     "output_type": "execute_result"
    }
   ],
   "source": [
    "rfc_test2 = RandomForestClassifier(n_estimators=1000, criterion='entropy', min_samples_leaf=600 , max_depth =6, random_state=99)\n",
    "rfc_test2.fit(X1_train, y1_train)\n",
    "precision_score(y1_test, rfc_test2.predict(X1_test))"
   ]
  },
  {
   "cell_type": "code",
   "execution_count": 23,
   "metadata": {},
   "outputs": [
    {
     "data": {
      "text/plain": [
       "0.7972149695387293"
      ]
     },
     "execution_count": 23,
     "metadata": {},
     "output_type": "execute_result"
    }
   ],
   "source": [
    "#looking at the accuracy of our test as well\n",
    "accuracy_score(y1_test, rfc_test1.predict(X1_test))"
   ]
  },
  {
   "cell_type": "code",
   "execution_count": 24,
   "metadata": {
    "scrolled": true
   },
   "outputs": [
    {
     "data": {
      "text/plain": [
       "(array([0.80005441, 0.8054951 , 0.80005441, 0.79815016, 0.80195865]),\n",
       " array([0.76956522, 0.76931447, 0.76931447, 0.76931447, 0.76931447]))"
      ]
     },
     "execution_count": 24,
     "metadata": {},
     "output_type": "execute_result"
    }
   ],
   "source": [
    "#Training Cross-Validation, #Testing Cross-validation first test model\n",
    "cross_val_score(rfc_test1, X1_train, y1_train), cross_val_score(rfc_test1, X1_test, y1_test) "
   ]
  },
  {
   "cell_type": "code",
   "execution_count": 25,
   "metadata": {},
   "outputs": [
    {
     "data": {
      "text/plain": [
       "(array([0.79461371, 0.78998912, 0.79189336, 0.7921654 , 0.79406964]),\n",
       " array([0.76956522, 0.76931447, 0.76931447, 0.76931447, 0.76931447]))"
      ]
     },
     "execution_count": 25,
     "metadata": {},
     "output_type": "execute_result"
    }
   ],
   "source": [
    "#Training Cross-Validation, #Testing Cross-validation final model \n",
    "cross_val_score(rfc_final, X1_train, y1_train), cross_val_score(rfc_final, X1_test, y1_test) "
   ]
  },
  {
   "cell_type": "code",
   "execution_count": 26,
   "metadata": {},
   "outputs": [
    {
     "data": {
      "text/plain": [
       "(array([0.78373232, 0.78210011, 0.78019587, 0.78264418, 0.78618063]),\n",
       " array([0.76956522, 0.76931447, 0.76931447, 0.76931447, 0.76931447]))"
      ]
     },
     "execution_count": 26,
     "metadata": {},
     "output_type": "execute_result"
    }
   ],
   "source": [
    "#Training Cross-Validation, #Testing Cross-validation final model \n",
    "cross_val_score(rfc_test2, X1_train, y1_train), cross_val_score(rfc_test2, X1_test, y1_test) "
   ]
  },
  {
   "cell_type": "code",
   "execution_count": 27,
   "metadata": {},
   "outputs": [
    {
     "data": {
      "image/png": "[encoded data removed]",
      "text/plain": [
       "<Figure size 432x288 with 2 Axes>"
      ]
     },
     "metadata": {
      "needs_background": "light"
     },
     "output_type": "display_data"
    },
    {
     "data": {
      "image/png": "[encoded data removed]",
      "text/plain": [
       "<Figure size 432x288 with 1 Axes>"
      ]
     },
     "metadata": {
      "needs_background": "light"
     },
     "output_type": "display_data"
    },
    {
     "data": {
      "image/png": "[encoded data removed]",
      "text/plain": [
       "<Figure size 432x288 with 1 Axes>"
      ]
     },
     "metadata": {
      "needs_background": "light"
     },
     "output_type": "display_data"
    },
    {
     "data": {
      "image/png": "[encoded data removed]",
      "text/plain": [
       "<Figure size 432x288 with 1 Axes>"
      ]
     },
     "metadata": {
      "needs_background": "light"
     },
     "output_type": "display_data"
    }
   ],
   "source": [
    "plot_confusion_matrix(rfc_final, X1_test, y1_test, cmap='plasma')\n",
    "rfc_list = [rfc_test1, rfc_test2, rfc_final]\n",
    "for x in rfc_list:\n",
    "    plot_roc_curve(x, X1_test, y1_test) "
   ]
  },
  {
   "cell_type": "markdown",
   "metadata": {},
   "source": [
    "### Interpreting and choosing our model for feature selection\n",
    "as we see all of these models are overfitting on accuracy, we choose Random Forest Classification model with the best precision score, `rfc_final`, as we're only using it for selection for now and know trees have a tendency to overfit by their very nature."
   ]
  },
  {
   "cell_type": "markdown",
   "metadata": {},
   "source": [
    "### Combining features identified from Heatmap and RFC"
   ]
  },
  {
   "cell_type": "code",
   "execution_count": 28,
   "metadata": {},
   "outputs": [
    {
     "data": {
      "text/plain": [
       "{'seasonal_vaccine': 0.26638716774438304,\n",
       " 'doctor_recc_h1n1': 0.20010678257848077,\n",
       " 'opinion_h1n1_risk': 0.15260007002742337,\n",
       " 'opinion_h1n1_vacc_effective': 0.11333219470634394,\n",
       " 'opinion_seas_risk': 0.0757703869451454,\n",
       " 'doctor_recc_seasonal': 0.053352435788768804,\n",
       " 'opinion_seas_vacc_effective': 0.038186132115727994,\n",
       " 'health_worker': 0.023010064556950247,\n",
       " 'h1n1_knowledge': 0.014761165007606554,\n",
       " 'h1n1_concern': 0.014018470172884098,\n",
       " 'opinion_h1n1_sick_from_vacc': 0.009840276353731702,\n",
       " 'chronic_med_condition': 0.0066662582445157215,\n",
       " 'education_College Graduate': 0.004011201200695646,\n",
       " 'behavioral_wash_hands': 0.002691920346139515,\n",
       " 'behavioral_touch_face': 0.0020379320195555526,\n",
       " 'age_group_65+ Years': 0.0019463219621420628,\n",
       " 'employment_status_Employed': 0.0018513953879815523,\n",
       " 'marital_status_Married': 0.001792027244756522,\n",
       " 'opinion_seas_sick_from_vacc': 0.0017676333031030487,\n",
       " 'income_poverty_> $75,000': 0.0014723964501597406,\n",
       " 'marital_status_Not Married': 0.0014656763345683521,\n",
       " 'employment_status_Not in Labor Force': 0.0013904970505736014,\n",
       " 'behavioral_face_mask': 0.0009589925893919717,\n",
       " 'child_under_6_months': 0.000924510371408915,\n",
       " 'race_White': 0.0007463342368221309,\n",
       " 'behavioral_avoidance': 0.0007459014241698386,\n",
       " 'household_adults': 0.0006737401734424205,\n",
       " 'education_12 Years': 0.0006439855142994959,\n",
       " 'sex_Male': 0.0005860960613741061,\n",
       " 'behavioral_large_gatherings': 0.0005621073696201153,\n",
       " 'behavioral_outside_home': 0.0005538287082479031,\n",
       " 'household_children': 0.0005249854763386278,\n",
       " 'rent_or_own_Own': 0.0005036572879003251,\n",
       " 'income_poverty_<= $75,000, Above Poverty': 0.0005016963896748569,\n",
       " 'sex_Female': 0.0004891290975607137,\n",
       " 'age_group_55 - 64 Years': 0.0004717247241930926,\n",
       " 'age_group_18 - 34 Years': 0.0003710633464060895,\n",
       " 'age_group_45 - 54 Years': 0.00032663622391213503,\n",
       " 'rent_or_own_Rent': 0.0003205548398658203,\n",
       " 'race_Black': 0.0002741546303877569,\n",
       " 'hhs_geo_region_lzgpxyit': 0.0002640385649444264,\n",
       " 'census_msa_MSA, Not Principle  City': 0.0002518930943310175,\n",
       " 'education_Some College': 0.00019232447823080246,\n",
       " 'education_< 12 Years': 9.21099758150204e-05,\n",
       " 'census_msa_Non-MSA': 9.182522549250274e-05,\n",
       " 'census_msa_MSA, Principle City': 7.5925502876534e-05,\n",
       " 'hhs_geo_region_bhuqouqj': 7.290952576157576e-05,\n",
       " 'age_group_35 - 44 Years': 6.946818927759138e-05,\n",
       " 'behavioral_antiviral_meds': 6.500243132362581e-05,\n",
       " 'income_poverty_Below Poverty': 6.0747106738648796e-05,\n",
       " 'race_Hispanic': 3.2655115605407915e-05,\n",
       " 'hhs_geo_region_mlyzmhmf': 3.071040071994932e-05,\n",
       " 'hhs_geo_region_oxchjgsf': 2.4950390913919338e-05,\n",
       " 'employment_status_Unemployed': 1.3250100403948399e-05,\n",
       " 'hhs_geo_region_qufhixun': 1.1802993107897218e-05,\n",
       " 'hhs_geo_region_kbazzjca': 7.605970721582188e-06,\n",
       " 'hhs_geo_region_lrircsnp': 3.26918092905476e-06,\n",
       " 'hhs_geo_region_fpwskwrf': 2.007746152937933e-06,\n",
       " 'race_Other or Multiple': 0.0,\n",
       " 'hhs_geo_region_atmpeygn': 0.0,\n",
       " 'hhs_geo_region_dqpwygqj': 0.0}"
      ]
     },
     "execution_count": 28,
     "metadata": {},
     "output_type": "execute_result"
    }
   ],
   "source": [
    "#extracting features from our RFC\n",
    "feat_import_rfc = {name: score \n",
    "                   for name, score \n",
    "                       in zip(X1_test.columns, rfc_final.feature_importances_)}\n",
    "#sorting by feature strength\n",
    "rfc_feat_sorted = dict(sorted(feat_import_rfc.items(), key=lambda item: item[1], reverse=True))\n",
    "rfc_feat_sorted"
   ]
  },
  {
   "cell_type": "code",
   "execution_count": 29,
   "metadata": {
    "scrolled": true
   },
   "outputs": [
    {
     "data": {
      "text/plain": [
       "35"
      ]
     },
     "execution_count": 29,
     "metadata": {},
     "output_type": "execute_result"
    }
   ],
   "source": [
    "#pulling top few features from our numerical features\n",
    "top_features = []\n",
    "for ind in df_numeric.corr()['h1n1_vaccine'].index:\n",
    "    if abs(df_numeric.corr()['h1n1_vaccine'][ind]) > 0.1:\n",
    "        top_features.append(ind)\n",
    "\n",
    "#pulling the top few features from our dummied columns based off correlation\n",
    "dummied_w_target = pd.concat([df_cat_dummied_og,df['h1n1_vaccine'],df['seasonal_vaccine']], axis=1)\n",
    "top_features_dummied = []\n",
    "for ind in dummied_w_target.corr()['h1n1_vaccine'].index:\n",
    "    if abs(dummied_w_target.corr()['h1n1_vaccine'][ind]) > 0.035:\n",
    "        top_features_dummied.append(ind)\n",
    "top_features_dummied.sort()\n",
    "top_features_dummied\n",
    "\n",
    "top_features_corr = top_features + top_features_dummied # combining top features from numerical and categorical columns\n",
    "\n",
    "# Extracting top features from random forest\n",
    "import itertools\n",
    "top_30_feat = dict(itertools.islice(rfc_feat_sorted.items(), 30))\n",
    "top_30_feat_list = [key for key, val in top_30_feat.items()]\n",
    "\n",
    "# combining top features from random forest and heatmap\n",
    "top_feat_list = list(set(top_30_feat_list + top_features_corr)) \n",
    "top_feat_list.remove('health_insurance')\n",
    "len(top_feat_list)"
   ]
  },
  {
   "cell_type": "code",
   "execution_count": 30,
   "metadata": {},
   "outputs": [
    {
     "data": {
      "text/plain": [
       "['h1n1_concern',\n",
       " 'h1n1_knowledge',\n",
       " 'doctor_recc_h1n1',\n",
       " 'doctor_recc_seasonal',\n",
       " 'health_worker',\n",
       " 'health_insurance',\n",
       " 'opinion_h1n1_vacc_effective',\n",
       " 'opinion_h1n1_risk',\n",
       " 'opinion_seas_vacc_effective',\n",
       " 'opinion_seas_risk',\n",
       " 'h1n1_vaccine',\n",
       " 'seasonal_vaccine']"
      ]
     },
     "execution_count": 30,
     "metadata": {},
     "output_type": "execute_result"
    }
   ],
   "source": [
    "top_features"
   ]
  },
  {
   "cell_type": "markdown",
   "metadata": {},
   "source": [
    "now we have a list of features based on feature importance from both correlataion and our the most common splits in our Random Forest's decision trees. "
   ]
  },
  {
   "cell_type": "markdown",
   "metadata": {},
   "source": [
    "## Recreating the dataframe using the most impotant features identfied by correlation and RFC\n",
    "while we lost over 20% of our data initially in cleaning, we apply our new features to our `df_raw` to see if data cleaning using only these selected features can help curb data loss"
   ]
  },
  {
   "cell_type": "code",
   "execution_count": 31,
   "metadata": {},
   "outputs": [],
   "source": [
    "#### going back to our original dataset\n",
    "df_feats = df_clean[top_feat_list]\n",
    "df_feats = df_feats.dropna()"
   ]
  },
  {
   "cell_type": "code",
   "execution_count": 32,
   "metadata": {},
   "outputs": [
    {
     "name": "stdout",
     "output_type": "stream",
     "text": [
      "<class 'pandas.core.frame.DataFrame'>\n",
      "Int64Index: 22976 entries, 0 to 26706\n",
      "Data columns (total 35 columns):\n",
      " #   Column                                Non-Null Count  Dtype  \n",
      "---  ------                                --------------  -----  \n",
      " 0   employment_status_Employed            22976 non-null  int64  \n",
      " 1   age_group_65+ Years                   22976 non-null  int64  \n",
      " 2   income_poverty_> $75,000              22976 non-null  int64  \n",
      " 3   race_White                            22976 non-null  int64  \n",
      " 4   opinion_h1n1_sick_from_vacc           22976 non-null  float64\n",
      " 5   opinion_h1n1_risk                     22976 non-null  float64\n",
      " 6   h1n1_vaccine                          22976 non-null  int64  \n",
      " 7   race_Black                            22976 non-null  int64  \n",
      " 8   opinion_h1n1_vacc_effective           22976 non-null  float64\n",
      " 9   household_adults                      22976 non-null  float64\n",
      " 10  marital_status_Married                22976 non-null  int64  \n",
      " 11  rent_or_own_Own                       22976 non-null  int64  \n",
      " 12  seasonal_vaccine                      22976 non-null  int64  \n",
      " 13  opinion_seas_sick_from_vacc           22976 non-null  float64\n",
      " 14  doctor_recc_seasonal                  22976 non-null  float64\n",
      " 15  age_group_55 - 64 Years               22976 non-null  int64  \n",
      " 16  h1n1_concern                          22976 non-null  float64\n",
      " 17  behavioral_touch_face                 22976 non-null  float64\n",
      " 18  child_under_6_months                  22976 non-null  float64\n",
      " 19  behavioral_avoidance                  22976 non-null  float64\n",
      " 20  opinion_seas_risk                     22976 non-null  float64\n",
      " 21  behavioral_wash_hands                 22976 non-null  float64\n",
      " 22  opinion_seas_vacc_effective           22976 non-null  float64\n",
      " 23  doctor_recc_h1n1                      22976 non-null  float64\n",
      " 24  education_College Graduate            22976 non-null  int64  \n",
      " 25  education_12 Years                    22976 non-null  int64  \n",
      " 26  employment_status_Not in Labor Force  22976 non-null  int64  \n",
      " 27  hhs_geo_region_bhuqouqj               22976 non-null  int64  \n",
      " 28  health_worker                         22976 non-null  float64\n",
      " 29  chronic_med_condition                 22976 non-null  float64\n",
      " 30  marital_status_Not Married            22976 non-null  int64  \n",
      " 31  sex_Male                              22976 non-null  int64  \n",
      " 32  behavioral_large_gatherings           22976 non-null  float64\n",
      " 33  h1n1_knowledge                        22976 non-null  float64\n",
      " 34  behavioral_face_mask                  22976 non-null  float64\n",
      "dtypes: float64(19), int64(16)\n",
      "memory usage: 6.3 MB\n"
     ]
    }
   ],
   "source": [
    "### cleaning our new dataset\n",
    "df_feats.info()"
   ]
  },
  {
   "cell_type": "markdown",
   "metadata": {},
   "source": [
    "# Logistic Regression Model creating and tuning\n",
    "# Model 1\n",
    "### Running a basic logistic regression"
   ]
  },
  {
   "cell_type": "code",
   "execution_count": 33,
   "metadata": {},
   "outputs": [
    {
     "name": "stdout",
     "output_type": "stream",
     "text": [
      "<class 'pandas.core.frame.DataFrame'>\n",
      "Int64Index: 22976 entries, 0 to 26706\n",
      "Data columns (total 35 columns):\n",
      " #   Column                                Non-Null Count  Dtype  \n",
      "---  ------                                --------------  -----  \n",
      " 0   employment_status_Employed            22976 non-null  int64  \n",
      " 1   age_group_65+ Years                   22976 non-null  int64  \n",
      " 2   income_poverty_> $75,000              22976 non-null  int64  \n",
      " 3   race_White                            22976 non-null  int64  \n",
      " 4   opinion_h1n1_sick_from_vacc           22976 non-null  float64\n",
      " 5   opinion_h1n1_risk                     22976 non-null  float64\n",
      " 6   h1n1_vaccine                          22976 non-null  int64  \n",
      " 7   race_Black                            22976 non-null  int64  \n",
      " 8   opinion_h1n1_vacc_effective           22976 non-null  float64\n",
      " 9   household_adults                      22976 non-null  float64\n",
      " 10  marital_status_Married                22976 non-null  int64  \n",
      " 11  rent_or_own_Own                       22976 non-null  int64  \n",
      " 12  seasonal_vaccine                      22976 non-null  int64  \n",
      " 13  opinion_seas_sick_from_vacc           22976 non-null  float64\n",
      " 14  doctor_recc_seasonal                  22976 non-null  float64\n",
      " 15  age_group_55 - 64 Years               22976 non-null  int64  \n",
      " 16  h1n1_concern                          22976 non-null  float64\n",
      " 17  behavioral_touch_face                 22976 non-null  float64\n",
      " 18  child_under_6_months                  22976 non-null  float64\n",
      " 19  behavioral_avoidance                  22976 non-null  float64\n",
      " 20  opinion_seas_risk                     22976 non-null  float64\n",
      " 21  behavioral_wash_hands                 22976 non-null  float64\n",
      " 22  opinion_seas_vacc_effective           22976 non-null  float64\n",
      " 23  doctor_recc_h1n1                      22976 non-null  float64\n",
      " 24  education_College Graduate            22976 non-null  int64  \n",
      " 25  education_12 Years                    22976 non-null  int64  \n",
      " 26  employment_status_Not in Labor Force  22976 non-null  int64  \n",
      " 27  hhs_geo_region_bhuqouqj               22976 non-null  int64  \n",
      " 28  health_worker                         22976 non-null  float64\n",
      " 29  chronic_med_condition                 22976 non-null  float64\n",
      " 30  marital_status_Not Married            22976 non-null  int64  \n",
      " 31  sex_Male                              22976 non-null  int64  \n",
      " 32  behavioral_large_gatherings           22976 non-null  float64\n",
      " 33  h1n1_knowledge                        22976 non-null  float64\n",
      " 34  behavioral_face_mask                  22976 non-null  float64\n",
      "dtypes: float64(19), int64(16)\n",
      "memory usage: 6.3 MB\n"
     ]
    }
   ],
   "source": [
    "df_feats.info()"
   ]
  },
  {
   "cell_type": "code",
   "execution_count": 34,
   "metadata": {},
   "outputs": [],
   "source": [
    "###Running a new train test split\n",
    "X=df_feats.drop(columns=['h1n1_vaccine'])\n",
    "y=df_feats['h1n1_vaccine']\n",
    "\n",
    "X_train, X_test, y_train, y_test = train_test_split(X,y, test_size=0.2, random_state=99)"
   ]
  },
  {
   "cell_type": "code",
   "execution_count": 35,
   "metadata": {},
   "outputs": [
    {
     "name": "stdout",
     "output_type": "stream",
     "text": [
      "baseline logistic regression accuracy score: 0.8453002610966057\n",
      "baseline logistic regression precision score: 0.7130647130647131\n"
     ]
    }
   ],
   "source": [
    "lr_baseline = LogisticRegression(max_iter=500)\n",
    "lr_baseline.fit(X_train,y_train)\n",
    "print(f'baseline logistic regression accuracy score: {lr_baseline.score(X_test, y_test)}')\n",
    "print(f'baseline logistic regression precision score: { precision_score(y_test, lr_baseline.predict(X_test))}')"
   ]
  },
  {
   "cell_type": "markdown",
   "metadata": {},
   "source": [
    "clearly we would like to improve on this precision, since our random forest was able to get a much higher precision. Below we'll evaluate how to improve our precision score. we'll check the cross val score, and use stats-models for the summary to eliminate insignificant features. \n"
   ]
  },
  {
   "cell_type": "code",
   "execution_count": 36,
   "metadata": {},
   "outputs": [
    {
     "data": {
      "text/plain": [
       "(array([0.67921687, 0.72926448, 0.72504092, 0.71749599, 0.68495298]),\n",
       " array([0.74657534, 0.67977528, 0.67682927, 0.72916667, 0.71428571]))"
      ]
     },
     "execution_count": 36,
     "metadata": {},
     "output_type": "execute_result"
    }
   ],
   "source": [
    "cross_val_score(lr_baseline, X_train, y_train, scoring='precision'), cross_val_score(lr_baseline, X_test, y_test, scoring='precision')"
   ]
  },
  {
   "cell_type": "markdown",
   "metadata": {},
   "source": [
    "just to double check how its fitting on accuracy"
   ]
  },
  {
   "cell_type": "code",
   "execution_count": 37,
   "metadata": {},
   "outputs": [
    {
     "data": {
      "text/plain": [
       "(array([0.84031556, 0.85527748, 0.85038085, 0.84929271, 0.83977149]),\n",
       " array([0.84782609, 0.83895539, 0.83242655, 0.84113166, 0.84439608]))"
      ]
     },
     "execution_count": 37,
     "metadata": {},
     "output_type": "execute_result"
    }
   ],
   "source": [
    "cross_val_score(lr_baseline, X_train, y_train), cross_val_score(lr_baseline, X_test, y_test)"
   ]
  },
  {
   "cell_type": "code",
   "execution_count": 38,
   "metadata": {
    "scrolled": true
   },
   "outputs": [
    {
     "name": "stdout",
     "output_type": "stream",
     "text": [
      "Optimization terminated successfully.\n",
      "         Current function value: 0.370927\n",
      "         Iterations 7\n"
     ]
    },
    {
     "data": {
      "text/html": [
       "<table class=\"simpletable\">\n",
       "<caption>Logit Regression Results</caption>\n",
       "<tr>\n",
       "  <th>Dep. Variable:</th>     <td>h1n1_vaccine</td>   <th>  No. Observations:  </th>  <td> 18380</td> \n",
       "</tr>\n",
       "<tr>\n",
       "  <th>Model:</th>                 <td>Logit</td>      <th>  Df Residuals:      </th>  <td> 18346</td> \n",
       "</tr>\n",
       "<tr>\n",
       "  <th>Method:</th>                 <td>MLE</td>       <th>  Df Model:          </th>  <td>    33</td> \n",
       "</tr>\n",
       "<tr>\n",
       "  <th>Date:</th>            <td>Sun, 13 Mar 2022</td> <th>  Pseudo R-squ.:     </th>  <td>0.3034</td> \n",
       "</tr>\n",
       "<tr>\n",
       "  <th>Time:</th>                <td>18:20:34</td>     <th>  Log-Likelihood:    </th> <td> -6817.6</td>\n",
       "</tr>\n",
       "<tr>\n",
       "  <th>converged:</th>             <td>True</td>       <th>  LL-Null:           </th> <td> -9786.5</td>\n",
       "</tr>\n",
       "<tr>\n",
       "  <th>Covariance Type:</th>     <td>nonrobust</td>    <th>  LLR p-value:       </th>  <td> 0.000</td> \n",
       "</tr>\n",
       "</table>\n",
       "<table class=\"simpletable\">\n",
       "<tr>\n",
       "                    <td></td>                      <th>coef</th>     <th>std err</th>      <th>z</th>      <th>P>|z|</th>  <th>[0.025</th>    <th>0.975]</th>  \n",
       "</tr>\n",
       "<tr>\n",
       "  <th>employment_status_Employed</th>           <td>   -0.2867</td> <td>    0.095</td> <td>   -3.013</td> <td> 0.003</td> <td>   -0.473</td> <td>   -0.100</td>\n",
       "</tr>\n",
       "<tr>\n",
       "  <th>age_group_65+ Years</th>                  <td>   -0.0599</td> <td>    0.067</td> <td>   -0.898</td> <td> 0.369</td> <td>   -0.191</td> <td>    0.071</td>\n",
       "</tr>\n",
       "<tr>\n",
       "  <th>income_poverty_> $75,000</th>             <td>    0.0457</td> <td>    0.056</td> <td>    0.815</td> <td> 0.415</td> <td>   -0.064</td> <td>    0.156</td>\n",
       "</tr>\n",
       "<tr>\n",
       "  <th>race_White</th>                           <td>   -0.6001</td> <td>    0.065</td> <td>   -9.280</td> <td> 0.000</td> <td>   -0.727</td> <td>   -0.473</td>\n",
       "</tr>\n",
       "<tr>\n",
       "  <th>opinion_h1n1_sick_from_vacc</th>          <td>   -0.0269</td> <td>    0.019</td> <td>   -1.391</td> <td> 0.164</td> <td>   -0.065</td> <td>    0.011</td>\n",
       "</tr>\n",
       "<tr>\n",
       "  <th>opinion_h1n1_risk</th>                    <td>    0.4063</td> <td>    0.021</td> <td>   19.384</td> <td> 0.000</td> <td>    0.365</td> <td>    0.447</td>\n",
       "</tr>\n",
       "<tr>\n",
       "  <th>race_Black</th>                           <td>   -0.8406</td> <td>    0.105</td> <td>   -7.975</td> <td> 0.000</td> <td>   -1.047</td> <td>   -0.634</td>\n",
       "</tr>\n",
       "<tr>\n",
       "  <th>opinion_h1n1_vacc_effective</th>          <td>    0.3914</td> <td>    0.027</td> <td>   14.610</td> <td> 0.000</td> <td>    0.339</td> <td>    0.444</td>\n",
       "</tr>\n",
       "<tr>\n",
       "  <th>household_adults</th>                     <td>   -0.1973</td> <td>    0.033</td> <td>   -5.892</td> <td> 0.000</td> <td>   -0.263</td> <td>   -0.132</td>\n",
       "</tr>\n",
       "<tr>\n",
       "  <th>marital_status_Married</th>               <td>   -2.2819</td> <td>    0.135</td> <td>  -16.941</td> <td> 0.000</td> <td>   -2.546</td> <td>   -2.018</td>\n",
       "</tr>\n",
       "<tr>\n",
       "  <th>rent_or_own_Own</th>                      <td>   -0.0227</td> <td>    0.056</td> <td>   -0.404</td> <td> 0.686</td> <td>   -0.133</td> <td>    0.087</td>\n",
       "</tr>\n",
       "<tr>\n",
       "  <th>seasonal_vaccine</th>                     <td>    2.1167</td> <td>    0.057</td> <td>   37.294</td> <td> 0.000</td> <td>    2.005</td> <td>    2.228</td>\n",
       "</tr>\n",
       "<tr>\n",
       "  <th>opinion_seas_sick_from_vacc</th>          <td>   -0.1108</td> <td>    0.019</td> <td>   -5.786</td> <td> 0.000</td> <td>   -0.148</td> <td>   -0.073</td>\n",
       "</tr>\n",
       "<tr>\n",
       "  <th>doctor_recc_seasonal</th>                 <td>   -1.0270</td> <td>    0.063</td> <td>  -16.250</td> <td> 0.000</td> <td>   -1.151</td> <td>   -0.903</td>\n",
       "</tr>\n",
       "<tr>\n",
       "  <th>age_group_55 - 64 Years</th>              <td>    0.1225</td> <td>    0.058</td> <td>    2.113</td> <td> 0.035</td> <td>    0.009</td> <td>    0.236</td>\n",
       "</tr>\n",
       "<tr>\n",
       "  <th>h1n1_concern</th>                         <td>   -0.1344</td> <td>    0.029</td> <td>   -4.572</td> <td> 0.000</td> <td>   -0.192</td> <td>   -0.077</td>\n",
       "</tr>\n",
       "<tr>\n",
       "  <th>behavioral_touch_face</th>                <td>   -0.0921</td> <td>    0.054</td> <td>   -1.718</td> <td> 0.086</td> <td>   -0.197</td> <td>    0.013</td>\n",
       "</tr>\n",
       "<tr>\n",
       "  <th>child_under_6_months</th>                 <td>    0.1409</td> <td>    0.074</td> <td>    1.892</td> <td> 0.058</td> <td>   -0.005</td> <td>    0.287</td>\n",
       "</tr>\n",
       "<tr>\n",
       "  <th>behavioral_avoidance</th>                 <td>   -0.0776</td> <td>    0.055</td> <td>   -1.405</td> <td> 0.160</td> <td>   -0.186</td> <td>    0.031</td>\n",
       "</tr>\n",
       "<tr>\n",
       "  <th>opinion_seas_risk</th>                    <td>   -0.0215</td> <td>    0.021</td> <td>   -1.041</td> <td> 0.298</td> <td>   -0.062</td> <td>    0.019</td>\n",
       "</tr>\n",
       "<tr>\n",
       "  <th>behavioral_wash_hands</th>                <td>   -0.3014</td> <td>    0.067</td> <td>   -4.483</td> <td> 0.000</td> <td>   -0.433</td> <td>   -0.170</td>\n",
       "</tr>\n",
       "<tr>\n",
       "  <th>opinion_seas_vacc_effective</th>          <td>   -0.2659</td> <td>    0.025</td> <td>  -10.570</td> <td> 0.000</td> <td>   -0.315</td> <td>   -0.217</td>\n",
       "</tr>\n",
       "<tr>\n",
       "  <th>doctor_recc_h1n1</th>                     <td>    2.2923</td> <td>    0.064</td> <td>   35.719</td> <td> 0.000</td> <td>    2.167</td> <td>    2.418</td>\n",
       "</tr>\n",
       "<tr>\n",
       "  <th>education_College Graduate</th>           <td>    0.0801</td> <td>    0.054</td> <td>    1.494</td> <td> 0.135</td> <td>   -0.025</td> <td>    0.185</td>\n",
       "</tr>\n",
       "<tr>\n",
       "  <th>education_12 Years</th>                   <td>    0.0010</td> <td>    0.060</td> <td>    0.017</td> <td> 0.986</td> <td>   -0.117</td> <td>    0.119</td>\n",
       "</tr>\n",
       "<tr>\n",
       "  <th>employment_status_Not in Labor Force</th> <td>   -0.2069</td> <td>    0.098</td> <td>   -2.104</td> <td> 0.035</td> <td>   -0.400</td> <td>   -0.014</td>\n",
       "</tr>\n",
       "<tr>\n",
       "  <th>hhs_geo_region_bhuqouqj</th>              <td>   -0.0083</td> <td>    0.069</td> <td>   -0.121</td> <td> 0.903</td> <td>   -0.143</td> <td>    0.126</td>\n",
       "</tr>\n",
       "<tr>\n",
       "  <th>health_worker</th>                        <td>    0.6397</td> <td>    0.065</td> <td>    9.881</td> <td> 0.000</td> <td>    0.513</td> <td>    0.767</td>\n",
       "</tr>\n",
       "<tr>\n",
       "  <th>chronic_med_condition</th>                <td>    0.0780</td> <td>    0.049</td> <td>    1.582</td> <td> 0.114</td> <td>   -0.019</td> <td>    0.175</td>\n",
       "</tr>\n",
       "<tr>\n",
       "  <th>marital_status_Not Married</th>           <td>   -2.5486</td> <td>    0.129</td> <td>  -19.817</td> <td> 0.000</td> <td>   -2.801</td> <td>   -2.297</td>\n",
       "</tr>\n",
       "<tr>\n",
       "  <th>sex_Male</th>                             <td>   -0.0773</td> <td>    0.046</td> <td>   -1.684</td> <td> 0.092</td> <td>   -0.167</td> <td>    0.013</td>\n",
       "</tr>\n",
       "<tr>\n",
       "  <th>behavioral_large_gatherings</th>          <td>   -0.2082</td> <td>    0.050</td> <td>   -4.159</td> <td> 0.000</td> <td>   -0.306</td> <td>   -0.110</td>\n",
       "</tr>\n",
       "<tr>\n",
       "  <th>h1n1_knowledge</th>                       <td>   -0.1056</td> <td>    0.039</td> <td>   -2.723</td> <td> 0.006</td> <td>   -0.182</td> <td>   -0.030</td>\n",
       "</tr>\n",
       "<tr>\n",
       "  <th>behavioral_face_mask</th>                 <td>    0.1747</td> <td>    0.083</td> <td>    2.100</td> <td> 0.036</td> <td>    0.012</td> <td>    0.338</td>\n",
       "</tr>\n",
       "</table>"
      ],
      "text/plain": [
       "<class 'statsmodels.iolib.summary.Summary'>\n",
       "\"\"\"\n",
       "                           Logit Regression Results                           \n",
       "==============================================================================\n",
       "Dep. Variable:           h1n1_vaccine   No. Observations:                18380\n",
       "Model:                          Logit   Df Residuals:                    18346\n",
       "Method:                           MLE   Df Model:                           33\n",
       "Date:                Sun, 13 Mar 2022   Pseudo R-squ.:                  0.3034\n",
       "Time:                        18:20:34   Log-Likelihood:                -6817.6\n",
       "converged:                       True   LL-Null:                       -9786.5\n",
       "Covariance Type:            nonrobust   LLR p-value:                     0.000\n",
       "========================================================================================================\n",
       "                                           coef    std err          z      P>|z|      [0.025      0.975]\n",
       "--------------------------------------------------------------------------------------------------------\n",
       "employment_status_Employed              -0.2867      0.095     -3.013      0.003      -0.473      -0.100\n",
       "age_group_65+ Years                     -0.0599      0.067     -0.898      0.369      -0.191       0.071\n",
       "income_poverty_> $75,000                 0.0457      0.056      0.815      0.415      -0.064       0.156\n",
       "race_White                              -0.6001      0.065     -9.280      0.000      -0.727      -0.473\n",
       "opinion_h1n1_sick_from_vacc             -0.0269      0.019     -1.391      0.164      -0.065       0.011\n",
       "opinion_h1n1_risk                        0.4063      0.021     19.384      0.000       0.365       0.447\n",
       "race_Black                              -0.8406      0.105     -7.975      0.000      -1.047      -0.634\n",
       "opinion_h1n1_vacc_effective              0.3914      0.027     14.610      0.000       0.339       0.444\n",
       "household_adults                        -0.1973      0.033     -5.892      0.000      -0.263      -0.132\n",
       "marital_status_Married                  -2.2819      0.135    -16.941      0.000      -2.546      -2.018\n",
       "rent_or_own_Own                         -0.0227      0.056     -0.404      0.686      -0.133       0.087\n",
       "seasonal_vaccine                         2.1167      0.057     37.294      0.000       2.005       2.228\n",
       "opinion_seas_sick_from_vacc             -0.1108      0.019     -5.786      0.000      -0.148      -0.073\n",
       "doctor_recc_seasonal                    -1.0270      0.063    -16.250      0.000      -1.151      -0.903\n",
       "age_group_55 - 64 Years                  0.1225      0.058      2.113      0.035       0.009       0.236\n",
       "h1n1_concern                            -0.1344      0.029     -4.572      0.000      -0.192      -0.077\n",
       "behavioral_touch_face                   -0.0921      0.054     -1.718      0.086      -0.197       0.013\n",
       "child_under_6_months                     0.1409      0.074      1.892      0.058      -0.005       0.287\n",
       "behavioral_avoidance                    -0.0776      0.055     -1.405      0.160      -0.186       0.031\n",
       "opinion_seas_risk                       -0.0215      0.021     -1.041      0.298      -0.062       0.019\n",
       "behavioral_wash_hands                   -0.3014      0.067     -4.483      0.000      -0.433      -0.170\n",
       "opinion_seas_vacc_effective             -0.2659      0.025    -10.570      0.000      -0.315      -0.217\n",
       "doctor_recc_h1n1                         2.2923      0.064     35.719      0.000       2.167       2.418\n",
       "education_College Graduate               0.0801      0.054      1.494      0.135      -0.025       0.185\n",
       "education_12 Years                       0.0010      0.060      0.017      0.986      -0.117       0.119\n",
       "employment_status_Not in Labor Force    -0.2069      0.098     -2.104      0.035      -0.400      -0.014\n",
       "hhs_geo_region_bhuqouqj                 -0.0083      0.069     -0.121      0.903      -0.143       0.126\n",
       "health_worker                            0.6397      0.065      9.881      0.000       0.513       0.767\n",
       "chronic_med_condition                    0.0780      0.049      1.582      0.114      -0.019       0.175\n",
       "marital_status_Not Married              -2.5486      0.129    -19.817      0.000      -2.801      -2.297\n",
       "sex_Male                                -0.0773      0.046     -1.684      0.092      -0.167       0.013\n",
       "behavioral_large_gatherings             -0.2082      0.050     -4.159      0.000      -0.306      -0.110\n",
       "h1n1_knowledge                          -0.1056      0.039     -2.723      0.006      -0.182      -0.030\n",
       "behavioral_face_mask                     0.1747      0.083      2.100      0.036       0.012       0.338\n",
       "========================================================================================================\n",
       "\"\"\""
      ]
     },
     "execution_count": 38,
     "metadata": {},
     "output_type": "execute_result"
    }
   ],
   "source": [
    "lr_baseline_sm =sm.Logit(exog=X_train,endog= y_train).fit()\n",
    "lr_baseline_sm.summary()"
   ]
  },
  {
   "cell_type": "markdown",
   "metadata": {},
   "source": [
    "### interpretation of summary and next steps\n",
    "above we can see a few of our features have high p-values, while other features seem to have conceptual issues. EX: we know from our EDA that both seasonal and h1n1 vaccines have a large effect on H1N1 vaccination rates, yet only 3 percent of respondents who got an swine flu recc, did not also receive a seaonsal flu vaccine recc, yet both of these coefficients have opposite sines: perhaps an issue of multicolinearity. We do a bit of feature engineering to combine some of our important features in order to see if that affects our model strength. "
   ]
  },
  {
   "cell_type": "code",
   "execution_count": 39,
   "metadata": {
    "scrolled": false
   },
   "outputs": [],
   "source": [
    "#FeatureEngineering doctor_recc_any, a feature that reports if respondent's\n",
    "# df_refined_1=df_clean.copy()\n",
    "# df_refined_1.loc[:, df_refined_1['doctor_recc_seasonal']==1]['doctor_recc_any']=1\n",
    "# df_refined_1.loc[:, df_refined_1['doctor_recc_h1n1']==1]['doctor_recc_any']=1"
   ]
  },
  {
   "cell_type": "code",
   "execution_count": 40,
   "metadata": {},
   "outputs": [],
   "source": [
    "# df_refined_1['doctor_recc_any'].value_counts() # checking to see if our FE worked"
   ]
  },
  {
   "cell_type": "code",
   "execution_count": 41,
   "metadata": {},
   "outputs": [],
   "source": [
    "# Feature Engineering over_55\n",
    "# df_refined_1['over_55'] = 0\n",
    "# df_refined_1.loc[(df_refined_1['age_group_55 - 64 Years\t']==1) | (df_refined_1['age_group_65+ Years'] ==1), 'over_55']=1"
   ]
  },
  {
   "cell_type": "code",
   "execution_count": 42,
   "metadata": {},
   "outputs": [],
   "source": [
    "#Feature Engineering not_employed_labor_force\n",
    "# df_refined_1['not_employed_labor_force'] = 0\n",
    "# df_refined_1.loc[(df_refined_1['employment_status_Not in Labor Force']==1) | (df_refined_1['employment_status_Unemployed'] ==1),'not_employed_labor_force']=1 "
   ]
  },
  {
   "cell_type": "code",
   "execution_count": 43,
   "metadata": {},
   "outputs": [],
   "source": [
    "#lists of insignificant features that including/excluding engineered features\n",
    "# insig_feat_w_fe=['opinion_seas_risk', 'hhs_geo_region_bhuqouqj', 'education_College Graduate', 'behavioral_outside_home', \n",
    "               #   'chronic_med_condition', 'doctor_recc_seasonal', 'doctor_recc_h1n1', 'employment_status_Unemployed', \n",
    "               #   'employment_status_Not in Labor Force' ,'age_group_65+ Years', 'age_group_55 - 64 Years' ] \n",
    "\n",
    "# insig_feat = ['opinion_seas_risk', 'hhs_geo_region_bhuqouqj', 'education_College Graduate', 'behavioral_outside_home', \n",
    "             # 'chronic_med_condition', 'doctor_recc_any', 'not_employed_labor_force', 'over_55']"
   ]
  },
  {
   "cell_type": "markdown",
   "metadata": {},
   "source": [
    "## Tuning our model with refined features\n",
    "1) train test split"
   ]
  },
  {
   "cell_type": "code",
   "execution_count": 44,
   "metadata": {},
   "outputs": [],
   "source": [
    "X2 = df_feats.drop('h1n1_vaccine', axis=1)\n",
    "y2= df_feats['h1n1_vaccine']\n",
    "\n",
    "X2_train, X2_test, y2_train, y2_test = train_test_split(X2, y2, test_size=0.2, random_state=99)"
   ]
  },
  {
   "cell_type": "code",
   "execution_count": 45,
   "metadata": {},
   "outputs": [
    {
     "data": {
      "text/plain": [
       "0.8453002610966057"
      ]
     },
     "execution_count": 45,
     "metadata": {},
     "output_type": "execute_result"
    }
   ],
   "source": [
    "lr2 = LogisticRegression(max_iter=500)\n",
    "lr2.fit(X2_train, y2_train)\n",
    "lr2.score(X2_test, y2_test)"
   ]
  },
  {
   "cell_type": "code",
   "execution_count": 46,
   "metadata": {},
   "outputs": [
    {
     "data": {
      "text/plain": [
       "(0.7083725305738476, 0.7130647130647131)"
      ]
     },
     "execution_count": 46,
     "metadata": {},
     "output_type": "execute_result"
    }
   ],
   "source": [
    "precision_score(y2_train, lr2.predict(X2_train)), precision_score(y2_test, lr2.predict(X2_test))"
   ]
  },
  {
   "cell_type": "code",
   "execution_count": 47,
   "metadata": {},
   "outputs": [
    {
     "name": "stdout",
     "output_type": "stream",
     "text": [
      "Optimization terminated successfully.\n",
      "         Current function value: 0.370927\n",
      "         Iterations 7\n"
     ]
    },
    {
     "data": {
      "text/html": [
       "<table class=\"simpletable\">\n",
       "<caption>Logit Regression Results</caption>\n",
       "<tr>\n",
       "  <th>Dep. Variable:</th>     <td>h1n1_vaccine</td>   <th>  No. Observations:  </th>  <td> 18380</td> \n",
       "</tr>\n",
       "<tr>\n",
       "  <th>Model:</th>                 <td>Logit</td>      <th>  Df Residuals:      </th>  <td> 18346</td> \n",
       "</tr>\n",
       "<tr>\n",
       "  <th>Method:</th>                 <td>MLE</td>       <th>  Df Model:          </th>  <td>    33</td> \n",
       "</tr>\n",
       "<tr>\n",
       "  <th>Date:</th>            <td>Sun, 13 Mar 2022</td> <th>  Pseudo R-squ.:     </th>  <td>0.3034</td> \n",
       "</tr>\n",
       "<tr>\n",
       "  <th>Time:</th>                <td>18:20:35</td>     <th>  Log-Likelihood:    </th> <td> -6817.6</td>\n",
       "</tr>\n",
       "<tr>\n",
       "  <th>converged:</th>             <td>True</td>       <th>  LL-Null:           </th> <td> -9786.5</td>\n",
       "</tr>\n",
       "<tr>\n",
       "  <th>Covariance Type:</th>     <td>nonrobust</td>    <th>  LLR p-value:       </th>  <td> 0.000</td> \n",
       "</tr>\n",
       "</table>\n",
       "<table class=\"simpletable\">\n",
       "<tr>\n",
       "                    <td></td>                      <th>coef</th>     <th>std err</th>      <th>z</th>      <th>P>|z|</th>  <th>[0.025</th>    <th>0.975]</th>  \n",
       "</tr>\n",
       "<tr>\n",
       "  <th>employment_status_Employed</th>           <td>   -0.2867</td> <td>    0.095</td> <td>   -3.013</td> <td> 0.003</td> <td>   -0.473</td> <td>   -0.100</td>\n",
       "</tr>\n",
       "<tr>\n",
       "  <th>age_group_65+ Years</th>                  <td>   -0.0599</td> <td>    0.067</td> <td>   -0.898</td> <td> 0.369</td> <td>   -0.191</td> <td>    0.071</td>\n",
       "</tr>\n",
       "<tr>\n",
       "  <th>income_poverty_> $75,000</th>             <td>    0.0457</td> <td>    0.056</td> <td>    0.815</td> <td> 0.415</td> <td>   -0.064</td> <td>    0.156</td>\n",
       "</tr>\n",
       "<tr>\n",
       "  <th>race_White</th>                           <td>   -0.6001</td> <td>    0.065</td> <td>   -9.280</td> <td> 0.000</td> <td>   -0.727</td> <td>   -0.473</td>\n",
       "</tr>\n",
       "<tr>\n",
       "  <th>opinion_h1n1_sick_from_vacc</th>          <td>   -0.0269</td> <td>    0.019</td> <td>   -1.391</td> <td> 0.164</td> <td>   -0.065</td> <td>    0.011</td>\n",
       "</tr>\n",
       "<tr>\n",
       "  <th>opinion_h1n1_risk</th>                    <td>    0.4063</td> <td>    0.021</td> <td>   19.384</td> <td> 0.000</td> <td>    0.365</td> <td>    0.447</td>\n",
       "</tr>\n",
       "<tr>\n",
       "  <th>race_Black</th>                           <td>   -0.8406</td> <td>    0.105</td> <td>   -7.975</td> <td> 0.000</td> <td>   -1.047</td> <td>   -0.634</td>\n",
       "</tr>\n",
       "<tr>\n",
       "  <th>opinion_h1n1_vacc_effective</th>          <td>    0.3914</td> <td>    0.027</td> <td>   14.610</td> <td> 0.000</td> <td>    0.339</td> <td>    0.444</td>\n",
       "</tr>\n",
       "<tr>\n",
       "  <th>household_adults</th>                     <td>   -0.1973</td> <td>    0.033</td> <td>   -5.892</td> <td> 0.000</td> <td>   -0.263</td> <td>   -0.132</td>\n",
       "</tr>\n",
       "<tr>\n",
       "  <th>marital_status_Married</th>               <td>   -2.2819</td> <td>    0.135</td> <td>  -16.941</td> <td> 0.000</td> <td>   -2.546</td> <td>   -2.018</td>\n",
       "</tr>\n",
       "<tr>\n",
       "  <th>rent_or_own_Own</th>                      <td>   -0.0227</td> <td>    0.056</td> <td>   -0.404</td> <td> 0.686</td> <td>   -0.133</td> <td>    0.087</td>\n",
       "</tr>\n",
       "<tr>\n",
       "  <th>seasonal_vaccine</th>                     <td>    2.1167</td> <td>    0.057</td> <td>   37.294</td> <td> 0.000</td> <td>    2.005</td> <td>    2.228</td>\n",
       "</tr>\n",
       "<tr>\n",
       "  <th>opinion_seas_sick_from_vacc</th>          <td>   -0.1108</td> <td>    0.019</td> <td>   -5.786</td> <td> 0.000</td> <td>   -0.148</td> <td>   -0.073</td>\n",
       "</tr>\n",
       "<tr>\n",
       "  <th>doctor_recc_seasonal</th>                 <td>   -1.0270</td> <td>    0.063</td> <td>  -16.250</td> <td> 0.000</td> <td>   -1.151</td> <td>   -0.903</td>\n",
       "</tr>\n",
       "<tr>\n",
       "  <th>age_group_55 - 64 Years</th>              <td>    0.1225</td> <td>    0.058</td> <td>    2.113</td> <td> 0.035</td> <td>    0.009</td> <td>    0.236</td>\n",
       "</tr>\n",
       "<tr>\n",
       "  <th>h1n1_concern</th>                         <td>   -0.1344</td> <td>    0.029</td> <td>   -4.572</td> <td> 0.000</td> <td>   -0.192</td> <td>   -0.077</td>\n",
       "</tr>\n",
       "<tr>\n",
       "  <th>behavioral_touch_face</th>                <td>   -0.0921</td> <td>    0.054</td> <td>   -1.718</td> <td> 0.086</td> <td>   -0.197</td> <td>    0.013</td>\n",
       "</tr>\n",
       "<tr>\n",
       "  <th>child_under_6_months</th>                 <td>    0.1409</td> <td>    0.074</td> <td>    1.892</td> <td> 0.058</td> <td>   -0.005</td> <td>    0.287</td>\n",
       "</tr>\n",
       "<tr>\n",
       "  <th>behavioral_avoidance</th>                 <td>   -0.0776</td> <td>    0.055</td> <td>   -1.405</td> <td> 0.160</td> <td>   -0.186</td> <td>    0.031</td>\n",
       "</tr>\n",
       "<tr>\n",
       "  <th>opinion_seas_risk</th>                    <td>   -0.0215</td> <td>    0.021</td> <td>   -1.041</td> <td> 0.298</td> <td>   -0.062</td> <td>    0.019</td>\n",
       "</tr>\n",
       "<tr>\n",
       "  <th>behavioral_wash_hands</th>                <td>   -0.3014</td> <td>    0.067</td> <td>   -4.483</td> <td> 0.000</td> <td>   -0.433</td> <td>   -0.170</td>\n",
       "</tr>\n",
       "<tr>\n",
       "  <th>opinion_seas_vacc_effective</th>          <td>   -0.2659</td> <td>    0.025</td> <td>  -10.570</td> <td> 0.000</td> <td>   -0.315</td> <td>   -0.217</td>\n",
       "</tr>\n",
       "<tr>\n",
       "  <th>doctor_recc_h1n1</th>                     <td>    2.2923</td> <td>    0.064</td> <td>   35.719</td> <td> 0.000</td> <td>    2.167</td> <td>    2.418</td>\n",
       "</tr>\n",
       "<tr>\n",
       "  <th>education_College Graduate</th>           <td>    0.0801</td> <td>    0.054</td> <td>    1.494</td> <td> 0.135</td> <td>   -0.025</td> <td>    0.185</td>\n",
       "</tr>\n",
       "<tr>\n",
       "  <th>education_12 Years</th>                   <td>    0.0010</td> <td>    0.060</td> <td>    0.017</td> <td> 0.986</td> <td>   -0.117</td> <td>    0.119</td>\n",
       "</tr>\n",
       "<tr>\n",
       "  <th>employment_status_Not in Labor Force</th> <td>   -0.2069</td> <td>    0.098</td> <td>   -2.104</td> <td> 0.035</td> <td>   -0.400</td> <td>   -0.014</td>\n",
       "</tr>\n",
       "<tr>\n",
       "  <th>hhs_geo_region_bhuqouqj</th>              <td>   -0.0083</td> <td>    0.069</td> <td>   -0.121</td> <td> 0.903</td> <td>   -0.143</td> <td>    0.126</td>\n",
       "</tr>\n",
       "<tr>\n",
       "  <th>health_worker</th>                        <td>    0.6397</td> <td>    0.065</td> <td>    9.881</td> <td> 0.000</td> <td>    0.513</td> <td>    0.767</td>\n",
       "</tr>\n",
       "<tr>\n",
       "  <th>chronic_med_condition</th>                <td>    0.0780</td> <td>    0.049</td> <td>    1.582</td> <td> 0.114</td> <td>   -0.019</td> <td>    0.175</td>\n",
       "</tr>\n",
       "<tr>\n",
       "  <th>marital_status_Not Married</th>           <td>   -2.5486</td> <td>    0.129</td> <td>  -19.817</td> <td> 0.000</td> <td>   -2.801</td> <td>   -2.297</td>\n",
       "</tr>\n",
       "<tr>\n",
       "  <th>sex_Male</th>                             <td>   -0.0773</td> <td>    0.046</td> <td>   -1.684</td> <td> 0.092</td> <td>   -0.167</td> <td>    0.013</td>\n",
       "</tr>\n",
       "<tr>\n",
       "  <th>behavioral_large_gatherings</th>          <td>   -0.2082</td> <td>    0.050</td> <td>   -4.159</td> <td> 0.000</td> <td>   -0.306</td> <td>   -0.110</td>\n",
       "</tr>\n",
       "<tr>\n",
       "  <th>h1n1_knowledge</th>                       <td>   -0.1056</td> <td>    0.039</td> <td>   -2.723</td> <td> 0.006</td> <td>   -0.182</td> <td>   -0.030</td>\n",
       "</tr>\n",
       "<tr>\n",
       "  <th>behavioral_face_mask</th>                 <td>    0.1747</td> <td>    0.083</td> <td>    2.100</td> <td> 0.036</td> <td>    0.012</td> <td>    0.338</td>\n",
       "</tr>\n",
       "</table>"
      ],
      "text/plain": [
       "<class 'statsmodels.iolib.summary.Summary'>\n",
       "\"\"\"\n",
       "                           Logit Regression Results                           \n",
       "==============================================================================\n",
       "Dep. Variable:           h1n1_vaccine   No. Observations:                18380\n",
       "Model:                          Logit   Df Residuals:                    18346\n",
       "Method:                           MLE   Df Model:                           33\n",
       "Date:                Sun, 13 Mar 2022   Pseudo R-squ.:                  0.3034\n",
       "Time:                        18:20:35   Log-Likelihood:                -6817.6\n",
       "converged:                       True   LL-Null:                       -9786.5\n",
       "Covariance Type:            nonrobust   LLR p-value:                     0.000\n",
       "========================================================================================================\n",
       "                                           coef    std err          z      P>|z|      [0.025      0.975]\n",
       "--------------------------------------------------------------------------------------------------------\n",
       "employment_status_Employed              -0.2867      0.095     -3.013      0.003      -0.473      -0.100\n",
       "age_group_65+ Years                     -0.0599      0.067     -0.898      0.369      -0.191       0.071\n",
       "income_poverty_> $75,000                 0.0457      0.056      0.815      0.415      -0.064       0.156\n",
       "race_White                              -0.6001      0.065     -9.280      0.000      -0.727      -0.473\n",
       "opinion_h1n1_sick_from_vacc             -0.0269      0.019     -1.391      0.164      -0.065       0.011\n",
       "opinion_h1n1_risk                        0.4063      0.021     19.384      0.000       0.365       0.447\n",
       "race_Black                              -0.8406      0.105     -7.975      0.000      -1.047      -0.634\n",
       "opinion_h1n1_vacc_effective              0.3914      0.027     14.610      0.000       0.339       0.444\n",
       "household_adults                        -0.1973      0.033     -5.892      0.000      -0.263      -0.132\n",
       "marital_status_Married                  -2.2819      0.135    -16.941      0.000      -2.546      -2.018\n",
       "rent_or_own_Own                         -0.0227      0.056     -0.404      0.686      -0.133       0.087\n",
       "seasonal_vaccine                         2.1167      0.057     37.294      0.000       2.005       2.228\n",
       "opinion_seas_sick_from_vacc             -0.1108      0.019     -5.786      0.000      -0.148      -0.073\n",
       "doctor_recc_seasonal                    -1.0270      0.063    -16.250      0.000      -1.151      -0.903\n",
       "age_group_55 - 64 Years                  0.1225      0.058      2.113      0.035       0.009       0.236\n",
       "h1n1_concern                            -0.1344      0.029     -4.572      0.000      -0.192      -0.077\n",
       "behavioral_touch_face                   -0.0921      0.054     -1.718      0.086      -0.197       0.013\n",
       "child_under_6_months                     0.1409      0.074      1.892      0.058      -0.005       0.287\n",
       "behavioral_avoidance                    -0.0776      0.055     -1.405      0.160      -0.186       0.031\n",
       "opinion_seas_risk                       -0.0215      0.021     -1.041      0.298      -0.062       0.019\n",
       "behavioral_wash_hands                   -0.3014      0.067     -4.483      0.000      -0.433      -0.170\n",
       "opinion_seas_vacc_effective             -0.2659      0.025    -10.570      0.000      -0.315      -0.217\n",
       "doctor_recc_h1n1                         2.2923      0.064     35.719      0.000       2.167       2.418\n",
       "education_College Graduate               0.0801      0.054      1.494      0.135      -0.025       0.185\n",
       "education_12 Years                       0.0010      0.060      0.017      0.986      -0.117       0.119\n",
       "employment_status_Not in Labor Force    -0.2069      0.098     -2.104      0.035      -0.400      -0.014\n",
       "hhs_geo_region_bhuqouqj                 -0.0083      0.069     -0.121      0.903      -0.143       0.126\n",
       "health_worker                            0.6397      0.065      9.881      0.000       0.513       0.767\n",
       "chronic_med_condition                    0.0780      0.049      1.582      0.114      -0.019       0.175\n",
       "marital_status_Not Married              -2.5486      0.129    -19.817      0.000      -2.801      -2.297\n",
       "sex_Male                                -0.0773      0.046     -1.684      0.092      -0.167       0.013\n",
       "behavioral_large_gatherings             -0.2082      0.050     -4.159      0.000      -0.306      -0.110\n",
       "h1n1_knowledge                          -0.1056      0.039     -2.723      0.006      -0.182      -0.030\n",
       "behavioral_face_mask                     0.1747      0.083      2.100      0.036       0.012       0.338\n",
       "========================================================================================================\n",
       "\"\"\""
      ]
     },
     "execution_count": 47,
     "metadata": {},
     "output_type": "execute_result"
    }
   ],
   "source": [
    "lr_sm2 = sm.Logit(endog=y2_train, exog=X2_train).fit()\n",
    "lr_sm2.summary()"
   ]
  },
  {
   "cell_type": "code",
   "execution_count": 48,
   "metadata": {},
   "outputs": [
    {
     "data": {
      "text/plain": [
       "{'criterion': 'entropy', 'max_depth': 5, 'min_samples_leaf': 500}"
      ]
     },
     "execution_count": 48,
     "metadata": {},
     "output_type": "execute_result"
    }
   ],
   "source": [
    "#choosing best parameters for logistic regression using grid_search\n",
    "tuned_parameters = {'min_samples_leaf': [10, 100, 200, 500],\n",
    "                   'criterion' :  ['gini', 'entropy'],\n",
    "                    'max_depth' : [None, 5, 7, 10, 20]\n",
    "                   }\n",
    "clf = GridSearchCV(RandomForestClassifier(n_estimators=300, random_state=99), \n",
    "                    tuned_parameters, cv=3, scoring=\"precision\")\n",
    "clf.fit(X1_train, y1_train)\n",
    "clf.best_params_"
   ]
  },
  {
   "cell_type": "code",
   "execution_count": 49,
   "metadata": {},
   "outputs": [
    {
     "data": {
      "text/plain": [
       "LogisticRegression(max_iter=500)"
      ]
     },
     "execution_count": 49,
     "metadata": {},
     "output_type": "execute_result"
    }
   ],
   "source": [
    "lr = LogisticRegression(max_iter=500)\n",
    "lr.fit(X1_train, y1_train)"
   ]
  },
  {
   "cell_type": "code",
   "execution_count": 50,
   "metadata": {},
   "outputs": [
    {
     "data": {
      "text/plain": [
       "0.8429068755439513"
      ]
     },
     "execution_count": 50,
     "metadata": {},
     "output_type": "execute_result"
    }
   ],
   "source": [
    "lr.score(X1_test, y1_test)"
   ]
  },
  {
   "cell_type": "code",
   "execution_count": 51,
   "metadata": {},
   "outputs": [
    {
     "data": {
      "text/plain": [
       "0.706601466992665"
      ]
     },
     "execution_count": 51,
     "metadata": {},
     "output_type": "execute_result"
    }
   ],
   "source": [
    "precision_score(y1_test, lr.predict(X1_test))"
   ]
  },
  {
   "cell_type": "code",
   "execution_count": 52,
   "metadata": {},
   "outputs": [
    {
     "data": {
      "text/plain": [
       "GridSearchCV(cv=3, estimator=LogisticRegression(C=5, max_iter=5000),\n",
       "             param_grid={'C': [1, 5, 10, 50],\n",
       "                         'solver': ['sag', 'saga', 'lbfgs']},\n",
       "             scoring='precision')"
      ]
     },
     "execution_count": 52,
     "metadata": {},
     "output_type": "execute_result"
    }
   ],
   "source": [
    "tuned_parameters_lr = {'C': [1, 5, 10, 50],\n",
    "                   'solver' :  ['sag', 'saga', 'lbfgs']\n",
    "            \n",
    "                   }\n",
    "clf = GridSearchCV(LogisticRegression(max_iter=5000,C=5), tuned_parameters_lr, cv=3, scoring=\"precision\")\n",
    "clf.fit(X2_train, y2_train)"
   ]
  },
  {
   "cell_type": "code",
   "execution_count": 53,
   "metadata": {},
   "outputs": [
    {
     "data": {
      "text/plain": [
       "{'C': 50, 'solver': 'sag'}"
      ]
     },
     "execution_count": 53,
     "metadata": {},
     "output_type": "execute_result"
    }
   ],
   "source": [
    "clf.best_params_"
   ]
  },
  {
   "cell_type": "code",
   "execution_count": 54,
   "metadata": {},
   "outputs": [
    {
     "data": {
      "text/plain": [
       "LogisticRegression(C=10, max_iter=1000)"
      ]
     },
     "execution_count": 54,
     "metadata": {},
     "output_type": "execute_result"
    }
   ],
   "source": [
    "lr_try = LogisticRegression(C=10, solver='lbfgs', max_iter=1000)\n",
    "lr_try.fit(X1_train, y1_train)"
   ]
  },
  {
   "cell_type": "code",
   "execution_count": 55,
   "metadata": {},
   "outputs": [
    {
     "data": {
      "text/plain": [
       "0.7062423500611995"
      ]
     },
     "execution_count": 55,
     "metadata": {},
     "output_type": "execute_result"
    }
   ],
   "source": [
    "precision_score(y1_test, lr_try.predict(X1_test))"
   ]
  },
  {
   "cell_type": "code",
   "execution_count": 56,
   "metadata": {},
   "outputs": [
    {
     "data": {
      "text/plain": [
       "0.7121951219512195"
      ]
     },
     "execution_count": 56,
     "metadata": {},
     "output_type": "execute_result"
    }
   ],
   "source": [
    "clf.score(X2_test, y2_test)"
   ]
  },
  {
   "cell_type": "markdown",
   "metadata": {},
   "source": [
    "# Conclusion: \n",
    "### Through our findings we've discovered that a relationship with/ reccomendation from one's MD is critical for vaccine-willingness in patients. We also learned that these Dr. Reccomendations are given at a much higher rate to older generations. In the world-changing global pandemic of SARS COVID-19, the world saw that younger people are much more amenaable to receiving vaccines. Thus we propose measures to increase Dr. reccomendations to younger demographics. For further research we intend to look at the impacts of\n",
    "- having health insurance\n",
    "- having had the flu in the past"
   ]
  },
  {
   "cell_type": "code",
   "execution_count": null,
   "metadata": {},
   "outputs": [],
   "source": []
  }
 ],
 "metadata": {
  "kernelspec": {
   "display_name": "Python (learn-env)",
   "language": "python",
   "name": "learn-env"
  },
  "language_info": {
   "codemirror_mode": {
    "name": "ipython",
    "version": 3
   },
   "file_extension": ".py",
   "mimetype": "text/x-python",
   "name": "python",
   "nbconvert_exporter": "python",
   "pygments_lexer": "ipython3",
   "version": "3.8.5"
  }
 },
 "nbformat": 4,
 "nbformat_minor": 4
}
